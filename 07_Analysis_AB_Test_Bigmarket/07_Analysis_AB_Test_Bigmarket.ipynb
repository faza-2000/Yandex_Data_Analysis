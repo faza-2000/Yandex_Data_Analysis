{
 "cells": [
  {
   "cell_type": "markdown",
   "metadata": {},
   "source": [
    "# Принятие решений в бизнесе на основе данных"
   ]
  },
  {
   "cell_type": "markdown",
   "metadata": {},
   "source": [
    "# Описание проекта\n",
    "\n",
    "У крупного интернет-магазина есть список гипотез для увеличения выручки.\n",
    "Приоритизируем гипотезы, запустим A/B-тест и проанализируем результаты. \n",
    "\n",
    "Наш проект будет состоять из пяти частей:\n",
    "\n",
    "1. Загрузка и подготовка данных к исследованию\n",
    "2. Приоритизация гипотез с помощью фреймворков ICE и RICE\n",
    "3. Анализ A/B-теста:\n",
    " Графический анализ\n",
    " Статистический анализ\n",
    "4. Принятие решений\n",
    "5. Общие выводы"
   ]
  },
  {
   "cell_type": "markdown",
   "metadata": {},
   "source": [
    "## Загрузка и подготовка данных к исследованию"
   ]
  },
  {
   "cell_type": "code",
   "execution_count": 1,
   "metadata": {},
   "outputs": [],
   "source": [
    "# импортируем библиотеки\n",
    "import pandas as pd\n",
    "import scipy.stats as st\n",
    "import datetime as dt\n",
    "import numpy as np\n",
    "from matplotlib import pyplot as plt\n",
    "from IPython.display import Image # библиотека для отображения картинок"
   ]
  },
  {
   "cell_type": "code",
   "execution_count": 2,
   "metadata": {},
   "outputs": [],
   "source": [
    "# загружаем исходные датасеты\n",
    "try:\n",
    "    hypothesis, orders, visitors = (\n",
    "        pd.read_csv('/datasets/hypothesis.csv'), # гипотезы\n",
    "        pd.read_csv('/datasets/orders.csv'), # заказы\n",
    "        pd.read_csv('/datasets/visitors.csv')   # пользователи\n",
    "    )  \n",
    "except:\n",
    "    hypothesis, orders, visitors = (\n",
    "        pd.read_csv('hypothesis.csv'), # гипотезы\n",
    "        pd.read_csv('orders.csv'), # заказы\n",
    "        pd.read_csv('visitors.csv')   # пользователи\n",
    "    )    "
   ]
  },
  {
   "cell_type": "markdown",
   "metadata": {},
   "source": [
    "# Гипотезы"
   ]
  },
  {
   "cell_type": "code",
   "execution_count": 3,
   "metadata": {},
   "outputs": [
    {
     "data": {
      "text/plain": [
       "<bound method DataFrame.info of                                                                                                      Hypothesis  \\\n",
       "0  Добавить два новых канала привлечения трафика, что позволит привлекать на 30% больше пользователей             \n",
       "1  Запустить собственную службу доставки, что сократит срок доставки заказов                                      \n",
       "2  Добавить блоки рекомендаций товаров на сайт интернет магазина, чтобы повысить конверсию и средний чек заказа   \n",
       "3  Изменить структура категорий, что увеличит конверсию, т.к. пользователи быстрее найдут нужный товар            \n",
       "4  Изменить цвет фона главной страницы, чтобы увеличить вовлеченность пользователей                               \n",
       "5  Добавить страницу отзывов клиентов о магазине, что позволит увеличить количество заказов                       \n",
       "6  Показать на главной странице баннеры с актуальными акциями и распродажами, чтобы увеличить конверсию           \n",
       "7  Добавить форму подписки на все основные страницы, чтобы собрать базу клиентов для email-рассылок               \n",
       "8  Запустить акцию, дающую скидку на товар в день рождения                                                        \n",
       "\n",
       "   Reach  Impact  Confidence  Efforts  \n",
       "0  3      10      8           6        \n",
       "1  2      5       4           10       \n",
       "2  8      3       7           3        \n",
       "3  8      3       3           8        \n",
       "4  3      1       1           1        \n",
       "5  3      2       2           3        \n",
       "6  5      3       8           3        \n",
       "7  10     7       8           5        \n",
       "8  1      9       9           5        >"
      ]
     },
     "metadata": {},
     "output_type": "display_data"
    }
   ],
   "source": [
    "# Гипотезы\n",
    "pd.set_option('display.max_colwidth', 0) # чтобы текст гипотез выводился целиком\n",
    "display(hypothesis.info)"
   ]
  },
  {
   "cell_type": "markdown",
   "metadata": {},
   "source": [
    "Описание колонок датасета Гипотезы\n",
    "\n",
    "•\tHypothesis — краткое описание гипотезы;\n",
    "\n",
    "•\tReach — охват пользователей по 10-балльной шкале;\n",
    "\n",
    "•\tImpact — влияние на пользователей по 10-балльной шкале;\n",
    "\n",
    "•\tConfidence — уверенность в гипотезе по 10-балльной шкале;\n",
    "\n",
    "•\tEfforts — затраты ресурсов на проверку гипотезы по 10-балльной шкале. Чем больше значение Efforts, тем дороже проверка гипотезы."
   ]
  },
  {
   "cell_type": "code",
   "execution_count": 4,
   "metadata": {},
   "outputs": [
    {
     "data": {
      "text/plain": [
       "0"
      ]
     },
     "execution_count": 4,
     "metadata": {},
     "output_type": "execute_result"
    }
   ],
   "source": [
    "#проверка дубликатов\n",
    "hypothesis.duplicated().sum()"
   ]
  },
  {
   "cell_type": "code",
   "execution_count": 5,
   "metadata": {},
   "outputs": [
    {
     "data": {
      "text/plain": [
       "hypothesis    0\n",
       "reach         0\n",
       "impact        0\n",
       "confidence    0\n",
       "efforts       0\n",
       "dtype: int64"
      ]
     },
     "execution_count": 5,
     "metadata": {},
     "output_type": "execute_result"
    }
   ],
   "source": [
    "#приведем названия к нижнему регистру\n",
    "hypothesis.columns = hypothesis.columns.str.lower()\n",
    "# проверка пропусков в данных\n",
    "hypothesis.isna().sum()"
   ]
  },
  {
   "cell_type": "code",
   "execution_count": 6,
   "metadata": {},
   "outputs": [
    {
     "name": "stdout",
     "output_type": "stream",
     "text": [
      "Index(['hypothesis', 'reach', 'impact', 'confidence', 'efforts'], dtype='object')\n"
     ]
    }
   ],
   "source": [
    "#получим список столбцов\n",
    "print(hypothesis.columns)"
   ]
  },
  {
   "cell_type": "code",
   "execution_count": 7,
   "metadata": {},
   "outputs": [
    {
     "data": {
      "text/html": [
       "<div>\n",
       "<style scoped>\n",
       "    .dataframe tbody tr th:only-of-type {\n",
       "        vertical-align: middle;\n",
       "    }\n",
       "\n",
       "    .dataframe tbody tr th {\n",
       "        vertical-align: top;\n",
       "    }\n",
       "\n",
       "    .dataframe thead th {\n",
       "        text-align: right;\n",
       "    }\n",
       "</style>\n",
       "<table border=\"1\" class=\"dataframe\">\n",
       "  <thead>\n",
       "    <tr style=\"text-align: right;\">\n",
       "      <th></th>\n",
       "      <th>hypothesis</th>\n",
       "      <th>reach</th>\n",
       "      <th>impact</th>\n",
       "      <th>confidence</th>\n",
       "      <th>efforts</th>\n",
       "    </tr>\n",
       "  </thead>\n",
       "  <tbody>\n",
       "    <tr>\n",
       "      <th>0</th>\n",
       "      <td>Добавить два новых канала привлечения трафика, что позволит привлекать на 30% больше пользователей</td>\n",
       "      <td>3</td>\n",
       "      <td>10</td>\n",
       "      <td>8</td>\n",
       "      <td>6</td>\n",
       "    </tr>\n",
       "    <tr>\n",
       "      <th>1</th>\n",
       "      <td>Запустить собственную службу доставки, что сократит срок доставки заказов</td>\n",
       "      <td>2</td>\n",
       "      <td>5</td>\n",
       "      <td>4</td>\n",
       "      <td>10</td>\n",
       "    </tr>\n",
       "    <tr>\n",
       "      <th>2</th>\n",
       "      <td>Добавить блоки рекомендаций товаров на сайт интернет магазина, чтобы повысить конверсию и средний чек заказа</td>\n",
       "      <td>8</td>\n",
       "      <td>3</td>\n",
       "      <td>7</td>\n",
       "      <td>3</td>\n",
       "    </tr>\n",
       "    <tr>\n",
       "      <th>3</th>\n",
       "      <td>Изменить структура категорий, что увеличит конверсию, т.к. пользователи быстрее найдут нужный товар</td>\n",
       "      <td>8</td>\n",
       "      <td>3</td>\n",
       "      <td>3</td>\n",
       "      <td>8</td>\n",
       "    </tr>\n",
       "    <tr>\n",
       "      <th>4</th>\n",
       "      <td>Изменить цвет фона главной страницы, чтобы увеличить вовлеченность пользователей</td>\n",
       "      <td>3</td>\n",
       "      <td>1</td>\n",
       "      <td>1</td>\n",
       "      <td>1</td>\n",
       "    </tr>\n",
       "    <tr>\n",
       "      <th>5</th>\n",
       "      <td>Добавить страницу отзывов клиентов о магазине, что позволит увеличить количество заказов</td>\n",
       "      <td>3</td>\n",
       "      <td>2</td>\n",
       "      <td>2</td>\n",
       "      <td>3</td>\n",
       "    </tr>\n",
       "    <tr>\n",
       "      <th>6</th>\n",
       "      <td>Показать на главной странице баннеры с актуальными акциями и распродажами, чтобы увеличить конверсию</td>\n",
       "      <td>5</td>\n",
       "      <td>3</td>\n",
       "      <td>8</td>\n",
       "      <td>3</td>\n",
       "    </tr>\n",
       "    <tr>\n",
       "      <th>7</th>\n",
       "      <td>Добавить форму подписки на все основные страницы, чтобы собрать базу клиентов для email-рассылок</td>\n",
       "      <td>10</td>\n",
       "      <td>7</td>\n",
       "      <td>8</td>\n",
       "      <td>5</td>\n",
       "    </tr>\n",
       "    <tr>\n",
       "      <th>8</th>\n",
       "      <td>Запустить акцию, дающую скидку на товар в день рождения</td>\n",
       "      <td>1</td>\n",
       "      <td>9</td>\n",
       "      <td>9</td>\n",
       "      <td>5</td>\n",
       "    </tr>\n",
       "  </tbody>\n",
       "</table>\n",
       "</div>"
      ],
      "text/plain": [
       "                                                                                                     hypothesis  \\\n",
       "0  Добавить два новых канала привлечения трафика, что позволит привлекать на 30% больше пользователей             \n",
       "1  Запустить собственную службу доставки, что сократит срок доставки заказов                                      \n",
       "2  Добавить блоки рекомендаций товаров на сайт интернет магазина, чтобы повысить конверсию и средний чек заказа   \n",
       "3  Изменить структура категорий, что увеличит конверсию, т.к. пользователи быстрее найдут нужный товар            \n",
       "4  Изменить цвет фона главной страницы, чтобы увеличить вовлеченность пользователей                               \n",
       "5  Добавить страницу отзывов клиентов о магазине, что позволит увеличить количество заказов                       \n",
       "6  Показать на главной странице баннеры с актуальными акциями и распродажами, чтобы увеличить конверсию           \n",
       "7  Добавить форму подписки на все основные страницы, чтобы собрать базу клиентов для email-рассылок               \n",
       "8  Запустить акцию, дающую скидку на товар в день рождения                                                        \n",
       "\n",
       "   reach  impact  confidence  efforts  \n",
       "0  3      10      8           6        \n",
       "1  2      5       4           10       \n",
       "2  8      3       7           3        \n",
       "3  8      3       3           8        \n",
       "4  3      1       1           1        \n",
       "5  3      2       2           3        \n",
       "6  5      3       8           3        \n",
       "7  10     7       8           5        \n",
       "8  1      9       9           5        "
      ]
     },
     "execution_count": 7,
     "metadata": {},
     "output_type": "execute_result"
    }
   ],
   "source": [
    "#посмотрим заголовок\n",
    "hypothesis.head(9)"
   ]
  },
  {
   "cell_type": "code",
   "execution_count": 8,
   "metadata": {},
   "outputs": [
    {
     "name": "stdout",
     "output_type": "stream",
     "text": [
      "['Добавить блоки рекомендаций товаров на сайт интернет магазина, чтобы повысить конверсию и средний чек заказа'\n",
      " 'Добавить два новых канала привлечения трафика, что позволит привлекать на 30% больше пользователей'\n",
      " 'Добавить страницу отзывов клиентов о магазине, что позволит увеличить количество заказов'\n",
      " 'Добавить форму подписки на все основные страницы, чтобы собрать базу клиентов для email-рассылок'\n",
      " 'Запустить акцию, дающую скидку на товар в день рождения'\n",
      " 'Запустить собственную службу доставки, что сократит срок доставки заказов'\n",
      " 'Изменить структура категорий, что увеличит конверсию, т.к. пользователи быстрее найдут нужный товар'\n",
      " 'Изменить цвет фона главной страницы, чтобы увеличить вовлеченность пользователей'\n",
      " 'Показать на главной странице баннеры с актуальными акциями и распродажами, чтобы увеличить конверсию']\n"
     ]
    }
   ],
   "source": [
    "# вывести текст гипотез целиком \n",
    "print(hypothesis['hypothesis'].sort_values().unique())\n",
    "#print(hypothesis.info())"
   ]
  },
  {
   "cell_type": "markdown",
   "metadata": {},
   "source": [
    "# Заказы \n",
    "\n",
    "• transactionId — идентификатор заказа;\n",
    "\n",
    "• visitorId — идентификатор пользователя, совершившего заказ;\n",
    "\n",
    "• date — дата, когда был совершён заказ;\n",
    "\n",
    "• revenue — выручка заказа;\n",
    "\n",
    "• group — группа A/B-теста, в которую попал заказ."
   ]
  },
  {
   "cell_type": "code",
   "execution_count": 9,
   "metadata": {},
   "outputs": [
    {
     "data": {
      "text/plain": [
       "<bound method DataFrame.info of       transactionId   visitorId        date  revenue group\n",
       "0     3667963787     3312258926  2019-08-15  1650     B   \n",
       "1     2804400009     3642806036  2019-08-15  730      B   \n",
       "2     2961555356     4069496402  2019-08-15  400      A   \n",
       "3     3797467345     1196621759  2019-08-15  9759     B   \n",
       "4     2282983706     2322279887  2019-08-15  2308     B   \n",
       "...          ...            ...         ...   ...    ..   \n",
       "1192  2662137336     3733762160  2019-08-14  6490     B   \n",
       "1193  2203539145     370388673   2019-08-14  3190     A   \n",
       "1194  1807773912     573423106   2019-08-14  10550    A   \n",
       "1195  1947021204     1614305549  2019-08-14  100      A   \n",
       "1196  3936777065     2108080724  2019-08-15  202740   B   \n",
       "\n",
       "[1197 rows x 5 columns]>"
      ]
     },
     "metadata": {},
     "output_type": "display_data"
    }
   ],
   "source": [
    "# Заказы\n",
    "display(orders.info)"
   ]
  },
  {
   "cell_type": "code",
   "execution_count": 10,
   "metadata": {},
   "outputs": [
    {
     "data": {
      "text/plain": [
       "0"
      ]
     },
     "execution_count": 10,
     "metadata": {},
     "output_type": "execute_result"
    }
   ],
   "source": [
    "#проверка дубликатов\n",
    "orders.duplicated().sum()"
   ]
  },
  {
   "cell_type": "code",
   "execution_count": 11,
   "metadata": {},
   "outputs": [
    {
     "data": {
      "text/plain": [
       "transactionid    0\n",
       "visitorid        0\n",
       "date             0\n",
       "revenue          0\n",
       "group            0\n",
       "dtype: int64"
      ]
     },
     "execution_count": 11,
     "metadata": {},
     "output_type": "execute_result"
    }
   ],
   "source": [
    "#приведем названия к нижнему регистру\n",
    "orders.columns = orders.columns.str.lower()\n",
    "# проверка пропусков в данных\n",
    "orders.isna().sum()"
   ]
  },
  {
   "cell_type": "code",
   "execution_count": 12,
   "metadata": {},
   "outputs": [
    {
     "name": "stdout",
     "output_type": "stream",
     "text": [
      "Index(['transactionid', 'visitorid', 'date', 'revenue', 'group'], dtype='object')\n"
     ]
    }
   ],
   "source": [
    "#получим список столбцов\n",
    "print(orders.columns)"
   ]
  },
  {
   "cell_type": "code",
   "execution_count": 13,
   "metadata": {},
   "outputs": [
    {
     "data": {
      "text/html": [
       "<div>\n",
       "<style scoped>\n",
       "    .dataframe tbody tr th:only-of-type {\n",
       "        vertical-align: middle;\n",
       "    }\n",
       "\n",
       "    .dataframe tbody tr th {\n",
       "        vertical-align: top;\n",
       "    }\n",
       "\n",
       "    .dataframe thead th {\n",
       "        text-align: right;\n",
       "    }\n",
       "</style>\n",
       "<table border=\"1\" class=\"dataframe\">\n",
       "  <thead>\n",
       "    <tr style=\"text-align: right;\">\n",
       "      <th></th>\n",
       "      <th>transaction_id</th>\n",
       "      <th>visitor_id</th>\n",
       "      <th>date</th>\n",
       "      <th>revenue</th>\n",
       "      <th>group</th>\n",
       "    </tr>\n",
       "  </thead>\n",
       "  <tbody>\n",
       "    <tr>\n",
       "      <th>0</th>\n",
       "      <td>3667963787</td>\n",
       "      <td>3312258926</td>\n",
       "      <td>2019-08-15</td>\n",
       "      <td>1650</td>\n",
       "      <td>B</td>\n",
       "    </tr>\n",
       "    <tr>\n",
       "      <th>1</th>\n",
       "      <td>2804400009</td>\n",
       "      <td>3642806036</td>\n",
       "      <td>2019-08-15</td>\n",
       "      <td>730</td>\n",
       "      <td>B</td>\n",
       "    </tr>\n",
       "    <tr>\n",
       "      <th>2</th>\n",
       "      <td>2961555356</td>\n",
       "      <td>4069496402</td>\n",
       "      <td>2019-08-15</td>\n",
       "      <td>400</td>\n",
       "      <td>A</td>\n",
       "    </tr>\n",
       "    <tr>\n",
       "      <th>3</th>\n",
       "      <td>3797467345</td>\n",
       "      <td>1196621759</td>\n",
       "      <td>2019-08-15</td>\n",
       "      <td>9759</td>\n",
       "      <td>B</td>\n",
       "    </tr>\n",
       "    <tr>\n",
       "      <th>4</th>\n",
       "      <td>2282983706</td>\n",
       "      <td>2322279887</td>\n",
       "      <td>2019-08-15</td>\n",
       "      <td>2308</td>\n",
       "      <td>B</td>\n",
       "    </tr>\n",
       "  </tbody>\n",
       "</table>\n",
       "</div>"
      ],
      "text/plain": [
       "   transaction_id  visitor_id        date  revenue group\n",
       "0  3667963787      3312258926  2019-08-15  1650     B   \n",
       "1  2804400009      3642806036  2019-08-15  730      B   \n",
       "2  2961555356      4069496402  2019-08-15  400      A   \n",
       "3  3797467345      1196621759  2019-08-15  9759     B   \n",
       "4  2282983706      2322279887  2019-08-15  2308     B   "
      ]
     },
     "execution_count": 13,
     "metadata": {},
     "output_type": "execute_result"
    }
   ],
   "source": [
    "#заменим названия столбцов\n",
    "cols = ['transaction_id', 'visitor_id', 'date', 'revenue', 'group']\n",
    "orders.set_axis(cols, axis='columns', inplace=True)\n",
    "#посмотрим заголовок\n",
    "orders.head()"
   ]
  },
  {
   "cell_type": "code",
   "execution_count": 14,
   "metadata": {},
   "outputs": [
    {
     "data": {
      "text/plain": [
       "0      2019-08-15\n",
       "1      2019-08-15\n",
       "2      2019-08-15\n",
       "3      2019-08-15\n",
       "4      2019-08-15\n",
       "          ...    \n",
       "1192   2019-08-14\n",
       "1193   2019-08-14\n",
       "1194   2019-08-14\n",
       "1195   2019-08-14\n",
       "1196   2019-08-15\n",
       "Name: date, Length: 1197, dtype: datetime64[ns]"
      ]
     },
     "execution_count": 14,
     "metadata": {},
     "output_type": "execute_result"
    }
   ],
   "source": [
    "# преобразование данных о времени\n",
    "pd.to_datetime(orders['date']).dt.date.astype('datetime64[ns]') \n",
    "# orders['date'] = orders['date'].map(lambda x: dt.datetime.strptime(x, '%Y-%m-%d'))"
   ]
  },
  {
   "cell_type": "code",
   "execution_count": 15,
   "metadata": {},
   "outputs": [
    {
     "name": "stdout",
     "output_type": "stream",
     "text": [
      "<class 'pandas.core.frame.DataFrame'>\n",
      "RangeIndex: 1197 entries, 0 to 1196\n",
      "Data columns (total 5 columns):\n",
      " #   Column          Non-Null Count  Dtype \n",
      "---  ------          --------------  ----- \n",
      " 0   transaction_id  1197 non-null   int64 \n",
      " 1   visitor_id      1197 non-null   int64 \n",
      " 2   date            1197 non-null   object\n",
      " 3   revenue         1197 non-null   int64 \n",
      " 4   group           1197 non-null   object\n",
      "dtypes: int64(3), object(2)\n",
      "memory usage: 46.9+ KB\n"
     ]
    }
   ],
   "source": [
    "orders.info()"
   ]
  },
  {
   "cell_type": "code",
   "execution_count": 16,
   "metadata": {},
   "outputs": [],
   "source": [
    "orders['date'] = orders['date'].map(lambda x: dt.datetime.strptime(x, '%Y-%m-%d'))"
   ]
  },
  {
   "cell_type": "code",
   "execution_count": 17,
   "metadata": {},
   "outputs": [
    {
     "name": "stdout",
     "output_type": "stream",
     "text": [
      "<class 'pandas.core.frame.DataFrame'>\n",
      "RangeIndex: 1197 entries, 0 to 1196\n",
      "Data columns (total 5 columns):\n",
      " #   Column          Non-Null Count  Dtype         \n",
      "---  ------          --------------  -----         \n",
      " 0   transaction_id  1197 non-null   int64         \n",
      " 1   visitor_id      1197 non-null   int64         \n",
      " 2   date            1197 non-null   datetime64[ns]\n",
      " 3   revenue         1197 non-null   int64         \n",
      " 4   group           1197 non-null   object        \n",
      "dtypes: datetime64[ns](1), int64(3), object(1)\n",
      "memory usage: 46.9+ KB\n"
     ]
    }
   ],
   "source": [
    "orders.info()"
   ]
  },
  {
   "cell_type": "code",
   "execution_count": 18,
   "metadata": {},
   "outputs": [
    {
     "data": {
      "text/html": [
       "<div>\n",
       "<style scoped>\n",
       "    .dataframe tbody tr th:only-of-type {\n",
       "        vertical-align: middle;\n",
       "    }\n",
       "\n",
       "    .dataframe tbody tr th {\n",
       "        vertical-align: top;\n",
       "    }\n",
       "\n",
       "    .dataframe thead th {\n",
       "        text-align: right;\n",
       "    }\n",
       "</style>\n",
       "<table border=\"1\" class=\"dataframe\">\n",
       "  <thead>\n",
       "    <tr style=\"text-align: right;\">\n",
       "      <th></th>\n",
       "      <th>transaction_id</th>\n",
       "      <th>visitor_id</th>\n",
       "      <th>revenue</th>\n",
       "    </tr>\n",
       "  </thead>\n",
       "  <tbody>\n",
       "    <tr>\n",
       "      <th>count</th>\n",
       "      <td>1.197000e+03</td>\n",
       "      <td>1.197000e+03</td>\n",
       "      <td>1.197000e+03</td>\n",
       "    </tr>\n",
       "    <tr>\n",
       "      <th>mean</th>\n",
       "      <td>2.155621e+09</td>\n",
       "      <td>2.165960e+09</td>\n",
       "      <td>8.348006e+03</td>\n",
       "    </tr>\n",
       "    <tr>\n",
       "      <th>std</th>\n",
       "      <td>1.229085e+09</td>\n",
       "      <td>1.236014e+09</td>\n",
       "      <td>3.919113e+04</td>\n",
       "    </tr>\n",
       "    <tr>\n",
       "      <th>min</th>\n",
       "      <td>1.062393e+06</td>\n",
       "      <td>5.114589e+06</td>\n",
       "      <td>5.000000e+01</td>\n",
       "    </tr>\n",
       "    <tr>\n",
       "      <th>25%</th>\n",
       "      <td>1.166776e+09</td>\n",
       "      <td>1.111826e+09</td>\n",
       "      <td>1.220000e+03</td>\n",
       "    </tr>\n",
       "    <tr>\n",
       "      <th>50%</th>\n",
       "      <td>2.145194e+09</td>\n",
       "      <td>2.217985e+09</td>\n",
       "      <td>2.978000e+03</td>\n",
       "    </tr>\n",
       "    <tr>\n",
       "      <th>75%</th>\n",
       "      <td>3.237740e+09</td>\n",
       "      <td>3.177606e+09</td>\n",
       "      <td>8.290000e+03</td>\n",
       "    </tr>\n",
       "    <tr>\n",
       "      <th>max</th>\n",
       "      <td>4.293856e+09</td>\n",
       "      <td>4.283872e+09</td>\n",
       "      <td>1.294500e+06</td>\n",
       "    </tr>\n",
       "  </tbody>\n",
       "</table>\n",
       "</div>"
      ],
      "text/plain": [
       "       transaction_id    visitor_id       revenue\n",
       "count  1.197000e+03    1.197000e+03  1.197000e+03\n",
       "mean   2.155621e+09    2.165960e+09  8.348006e+03\n",
       "std    1.229085e+09    1.236014e+09  3.919113e+04\n",
       "min    1.062393e+06    5.114589e+06  5.000000e+01\n",
       "25%    1.166776e+09    1.111826e+09  1.220000e+03\n",
       "50%    2.145194e+09    2.217985e+09  2.978000e+03\n",
       "75%    3.237740e+09    3.177606e+09  8.290000e+03\n",
       "max    4.293856e+09    4.283872e+09  1.294500e+06"
      ]
     },
     "execution_count": 18,
     "metadata": {},
     "output_type": "execute_result"
    }
   ],
   "source": [
    "# выведем статистику\n",
    "orders.describe()"
   ]
  },
  {
   "cell_type": "code",
   "execution_count": 19,
   "metadata": {},
   "outputs": [],
   "source": [
    "# проверим на наличие покупателей, которые попали в обе группы\n",
    "orders_a_gr = orders.query('group == \"A\"')\n",
    "orders_b_gr = orders.query('group == \"B\"')\n",
    "\n",
    "orders_dubl_id = orders_a_gr.merge(orders_b_gr, on='visitor_id')['visitor_id'].unique()"
   ]
  },
  {
   "cell_type": "code",
   "execution_count": 20,
   "metadata": {},
   "outputs": [
    {
     "name": "stdout",
     "output_type": "stream",
     "text": [
      "Количество покупателей, которые попали в обе группы: 58\n",
      "Доля таких покупатеолей от общего числа: 5.63 %\n"
     ]
    }
   ],
   "source": [
    "print(f'Количество покупателей, которые попали в обе группы: {len(orders_dubl_id)}')\n",
    "print(f'Доля таких покупатеолей от общего числа: {round(len(orders_dubl_id) / len(orders[\"visitor_id\"].unique()) * 100, 2)} %')"
   ]
  },
  {
   "cell_type": "markdown",
   "metadata": {},
   "source": [
    "В датасете присутствует 58 покупателей, которые попали в обе тестируемые группы. Такие пересечения могут негативно повлиять на анализ теста. Доля таких пользователей 5.6 % от общего числа покупателей, поэтому считаем возможным исключить их из выборки."
   ]
  },
  {
   "cell_type": "code",
   "execution_count": 21,
   "metadata": {},
   "outputs": [],
   "source": [
    "orders = orders.query('visitor_id not in @orders_dubl_id')"
   ]
  },
  {
   "cell_type": "code",
   "execution_count": 22,
   "metadata": {},
   "outputs": [
    {
     "name": "stdout",
     "output_type": "stream",
     "text": [
      "<class 'pandas.core.frame.DataFrame'>\n",
      "Int64Index: 1016 entries, 0 to 1196\n",
      "Data columns (total 5 columns):\n",
      " #   Column          Non-Null Count  Dtype         \n",
      "---  ------          --------------  -----         \n",
      " 0   transaction_id  1016 non-null   int64         \n",
      " 1   visitor_id      1016 non-null   int64         \n",
      " 2   date            1016 non-null   datetime64[ns]\n",
      " 3   revenue         1016 non-null   int64         \n",
      " 4   group           1016 non-null   object        \n",
      "dtypes: datetime64[ns](1), int64(3), object(1)\n",
      "memory usage: 47.6+ KB\n"
     ]
    }
   ],
   "source": [
    "orders.info()"
   ]
  },
  {
   "cell_type": "markdown",
   "metadata": {},
   "source": [
    "# Пользователи"
   ]
  },
  {
   "cell_type": "code",
   "execution_count": 23,
   "metadata": {},
   "outputs": [
    {
     "name": "stdout",
     "output_type": "stream",
     "text": [
      "<bound method DataFrame.info of           date group  visitors\n",
      "0   2019-08-01  A     719     \n",
      "1   2019-08-02  A     619     \n",
      "2   2019-08-03  A     507     \n",
      "3   2019-08-04  A     717     \n",
      "4   2019-08-05  A     756     \n",
      "..         ... ..     ...     \n",
      "57  2019-08-27  B     720     \n",
      "58  2019-08-28  B     654     \n",
      "59  2019-08-29  B     531     \n",
      "60  2019-08-30  B     490     \n",
      "61  2019-08-31  B     718     \n",
      "\n",
      "[62 rows x 3 columns]>\n",
      "<class 'pandas.core.frame.DataFrame'>\n",
      "RangeIndex: 62 entries, 0 to 61\n",
      "Data columns (total 3 columns):\n",
      " #   Column    Non-Null Count  Dtype \n",
      "---  ------    --------------  ----- \n",
      " 0   date      62 non-null     object\n",
      " 1   group     62 non-null     object\n",
      " 2   visitors  62 non-null     int64 \n",
      "dtypes: int64(1), object(2)\n",
      "memory usage: 1.6+ KB\n"
     ]
    }
   ],
   "source": [
    "#пользователи\n",
    "print(visitors.info)\n",
    "visitors.info()"
   ]
  },
  {
   "cell_type": "markdown",
   "metadata": {},
   "source": [
    "•\tdate — дата;\n",
    "\n",
    "•\tgroup — группа A/B-теста;\n",
    "\n",
    "•\tvisitors — количество пользователей в указанную дату в указанной группе A/B-теста"
   ]
  },
  {
   "cell_type": "code",
   "execution_count": 24,
   "metadata": {},
   "outputs": [
    {
     "data": {
      "text/plain": [
       "0"
      ]
     },
     "execution_count": 24,
     "metadata": {},
     "output_type": "execute_result"
    }
   ],
   "source": [
    "#проверка дубликатов\n",
    "visitors.duplicated().sum()"
   ]
  },
  {
   "cell_type": "code",
   "execution_count": 25,
   "metadata": {},
   "outputs": [],
   "source": [
    "visitors.columns = visitors.columns.str.lower()"
   ]
  },
  {
   "cell_type": "code",
   "execution_count": 26,
   "metadata": {},
   "outputs": [
    {
     "data": {
      "text/plain": [
       "date        0\n",
       "group       0\n",
       "visitors    0\n",
       "dtype: int64"
      ]
     },
     "execution_count": 26,
     "metadata": {},
     "output_type": "execute_result"
    }
   ],
   "source": [
    "# проверка пропусков в данных\n",
    "visitors.isna().sum()"
   ]
  },
  {
   "cell_type": "code",
   "execution_count": 27,
   "metadata": {},
   "outputs": [
    {
     "name": "stdout",
     "output_type": "stream",
     "text": [
      "Index(['date', 'group', 'visitors'], dtype='object')\n"
     ]
    }
   ],
   "source": [
    "#получим список столбцов\n",
    "print(visitors.columns)"
   ]
  },
  {
   "cell_type": "code",
   "execution_count": 28,
   "metadata": {},
   "outputs": [
    {
     "data": {
      "text/plain": [
       "0     2019-08-01\n",
       "1     2019-08-02\n",
       "2     2019-08-03\n",
       "3     2019-08-04\n",
       "4     2019-08-05\n",
       "         ...    \n",
       "57    2019-08-27\n",
       "58    2019-08-28\n",
       "59    2019-08-29\n",
       "60    2019-08-30\n",
       "61    2019-08-31\n",
       "Name: date, Length: 62, dtype: object"
      ]
     },
     "execution_count": 28,
     "metadata": {},
     "output_type": "execute_result"
    }
   ],
   "source": [
    "# преобразование данных о времени ?? \n",
    "pd.to_datetime(visitors['date']).dt.date \n",
    "# visitors['date'] = visitors['date'].map(lambda x: dt.datetime.strptime(x, '%d/%m/%Y'))"
   ]
  },
  {
   "cell_type": "code",
   "execution_count": 29,
   "metadata": {},
   "outputs": [
    {
     "name": "stdout",
     "output_type": "stream",
     "text": [
      "<class 'pandas.core.frame.DataFrame'>\n",
      "RangeIndex: 62 entries, 0 to 61\n",
      "Data columns (total 3 columns):\n",
      " #   Column    Non-Null Count  Dtype \n",
      "---  ------    --------------  ----- \n",
      " 0   date      62 non-null     object\n",
      " 1   group     62 non-null     object\n",
      " 2   visitors  62 non-null     int64 \n",
      "dtypes: int64(1), object(2)\n",
      "memory usage: 1.6+ KB\n"
     ]
    }
   ],
   "source": [
    "visitors.info()"
   ]
  },
  {
   "cell_type": "code",
   "execution_count": 30,
   "metadata": {},
   "outputs": [],
   "source": [
    "visitors['date'] = visitors['date'].map(lambda x: dt.datetime.strptime(x, '%Y-%m-%d'))"
   ]
  },
  {
   "cell_type": "code",
   "execution_count": 31,
   "metadata": {},
   "outputs": [
    {
     "name": "stdout",
     "output_type": "stream",
     "text": [
      "<class 'pandas.core.frame.DataFrame'>\n",
      "RangeIndex: 62 entries, 0 to 61\n",
      "Data columns (total 3 columns):\n",
      " #   Column    Non-Null Count  Dtype         \n",
      "---  ------    --------------  -----         \n",
      " 0   date      62 non-null     datetime64[ns]\n",
      " 1   group     62 non-null     object        \n",
      " 2   visitors  62 non-null     int64         \n",
      "dtypes: datetime64[ns](1), int64(1), object(1)\n",
      "memory usage: 1.6+ KB\n"
     ]
    }
   ],
   "source": [
    "visitors.info()"
   ]
  },
  {
   "cell_type": "code",
   "execution_count": 32,
   "metadata": {},
   "outputs": [
    {
     "name": "stdout",
     "output_type": "stream",
     "text": [
      "['A' 'B']\n"
     ]
    }
   ],
   "source": [
    "# проверим какие группы есть\n",
    "print(visitors['group'].sort_values().unique())"
   ]
  },
  {
   "cell_type": "code",
   "execution_count": 33,
   "metadata": {},
   "outputs": [
    {
     "data": {
      "text/plain": [
       "count    62.000000 \n",
       "mean     607.290323\n",
       "std      114.400560\n",
       "min      361.000000\n",
       "25%      534.000000\n",
       "50%      624.500000\n",
       "75%      710.500000\n",
       "max      770.000000\n",
       "Name: visitors, dtype: float64"
      ]
     },
     "execution_count": 33,
     "metadata": {},
     "output_type": "execute_result"
    }
   ],
   "source": [
    "# выведем статистику\n",
    "visitors['visitors'].describe()"
   ]
  },
  {
   "cell_type": "markdown",
   "metadata": {},
   "source": [
    "# Выводы по разделу Загрузка и подготовка данных к исследованию \n",
    "Выполнили предобработку. В данных нет дубликатов и пропусков. Типы данных во всех колонках соответствуют сохранённым в них значениям. Столбцы с датой преобразованы.\n",
    "\n",
    "В датасете Пользователи соответствуют только двум группа А и В, как заявлено. \n",
    "\n",
    "Необходимо проверка корректности разбиения покупателей на группы.\n",
    "\n",
    "Артефактов в числовых показателях нет.\n",
    "\n",
    "Самая большая выручка по заказу составляет 1.294.500, минимальная равняется 50.\n",
    "\n",
    "В среднем на дату посещения приходится 607 посетителей. Самый низкий показатель 361 человек, самый высокий 770 посетителей на одну дату посещения.\n"
   ]
  },
  {
   "cell_type": "markdown",
   "metadata": {},
   "source": [
    "## Приоритизация гипотез с помощью фреймворков ICE и RICE\n",
    "\n",
    "В файле /datasets/hypothesis.csv - 9 гипотез по увеличению выручки интернет-магазина с указанными параметрами Reach, Impact, Confidence, Effort.\n",
    "\n",
    "Этапы приоритизации:\n",
    "\n",
    "•\tПрименим фреймворк ICE для приоритизации гипотез.\n",
    "\n",
    "•\tПрименим фреймворк RICE для приоритизации гипотез. \n",
    "\n",
    "•\tПроанализируем, как изменилась приоритизация гипотез при применении RICE вместо ICE."
   ]
  },
  {
   "cell_type": "code",
   "execution_count": 34,
   "metadata": {},
   "outputs": [
    {
     "data": {
      "text/html": [
       "<div>\n",
       "<style scoped>\n",
       "    .dataframe tbody tr th:only-of-type {\n",
       "        vertical-align: middle;\n",
       "    }\n",
       "\n",
       "    .dataframe tbody tr th {\n",
       "        vertical-align: top;\n",
       "    }\n",
       "\n",
       "    .dataframe thead th {\n",
       "        text-align: right;\n",
       "    }\n",
       "</style>\n",
       "<table border=\"1\" class=\"dataframe\">\n",
       "  <thead>\n",
       "    <tr style=\"text-align: right;\">\n",
       "      <th></th>\n",
       "      <th>hypothesis</th>\n",
       "      <th>ICE</th>\n",
       "    </tr>\n",
       "  </thead>\n",
       "  <tbody>\n",
       "    <tr>\n",
       "      <th>8</th>\n",
       "      <td>Запустить акцию, дающую скидку на товар в день рождения</td>\n",
       "      <td>16.2</td>\n",
       "    </tr>\n",
       "    <tr>\n",
       "      <th>0</th>\n",
       "      <td>Добавить два новых канала привлечения трафика, что позволит привлекать на 30% больше пользователей</td>\n",
       "      <td>13.3</td>\n",
       "    </tr>\n",
       "    <tr>\n",
       "      <th>7</th>\n",
       "      <td>Добавить форму подписки на все основные страницы, чтобы собрать базу клиентов для email-рассылок</td>\n",
       "      <td>11.2</td>\n",
       "    </tr>\n",
       "    <tr>\n",
       "      <th>6</th>\n",
       "      <td>Показать на главной странице баннеры с актуальными акциями и распродажами, чтобы увеличить конверсию</td>\n",
       "      <td>8.0</td>\n",
       "    </tr>\n",
       "    <tr>\n",
       "      <th>2</th>\n",
       "      <td>Добавить блоки рекомендаций товаров на сайт интернет магазина, чтобы повысить конверсию и средний чек заказа</td>\n",
       "      <td>7.0</td>\n",
       "    </tr>\n",
       "    <tr>\n",
       "      <th>1</th>\n",
       "      <td>Запустить собственную службу доставки, что сократит срок доставки заказов</td>\n",
       "      <td>2.0</td>\n",
       "    </tr>\n",
       "    <tr>\n",
       "      <th>5</th>\n",
       "      <td>Добавить страницу отзывов клиентов о магазине, что позволит увеличить количество заказов</td>\n",
       "      <td>1.3</td>\n",
       "    </tr>\n",
       "    <tr>\n",
       "      <th>3</th>\n",
       "      <td>Изменить структура категорий, что увеличит конверсию, т.к. пользователи быстрее найдут нужный товар</td>\n",
       "      <td>1.1</td>\n",
       "    </tr>\n",
       "    <tr>\n",
       "      <th>4</th>\n",
       "      <td>Изменить цвет фона главной страницы, чтобы увеличить вовлеченность пользователей</td>\n",
       "      <td>1.0</td>\n",
       "    </tr>\n",
       "  </tbody>\n",
       "</table>\n",
       "</div>"
      ],
      "text/plain": [
       "                                                                                                     hypothesis  \\\n",
       "8  Запустить акцию, дающую скидку на товар в день рождения                                                        \n",
       "0  Добавить два новых канала привлечения трафика, что позволит привлекать на 30% больше пользователей             \n",
       "7  Добавить форму подписки на все основные страницы, чтобы собрать базу клиентов для email-рассылок               \n",
       "6  Показать на главной странице баннеры с актуальными акциями и распродажами, чтобы увеличить конверсию           \n",
       "2  Добавить блоки рекомендаций товаров на сайт интернет магазина, чтобы повысить конверсию и средний чек заказа   \n",
       "1  Запустить собственную службу доставки, что сократит срок доставки заказов                                      \n",
       "5  Добавить страницу отзывов клиентов о магазине, что позволит увеличить количество заказов                       \n",
       "3  Изменить структура категорий, что увеличит конверсию, т.к. пользователи быстрее найдут нужный товар            \n",
       "4  Изменить цвет фона главной страницы, чтобы увеличить вовлеченность пользователей                               \n",
       "\n",
       "    ICE  \n",
       "8  16.2  \n",
       "0  13.3  \n",
       "7  11.2  \n",
       "6  8.0   \n",
       "2  7.0   \n",
       "1  2.0   \n",
       "5  1.3   \n",
       "3  1.1   \n",
       "4  1.0   "
      ]
     },
     "metadata": {},
     "output_type": "display_data"
    }
   ],
   "source": [
    "# посчитаем ICE\n",
    "hypothesis['ICE'] = round((hypothesis['impact'] * hypothesis['confidence']) / hypothesis['efforts'], 1)\n",
    "#hypothesis['ICE'] = hypothesis['ICE'].round(1) округление \n",
    "#hypothesis['ICE'].style.format(\"{:,.2%}\") формат таблицы\n",
    "display(hypothesis[['hypothesis' , 'ICE']].sort_values(by='ICE', ascending=False))"
   ]
  },
  {
   "cell_type": "markdown",
   "metadata": {},
   "source": [
    "Наиболее перспективными гипотезами по **ICE** являются:\n",
    "\n",
    "№8. Запустить акцию, дающую скидку на товар в день рождения\n",
    "\n",
    "№0. Добавить два новых канала привлечения трафика, что позволит привлекать на 30% больше пользователей\n",
    "\n",
    "№7. Добавить форму подписки на все основные страницы, чтобы собрать базу клиентов для email-рассылок"
   ]
  },
  {
   "cell_type": "code",
   "execution_count": 35,
   "metadata": {},
   "outputs": [
    {
     "data": {
      "text/html": [
       "<div>\n",
       "<style scoped>\n",
       "    .dataframe tbody tr th:only-of-type {\n",
       "        vertical-align: middle;\n",
       "    }\n",
       "\n",
       "    .dataframe tbody tr th {\n",
       "        vertical-align: top;\n",
       "    }\n",
       "\n",
       "    .dataframe thead th {\n",
       "        text-align: right;\n",
       "    }\n",
       "</style>\n",
       "<table border=\"1\" class=\"dataframe\">\n",
       "  <thead>\n",
       "    <tr style=\"text-align: right;\">\n",
       "      <th></th>\n",
       "      <th>hypothesis</th>\n",
       "      <th>RICE</th>\n",
       "    </tr>\n",
       "  </thead>\n",
       "  <tbody>\n",
       "    <tr>\n",
       "      <th>7</th>\n",
       "      <td>Добавить форму подписки на все основные страницы, чтобы собрать базу клиентов для email-рассылок</td>\n",
       "      <td>112.0</td>\n",
       "    </tr>\n",
       "    <tr>\n",
       "      <th>2</th>\n",
       "      <td>Добавить блоки рекомендаций товаров на сайт интернет магазина, чтобы повысить конверсию и средний чек заказа</td>\n",
       "      <td>56.0</td>\n",
       "    </tr>\n",
       "    <tr>\n",
       "      <th>0</th>\n",
       "      <td>Добавить два новых канала привлечения трафика, что позволит привлекать на 30% больше пользователей</td>\n",
       "      <td>40.0</td>\n",
       "    </tr>\n",
       "    <tr>\n",
       "      <th>6</th>\n",
       "      <td>Показать на главной странице баннеры с актуальными акциями и распродажами, чтобы увеличить конверсию</td>\n",
       "      <td>40.0</td>\n",
       "    </tr>\n",
       "    <tr>\n",
       "      <th>8</th>\n",
       "      <td>Запустить акцию, дающую скидку на товар в день рождения</td>\n",
       "      <td>16.2</td>\n",
       "    </tr>\n",
       "    <tr>\n",
       "      <th>3</th>\n",
       "      <td>Изменить структура категорий, что увеличит конверсию, т.к. пользователи быстрее найдут нужный товар</td>\n",
       "      <td>9.0</td>\n",
       "    </tr>\n",
       "    <tr>\n",
       "      <th>1</th>\n",
       "      <td>Запустить собственную службу доставки, что сократит срок доставки заказов</td>\n",
       "      <td>4.0</td>\n",
       "    </tr>\n",
       "    <tr>\n",
       "      <th>5</th>\n",
       "      <td>Добавить страницу отзывов клиентов о магазине, что позволит увеличить количество заказов</td>\n",
       "      <td>4.0</td>\n",
       "    </tr>\n",
       "    <tr>\n",
       "      <th>4</th>\n",
       "      <td>Изменить цвет фона главной страницы, чтобы увеличить вовлеченность пользователей</td>\n",
       "      <td>3.0</td>\n",
       "    </tr>\n",
       "  </tbody>\n",
       "</table>\n",
       "</div>"
      ],
      "text/plain": [
       "                                                                                                     hypothesis  \\\n",
       "7  Добавить форму подписки на все основные страницы, чтобы собрать базу клиентов для email-рассылок               \n",
       "2  Добавить блоки рекомендаций товаров на сайт интернет магазина, чтобы повысить конверсию и средний чек заказа   \n",
       "0  Добавить два новых канала привлечения трафика, что позволит привлекать на 30% больше пользователей             \n",
       "6  Показать на главной странице баннеры с актуальными акциями и распродажами, чтобы увеличить конверсию           \n",
       "8  Запустить акцию, дающую скидку на товар в день рождения                                                        \n",
       "3  Изменить структура категорий, что увеличит конверсию, т.к. пользователи быстрее найдут нужный товар            \n",
       "1  Запустить собственную службу доставки, что сократит срок доставки заказов                                      \n",
       "5  Добавить страницу отзывов клиентов о магазине, что позволит увеличить количество заказов                       \n",
       "4  Изменить цвет фона главной страницы, чтобы увеличить вовлеченность пользователей                               \n",
       "\n",
       "    RICE  \n",
       "7  112.0  \n",
       "2  56.0   \n",
       "0  40.0   \n",
       "6  40.0   \n",
       "8  16.2   \n",
       "3  9.0    \n",
       "1  4.0    \n",
       "5  4.0    \n",
       "4  3.0    "
      ]
     },
     "metadata": {},
     "output_type": "display_data"
    }
   ],
   "source": [
    "# посчитаем RICE\n",
    "hypothesis['RICE'] =(\n",
    "    (hypothesis['reach'] * hypothesis['impact'] * hypothesis['confidence']) / hypothesis['efforts']\n",
    ")\n",
    "\n",
    "display(hypothesis[['hypothesis' , 'RICE']].sort_values(by='RICE', ascending=False))"
   ]
  },
  {
   "cell_type": "markdown",
   "metadata": {},
   "source": [
    "Наиболее перспективными гипотезами по **RICE** являются:\n",
    "\n",
    "№7. Добавить форму подписки на все основные страницы, чтобы собрать базу клиентов для email-рассылок\n",
    "\n",
    "№2. Добавить блоки рекомендаций товаров на сайт интернет магазина, чтобы повысить конверсию и средний чек заказа\n",
    "\n",
    "№0. Добавить форму подписки на все основные страницы, чтобы собрать базу клиентов для email-рассылок\n",
    "\n",
    "№6. Показать на главной странице баннеры с актуальными акциями и распродажами, чтобы увеличить конверсию\t\n"
   ]
  },
  {
   "cell_type": "markdown",
   "metadata": {},
   "source": [
    "**Выводы по приоритизации гипотез**\n",
    "\n",
    "При применении RICE вместо ICE, наиболее приоритетная гипотеза № 8 (Запустить акцию, дающую скидку на товар в день рождения) по фреймворку ICE стала менее приоритетной и занимает только пятое место по приоритету. \n",
    "\n",
    "Это связано с тем, что скидка на товар в день рождения затронет маленькое количество посетителей. Компонент `Reach` по данной гипотезе имеет самый низкий уровень значимости в 1 балл. \n",
    "\n",
    "Соответственно исходя из формул расчета фреймворков:\n",
    "\n",
    "$$ICE = \\frac{Impact * Confidence}{Efforts}$$\n",
    "\n",
    "\n",
    "$$RICE = \\frac{Rearch * Impact * Confidence}{Efforts}$$\n",
    "\n",
    "соответствующие изменения в приоритезации гипотез.\n",
    "\n",
    "**В пересечении двух фреймворков приоритетными остаются гипотезы:**\n",
    "\n",
    "№7.  Добавить форму подписки на все основные страницы, чтобы собрать базу клиентов для email-рассылок\n",
    "\n",
    "№0.  Добавить два новых канала привлечения трафика, что позволит привлекать на 30% больше пользователей\n",
    "\n",
    "№6. Показать на главной странице баннеры с актуальными акциями и распродажами, чтобы увеличить конверсию"
   ]
  },
  {
   "cell_type": "markdown",
   "metadata": {},
   "source": [
    "## Анализ A/B-теста"
   ]
  },
  {
   "cell_type": "markdown",
   "metadata": {},
   "source": [
    "### График кумулятивной выручки по группам "
   ]
  },
  {
   "cell_type": "code",
   "execution_count": 36,
   "metadata": {},
   "outputs": [
    {
     "data": {
      "text/html": [
       "<div>\n",
       "<style scoped>\n",
       "    .dataframe tbody tr th:only-of-type {\n",
       "        vertical-align: middle;\n",
       "    }\n",
       "\n",
       "    .dataframe tbody tr th {\n",
       "        vertical-align: top;\n",
       "    }\n",
       "\n",
       "    .dataframe thead th {\n",
       "        text-align: right;\n",
       "    }\n",
       "</style>\n",
       "<table border=\"1\" class=\"dataframe\">\n",
       "  <thead>\n",
       "    <tr style=\"text-align: right;\">\n",
       "      <th></th>\n",
       "      <th>date</th>\n",
       "      <th>group</th>\n",
       "      <th>orders</th>\n",
       "      <th>buyers</th>\n",
       "      <th>revenue</th>\n",
       "      <th>visitors</th>\n",
       "    </tr>\n",
       "  </thead>\n",
       "  <tbody>\n",
       "    <tr>\n",
       "      <th>0</th>\n",
       "      <td>2019-08-01</td>\n",
       "      <td>A</td>\n",
       "      <td>23</td>\n",
       "      <td>19</td>\n",
       "      <td>142779</td>\n",
       "      <td>719</td>\n",
       "    </tr>\n",
       "    <tr>\n",
       "      <th>1</th>\n",
       "      <td>2019-08-01</td>\n",
       "      <td>B</td>\n",
       "      <td>17</td>\n",
       "      <td>17</td>\n",
       "      <td>59758</td>\n",
       "      <td>713</td>\n",
       "    </tr>\n",
       "    <tr>\n",
       "      <th>2</th>\n",
       "      <td>2019-08-02</td>\n",
       "      <td>A</td>\n",
       "      <td>42</td>\n",
       "      <td>36</td>\n",
       "      <td>234381</td>\n",
       "      <td>1338</td>\n",
       "    </tr>\n",
       "    <tr>\n",
       "      <th>3</th>\n",
       "      <td>2019-08-02</td>\n",
       "      <td>B</td>\n",
       "      <td>40</td>\n",
       "      <td>39</td>\n",
       "      <td>221801</td>\n",
       "      <td>1294</td>\n",
       "    </tr>\n",
       "    <tr>\n",
       "      <th>4</th>\n",
       "      <td>2019-08-03</td>\n",
       "      <td>A</td>\n",
       "      <td>66</td>\n",
       "      <td>60</td>\n",
       "      <td>346854</td>\n",
       "      <td>1845</td>\n",
       "    </tr>\n",
       "  </tbody>\n",
       "</table>\n",
       "</div>"
      ],
      "text/plain": [
       "        date group  orders  buyers  revenue  visitors\n",
       "0 2019-08-01  A     23      19      142779   719     \n",
       "1 2019-08-01  B     17      17      59758    713     \n",
       "2 2019-08-02  A     42      36      234381   1338    \n",
       "3 2019-08-02  B     40      39      221801   1294    \n",
       "4 2019-08-03  A     66      60      346854   1845    "
      ]
     },
     "metadata": {},
     "output_type": "display_data"
    }
   ],
   "source": [
    "# создаем массив уникальных пар значений дат и групп теста\n",
    "dates_groups = orders[['date','group']].drop_duplicates()\n",
    "\n",
    "# получаем агрегированные кумулятивные по дням данные о заказах \n",
    "orders_aggregated = (\n",
    "    dates_groups.apply(lambda x: orders[np.logical_and(orders['date'] <= x['date'], orders['group'] == x['group'])]\n",
    "                .agg({'date' : 'max', 'group' : 'max', 'transaction_id' : 'nunique', 'visitor_id' : 'nunique', 'revenue' : 'sum'}), axis=1)\n",
    "                .sort_values(by=['date','group'])\n",
    ")\n",
    "# получаем агрегированные кумулятивные по дням данные о посетителях интернет-магазина \n",
    "visitors_aggregated = (\n",
    "    dates_groups.apply(lambda x: visitors[np.logical_and(visitors['date'] <= x['date'], visitors['group'] == x['group'])]\n",
    "              .agg({'date' : 'max', 'group' : 'max', 'visitors' : 'sum'}), axis=1)\n",
    "              .sort_values(by=['date','group'])\n",
    ")\n",
    "# объединяем кумулятивные данные в одной таблице и присваиваем ее столбцам понятные названия\n",
    "cumulative_data = orders_aggregated.merge(visitors_aggregated, left_on=['date', 'group'], right_on=['date', 'group'])\n",
    "cumulative_data.columns = ['date', 'group', 'orders', 'buyers', 'revenue', 'visitors']\n",
    "\n",
    "display(cumulative_data.head(5)) "
   ]
  },
  {
   "cell_type": "code",
   "execution_count": 37,
   "metadata": {},
   "outputs": [
    {
     "data": {
      "image/png": "[encoded data removed]",
      "text/plain": [
       "<Figure size 720x504 with 1 Axes>"
      ]
     },
     "metadata": {
      "needs_background": "light"
     },
     "output_type": "display_data"
    }
   ],
   "source": [
    "# датафрейм с кумулятивным количеством заказов и кумулятивной выручкой по дням в группе А\n",
    "cumulative_revenue_a = cumulative_data[cumulative_data['group']=='A'][['date','revenue', 'orders']]\n",
    "\n",
    "# датафрейм с кумулятивным количеством заказов и кумулятивной выручкой по дням в группе B\n",
    "cumulative_revenue_b = cumulative_data[cumulative_data['group']=='B'][['date','revenue', 'orders']]\n",
    "\n",
    "plt.figure(figsize=(10, 7))\n",
    "plt.ticklabel_format(style='plain')\n",
    "\n",
    "# Строим график выручки группы А\n",
    "plt.plot(cumulative_revenue_a['date'], cumulative_revenue_a['revenue'], label='A')\n",
    "\n",
    "# Строим график выручки группы B\n",
    "plt.plot(cumulative_revenue_b['date'], cumulative_revenue_b['revenue'], label='B')\n",
    "\n",
    "# Настроим график\n",
    "plt.xticks(rotation=45)\n",
    "plt.grid(True)\n",
    "plt.title('Кумулятивная выручка по группам', fontsize=15)\n",
    "plt.xlabel('Дата', fontsize=12)\n",
    "plt.ylabel('Выручка', fontsize=12)\n",
    "plt.legend();"
   ]
  },
  {
   "cell_type": "markdown",
   "metadata": {},
   "source": [
    "Кумулятивная выручка увеличивается в течение всего теста. Однако график выручки группы В за дату между 17 и 21 августа резко растет. Это может сигнализировать о всплесках числа заказов, либо о появлении очень дорогих заказов в выборке."
   ]
  },
  {
   "cell_type": "markdown",
   "metadata": {},
   "source": [
    "### График кумулятивного среднего чека по группам"
   ]
  },
  {
   "cell_type": "code",
   "execution_count": 38,
   "metadata": {},
   "outputs": [
    {
     "data": {
      "image/png": "[encoded data removed]",
      "text/plain": [
       "<Figure size 720x504 with 1 Axes>"
      ]
     },
     "metadata": {
      "needs_background": "light"
     },
     "output_type": "display_data"
    }
   ],
   "source": [
    "plt.figure(figsize=(10, 7))\n",
    "\n",
    "\n",
    "# Строим график среднего чека группы А\n",
    "plt.plot(cumulative_revenue_a['date'], cumulative_revenue_a['revenue']/cumulative_revenue_a['orders'], label='A')\n",
    "\n",
    "# Строим график среднего чека группы В\n",
    "plt.plot(cumulative_revenue_b['date'], cumulative_revenue_b['revenue']/cumulative_revenue_b['orders'], label='B')\n",
    "\n",
    "# Настроим график\n",
    "plt.xticks(rotation=45)\n",
    "plt.grid(True)\n",
    "plt.title('Кумулятивный средний чек по группам', fontsize=15)\n",
    "plt.xlabel('Дата', fontsize=12)\n",
    "plt.ylabel('Средний чек', fontsize=12)\n",
    "plt.legend();"
   ]
  },
  {
   "cell_type": "markdown",
   "metadata": {},
   "source": [
    "График среднего чека растет, но мы видим резкие изменения. В группу А видимо вначале теста попали крупные заказы, но потом рост с 13 августа стабилизаируется. По группе В наблюдается резкий скачек во второй половине августа. Не наблюдается равномернсоть среднего чека между группами нужно больше данных, чтобы прийти к реальному среднему чеку и установиться. "
   ]
  },
  {
   "cell_type": "markdown",
   "metadata": {},
   "source": [
    "### График относительного изменения кумулятивного среднего чека группы B к группе A"
   ]
  },
  {
   "cell_type": "code",
   "execution_count": 39,
   "metadata": {},
   "outputs": [
    {
     "data": {
      "image/png": "[encoded data removed]",
      "text/plain": [
       "<Figure size 720x504 with 1 Axes>"
      ]
     },
     "metadata": {
      "needs_background": "light"
     },
     "output_type": "display_data"
    }
   ],
   "source": [
    "# собираем данные в одном датафрейме\n",
    "merged_cumulative_revenue = (\n",
    "    cumulative_revenue_a.merge(cumulative_revenue_b, left_on='date', right_on='date', how='left', suffixes=['A', 'B'])\n",
    ")\n",
    "\n",
    "plt.figure(figsize=(10, 7))\n",
    "# cтроим отношение средних чеков\n",
    "plt.plot(merged_cumulative_revenue['date'], (merged_cumulative_revenue['revenueB']/merged_cumulative_revenue['ordersB'])/(merged_cumulative_revenue['revenueA']/merged_cumulative_revenue['ordersA'])-1)\n",
    "\n",
    "# Настроим график\n",
    "plt.xticks(rotation=45)\n",
    "plt.grid(True)\n",
    "plt.title('Изменение кумулятивного среднего чека группы B к группе A', fontsize=15)\n",
    "plt.xlabel('Дата', fontsize=12)\n",
    "plt.ylabel('Средний чек', fontsize=12)\n",
    "# добавляем ось X\n",
    "plt.axhline(y=0, color='black', linestyle='--');"
   ]
  },
  {
   "cell_type": "markdown",
   "metadata": {},
   "source": [
    "В нескольких точках график различия между сегментами резко скачет. В данных присутствуют аномальные значения выручки."
   ]
  },
  {
   "cell_type": "markdown",
   "metadata": {},
   "source": [
    "### График кумулятивного среднего количества заказов на посетителя по группам (конверсия)"
   ]
  },
  {
   "cell_type": "code",
   "execution_count": 40,
   "metadata": {},
   "outputs": [
    {
     "data": {
      "image/png": "[encoded data removed]",
      "text/plain": [
       "<Figure size 720x504 with 1 Axes>"
      ]
     },
     "metadata": {
      "needs_background": "light"
     },
     "output_type": "display_data"
    }
   ],
   "source": [
    "# считаем кумулятивную конверсию\n",
    "cumulative_data['conversion'] = cumulative_data['orders']/cumulative_data['visitors']\n",
    "\n",
    "# отделяем данные по группе A\n",
    "cumulative_data_a = cumulative_data[cumulative_data['group']=='A']\n",
    "\n",
    "# отделяем данные по группе B\n",
    "cumulative_data_b = cumulative_data[cumulative_data['group']=='B']\n",
    "\n",
    "plt.figure(figsize=(10, 7))\n",
    "# строим графики\n",
    "plt.plot(cumulative_data_a['date'], cumulative_data_a['conversion'], label='A')\n",
    "plt.plot(cumulative_data_b['date'], cumulative_data_b['conversion'], label='B')\n",
    "\n",
    "# настроим график\n",
    "plt.xticks(rotation=45)\n",
    "plt.grid(True)\n",
    "plt.title('Кумулятивное среднее количество заказов на посетителя по группам', fontsize=15)\n",
    "plt.xlabel('Дата', fontsize=12)\n",
    "plt.ylabel('Количество заказов', fontsize=12)\n",
    "plt.legend()\n",
    "plt.ylim([0, 0.045]) ;"
   ]
  },
  {
   "cell_type": "markdown",
   "metadata": {},
   "source": [
    "Кумулятивное среднее количество заказов на посетителя группы В вырвалась вперёд и зафиксировалась, а кумулятивное среднее количество заказов на посетителя группы А просела и также зафиксировалась."
   ]
  },
  {
   "cell_type": "markdown",
   "metadata": {},
   "source": [
    "### График относительного изменения кумулятивного среднего количества заказов на посетителя группы B к группе A"
   ]
  },
  {
   "cell_type": "code",
   "execution_count": 41,
   "metadata": {},
   "outputs": [
    {
     "data": {
      "image/png": "[encoded data removed]",
      "text/plain": [
       "<Figure size 720x504 with 1 Axes>"
      ]
     },
     "metadata": {
      "needs_background": "light"
     },
     "output_type": "display_data"
    }
   ],
   "source": [
    "merged_cumulative_conversions = (\n",
    "    cumulative_data_a[['date','conversion']].merge(cumulative_data_b[['date','conversion']], left_on='date', right_on='date', how='left', suffixes=['A', 'B'])\n",
    ")\n",
    "\n",
    "# строим график\n",
    "plt.figure(figsize=(10, 7))\n",
    "plt.plot(merged_cumulative_conversions['date'], merged_cumulative_conversions['conversionB']/merged_cumulative_conversions['conversionA']-1)\n",
    "\n",
    "\n",
    "# настроим график\n",
    "plt.xticks(rotation=45)\n",
    "plt.grid(True)\n",
    "plt.title('Относительный прирост количества заказов группы B относительно группы A', fontsize=15)\n",
    "plt.xlabel('Дата', fontsize=12)\n",
    "plt.ylabel('количество заказов', fontsize=12)\n",
    "plt.ylim([-0.3, 0.3]) ;\n",
    "plt.axhline(y=0, color='black', linestyle='--')\n",
    "plt.axhline(y=0.16, color='red', linestyle='--');"
   ]
  },
  {
   "cell_type": "code",
   "execution_count": 42,
   "metadata": {},
   "outputs": [
    {
     "data": {
      "text/html": [
       "<div>\n",
       "<style scoped>\n",
       "    .dataframe tbody tr th:only-of-type {\n",
       "        vertical-align: middle;\n",
       "    }\n",
       "\n",
       "    .dataframe tbody tr th {\n",
       "        vertical-align: top;\n",
       "    }\n",
       "\n",
       "    .dataframe thead th {\n",
       "        text-align: right;\n",
       "    }\n",
       "</style>\n",
       "<table border=\"1\" class=\"dataframe\">\n",
       "  <thead>\n",
       "    <tr style=\"text-align: right;\">\n",
       "      <th></th>\n",
       "      <th>date</th>\n",
       "      <th>group</th>\n",
       "      <th>orders</th>\n",
       "      <th>buyers</th>\n",
       "      <th>revenue</th>\n",
       "      <th>visitors</th>\n",
       "      <th>conversion</th>\n",
       "    </tr>\n",
       "  </thead>\n",
       "  <tbody>\n",
       "    <tr>\n",
       "      <th>0</th>\n",
       "      <td>2019-08-01</td>\n",
       "      <td>A</td>\n",
       "      <td>23</td>\n",
       "      <td>19</td>\n",
       "      <td>142779</td>\n",
       "      <td>719</td>\n",
       "      <td>0.031989</td>\n",
       "    </tr>\n",
       "    <tr>\n",
       "      <th>2</th>\n",
       "      <td>2019-08-02</td>\n",
       "      <td>A</td>\n",
       "      <td>42</td>\n",
       "      <td>36</td>\n",
       "      <td>234381</td>\n",
       "      <td>1338</td>\n",
       "      <td>0.031390</td>\n",
       "    </tr>\n",
       "    <tr>\n",
       "      <th>4</th>\n",
       "      <td>2019-08-03</td>\n",
       "      <td>A</td>\n",
       "      <td>66</td>\n",
       "      <td>60</td>\n",
       "      <td>346854</td>\n",
       "      <td>1845</td>\n",
       "      <td>0.035772</td>\n",
       "    </tr>\n",
       "    <tr>\n",
       "      <th>6</th>\n",
       "      <td>2019-08-04</td>\n",
       "      <td>A</td>\n",
       "      <td>77</td>\n",
       "      <td>71</td>\n",
       "      <td>388030</td>\n",
       "      <td>2562</td>\n",
       "      <td>0.030055</td>\n",
       "    </tr>\n",
       "    <tr>\n",
       "      <th>8</th>\n",
       "      <td>2019-08-05</td>\n",
       "      <td>A</td>\n",
       "      <td>99</td>\n",
       "      <td>92</td>\n",
       "      <td>474413</td>\n",
       "      <td>3318</td>\n",
       "      <td>0.029837</td>\n",
       "    </tr>\n",
       "    <tr>\n",
       "      <th>10</th>\n",
       "      <td>2019-08-06</td>\n",
       "      <td>A</td>\n",
       "      <td>114</td>\n",
       "      <td>104</td>\n",
       "      <td>515332</td>\n",
       "      <td>3985</td>\n",
       "      <td>0.028607</td>\n",
       "    </tr>\n",
       "    <tr>\n",
       "      <th>12</th>\n",
       "      <td>2019-08-07</td>\n",
       "      <td>A</td>\n",
       "      <td>130</td>\n",
       "      <td>120</td>\n",
       "      <td>638580</td>\n",
       "      <td>4629</td>\n",
       "      <td>0.028084</td>\n",
       "    </tr>\n",
       "    <tr>\n",
       "      <th>14</th>\n",
       "      <td>2019-08-08</td>\n",
       "      <td>A</td>\n",
       "      <td>144</td>\n",
       "      <td>133</td>\n",
       "      <td>727219</td>\n",
       "      <td>5239</td>\n",
       "      <td>0.027486</td>\n",
       "    </tr>\n",
       "    <tr>\n",
       "      <th>16</th>\n",
       "      <td>2019-08-09</td>\n",
       "      <td>A</td>\n",
       "      <td>155</td>\n",
       "      <td>143</td>\n",
       "      <td>861456</td>\n",
       "      <td>5856</td>\n",
       "      <td>0.026469</td>\n",
       "    </tr>\n",
       "    <tr>\n",
       "      <th>18</th>\n",
       "      <td>2019-08-10</td>\n",
       "      <td>A</td>\n",
       "      <td>170</td>\n",
       "      <td>158</td>\n",
       "      <td>1013731</td>\n",
       "      <td>6262</td>\n",
       "      <td>0.027148</td>\n",
       "    </tr>\n",
       "    <tr>\n",
       "      <th>20</th>\n",
       "      <td>2019-08-11</td>\n",
       "      <td>A</td>\n",
       "      <td>181</td>\n",
       "      <td>169</td>\n",
       "      <td>1074396</td>\n",
       "      <td>6980</td>\n",
       "      <td>0.025931</td>\n",
       "    </tr>\n",
       "    <tr>\n",
       "      <th>22</th>\n",
       "      <td>2019-08-12</td>\n",
       "      <td>A</td>\n",
       "      <td>200</td>\n",
       "      <td>188</td>\n",
       "      <td>1294788</td>\n",
       "      <td>7575</td>\n",
       "      <td>0.026403</td>\n",
       "    </tr>\n",
       "    <tr>\n",
       "      <th>24</th>\n",
       "      <td>2019-08-13</td>\n",
       "      <td>A</td>\n",
       "      <td>214</td>\n",
       "      <td>201</td>\n",
       "      <td>1558426</td>\n",
       "      <td>8323</td>\n",
       "      <td>0.025712</td>\n",
       "    </tr>\n",
       "    <tr>\n",
       "      <th>26</th>\n",
       "      <td>2019-08-14</td>\n",
       "      <td>A</td>\n",
       "      <td>231</td>\n",
       "      <td>218</td>\n",
       "      <td>1601692</td>\n",
       "      <td>9058</td>\n",
       "      <td>0.025502</td>\n",
       "    </tr>\n",
       "    <tr>\n",
       "      <th>28</th>\n",
       "      <td>2019-08-15</td>\n",
       "      <td>A</td>\n",
       "      <td>241</td>\n",
       "      <td>228</td>\n",
       "      <td>1682569</td>\n",
       "      <td>9686</td>\n",
       "      <td>0.024881</td>\n",
       "    </tr>\n",
       "    <tr>\n",
       "      <th>30</th>\n",
       "      <td>2019-08-16</td>\n",
       "      <td>A</td>\n",
       "      <td>259</td>\n",
       "      <td>246</td>\n",
       "      <td>1782420</td>\n",
       "      <td>10047</td>\n",
       "      <td>0.025779</td>\n",
       "    </tr>\n",
       "    <tr>\n",
       "      <th>32</th>\n",
       "      <td>2019-08-17</td>\n",
       "      <td>A</td>\n",
       "      <td>265</td>\n",
       "      <td>251</td>\n",
       "      <td>1817160</td>\n",
       "      <td>10459</td>\n",
       "      <td>0.025337</td>\n",
       "    </tr>\n",
       "    <tr>\n",
       "      <th>34</th>\n",
       "      <td>2019-08-18</td>\n",
       "      <td>A</td>\n",
       "      <td>278</td>\n",
       "      <td>264</td>\n",
       "      <td>1876741</td>\n",
       "      <td>11127</td>\n",
       "      <td>0.024984</td>\n",
       "    </tr>\n",
       "    <tr>\n",
       "      <th>36</th>\n",
       "      <td>2019-08-19</td>\n",
       "      <td>A</td>\n",
       "      <td>299</td>\n",
       "      <td>283</td>\n",
       "      <td>2044934</td>\n",
       "      <td>11629</td>\n",
       "      <td>0.025712</td>\n",
       "    </tr>\n",
       "    <tr>\n",
       "      <th>38</th>\n",
       "      <td>2019-08-20</td>\n",
       "      <td>A</td>\n",
       "      <td>309</td>\n",
       "      <td>293</td>\n",
       "      <td>2103613</td>\n",
       "      <td>12204</td>\n",
       "      <td>0.025320</td>\n",
       "    </tr>\n",
       "    <tr>\n",
       "      <th>40</th>\n",
       "      <td>2019-08-21</td>\n",
       "      <td>A</td>\n",
       "      <td>329</td>\n",
       "      <td>311</td>\n",
       "      <td>2273782</td>\n",
       "      <td>12850</td>\n",
       "      <td>0.025603</td>\n",
       "    </tr>\n",
       "    <tr>\n",
       "      <th>42</th>\n",
       "      <td>2019-08-22</td>\n",
       "      <td>A</td>\n",
       "      <td>339</td>\n",
       "      <td>321</td>\n",
       "      <td>2366147</td>\n",
       "      <td>13459</td>\n",
       "      <td>0.025188</td>\n",
       "    </tr>\n",
       "    <tr>\n",
       "      <th>44</th>\n",
       "      <td>2019-08-23</td>\n",
       "      <td>A</td>\n",
       "      <td>359</td>\n",
       "      <td>341</td>\n",
       "      <td>2424010</td>\n",
       "      <td>13927</td>\n",
       "      <td>0.025777</td>\n",
       "    </tr>\n",
       "    <tr>\n",
       "      <th>46</th>\n",
       "      <td>2019-08-24</td>\n",
       "      <td>A</td>\n",
       "      <td>372</td>\n",
       "      <td>354</td>\n",
       "      <td>2546023</td>\n",
       "      <td>14322</td>\n",
       "      <td>0.025974</td>\n",
       "    </tr>\n",
       "    <tr>\n",
       "      <th>48</th>\n",
       "      <td>2019-08-25</td>\n",
       "      <td>A</td>\n",
       "      <td>380</td>\n",
       "      <td>362</td>\n",
       "      <td>2597907</td>\n",
       "      <td>14943</td>\n",
       "      <td>0.025430</td>\n",
       "    </tr>\n",
       "    <tr>\n",
       "      <th>50</th>\n",
       "      <td>2019-08-26</td>\n",
       "      <td>A</td>\n",
       "      <td>396</td>\n",
       "      <td>378</td>\n",
       "      <td>2755121</td>\n",
       "      <td>15665</td>\n",
       "      <td>0.025279</td>\n",
       "    </tr>\n",
       "    <tr>\n",
       "      <th>52</th>\n",
       "      <td>2019-08-27</td>\n",
       "      <td>A</td>\n",
       "      <td>419</td>\n",
       "      <td>400</td>\n",
       "      <td>2940471</td>\n",
       "      <td>16376</td>\n",
       "      <td>0.025586</td>\n",
       "    </tr>\n",
       "    <tr>\n",
       "      <th>54</th>\n",
       "      <td>2019-08-28</td>\n",
       "      <td>A</td>\n",
       "      <td>434</td>\n",
       "      <td>413</td>\n",
       "      <td>3036933</td>\n",
       "      <td>16970</td>\n",
       "      <td>0.025575</td>\n",
       "    </tr>\n",
       "    <tr>\n",
       "      <th>56</th>\n",
       "      <td>2019-08-29</td>\n",
       "      <td>A</td>\n",
       "      <td>451</td>\n",
       "      <td>430</td>\n",
       "      <td>3233233</td>\n",
       "      <td>17547</td>\n",
       "      <td>0.025702</td>\n",
       "    </tr>\n",
       "    <tr>\n",
       "      <th>58</th>\n",
       "      <td>2019-08-30</td>\n",
       "      <td>A</td>\n",
       "      <td>460</td>\n",
       "      <td>437</td>\n",
       "      <td>3311413</td>\n",
       "      <td>18037</td>\n",
       "      <td>0.025503</td>\n",
       "    </tr>\n",
       "    <tr>\n",
       "      <th>60</th>\n",
       "      <td>2019-08-31</td>\n",
       "      <td>A</td>\n",
       "      <td>468</td>\n",
       "      <td>445</td>\n",
       "      <td>3364656</td>\n",
       "      <td>18736</td>\n",
       "      <td>0.024979</td>\n",
       "    </tr>\n",
       "  </tbody>\n",
       "</table>\n",
       "</div>"
      ],
      "text/plain": [
       "         date group  orders  buyers  revenue  visitors  conversion\n",
       "0  2019-08-01  A     23      19      142779   719       0.031989  \n",
       "2  2019-08-02  A     42      36      234381   1338      0.031390  \n",
       "4  2019-08-03  A     66      60      346854   1845      0.035772  \n",
       "6  2019-08-04  A     77      71      388030   2562      0.030055  \n",
       "8  2019-08-05  A     99      92      474413   3318      0.029837  \n",
       "10 2019-08-06  A     114     104     515332   3985      0.028607  \n",
       "12 2019-08-07  A     130     120     638580   4629      0.028084  \n",
       "14 2019-08-08  A     144     133     727219   5239      0.027486  \n",
       "16 2019-08-09  A     155     143     861456   5856      0.026469  \n",
       "18 2019-08-10  A     170     158     1013731  6262      0.027148  \n",
       "20 2019-08-11  A     181     169     1074396  6980      0.025931  \n",
       "22 2019-08-12  A     200     188     1294788  7575      0.026403  \n",
       "24 2019-08-13  A     214     201     1558426  8323      0.025712  \n",
       "26 2019-08-14  A     231     218     1601692  9058      0.025502  \n",
       "28 2019-08-15  A     241     228     1682569  9686      0.024881  \n",
       "30 2019-08-16  A     259     246     1782420  10047     0.025779  \n",
       "32 2019-08-17  A     265     251     1817160  10459     0.025337  \n",
       "34 2019-08-18  A     278     264     1876741  11127     0.024984  \n",
       "36 2019-08-19  A     299     283     2044934  11629     0.025712  \n",
       "38 2019-08-20  A     309     293     2103613  12204     0.025320  \n",
       "40 2019-08-21  A     329     311     2273782  12850     0.025603  \n",
       "42 2019-08-22  A     339     321     2366147  13459     0.025188  \n",
       "44 2019-08-23  A     359     341     2424010  13927     0.025777  \n",
       "46 2019-08-24  A     372     354     2546023  14322     0.025974  \n",
       "48 2019-08-25  A     380     362     2597907  14943     0.025430  \n",
       "50 2019-08-26  A     396     378     2755121  15665     0.025279  \n",
       "52 2019-08-27  A     419     400     2940471  16376     0.025586  \n",
       "54 2019-08-28  A     434     413     3036933  16970     0.025575  \n",
       "56 2019-08-29  A     451     430     3233233  17547     0.025702  \n",
       "58 2019-08-30  A     460     437     3311413  18037     0.025503  \n",
       "60 2019-08-31  A     468     445     3364656  18736     0.024979  "
      ]
     },
     "execution_count": 42,
     "metadata": {},
     "output_type": "execute_result"
    }
   ],
   "source": [
    "cumulative_data_a"
   ]
  },
  {
   "cell_type": "markdown",
   "metadata": {},
   "source": [
    "На 6 день начала теста количество заказов группы В начинает превосходить количество заказов группы А, и к концу теста на 16% больше. В целом судя по графикам отношение количества заказов ещё не установилось, и сейчас делать какие-либо выводы по тесту нельзя."
   ]
  },
  {
   "cell_type": "markdown",
   "metadata": {},
   "source": [
    "### Точечный график количества заказов по пользователям"
   ]
  },
  {
   "cell_type": "code",
   "execution_count": 43,
   "metadata": {},
   "outputs": [
    {
     "data": {
      "image/png": "[encoded data removed]",
      "text/plain": [
       "<Figure size 720x504 with 1 Axes>"
      ]
     },
     "metadata": {
      "needs_background": "light"
     },
     "output_type": "display_data"
    }
   ],
   "source": [
    "# сгруппируем заказы по покупателям\n",
    "orders_by_users = orders.groupby('visitor_id', as_index=False).agg({'transaction_id': 'nunique'})\n",
    "orders_by_users.columns = ['visitor_id', 'orders']\n",
    "\n",
    "# строим график\n",
    "x_values = pd.Series(range(0,len(orders_by_users)))\n",
    "\n",
    "plt.figure(figsize=(10, 7))\n",
    "plt.scatter(x_values, orders_by_users['orders'], alpha=0.5)\n",
    "plt.grid(True)\n",
    "plt.title('Количество заказов по пользователям', fontsize=15)\n",
    "plt.xlabel('Клиенты', fontsize=12)\n",
    "plt.ylabel('Количество заказов', fontsize=12)\n",
    "plt.yticks(np.arange(0, 5, step=1));"
   ]
  },
  {
   "cell_type": "markdown",
   "metadata": {},
   "source": [
    "Большинство покупателей заказывали только один раз. Однако есть покупатели которые заказывали 2 и 4 раза. Их точная доля не ясна — непонятно, считать их аномалиями или нет."
   ]
  },
  {
   "cell_type": "markdown",
   "metadata": {},
   "source": [
    "### 95-й и 99-й перцентили количества заказов на пользователя"
   ]
  },
  {
   "cell_type": "code",
   "execution_count": 44,
   "metadata": {},
   "outputs": [
    {
     "data": {
      "text/plain": [
       "array([1., 1., 2.])"
      ]
     },
     "execution_count": 44,
     "metadata": {},
     "output_type": "execute_result"
    }
   ],
   "source": [
    "# посчитаем выборочные перцентили количества заказов на одного пользователя\n",
    "np.percentile(orders_by_users['orders'], [90, 95, 99])"
   ]
  },
  {
   "cell_type": "markdown",
   "metadata": {},
   "source": [
    "Не более 5% пользователей оформляли больше чем 1 заказ. Разумно выбрать не больше 1 заказа на одного пользователя за верхнюю границу числа заказов, и отсеять аномальных покупателей (покупателей кто делал заказ больше одного раза)."
   ]
  },
  {
   "cell_type": "markdown",
   "metadata": {},
   "source": [
    "### Точечный график стоимостей заказов"
   ]
  },
  {
   "cell_type": "code",
   "execution_count": 45,
   "metadata": {},
   "outputs": [
    {
     "data": {
      "image/png": "[encoded data removed]",
      "text/plain": [
       "<Figure size 720x504 with 1 Axes>"
      ]
     },
     "metadata": {
      "needs_background": "light"
     },
     "output_type": "display_data"
    }
   ],
   "source": [
    "x_values = pd.Series(range(0,len(orders['revenue'])))\n",
    "\n",
    "# строим график\n",
    "plt.figure(figsize=(10,7))\n",
    "plt.ticklabel_format(style='plain')\n",
    "plt.scatter(x_values, orders['revenue'], alpha=0.5)\n",
    "plt.grid(True)\n",
    "plt.title('График стоимостей заказов')\n",
    "plt.xlabel('Клиенты', fontsize=12)\n",
    "plt.ylabel('Стоимость заказов', fontsize=12);"
   ]
  },
  {
   "cell_type": "markdown",
   "metadata": {},
   "source": [
    "Необходим более наглядный график, так как из-за явного выброса масштаб не детальный."
   ]
  },
  {
   "cell_type": "code",
   "execution_count": 46,
   "metadata": {},
   "outputs": [
    {
     "data": {
      "image/png": "[encoded data removed]",
      "text/plain": [
       "<Figure size 720x504 with 1 Axes>"
      ]
     },
     "metadata": {
      "needs_background": "light"
     },
     "output_type": "display_data"
    }
   ],
   "source": [
    "# строим график\n",
    "plt.figure(figsize=(10,7))\n",
    "plt.ticklabel_format(style='plain')\n",
    "plt.scatter(x_values, orders['revenue'], alpha=0.5)\n",
    "plt.grid(True)\n",
    "plt.title('График стоимостей заказов')\n",
    "plt.xlabel('Клиенты', fontsize=12)\n",
    "plt.ylabel('Стоимость заказов', fontsize=12);\n",
    "plt.ylim([0, 120000]);"
   ]
  },
  {
   "cell_type": "markdown",
   "metadata": {},
   "source": [
    "<div class=\"alert alert-info\">\n",
    "<b> вывод</b>\n",
    "\n",
    "Когда мы построили график стоимости заказов в пределах до 120 тысяч, стало видно явно частотное распределение заказов как по стоимости, так и по количеству клиентов. От 80 тысяч до 100 тысяч у нас всего два заказа, но с количеством клиентов более 600. От 60 до 80 - четыре и тоже с количеством клиентов более 600. Далее, чем ниже стоимость заказа, тем заказов становится все больше, а вот количество клиентов распределяется в разных диапазонах от 0 до 1000 практически равномерно. \n",
    "</div>"
   ]
  },
  {
   "cell_type": "markdown",
   "metadata": {},
   "source": [
    "### 95-й и 99-й перцентили стоимости заказов"
   ]
  },
  {
   "cell_type": "code",
   "execution_count": 47,
   "metadata": {},
   "outputs": [
    {
     "name": "stdout",
     "output_type": "stream",
     "text": [
      "[17990. 26785. 53904.]\n"
     ]
    }
   ],
   "source": [
    "# посчитаем выборочные перцентили стоимости заказов\n",
    "print(np.percentile(orders['revenue'], [90, 95, 99]))"
   ]
  },
  {
   "cell_type": "markdown",
   "metadata": {},
   "source": [
    "5% заказов имеют чек на сумму дороже 26785. 10% заказов имеют чек на сумму не больше чем 17990 и у 1% заказов чек более чем на сумму 53904. Выберем за верхнюю границу заказ на сумму не более чем 27000 и отсеем аномальные значения по ней."
   ]
  },
  {
   "cell_type": "markdown",
   "metadata": {},
   "source": [
    "**Статистическая значимость различий в среднем количестве заказов на посетителя между группами по «сырым» данным**"
   ]
  },
  {
   "cell_type": "markdown",
   "metadata": {},
   "source": [
    "Мы оценили результаты A/B-теста визуально и выяснили что в данных есть выбросы;\n",
    "Увидели выбросы и нашли границу для их определения.\n",
    "Посчитаем статистическую значимость различий в среднем количестве заказов на посетителя между группами по «сырым» данным — без удаления аномальных посетителей, используя непараметрический тест Уилкоксона-Манна-Уитни. \n",
    "\n",
    "За критический уровень статистической значимости возьмем значение = 0.05 %.\n",
    "\n",
    "Сформулируем гипотезы:\n",
    "\n",
    "H0: Нулевая: различий в среднем количестве заказов между группами нет.\n",
    "H1: Альтернативная: различия в среднем количестве заказов между группами есть."
   ]
  },
  {
   "cell_type": "code",
   "execution_count": 48,
   "metadata": {},
   "outputs": [],
   "source": [
    "# начнём с подготовки данных.\n",
    "visitors_a_daily = visitors[visitors['group'] == 'A'][['date', 'visitors']]\n",
    "visitors_a_daily.columns = ['date', 'visitors_per_date_a']\n",
    "\n",
    "visitors_a_cummulative = visitors_a_daily.apply(\n",
    "    lambda x: visitors_a_daily[visitors_a_daily['date'] <= x['date']].agg(\n",
    "        {'date': 'max', 'visitors_per_date_a': 'sum'}\n",
    "    ),\n",
    "    axis=1,\n",
    ")\n",
    "visitors_a_cummulative.columns = ['date', 'visitors_cummulative_a']\n",
    "\n",
    "visitors_b_daily = visitors[visitors['group'] == 'B'][['date', 'visitors']]\n",
    "visitors_b_daily.columns = ['date', 'visitors_per_date_b']\n",
    "\n",
    "visitors_b_cummulative = visitors_b_daily.apply(\n",
    "    lambda x: visitors_b_daily[visitors_b_daily['date'] <= x['date']].agg(\n",
    "        {'date': 'max', 'visitors_per_date_b': 'sum'}\n",
    "    ),\n",
    "    axis=1,\n",
    ")\n",
    "visitors_b_cummulative.columns = ['date', 'visitors_cummulative_b']\n",
    "\n",
    "orders_a_daily = (\n",
    "    orders[orders['group'] == 'A'][['date', 'transaction_id', 'visitor_id', 'revenue']]\n",
    "    .groupby('date', as_index=False)\n",
    "    .agg({'transaction_id': pd.Series.nunique, 'revenue': 'sum'})\n",
    ")\n",
    "orders_a_daily.columns = ['date', 'orders_per_date_a', 'revenue_per_date_a']\n",
    "\n",
    "orders_a_cummulative = orders_a_daily.apply(\n",
    "    lambda x: orders_a_daily[orders_a_daily['date'] <= x['date']].agg(\n",
    "        {'date': 'max', 'orders_per_date_a': 'sum', 'revenue_per_date_a': 'sum'}\n",
    "    ),\n",
    "    axis=1,\n",
    ").sort_values(by=['date'])\n",
    "orders_a_cummulative.columns = [\n",
    "    'date',\n",
    "    'orders_cummulative_a',\n",
    "    'revenue_cummulative_a',\n",
    "]\n",
    "\n",
    "orders_b_daily = (\n",
    "    orders[orders['group'] == 'B'][['date', 'transaction_id', 'visitor_id', 'revenue']]\n",
    "    .groupby('date', as_index=False)\n",
    "    .agg({'transaction_id': pd.Series.nunique, 'revenue': 'sum'})\n",
    ")\n",
    "orders_b_daily.columns = ['date', 'orders_per_date_b', 'revenue_per_date_b']\n",
    "\n",
    "orders_b_cummulative = orders_b_daily.apply(\n",
    "    lambda x: orders_b_daily[orders_b_daily['date'] <= x['date']].agg(\n",
    "        {'date': 'max', 'orders_per_date_b': 'sum', 'revenue_per_date_b': 'sum'}\n",
    "    ),\n",
    "    axis=1,\n",
    ").sort_values(by=['date'])\n",
    "orders_b_cummulative.columns = [\n",
    "    'date',\n",
    "    'orders_cummulative_b',\n",
    "    'revenue_cummulative_b',\n",
    "]\n",
    "\n",
    "data = (\n",
    "    orders_a_daily.merge(\n",
    "        orders_b_daily, left_on='date', right_on='date', how='left'\n",
    "    )\n",
    "    .merge(orders_a_cummulative, left_on='date', right_on='date', how='left')\n",
    "    .merge(orders_b_cummulative, left_on='date', right_on='date', how='left')\n",
    "    .merge(visitors_a_daily, left_on='date', right_on='date', how='left')\n",
    "    .merge(visitors_b_daily, left_on='date', right_on='date', how='left')\n",
    "    .merge(visitors_a_cummulative, left_on='date', right_on='date', how='left')\n",
    "    .merge(visitors_b_cummulative, left_on='date', right_on='date', how='left')\n",
    ")"
   ]
  },
  {
   "cell_type": "markdown",
   "metadata": {},
   "source": [
    "названия столбцов данных:\n",
    "- `date` — дата;\n",
    "- `orders_per_date_a` — количество заказов в выбранную дату в группе A;\n",
    "- `revenue_per_date_a` — суммарная выручка в выбранную дату в группе A;\n",
    "- `orders_per_date_b` — количество заказов в выбранную дату в группе B;\n",
    "- `revenue_per_date_b` — суммарная выручка в выбранную дату в группе B;\n",
    "- `orders_cummulative_a` — суммарное число заказов до выбранной даты включительно в группе A;\n",
    "- `revenue_cummulative_a` — суммарная выручка до выбранной даты включительно в группе A;\n",
    "- `orders_cummulative_b` — суммарное количество заказов до выбранной даты включительно в группе B;\n",
    "- `revenue_cummulative_b` — суммарная выручка до выбранной даты включительно в группе B;\n",
    "- `visitors_per_date_a` — количество пользователей в выбранную дату в группе A;\n",
    "- `visitors_per_date_b` — количество пользователей в выбранную дату в группе B;\n",
    "- `visitors_cummulative_a` — количество пользователей до выбранной даты включительно в группе A;\n",
    "- `visitors_cummulative_b` — количество пользователей до выбранной даты включительно в группе B."
   ]
  },
  {
   "cell_type": "markdown",
   "metadata": {},
   "source": [
    "### Посчитаем статистическую значимость различия среднем количестве заказов на посетителя между группами по «сырым» данным."
   ]
  },
  {
   "cell_type": "code",
   "execution_count": 49,
   "metadata": {},
   "outputs": [
    {
     "data": {
      "text/plain": [
       "Index(['transaction_id', 'visitor_id', 'date', 'revenue', 'group'], dtype='object')"
      ]
     },
     "execution_count": 49,
     "metadata": {},
     "output_type": "execute_result"
    }
   ],
   "source": [
    "orders.columns"
   ]
  },
  {
   "cell_type": "code",
   "execution_count": 50,
   "metadata": {},
   "outputs": [
    {
     "name": "stdout",
     "output_type": "stream",
     "text": [
      "P-value: 0.011\n",
      "Относительное изменение количества заказов: 16.0%\n"
     ]
    }
   ],
   "source": [
    "orders_by_users_a = (\n",
    "    orders[orders['group'] == 'A']\n",
    "    .groupby('visitor_id', as_index=False)\n",
    "    .agg({'transaction_id': pd.Series.nunique})\n",
    ")\n",
    "orders_by_users_a.columns = ['visitor_id', 'orders']\n",
    "\n",
    "orders_by_users_b = (\n",
    "    orders[orders['group'] == 'B']\n",
    "    .groupby('visitor_id', as_index=False)\n",
    "    .agg({'transaction_id': pd.Series.nunique})\n",
    ")\n",
    "orders_by_users_b.columns = ['visitor_id', 'orders']\n",
    "\n",
    "sampleA = pd.concat(\n",
    "    [\n",
    "        orders_by_users_a['orders'],\n",
    "        pd.Series(\n",
    "            0,\n",
    "            index=np.arange(\n",
    "                data['visitors_per_date_a'].sum() - len(orders_by_users_a['orders'])\n",
    "            ),\n",
    "            name='orders',\n",
    "        ),\n",
    "    ],\n",
    "    axis=0,\n",
    ")\n",
    "\n",
    "sampleB = pd.concat(\n",
    "    [\n",
    "        orders_by_users_b['orders'],\n",
    "        pd.Series(\n",
    "            0,\n",
    "            index=np.arange(\n",
    "                data['visitors_per_date_b'].sum() - len(orders_by_users_b['orders'])\n",
    "            ),\n",
    "            name='orders',\n",
    "        ),\n",
    "    ],\n",
    "    axis=0,\n",
    ")\n",
    "\n",
    "print(f'P-value: {st.mannwhitneyu(sampleA, sampleB)[1]:.3}')\n",
    "\n",
    "print(f\"Относительное изменение количества заказов: {sampleB.mean() / sampleA.mean() - 1:.1%}\")"
   ]
  },
  {
   "cell_type": "markdown",
   "metadata": {},
   "source": [
    "P-value = 0.01 - меньше 0.05, поэтому нулевую гипотезу отвергаем. Анализ сырых данных сообщает, что в среднем количестве заказов между группами есть статистически значимые различия. Относительный прирост среднего количества заказов на посетителя в группе В к группе А равен 16%."
   ]
  },
  {
   "cell_type": "markdown",
   "metadata": {},
   "source": [
    "### Статистическая значимость различий в среднем чеке заказа между группами по «сырым» данным"
   ]
  },
  {
   "cell_type": "markdown",
   "metadata": {},
   "source": [
    "Проверим статистическую значимость различий в среднем чеке заказа между группами по «сырым» данным используя непараметрический тест Уилкоксона-Манна-Уитни. За критический уровень статистической значимости возьмем значение = 0.05 %.\n",
    "\n",
    "Сформулируем гипотезы:\n",
    "\n",
    "H0: Нулевая: различий в среднем чеке между группами нет.\n",
    "\n",
    "H1: Альтернативная: различия в среднем чеке между группами есть."
   ]
  },
  {
   "cell_type": "code",
   "execution_count": 51,
   "metadata": {},
   "outputs": [
    {
     "name": "stdout",
     "output_type": "stream",
     "text": [
      "P-value: 0.829\n",
      "Относительное изменение в среднем чеке: 28.7%\n"
     ]
    }
   ],
   "source": [
    "# передадим критерию mannwhitneyu() данные о выручке с заказов\n",
    "print('P-value:', '{0:.3f}'.format(st.mannwhitneyu(orders[orders['group']=='A']['revenue'], orders[orders['group']=='B']['revenue'])[1]))\n",
    "print('Относительное изменение в среднем чеке:', '{0:.1%}'.format(orders[orders['group']=='B']['revenue'].mean()/orders[orders['group']=='A']['revenue'].mean()-1))"
   ]
  },
  {
   "cell_type": "markdown",
   "metadata": {},
   "source": [
    "P-value = 0.829, что значительно больше 0.05. Значит, нет причин отвергать нулевую гипотезу и различий в среднем чеке заказа между группами А и В нет. Превышение среднего чека группы B на 28.7% является скорее всего случайностью. "
   ]
  },
  {
   "cell_type": "markdown",
   "metadata": {},
   "source": [
    "### Статистическая значимость различий в среднем количестве заказов на посетителя между группами по «очищенным» данным"
   ]
  },
  {
   "cell_type": "markdown",
   "metadata": {},
   "source": [
    "В соответствии с отмеченными аномальными значениями количества и стоимости заказов посмотрим как изменится статистические значимости различий без них."
   ]
  },
  {
   "cell_type": "code",
   "execution_count": 52,
   "metadata": {},
   "outputs": [],
   "source": [
    "# вычленим покупателей с аномальными значениями\n",
    "#REVENUE_THRESHOLD = orders['revenue'].quantile(0.99)\n",
    "users_with_many_orders = pd.concat(\n",
    "    [\n",
    "        orders_by_users_a[orders_by_users_a['orders'] > 1]['visitor_id'],\n",
    "        orders_by_users_b[orders_by_users_b['orders'] > 1]['visitor_id'],\n",
    "    ],\n",
    "    axis=0,\n",
    ")\n",
    "users_with_expensive_orders = orders[orders['revenue'] > orders['revenue'].quantile(0.99)]['visitor_id']\n",
    "abnormal_users = (\n",
    "    pd.concat([users_with_many_orders, users_with_expensive_orders], axis=0)\n",
    "    .drop_duplicates()\n",
    "    .sort_values()\n",
    ")"
   ]
  },
  {
   "cell_type": "code",
   "execution_count": 53,
   "metadata": {},
   "outputs": [],
   "source": [
    "# очистим данные от аномальных покупателей \n",
    "sample_a_filtered = pd.concat(\n",
    "    [\n",
    "        orders_by_users_a[\n",
    "            np.logical_not(orders_by_users_a['visitor_id'].isin(abnormal_users))\n",
    "        ]['orders'],\n",
    "        pd.Series(\n",
    "            0,\n",
    "            index=np.arange(\n",
    "                data['visitors_per_date_a'].sum() - len(orders_by_users_a['orders'])\n",
    "            ),\n",
    "            name='orders',\n",
    "        ),\n",
    "    ],\n",
    "    axis=0,\n",
    ")\n",
    "\n",
    "sample_b_filtered = pd.concat(\n",
    "    [\n",
    "        orders_by_users_b[\n",
    "            np.logical_not(orders_by_users_b['visitor_id'].isin(abnormal_users))\n",
    "        ]['orders'],\n",
    "        pd.Series(\n",
    "            0,\n",
    "            index=np.arange(\n",
    "                data['visitors_per_date_b'].sum() - len(orders_by_users_b['orders'])\n",
    "            ),\n",
    "            name='orders',\n",
    "        ),\n",
    "    ],\n",
    "    axis=0,\n",
    ") "
   ]
  },
  {
   "cell_type": "markdown",
   "metadata": {},
   "source": [
    "### Проверим статистическую значимость различий в среднем количестве заказа между группами по «очищенным» данным."
   ]
  },
  {
   "cell_type": "code",
   "execution_count": 56,
   "metadata": {},
   "outputs": [
    {
     "name": "stdout",
     "output_type": "stream",
     "text": [
      "P-value: 0.008\n",
      "Относительное изменение количества заказов:  18.8%\n"
     ]
    }
   ],
   "source": [
    "print('P-value:', '{0:.3f}'.format(st.mannwhitneyu(sample_a_filtered, sample_b_filtered)[1]))\n",
    "print('Относительное изменение количества заказов: ', '{0:.1%}'.format(sample_b_filtered.mean()/sample_a_filtered.mean()-1)) "
   ]
  },
  {
   "cell_type": "markdown",
   "metadata": {},
   "source": [
    "Как и в случае с сырыми данными, в среднем количестве заказов между группами есть статистически значимые различия. Группа В лучше по приросту среднего количества заказов на посетителя чем группа А на 18.8% (было 16%)"
   ]
  },
  {
   "cell_type": "markdown",
   "metadata": {},
   "source": [
    "### Статистическая значимость различий в среднем чеке заказа между группами по «очищенным» данным"
   ]
  },
  {
   "cell_type": "markdown",
   "metadata": {},
   "source": [
    "Проверим статистическую значимость различий по среднему чеку между группами используя очищенные данные."
   ]
  },
  {
   "cell_type": "code",
   "execution_count": 55,
   "metadata": {},
   "outputs": [
    {
     "name": "stdout",
     "output_type": "stream",
     "text": [
      "P-value: 0.969\n",
      "Относительное изменение в среднем чеке: 0.002\n"
     ]
    }
   ],
   "source": [
    "print('P-value:',\n",
    "    '{0:.3f}'.format(\n",
    "        st.mannwhitneyu(\n",
    "            orders[\n",
    "                np.logical_and(\n",
    "                    orders['group'] == 'A',\n",
    "                    np.logical_not(orders['visitor_id'].isin(abnormal_users)),\n",
    "                )\n",
    "            ]['revenue'],\n",
    "            orders[\n",
    "                np.logical_and(\n",
    "                    orders['group'] == 'B',\n",
    "                    np.logical_not(orders['visitor_id'].isin(abnormal_users)),\n",
    "                )\n",
    "            ]['revenue'],\n",
    "        )[1]\n",
    "    )\n",
    ")\n",
    "\n",
    "print('Относительное изменение в среднем чеке:', \n",
    "    \"{0:.3f}\".format(\n",
    "        orders[\n",
    "            np.logical_and(\n",
    "                orders['group'] == 'B',\n",
    "                np.logical_not(orders['visitor_id'].isin(abnormal_users)),\n",
    "            )\n",
    "        ]['revenue'].mean()\n",
    "        / orders[\n",
    "            np.logical_and(\n",
    "                orders['group'] == 'A',\n",
    "                np.logical_not(orders['visitor_id'].isin(abnormal_users)),\n",
    "            )\n",
    "        ]['revenue'].mean()\n",
    "        - 1\n",
    "    )\n",
    ") "
   ]
  },
  {
   "cell_type": "markdown",
   "metadata": {},
   "source": [
    "P-value = 0.969, что значительно больше 0.05. Значит, причин отвергать нулевую гипотезу и считать, что в среднем чеке заказа между группами по «очищенным» данным есть различия, нельзя, но стоит отметить, что средний чек группы B по сырым данным был значительно выше среднего чека группы A, а именно на 28.7%, тогда как после того как убрали аномальные значения средний чек не сильно отличается от среднего чека группы А (0.2 %). Это огромная разница говорит о том, что в группе В содержались покупатели с огромными чеками, что дал такой скачок."
   ]
  },
  {
   "cell_type": "markdown",
   "metadata": {},
   "source": [
    "## Принятие решений"
   ]
  },
  {
   "attachments": {
    "%D0%9E%D1%82%D0%BD%D0%BE%D1%81%D0%B8%D1%82%D0%B5%D0%BB%D1%8C%D0%BD%D1%8B%D0%B9%20%D0%BF%D1%80%D0%B8%D1%80%D0%BE%D1%81%D1%82.JPG": {
     "image/jpeg": "[encoded data removed]"
    }
   },
   "cell_type": "markdown",
   "metadata": {},
   "source": [
    "**Имеющиеся факты:**\n",
    "- Есть статистически значимые различия по среднему количеству заказов между группами как по «сырым», так и по данным после фильтрации аномалий. Группа В лучше по приросту среднего количества заказов на посетителя чем группа А на 18.8% по очищенным данным (было по \"сырым\" 16%);\n",
    "\n",
    "\n",
    "- Нет статистически значимого различия по среднему чеку между группами ни по «сырым», ни по данным после фильтрации аномалий. Средний чек группы B по сырым данным был значительно выше среднего чека группы A, а именно на 28.7%, тогда как после того как убрали аномальные значения средний чек не сильно отличается от среднего чека группы А (0.2 %);\n",
    "\n",
    "\n",
    "- График различия количества заказов между группами сообщает, что результаты группы B лучше группы A: имеют тенденцию к росту, либо зафиксировались около среднего значения.\n",
    "\n",
    "![%D0%9E%D1%82%D0%BD%D0%BE%D1%81%D0%B8%D1%82%D0%B5%D0%BB%D1%8C%D0%BD%D1%8B%D0%B9%20%D0%BF%D1%80%D0%B8%D1%80%D0%BE%D1%81%D1%82.JPG](attachment:%D0%9E%D1%82%D0%BD%D0%BE%D1%81%D0%B8%D1%82%D0%B5%D0%BB%D1%8C%D0%BD%D1%8B%D0%B9%20%D0%BF%D1%80%D0%B8%D1%80%D0%BE%D1%81%D1%82.JPG)"
   ]
  },
  {
   "attachments": {
    "%D0%98%D0%B7%D0%BC%D0%B5%D0%BD%D0%B5%D0%BD%D0%B8%D0%B5%20%D0%BA%D1%83%D0%BC%D1%83%D0%BB%D1%8F%D1%82%D0%B8%D0%B2%D0%BD%D0%BE%D0%B3%D0%BE%20%D1%87%D0%B5%D0%BA%D0%B0.JPG": {
     "image/jpeg": "[encoded data removed]"
    }
   },
   "cell_type": "markdown",
   "metadata": {},
   "source": [
    "- График различия среднего чека колеблется: он-то и позволил нам найти аномалии. Сделать из этого графика определённые выводы нельзя.\n",
    "![%D0%98%D0%B7%D0%BC%D0%B5%D0%BD%D0%B5%D0%BD%D0%B8%D0%B5%20%D0%BA%D1%83%D0%BC%D1%83%D0%BB%D1%8F%D1%82%D0%B8%D0%B2%D0%BD%D0%BE%D0%B3%D0%BE%20%D1%87%D0%B5%D0%BA%D0%B0.JPG](attachment:%D0%98%D0%B7%D0%BC%D0%B5%D0%BD%D0%B5%D0%BD%D0%B8%D0%B5%20%D0%BA%D1%83%D0%BC%D1%83%D0%BB%D1%8F%D1%82%D0%B8%D0%B2%D0%BD%D0%BE%D0%B3%D0%BE%20%D1%87%D0%B5%D0%BA%D0%B0.JPG)\n",
    "\n",
    "\n",
    "- **Исходя из обнаруженных фактов, тест следует остановить и признать успешным. Продолжать тест смысла нет - так как группа В лучше группы А только по количеству заказов. По приросту среднего чека группы примерно равны.**"
   ]
  },
  {
   "cell_type": "markdown",
   "metadata": {},
   "source": [
    "## Общие выводы"
   ]
  },
  {
   "cell_type": "markdown",
   "metadata": {},
   "source": [
    "В данном проекте проведен анализ выручки интернет-магазина и списка гипотез для увеличения выручки, предоставленных отделом маркетинга.\n",
    "Исходные данные проверили на наличие дубликатов и пропусков и провели предобработку для проведения теста.\n",
    "\n",
    "Из девяти представленных гипотез выделили приоритетные:\n",
    "\n",
    "№7. Добавить форму подписки на все основные страницы, чтобы собрать базу клиентов для email-рассылок\n",
    "\n",
    "№0. Добавить два новых канала привлечения трафика, что позволит привлекать на 30% больше пользователей\n",
    "\n",
    "№6. Показать на главной странице баннеры с актуальными акциями и распродажами, чтобы увеличить конверсию\n",
    "\n",
    "Построили графики изменений средних чеков, количества и стоимости заказов как по полной выборке, так и \n",
    "с удалением аномальных значений, составляющих 1 % от всего объема данных.\n",
    "\n",
    "По результатам анализа данных А/В-теста признали проведение теста успешным. \n"
   ]
  },
  {
   "cell_type": "code",
   "execution_count": null,
   "metadata": {},
   "outputs": [],
   "source": []
  }
 ],
 "metadata": {
  "ExecuteTimeLog": [
   {
    "duration": 827,
    "start_time": "2022-12-26T13:33:49.279Z"
   },
   {
    "duration": 78,
    "start_time": "2022-12-26T13:33:51.278Z"
   },
   {
    "duration": 889,
    "start_time": "2022-12-26T19:48:11.425Z"
   },
   {
    "duration": 402,
    "start_time": "2022-12-26T19:56:01.274Z"
   },
   {
    "duration": 367,
    "start_time": "2022-12-26T19:56:02.556Z"
   },
   {
    "duration": 9,
    "start_time": "2022-12-26T19:56:05.754Z"
   },
   {
    "duration": 9,
    "start_time": "2022-12-26T19:56:40.791Z"
   },
   {
    "duration": 8,
    "start_time": "2022-12-26T19:57:05.329Z"
   },
   {
    "duration": 2,
    "start_time": "2022-12-26T19:57:49.827Z"
   },
   {
    "duration": 6,
    "start_time": "2022-12-26T19:58:29.107Z"
   },
   {
    "duration": 8,
    "start_time": "2022-12-26T20:24:44.800Z"
   },
   {
    "duration": 110,
    "start_time": "2022-12-26T20:24:47.837Z"
   },
   {
    "duration": 8,
    "start_time": "2022-12-26T20:25:03.596Z"
   },
   {
    "duration": 5,
    "start_time": "2022-12-26T20:25:17.366Z"
   },
   {
    "duration": 7,
    "start_time": "2022-12-26T20:25:44.348Z"
   },
   {
    "duration": 4,
    "start_time": "2022-12-26T20:27:32.785Z"
   },
   {
    "duration": 3,
    "start_time": "2022-12-26T20:27:37.775Z"
   },
   {
    "duration": 11,
    "start_time": "2022-12-26T20:28:04.547Z"
   },
   {
    "duration": 7,
    "start_time": "2022-12-26T20:28:22.409Z"
   },
   {
    "duration": 5,
    "start_time": "2022-12-26T20:29:17.491Z"
   },
   {
    "duration": 13,
    "start_time": "2022-12-26T20:29:37.172Z"
   },
   {
    "duration": 6,
    "start_time": "2022-12-26T20:30:05.581Z"
   },
   {
    "duration": 5,
    "start_time": "2022-12-26T20:30:48.048Z"
   },
   {
    "duration": 10,
    "start_time": "2022-12-26T20:31:20.363Z"
   },
   {
    "duration": 9,
    "start_time": "2022-12-26T20:37:51.079Z"
   },
   {
    "duration": 7,
    "start_time": "2022-12-26T20:38:53.624Z"
   },
   {
    "duration": 8,
    "start_time": "2022-12-26T20:39:05.233Z"
   },
   {
    "duration": 7,
    "start_time": "2022-12-26T20:39:13.278Z"
   },
   {
    "duration": 5,
    "start_time": "2022-12-26T20:39:53.597Z"
   },
   {
    "duration": 5,
    "start_time": "2022-12-26T20:40:12.344Z"
   },
   {
    "duration": 391,
    "start_time": "2022-12-26T20:58:12.823Z"
   },
   {
    "duration": 3,
    "start_time": "2022-12-26T20:59:12.364Z"
   },
   {
    "duration": 21,
    "start_time": "2022-12-26T21:01:07.944Z"
   },
   {
    "duration": 5,
    "start_time": "2022-12-26T21:02:49.303Z"
   },
   {
    "duration": 9,
    "start_time": "2022-12-26T21:11:28.022Z"
   },
   {
    "duration": 1231,
    "start_time": "2022-12-27T00:07:08.192Z"
   },
   {
    "duration": 252,
    "start_time": "2022-12-27T00:07:09.425Z"
   },
   {
    "duration": 7,
    "start_time": "2022-12-27T00:07:11.263Z"
   },
   {
    "duration": 6,
    "start_time": "2022-12-27T00:07:14.711Z"
   },
   {
    "duration": 7,
    "start_time": "2022-12-27T00:07:19.135Z"
   },
   {
    "duration": 3,
    "start_time": "2022-12-27T00:07:22.256Z"
   },
   {
    "duration": 9,
    "start_time": "2022-12-27T00:07:23.856Z"
   },
   {
    "duration": 5,
    "start_time": "2022-12-27T00:07:31.862Z"
   },
   {
    "duration": 8,
    "start_time": "2022-12-27T00:07:38.939Z"
   },
   {
    "duration": 6,
    "start_time": "2022-12-27T00:07:54.176Z"
   },
   {
    "duration": 9,
    "start_time": "2022-12-27T00:07:56.336Z"
   },
   {
    "duration": 3,
    "start_time": "2022-12-27T00:07:59.216Z"
   },
   {
    "duration": 9,
    "start_time": "2022-12-27T00:08:03.511Z"
   },
   {
    "duration": 9,
    "start_time": "2022-12-27T00:08:10.302Z"
   },
   {
    "duration": 8,
    "start_time": "2022-12-27T00:08:13.615Z"
   },
   {
    "duration": 11,
    "start_time": "2022-12-27T00:08:50.501Z"
   },
   {
    "duration": 10,
    "start_time": "2022-12-27T00:09:15.172Z"
   },
   {
    "duration": 13,
    "start_time": "2022-12-27T00:09:56.662Z"
   },
   {
    "duration": 8,
    "start_time": "2022-12-27T00:11:31.225Z"
   },
   {
    "duration": 17,
    "start_time": "2022-12-27T00:18:23.415Z"
   },
   {
    "duration": 8,
    "start_time": "2022-12-27T00:24:16.142Z"
   },
   {
    "duration": 4,
    "start_time": "2022-12-27T00:26:07.003Z"
   },
   {
    "duration": 3,
    "start_time": "2022-12-27T00:26:10.782Z"
   },
   {
    "duration": 1002,
    "start_time": "2022-12-27T00:28:01.640Z"
   },
   {
    "duration": 133,
    "start_time": "2022-12-27T00:28:02.645Z"
   },
   {
    "duration": 7,
    "start_time": "2022-12-27T00:28:02.780Z"
   },
   {
    "duration": 11,
    "start_time": "2022-12-27T00:28:02.788Z"
   },
   {
    "duration": 9,
    "start_time": "2022-12-27T00:28:02.801Z"
   },
   {
    "duration": 6,
    "start_time": "2022-12-27T00:28:02.811Z"
   },
   {
    "duration": 12,
    "start_time": "2022-12-27T00:28:02.818Z"
   },
   {
    "duration": 3,
    "start_time": "2022-12-27T00:28:02.832Z"
   },
   {
    "duration": 11,
    "start_time": "2022-12-27T00:28:02.837Z"
   },
   {
    "duration": 12,
    "start_time": "2022-12-27T00:28:02.849Z"
   },
   {
    "duration": 6,
    "start_time": "2022-12-27T00:28:02.862Z"
   },
   {
    "duration": 6,
    "start_time": "2022-12-27T00:28:02.870Z"
   },
   {
    "duration": 9,
    "start_time": "2022-12-27T00:28:02.877Z"
   },
   {
    "duration": 30,
    "start_time": "2022-12-27T00:28:02.890Z"
   },
   {
    "duration": 9,
    "start_time": "2022-12-27T00:28:02.922Z"
   },
   {
    "duration": 12,
    "start_time": "2022-12-27T00:28:02.932Z"
   },
   {
    "duration": 18,
    "start_time": "2022-12-27T00:28:02.945Z"
   },
   {
    "duration": 11,
    "start_time": "2022-12-27T00:28:02.964Z"
   },
   {
    "duration": 8,
    "start_time": "2022-12-27T00:28:02.976Z"
   },
   {
    "duration": 5,
    "start_time": "2022-12-27T00:28:02.986Z"
   },
   {
    "duration": 31,
    "start_time": "2022-12-27T00:28:02.993Z"
   },
   {
    "duration": 5,
    "start_time": "2022-12-27T00:28:03.025Z"
   },
   {
    "duration": 8,
    "start_time": "2022-12-27T00:28:03.032Z"
   },
   {
    "duration": 9,
    "start_time": "2022-12-27T00:28:03.042Z"
   },
   {
    "duration": 8,
    "start_time": "2022-12-27T00:28:03.052Z"
   },
   {
    "duration": 7,
    "start_time": "2022-12-27T00:28:48.687Z"
   },
   {
    "duration": 10,
    "start_time": "2022-12-27T00:28:54.218Z"
   },
   {
    "duration": 12,
    "start_time": "2022-12-27T00:32:03.898Z"
   },
   {
    "duration": 3,
    "start_time": "2022-12-27T00:32:05.579Z"
   },
   {
    "duration": 5,
    "start_time": "2022-12-27T00:33:23.738Z"
   },
   {
    "duration": 10,
    "start_time": "2022-12-27T00:33:35.458Z"
   },
   {
    "duration": 42,
    "start_time": "2022-12-27T00:34:34.700Z"
   },
   {
    "duration": 61,
    "start_time": "2022-12-27T00:35:20.039Z"
   },
   {
    "duration": 7,
    "start_time": "2022-12-27T00:35:33.315Z"
   },
   {
    "duration": 10,
    "start_time": "2022-12-27T00:35:41.738Z"
   },
   {
    "duration": 1013,
    "start_time": "2022-12-27T00:38:21.105Z"
   },
   {
    "duration": 138,
    "start_time": "2022-12-27T00:38:22.122Z"
   },
   {
    "duration": 8,
    "start_time": "2022-12-27T00:38:22.262Z"
   },
   {
    "duration": 11,
    "start_time": "2022-12-27T00:38:22.272Z"
   },
   {
    "duration": 11,
    "start_time": "2022-12-27T00:38:22.285Z"
   },
   {
    "duration": 9,
    "start_time": "2022-12-27T00:38:22.297Z"
   },
   {
    "duration": 12,
    "start_time": "2022-12-27T00:38:22.308Z"
   },
   {
    "duration": 4,
    "start_time": "2022-12-27T00:38:22.323Z"
   },
   {
    "duration": 11,
    "start_time": "2022-12-27T00:38:22.329Z"
   },
   {
    "duration": 12,
    "start_time": "2022-12-27T00:38:22.341Z"
   },
   {
    "duration": 9,
    "start_time": "2022-12-27T00:38:22.354Z"
   },
   {
    "duration": 7,
    "start_time": "2022-12-27T00:38:22.365Z"
   },
   {
    "duration": 13,
    "start_time": "2022-12-27T00:38:22.374Z"
   },
   {
    "duration": 28,
    "start_time": "2022-12-27T00:38:22.391Z"
   },
   {
    "duration": 9,
    "start_time": "2022-12-27T00:38:22.422Z"
   },
   {
    "duration": 21,
    "start_time": "2022-12-27T00:38:22.433Z"
   },
   {
    "duration": 18,
    "start_time": "2022-12-27T00:38:22.456Z"
   },
   {
    "duration": 13,
    "start_time": "2022-12-27T00:38:22.476Z"
   },
   {
    "duration": 27,
    "start_time": "2022-12-27T00:38:22.491Z"
   },
   {
    "duration": 10,
    "start_time": "2022-12-27T00:38:22.520Z"
   },
   {
    "duration": 16,
    "start_time": "2022-12-27T00:38:22.532Z"
   },
   {
    "duration": 18,
    "start_time": "2022-12-27T00:38:22.550Z"
   },
   {
    "duration": 5,
    "start_time": "2022-12-27T00:38:22.570Z"
   },
   {
    "duration": 6,
    "start_time": "2022-12-27T00:38:22.576Z"
   },
   {
    "duration": 13,
    "start_time": "2022-12-27T00:38:22.583Z"
   },
   {
    "duration": 8,
    "start_time": "2022-12-27T00:38:22.617Z"
   },
   {
    "duration": 13,
    "start_time": "2022-12-27T00:38:22.627Z"
   },
   {
    "duration": 5,
    "start_time": "2022-12-27T00:38:22.642Z"
   },
   {
    "duration": 8,
    "start_time": "2022-12-27T00:38:22.649Z"
   },
   {
    "duration": 13,
    "start_time": "2022-12-27T00:38:22.658Z"
   },
   {
    "duration": 12,
    "start_time": "2022-12-27T00:40:59.978Z"
   },
   {
    "duration": 49,
    "start_time": "2022-12-27T01:02:56.058Z"
   },
   {
    "duration": 267,
    "start_time": "2022-12-27T01:03:13.779Z"
   },
   {
    "duration": 337,
    "start_time": "2022-12-27T01:04:08.979Z"
   },
   {
    "duration": 304,
    "start_time": "2022-12-27T01:05:59.782Z"
   },
   {
    "duration": 314,
    "start_time": "2022-12-27T01:06:13.062Z"
   },
   {
    "duration": 364,
    "start_time": "2022-12-27T01:08:37.639Z"
   },
   {
    "duration": 382,
    "start_time": "2022-12-27T01:08:52.424Z"
   },
   {
    "duration": 327,
    "start_time": "2022-12-27T01:10:01.016Z"
   },
   {
    "duration": 317,
    "start_time": "2022-12-27T01:10:10.228Z"
   },
   {
    "duration": 49,
    "start_time": "2022-12-27T01:10:57.942Z"
   },
   {
    "duration": 360,
    "start_time": "2022-12-27T01:11:36.826Z"
   },
   {
    "duration": 12,
    "start_time": "2022-12-27T01:11:48.965Z"
   },
   {
    "duration": 66,
    "start_time": "2022-12-27T01:12:43.537Z"
   },
   {
    "duration": 132,
    "start_time": "2022-12-27T01:13:07.618Z"
   },
   {
    "duration": 59,
    "start_time": "2022-12-27T01:14:19.552Z"
   },
   {
    "duration": 4,
    "start_time": "2022-12-27T01:14:39.059Z"
   },
   {
    "duration": 166,
    "start_time": "2022-12-27T01:15:03.467Z"
   },
   {
    "duration": 222,
    "start_time": "2022-12-27T01:15:45.939Z"
   },
   {
    "duration": 152,
    "start_time": "2022-12-27T01:16:21.699Z"
   },
   {
    "duration": 50,
    "start_time": "2022-12-27T01:17:05.059Z"
   },
   {
    "duration": 4,
    "start_time": "2022-12-27T01:17:25.947Z"
   },
   {
    "duration": 195,
    "start_time": "2022-12-27T01:27:42.337Z"
   },
   {
    "duration": 63,
    "start_time": "2022-12-27T01:28:04.713Z"
   },
   {
    "duration": 4,
    "start_time": "2022-12-27T01:31:14.864Z"
   },
   {
    "duration": 198,
    "start_time": "2022-12-27T01:31:28.498Z"
   },
   {
    "duration": 159,
    "start_time": "2022-12-27T01:32:41.137Z"
   },
   {
    "duration": 10,
    "start_time": "2022-12-27T01:35:24.542Z"
   },
   {
    "duration": 13,
    "start_time": "2022-12-27T01:35:36.030Z"
   },
   {
    "duration": 9,
    "start_time": "2022-12-27T01:39:56.589Z"
   },
   {
    "duration": 7,
    "start_time": "2022-12-27T01:40:29.777Z"
   },
   {
    "duration": 11,
    "start_time": "2022-12-27T01:41:06.390Z"
   },
   {
    "duration": 23,
    "start_time": "2022-12-27T01:41:21.376Z"
   },
   {
    "duration": 11,
    "start_time": "2022-12-27T01:43:35.935Z"
   },
   {
    "duration": 14,
    "start_time": "2022-12-27T01:43:49.216Z"
   },
   {
    "duration": 3,
    "start_time": "2022-12-27T01:57:28.338Z"
   },
   {
    "duration": 54,
    "start_time": "2022-12-27T01:57:33.539Z"
   },
   {
    "duration": 1035,
    "start_time": "2022-12-27T02:21:11.217Z"
   },
   {
    "duration": 133,
    "start_time": "2022-12-27T02:21:12.254Z"
   },
   {
    "duration": 6,
    "start_time": "2022-12-27T02:21:12.389Z"
   },
   {
    "duration": 7,
    "start_time": "2022-12-27T02:21:12.397Z"
   },
   {
    "duration": 10,
    "start_time": "2022-12-27T02:21:12.406Z"
   },
   {
    "duration": 24,
    "start_time": "2022-12-27T02:21:12.417Z"
   },
   {
    "duration": 19,
    "start_time": "2022-12-27T02:21:12.442Z"
   },
   {
    "duration": 5,
    "start_time": "2022-12-27T02:21:12.463Z"
   },
   {
    "duration": 21,
    "start_time": "2022-12-27T02:21:12.469Z"
   },
   {
    "duration": 7,
    "start_time": "2022-12-27T02:21:12.493Z"
   },
   {
    "duration": 7,
    "start_time": "2022-12-27T02:21:12.502Z"
   },
   {
    "duration": 15,
    "start_time": "2022-12-27T02:21:12.511Z"
   },
   {
    "duration": 15,
    "start_time": "2022-12-27T02:21:12.528Z"
   },
   {
    "duration": 14,
    "start_time": "2022-12-27T02:21:12.545Z"
   },
   {
    "duration": 10,
    "start_time": "2022-12-27T02:21:12.562Z"
   },
   {
    "duration": 17,
    "start_time": "2022-12-27T02:21:12.574Z"
   },
   {
    "duration": 38,
    "start_time": "2022-12-27T02:21:12.594Z"
   },
   {
    "duration": 12,
    "start_time": "2022-12-27T02:21:12.635Z"
   },
   {
    "duration": 5,
    "start_time": "2022-12-27T02:21:12.649Z"
   },
   {
    "duration": 10,
    "start_time": "2022-12-27T02:21:12.656Z"
   },
   {
    "duration": 15,
    "start_time": "2022-12-27T02:21:12.668Z"
   },
   {
    "duration": 42,
    "start_time": "2022-12-27T02:21:12.685Z"
   },
   {
    "duration": 6,
    "start_time": "2022-12-27T02:21:12.729Z"
   },
   {
    "duration": 7,
    "start_time": "2022-12-27T02:21:12.737Z"
   },
   {
    "duration": 7,
    "start_time": "2022-12-27T02:21:12.746Z"
   },
   {
    "duration": 5,
    "start_time": "2022-12-27T02:21:12.755Z"
   },
   {
    "duration": 9,
    "start_time": "2022-12-27T02:21:12.762Z"
   },
   {
    "duration": 9,
    "start_time": "2022-12-27T02:21:12.775Z"
   },
   {
    "duration": 34,
    "start_time": "2022-12-27T02:21:12.786Z"
   },
   {
    "duration": 11,
    "start_time": "2022-12-27T02:21:12.822Z"
   },
   {
    "duration": 11,
    "start_time": "2022-12-27T02:21:12.835Z"
   },
   {
    "duration": 275,
    "start_time": "2022-12-27T02:21:12.848Z"
   },
   {
    "duration": 316,
    "start_time": "2022-12-27T02:21:13.124Z"
   },
   {
    "duration": 314,
    "start_time": "2022-12-27T02:21:13.441Z"
   },
   {
    "duration": 447,
    "start_time": "2022-12-27T02:21:13.757Z"
   },
   {
    "duration": 321,
    "start_time": "2022-12-27T02:21:14.205Z"
   },
   {
    "duration": 372,
    "start_time": "2022-12-27T02:21:14.528Z"
   },
   {
    "duration": 16,
    "start_time": "2022-12-27T02:21:14.902Z"
   },
   {
    "duration": 156,
    "start_time": "2022-12-27T02:21:14.920Z"
   },
   {
    "duration": 5,
    "start_time": "2022-12-27T02:21:15.078Z"
   },
   {
    "duration": 165,
    "start_time": "2022-12-27T02:21:15.085Z"
   },
   {
    "duration": 175,
    "start_time": "2022-12-27T02:21:15.252Z"
   },
   {
    "duration": 4,
    "start_time": "2022-12-27T02:21:15.429Z"
   },
   {
    "duration": 214,
    "start_time": "2022-12-27T02:21:15.435Z"
   },
   {
    "duration": 4,
    "start_time": "2022-12-27T02:21:15.651Z"
   },
   {
    "duration": 153,
    "start_time": "2022-12-27T02:21:15.656Z"
   },
   {
    "duration": 10,
    "start_time": "2022-12-27T02:21:15.811Z"
   },
   {
    "duration": 11,
    "start_time": "2022-12-27T02:21:15.822Z"
   },
   {
    "duration": 10,
    "start_time": "2022-12-27T02:21:15.835Z"
   },
   {
    "duration": 25,
    "start_time": "2022-12-27T02:21:15.846Z"
   },
   {
    "duration": 49,
    "start_time": "2022-12-27T02:21:15.872Z"
   },
   {
    "duration": 0,
    "start_time": "2022-12-27T02:21:15.923Z"
   },
   {
    "duration": 0,
    "start_time": "2022-12-27T02:21:15.924Z"
   },
   {
    "duration": 1060,
    "start_time": "2022-12-27T02:22:14.059Z"
   },
   {
    "duration": 130,
    "start_time": "2022-12-27T02:22:15.121Z"
   },
   {
    "duration": 8,
    "start_time": "2022-12-27T02:22:15.253Z"
   },
   {
    "duration": 13,
    "start_time": "2022-12-27T02:22:15.263Z"
   },
   {
    "duration": 9,
    "start_time": "2022-12-27T02:22:15.277Z"
   },
   {
    "duration": 5,
    "start_time": "2022-12-27T02:22:15.287Z"
   },
   {
    "duration": 11,
    "start_time": "2022-12-27T02:22:15.294Z"
   },
   {
    "duration": 6,
    "start_time": "2022-12-27T02:22:15.306Z"
   },
   {
    "duration": 12,
    "start_time": "2022-12-27T02:22:15.314Z"
   },
   {
    "duration": 13,
    "start_time": "2022-12-27T02:22:15.328Z"
   },
   {
    "duration": 13,
    "start_time": "2022-12-27T02:22:15.342Z"
   },
   {
    "duration": 7,
    "start_time": "2022-12-27T02:22:15.357Z"
   },
   {
    "duration": 15,
    "start_time": "2022-12-27T02:22:15.366Z"
   },
   {
    "duration": 13,
    "start_time": "2022-12-27T02:22:15.383Z"
   },
   {
    "duration": 19,
    "start_time": "2022-12-27T02:22:15.398Z"
   },
   {
    "duration": 18,
    "start_time": "2022-12-27T02:22:15.419Z"
   },
   {
    "duration": 24,
    "start_time": "2022-12-27T02:22:15.439Z"
   },
   {
    "duration": 12,
    "start_time": "2022-12-27T02:22:15.465Z"
   },
   {
    "duration": 4,
    "start_time": "2022-12-27T02:22:15.478Z"
   },
   {
    "duration": 32,
    "start_time": "2022-12-27T02:22:15.483Z"
   },
   {
    "duration": 12,
    "start_time": "2022-12-27T02:22:15.517Z"
   },
   {
    "duration": 19,
    "start_time": "2022-12-27T02:22:15.531Z"
   },
   {
    "duration": 8,
    "start_time": "2022-12-27T02:22:15.552Z"
   },
   {
    "duration": 6,
    "start_time": "2022-12-27T02:22:15.561Z"
   },
   {
    "duration": 12,
    "start_time": "2022-12-27T02:22:15.569Z"
   },
   {
    "duration": 6,
    "start_time": "2022-12-27T02:22:15.583Z"
   },
   {
    "duration": 26,
    "start_time": "2022-12-27T02:22:15.590Z"
   },
   {
    "duration": 11,
    "start_time": "2022-12-27T02:22:15.620Z"
   },
   {
    "duration": 11,
    "start_time": "2022-12-27T02:22:15.633Z"
   },
   {
    "duration": 14,
    "start_time": "2022-12-27T02:22:15.646Z"
   },
   {
    "duration": 11,
    "start_time": "2022-12-27T02:22:15.661Z"
   },
   {
    "duration": 310,
    "start_time": "2022-12-27T02:22:15.673Z"
   },
   {
    "duration": 415,
    "start_time": "2022-12-27T02:22:15.985Z"
   },
   {
    "duration": 314,
    "start_time": "2022-12-27T02:22:16.402Z"
   },
   {
    "duration": 382,
    "start_time": "2022-12-27T02:22:16.718Z"
   },
   {
    "duration": 326,
    "start_time": "2022-12-27T02:22:17.102Z"
   },
   {
    "duration": 410,
    "start_time": "2022-12-27T02:22:17.430Z"
   },
   {
    "duration": 12,
    "start_time": "2022-12-27T02:22:17.842Z"
   },
   {
    "duration": 171,
    "start_time": "2022-12-27T02:22:17.856Z"
   },
   {
    "duration": 6,
    "start_time": "2022-12-27T02:22:18.028Z"
   },
   {
    "duration": 176,
    "start_time": "2022-12-27T02:22:18.035Z"
   },
   {
    "duration": 170,
    "start_time": "2022-12-27T02:22:18.215Z"
   },
   {
    "duration": 5,
    "start_time": "2022-12-27T02:22:18.387Z"
   },
   {
    "duration": 227,
    "start_time": "2022-12-27T02:22:18.395Z"
   },
   {
    "duration": 5,
    "start_time": "2022-12-27T02:22:18.624Z"
   },
   {
    "duration": 157,
    "start_time": "2022-12-27T02:22:18.631Z"
   },
   {
    "duration": 11,
    "start_time": "2022-12-27T02:22:18.790Z"
   },
   {
    "duration": 18,
    "start_time": "2022-12-27T02:22:18.803Z"
   },
   {
    "duration": 13,
    "start_time": "2022-12-27T02:22:18.823Z"
   },
   {
    "duration": 24,
    "start_time": "2022-12-27T02:22:18.838Z"
   },
   {
    "duration": 14,
    "start_time": "2022-12-27T02:22:18.863Z"
   },
   {
    "duration": 52,
    "start_time": "2022-12-27T02:22:18.879Z"
   },
   {
    "duration": 1150,
    "start_time": "2022-12-27T12:05:51.841Z"
   },
   {
    "duration": 253,
    "start_time": "2022-12-27T12:05:52.993Z"
   },
   {
    "duration": 6,
    "start_time": "2022-12-27T12:05:53.247Z"
   },
   {
    "duration": 15,
    "start_time": "2022-12-27T12:05:53.255Z"
   },
   {
    "duration": 14,
    "start_time": "2022-12-27T12:05:53.271Z"
   },
   {
    "duration": 8,
    "start_time": "2022-12-27T12:05:53.287Z"
   },
   {
    "duration": 20,
    "start_time": "2022-12-27T12:05:53.296Z"
   },
   {
    "duration": 11,
    "start_time": "2022-12-27T12:05:53.317Z"
   },
   {
    "duration": 10,
    "start_time": "2022-12-27T12:05:53.330Z"
   },
   {
    "duration": 6,
    "start_time": "2022-12-27T12:05:53.343Z"
   },
   {
    "duration": 6,
    "start_time": "2022-12-27T12:05:53.350Z"
   },
   {
    "duration": 12,
    "start_time": "2022-12-27T12:05:53.357Z"
   },
   {
    "duration": 10,
    "start_time": "2022-12-27T12:05:53.371Z"
   },
   {
    "duration": 15,
    "start_time": "2022-12-27T12:05:53.383Z"
   },
   {
    "duration": 15,
    "start_time": "2022-12-27T12:05:53.399Z"
   },
   {
    "duration": 16,
    "start_time": "2022-12-27T12:05:53.415Z"
   },
   {
    "duration": 25,
    "start_time": "2022-12-27T12:05:53.432Z"
   },
   {
    "duration": 10,
    "start_time": "2022-12-27T12:05:53.459Z"
   },
   {
    "duration": 3,
    "start_time": "2022-12-27T12:05:53.470Z"
   },
   {
    "duration": 6,
    "start_time": "2022-12-27T12:05:53.475Z"
   },
   {
    "duration": 20,
    "start_time": "2022-12-27T12:05:53.482Z"
   },
   {
    "duration": 15,
    "start_time": "2022-12-27T12:05:53.504Z"
   },
   {
    "duration": 11,
    "start_time": "2022-12-27T12:05:53.521Z"
   },
   {
    "duration": 5,
    "start_time": "2022-12-27T12:05:53.533Z"
   },
   {
    "duration": 7,
    "start_time": "2022-12-27T12:05:53.539Z"
   },
   {
    "duration": 8,
    "start_time": "2022-12-27T12:05:53.547Z"
   },
   {
    "duration": 8,
    "start_time": "2022-12-27T12:05:53.556Z"
   },
   {
    "duration": 5,
    "start_time": "2022-12-27T12:05:53.567Z"
   },
   {
    "duration": 29,
    "start_time": "2022-12-27T12:05:53.573Z"
   },
   {
    "duration": 11,
    "start_time": "2022-12-27T12:05:53.604Z"
   },
   {
    "duration": 9,
    "start_time": "2022-12-27T12:05:53.617Z"
   },
   {
    "duration": 252,
    "start_time": "2022-12-27T12:05:53.627Z"
   },
   {
    "duration": 304,
    "start_time": "2022-12-27T12:05:53.880Z"
   },
   {
    "duration": 292,
    "start_time": "2022-12-27T12:05:54.186Z"
   },
   {
    "duration": 460,
    "start_time": "2022-12-27T12:05:54.479Z"
   },
   {
    "duration": 307,
    "start_time": "2022-12-27T12:05:54.941Z"
   },
   {
    "duration": 428,
    "start_time": "2022-12-27T12:05:55.249Z"
   },
   {
    "duration": 20,
    "start_time": "2022-12-27T12:05:55.679Z"
   },
   {
    "duration": 144,
    "start_time": "2022-12-27T12:05:55.701Z"
   },
   {
    "duration": 5,
    "start_time": "2022-12-27T12:05:55.847Z"
   },
   {
    "duration": 170,
    "start_time": "2022-12-27T12:05:55.853Z"
   },
   {
    "duration": 150,
    "start_time": "2022-12-27T12:05:56.024Z"
   },
   {
    "duration": 4,
    "start_time": "2022-12-27T12:05:56.176Z"
   },
   {
    "duration": 216,
    "start_time": "2022-12-27T12:05:56.181Z"
   },
   {
    "duration": 4,
    "start_time": "2022-12-27T12:05:56.399Z"
   },
   {
    "duration": 147,
    "start_time": "2022-12-27T12:05:56.404Z"
   },
   {
    "duration": 11,
    "start_time": "2022-12-27T12:05:56.553Z"
   },
   {
    "duration": 8,
    "start_time": "2022-12-27T12:05:56.565Z"
   },
   {
    "duration": 26,
    "start_time": "2022-12-27T12:05:56.575Z"
   },
   {
    "duration": 23,
    "start_time": "2022-12-27T12:05:56.603Z"
   },
   {
    "duration": 12,
    "start_time": "2022-12-27T12:05:56.628Z"
   },
   {
    "duration": 12,
    "start_time": "2022-12-27T12:37:55.471Z"
   },
   {
    "duration": 12,
    "start_time": "2022-12-27T12:38:15.439Z"
   },
   {
    "duration": 97,
    "start_time": "2022-12-27T12:55:53.051Z"
   },
   {
    "duration": 856,
    "start_time": "2022-12-27T12:56:08.259Z"
   },
   {
    "duration": 13,
    "start_time": "2022-12-27T12:56:22.425Z"
   },
   {
    "duration": 11,
    "start_time": "2022-12-27T12:56:32.798Z"
   },
   {
    "duration": 45,
    "start_time": "2022-12-27T15:18:16.352Z"
   },
   {
    "duration": 46,
    "start_time": "2022-12-27T15:22:01.674Z"
   },
   {
    "duration": 1186,
    "start_time": "2022-12-27T15:22:25.424Z"
   },
   {
    "duration": 320,
    "start_time": "2022-12-27T15:22:29.176Z"
   },
   {
    "duration": 8,
    "start_time": "2022-12-27T15:22:32.413Z"
   },
   {
    "duration": 7,
    "start_time": "2022-12-27T15:22:47.040Z"
   },
   {
    "duration": 71,
    "start_time": "2022-12-27T15:23:25.274Z"
   },
   {
    "duration": 5,
    "start_time": "2022-12-27T15:26:15.559Z"
   },
   {
    "duration": 5,
    "start_time": "2022-12-27T15:26:20.280Z"
   },
   {
    "duration": 7,
    "start_time": "2022-12-27T15:26:23.672Z"
   },
   {
    "duration": 3,
    "start_time": "2022-12-27T15:26:25.686Z"
   },
   {
    "duration": 8,
    "start_time": "2022-12-27T15:26:27.178Z"
   },
   {
    "duration": 4,
    "start_time": "2022-12-27T15:26:29.604Z"
   },
   {
    "duration": 55,
    "start_time": "2022-12-27T15:26:46.123Z"
   },
   {
    "duration": 8,
    "start_time": "2022-12-27T15:27:15.451Z"
   },
   {
    "duration": 8,
    "start_time": "2022-12-27T15:27:27.726Z"
   },
   {
    "duration": 7,
    "start_time": "2022-12-27T15:28:41.526Z"
   },
   {
    "duration": 8,
    "start_time": "2022-12-27T15:29:24.922Z"
   },
   {
    "duration": 4,
    "start_time": "2022-12-27T15:29:30.062Z"
   },
   {
    "duration": 9,
    "start_time": "2022-12-27T15:29:35.218Z"
   },
   {
    "duration": 9,
    "start_time": "2022-12-27T15:30:08.086Z"
   },
   {
    "duration": 10,
    "start_time": "2022-12-27T15:30:18.262Z"
   },
   {
    "duration": 978,
    "start_time": "2022-12-27T15:30:38.087Z"
   },
   {
    "duration": 123,
    "start_time": "2022-12-27T15:30:39.067Z"
   },
   {
    "duration": 9,
    "start_time": "2022-12-27T15:30:39.191Z"
   },
   {
    "duration": 5,
    "start_time": "2022-12-27T15:30:39.202Z"
   },
   {
    "duration": 8,
    "start_time": "2022-12-27T15:30:39.208Z"
   },
   {
    "duration": 5,
    "start_time": "2022-12-27T15:30:39.217Z"
   },
   {
    "duration": 10,
    "start_time": "2022-12-27T15:30:39.224Z"
   },
   {
    "duration": 5,
    "start_time": "2022-12-27T15:30:39.236Z"
   },
   {
    "duration": 9,
    "start_time": "2022-12-27T15:30:39.242Z"
   },
   {
    "duration": 26,
    "start_time": "2022-12-27T15:30:39.253Z"
   },
   {
    "duration": 6,
    "start_time": "2022-12-27T15:30:39.281Z"
   },
   {
    "duration": 9,
    "start_time": "2022-12-27T15:30:39.288Z"
   },
   {
    "duration": 15,
    "start_time": "2022-12-27T15:30:39.298Z"
   },
   {
    "duration": 11,
    "start_time": "2022-12-27T15:30:39.314Z"
   },
   {
    "duration": 10,
    "start_time": "2022-12-27T15:30:39.327Z"
   },
   {
    "duration": 59,
    "start_time": "2022-12-27T15:30:39.338Z"
   },
   {
    "duration": 23,
    "start_time": "2022-12-27T15:30:39.398Z"
   },
   {
    "duration": 4,
    "start_time": "2022-12-27T15:30:39.422Z"
   },
   {
    "duration": 7,
    "start_time": "2022-12-27T15:30:39.427Z"
   },
   {
    "duration": 11,
    "start_time": "2022-12-27T15:30:39.435Z"
   },
   {
    "duration": 10,
    "start_time": "2022-12-27T15:30:39.447Z"
   },
   {
    "duration": 3,
    "start_time": "2022-12-27T15:30:39.459Z"
   },
   {
    "duration": 15,
    "start_time": "2022-12-27T15:30:39.464Z"
   },
   {
    "duration": 8,
    "start_time": "2022-12-27T15:30:39.480Z"
   },
   {
    "duration": 11,
    "start_time": "2022-12-27T15:30:39.490Z"
   },
   {
    "duration": 9,
    "start_time": "2022-12-27T15:30:39.502Z"
   },
   {
    "duration": 13,
    "start_time": "2022-12-27T15:30:39.512Z"
   },
   {
    "duration": 10,
    "start_time": "2022-12-27T15:30:39.528Z"
   },
   {
    "duration": 15,
    "start_time": "2022-12-27T15:30:39.540Z"
   },
   {
    "duration": 12,
    "start_time": "2022-12-27T15:30:39.556Z"
   },
   {
    "duration": 262,
    "start_time": "2022-12-27T15:30:39.569Z"
   },
   {
    "duration": 296,
    "start_time": "2022-12-27T15:30:39.833Z"
   },
   {
    "duration": 295,
    "start_time": "2022-12-27T15:30:40.131Z"
   },
   {
    "duration": 411,
    "start_time": "2022-12-27T15:30:40.428Z"
   },
   {
    "duration": 312,
    "start_time": "2022-12-27T15:30:40.841Z"
   },
   {
    "duration": 421,
    "start_time": "2022-12-27T15:30:41.154Z"
   },
   {
    "duration": 13,
    "start_time": "2022-12-27T15:30:41.576Z"
   },
   {
    "duration": 153,
    "start_time": "2022-12-27T15:30:41.591Z"
   },
   {
    "duration": 5,
    "start_time": "2022-12-27T15:30:41.745Z"
   },
   {
    "duration": 171,
    "start_time": "2022-12-27T15:30:41.752Z"
   },
   {
    "duration": 173,
    "start_time": "2022-12-27T15:30:41.924Z"
   },
   {
    "duration": 4,
    "start_time": "2022-12-27T15:30:42.099Z"
   },
   {
    "duration": 213,
    "start_time": "2022-12-27T15:30:42.105Z"
   },
   {
    "duration": 5,
    "start_time": "2022-12-27T15:30:42.319Z"
   },
   {
    "duration": 152,
    "start_time": "2022-12-27T15:30:42.325Z"
   },
   {
    "duration": 11,
    "start_time": "2022-12-27T15:30:42.480Z"
   },
   {
    "duration": 13,
    "start_time": "2022-12-27T15:30:42.493Z"
   },
   {
    "duration": 12,
    "start_time": "2022-12-27T15:30:42.507Z"
   },
   {
    "duration": 28,
    "start_time": "2022-12-27T15:30:42.521Z"
   },
   {
    "duration": 34,
    "start_time": "2022-12-27T15:30:42.550Z"
   },
   {
    "duration": 10,
    "start_time": "2022-12-27T15:31:17.265Z"
   },
   {
    "duration": 10,
    "start_time": "2022-12-27T15:31:23.217Z"
   },
   {
    "duration": 18,
    "start_time": "2022-12-27T15:34:15.971Z"
   },
   {
    "duration": 16,
    "start_time": "2022-12-27T15:34:20.751Z"
   },
   {
    "duration": 1067,
    "start_time": "2022-12-27T15:34:52.415Z"
   },
   {
    "duration": 154,
    "start_time": "2022-12-27T15:34:53.484Z"
   },
   {
    "duration": 10,
    "start_time": "2022-12-27T15:34:53.641Z"
   },
   {
    "duration": 8,
    "start_time": "2022-12-27T15:34:53.654Z"
   },
   {
    "duration": 12,
    "start_time": "2022-12-27T15:34:53.664Z"
   },
   {
    "duration": 11,
    "start_time": "2022-12-27T15:34:53.677Z"
   },
   {
    "duration": 22,
    "start_time": "2022-12-27T15:34:53.691Z"
   },
   {
    "duration": 6,
    "start_time": "2022-12-27T15:34:53.715Z"
   },
   {
    "duration": 11,
    "start_time": "2022-12-27T15:34:53.723Z"
   },
   {
    "duration": 15,
    "start_time": "2022-12-27T15:34:53.736Z"
   },
   {
    "duration": 14,
    "start_time": "2022-12-27T15:34:53.753Z"
   },
   {
    "duration": 4,
    "start_time": "2022-12-27T15:34:53.777Z"
   },
   {
    "duration": 30,
    "start_time": "2022-12-27T15:34:53.783Z"
   },
   {
    "duration": 24,
    "start_time": "2022-12-27T15:34:53.816Z"
   },
   {
    "duration": 27,
    "start_time": "2022-12-27T15:34:53.842Z"
   },
   {
    "duration": 29,
    "start_time": "2022-12-27T15:34:53.871Z"
   },
   {
    "duration": 30,
    "start_time": "2022-12-27T15:34:53.902Z"
   },
   {
    "duration": 28,
    "start_time": "2022-12-27T15:34:53.934Z"
   },
   {
    "duration": 11,
    "start_time": "2022-12-27T15:34:53.964Z"
   },
   {
    "duration": 6,
    "start_time": "2022-12-27T15:34:53.977Z"
   },
   {
    "duration": 18,
    "start_time": "2022-12-27T15:34:53.985Z"
   },
   {
    "duration": 20,
    "start_time": "2022-12-27T15:34:54.005Z"
   },
   {
    "duration": 21,
    "start_time": "2022-12-27T15:34:54.026Z"
   },
   {
    "duration": 22,
    "start_time": "2022-12-27T15:34:54.050Z"
   },
   {
    "duration": 20,
    "start_time": "2022-12-27T15:34:54.074Z"
   },
   {
    "duration": 24,
    "start_time": "2022-12-27T15:34:54.097Z"
   },
   {
    "duration": 10,
    "start_time": "2022-12-27T15:34:54.124Z"
   },
   {
    "duration": 27,
    "start_time": "2022-12-27T15:34:54.139Z"
   },
   {
    "duration": 19,
    "start_time": "2022-12-27T15:34:54.169Z"
   },
   {
    "duration": 58,
    "start_time": "2022-12-27T15:34:54.191Z"
   },
   {
    "duration": 28,
    "start_time": "2022-12-27T15:34:54.251Z"
   },
   {
    "duration": 28,
    "start_time": "2022-12-27T15:34:54.282Z"
   },
   {
    "duration": 549,
    "start_time": "2022-12-27T15:34:54.313Z"
   },
   {
    "duration": 0,
    "start_time": "2022-12-27T15:34:54.864Z"
   },
   {
    "duration": 0,
    "start_time": "2022-12-27T15:34:54.866Z"
   },
   {
    "duration": 0,
    "start_time": "2022-12-27T15:34:54.868Z"
   },
   {
    "duration": 0,
    "start_time": "2022-12-27T15:34:54.870Z"
   },
   {
    "duration": 0,
    "start_time": "2022-12-27T15:34:54.871Z"
   },
   {
    "duration": 0,
    "start_time": "2022-12-27T15:34:54.872Z"
   },
   {
    "duration": 0,
    "start_time": "2022-12-27T15:34:54.873Z"
   },
   {
    "duration": 0,
    "start_time": "2022-12-27T15:34:54.875Z"
   },
   {
    "duration": 0,
    "start_time": "2022-12-27T15:34:54.876Z"
   },
   {
    "duration": 0,
    "start_time": "2022-12-27T15:34:54.878Z"
   },
   {
    "duration": 0,
    "start_time": "2022-12-27T15:34:54.880Z"
   },
   {
    "duration": 0,
    "start_time": "2022-12-27T15:34:54.881Z"
   },
   {
    "duration": 0,
    "start_time": "2022-12-27T15:34:54.883Z"
   },
   {
    "duration": 0,
    "start_time": "2022-12-27T15:34:54.884Z"
   },
   {
    "duration": 0,
    "start_time": "2022-12-27T15:34:54.890Z"
   },
   {
    "duration": 0,
    "start_time": "2022-12-27T15:34:54.891Z"
   },
   {
    "duration": 0,
    "start_time": "2022-12-27T15:34:54.892Z"
   },
   {
    "duration": 0,
    "start_time": "2022-12-27T15:34:54.894Z"
   },
   {
    "duration": 0,
    "start_time": "2022-12-27T15:34:54.895Z"
   },
   {
    "duration": 46,
    "start_time": "2022-12-27T15:36:54.906Z"
   },
   {
    "duration": 12,
    "start_time": "2022-12-27T15:38:56.499Z"
   },
   {
    "duration": 4,
    "start_time": "2022-12-27T15:39:01.673Z"
   },
   {
    "duration": 11,
    "start_time": "2022-12-27T15:39:07.779Z"
   },
   {
    "duration": 63,
    "start_time": "2022-12-27T15:41:59.586Z"
   },
   {
    "duration": 10,
    "start_time": "2022-12-27T15:52:53.739Z"
   },
   {
    "duration": 44,
    "start_time": "2022-12-27T15:53:52.083Z"
   },
   {
    "duration": 14,
    "start_time": "2022-12-27T15:54:29.618Z"
   },
   {
    "duration": 11,
    "start_time": "2022-12-27T15:54:42.706Z"
   },
   {
    "duration": 12,
    "start_time": "2022-12-27T15:54:54.798Z"
   },
   {
    "duration": 10,
    "start_time": "2022-12-27T15:56:22.878Z"
   },
   {
    "duration": 40,
    "start_time": "2022-12-27T15:57:01.333Z"
   },
   {
    "duration": 7,
    "start_time": "2022-12-27T15:58:14.320Z"
   },
   {
    "duration": 1081,
    "start_time": "2022-12-27T15:59:00.132Z"
   },
   {
    "duration": 130,
    "start_time": "2022-12-27T15:59:01.215Z"
   },
   {
    "duration": 9,
    "start_time": "2022-12-27T15:59:01.346Z"
   },
   {
    "duration": 43,
    "start_time": "2022-12-27T15:59:01.357Z"
   },
   {
    "duration": 19,
    "start_time": "2022-12-27T15:59:01.402Z"
   },
   {
    "duration": 16,
    "start_time": "2022-12-27T15:59:01.423Z"
   },
   {
    "duration": 18,
    "start_time": "2022-12-27T15:59:01.440Z"
   },
   {
    "duration": 22,
    "start_time": "2022-12-27T15:59:01.459Z"
   },
   {
    "duration": 69,
    "start_time": "2022-12-27T15:59:01.483Z"
   },
   {
    "duration": 56,
    "start_time": "2022-12-27T15:59:01.555Z"
   },
   {
    "duration": 45,
    "start_time": "2022-12-27T15:59:01.613Z"
   },
   {
    "duration": 65,
    "start_time": "2022-12-27T15:59:01.660Z"
   },
   {
    "duration": 25,
    "start_time": "2022-12-27T15:59:01.726Z"
   },
   {
    "duration": 15,
    "start_time": "2022-12-27T15:59:01.752Z"
   },
   {
    "duration": 15,
    "start_time": "2022-12-27T15:59:01.769Z"
   },
   {
    "duration": 43,
    "start_time": "2022-12-27T15:59:01.785Z"
   },
   {
    "duration": 67,
    "start_time": "2022-12-27T15:59:01.829Z"
   },
   {
    "duration": 19,
    "start_time": "2022-12-27T15:59:01.897Z"
   },
   {
    "duration": 10,
    "start_time": "2022-12-27T15:59:01.918Z"
   },
   {
    "duration": 5,
    "start_time": "2022-12-27T15:59:01.929Z"
   },
   {
    "duration": 6,
    "start_time": "2022-12-27T15:59:01.935Z"
   },
   {
    "duration": 25,
    "start_time": "2022-12-27T15:59:01.943Z"
   },
   {
    "duration": 18,
    "start_time": "2022-12-27T15:59:01.970Z"
   },
   {
    "duration": 9,
    "start_time": "2022-12-27T15:59:01.990Z"
   },
   {
    "duration": 16,
    "start_time": "2022-12-27T15:59:02.000Z"
   },
   {
    "duration": 16,
    "start_time": "2022-12-27T15:59:02.017Z"
   },
   {
    "duration": 36,
    "start_time": "2022-12-27T15:59:02.035Z"
   },
   {
    "duration": 33,
    "start_time": "2022-12-27T15:59:02.074Z"
   },
   {
    "duration": 41,
    "start_time": "2022-12-27T15:59:02.108Z"
   },
   {
    "duration": 14,
    "start_time": "2022-12-27T15:59:02.150Z"
   },
   {
    "duration": 14,
    "start_time": "2022-12-27T15:59:02.166Z"
   },
   {
    "duration": 6,
    "start_time": "2022-12-27T15:59:02.182Z"
   },
   {
    "duration": 12,
    "start_time": "2022-12-27T15:59:02.190Z"
   },
   {
    "duration": 30,
    "start_time": "2022-12-27T15:59:02.204Z"
   },
   {
    "duration": 21,
    "start_time": "2022-12-27T15:59:02.235Z"
   },
   {
    "duration": 265,
    "start_time": "2022-12-27T15:59:02.257Z"
   },
   {
    "duration": 295,
    "start_time": "2022-12-27T15:59:02.524Z"
   },
   {
    "duration": 225,
    "start_time": "2022-12-27T15:59:02.821Z"
   },
   {
    "duration": 336,
    "start_time": "2022-12-27T15:59:03.047Z"
   },
   {
    "duration": 266,
    "start_time": "2022-12-27T15:59:03.385Z"
   },
   {
    "duration": 332,
    "start_time": "2022-12-27T15:59:03.653Z"
   },
   {
    "duration": 15,
    "start_time": "2022-12-27T15:59:03.986Z"
   },
   {
    "duration": 151,
    "start_time": "2022-12-27T15:59:04.003Z"
   },
   {
    "duration": 7,
    "start_time": "2022-12-27T15:59:04.156Z"
   },
   {
    "duration": 171,
    "start_time": "2022-12-27T15:59:04.175Z"
   },
   {
    "duration": 190,
    "start_time": "2022-12-27T15:59:04.348Z"
   },
   {
    "duration": 7,
    "start_time": "2022-12-27T15:59:04.540Z"
   },
   {
    "duration": 249,
    "start_time": "2022-12-27T15:59:04.549Z"
   },
   {
    "duration": 4,
    "start_time": "2022-12-27T15:59:04.800Z"
   },
   {
    "duration": 216,
    "start_time": "2022-12-27T15:59:04.806Z"
   },
   {
    "duration": 10,
    "start_time": "2022-12-27T15:59:05.023Z"
   },
   {
    "duration": 10,
    "start_time": "2022-12-27T15:59:05.035Z"
   },
   {
    "duration": 14,
    "start_time": "2022-12-27T15:59:05.046Z"
   },
   {
    "duration": 36,
    "start_time": "2022-12-27T15:59:05.062Z"
   },
   {
    "duration": 13,
    "start_time": "2022-12-27T15:59:05.099Z"
   },
   {
    "duration": 94,
    "start_time": "2022-12-27T16:01:07.287Z"
   },
   {
    "duration": 278,
    "start_time": "2022-12-27T16:04:45.633Z"
   },
   {
    "duration": 1151,
    "start_time": "2022-12-27T16:20:07.847Z"
   },
   {
    "duration": 140,
    "start_time": "2022-12-27T16:20:09.002Z"
   },
   {
    "duration": 11,
    "start_time": "2022-12-27T16:20:09.144Z"
   },
   {
    "duration": 10,
    "start_time": "2022-12-27T16:20:09.158Z"
   },
   {
    "duration": 10,
    "start_time": "2022-12-27T16:20:09.170Z"
   },
   {
    "duration": 14,
    "start_time": "2022-12-27T16:20:09.182Z"
   },
   {
    "duration": 13,
    "start_time": "2022-12-27T16:20:09.198Z"
   },
   {
    "duration": 6,
    "start_time": "2022-12-27T16:20:09.213Z"
   },
   {
    "duration": 9,
    "start_time": "2022-12-27T16:20:09.222Z"
   },
   {
    "duration": 8,
    "start_time": "2022-12-27T16:20:09.235Z"
   },
   {
    "duration": 34,
    "start_time": "2022-12-27T16:20:09.245Z"
   },
   {
    "duration": 8,
    "start_time": "2022-12-27T16:20:09.281Z"
   },
   {
    "duration": 12,
    "start_time": "2022-12-27T16:20:09.291Z"
   },
   {
    "duration": 13,
    "start_time": "2022-12-27T16:20:09.305Z"
   },
   {
    "duration": 12,
    "start_time": "2022-12-27T16:20:09.320Z"
   },
   {
    "duration": 47,
    "start_time": "2022-12-27T16:20:09.333Z"
   },
   {
    "duration": 11,
    "start_time": "2022-12-27T16:20:09.382Z"
   },
   {
    "duration": 23,
    "start_time": "2022-12-27T16:20:09.394Z"
   },
   {
    "duration": 12,
    "start_time": "2022-12-27T16:20:09.419Z"
   },
   {
    "duration": 5,
    "start_time": "2022-12-27T16:20:09.433Z"
   },
   {
    "duration": 38,
    "start_time": "2022-12-27T16:20:09.440Z"
   },
   {
    "duration": 13,
    "start_time": "2022-12-27T16:20:09.480Z"
   },
   {
    "duration": 16,
    "start_time": "2022-12-27T16:20:09.495Z"
   },
   {
    "duration": 12,
    "start_time": "2022-12-27T16:20:09.514Z"
   },
   {
    "duration": 11,
    "start_time": "2022-12-27T16:20:09.528Z"
   },
   {
    "duration": 11,
    "start_time": "2022-12-27T16:20:09.542Z"
   },
   {
    "duration": 23,
    "start_time": "2022-12-27T16:20:09.554Z"
   },
   {
    "duration": 14,
    "start_time": "2022-12-27T16:20:09.580Z"
   },
   {
    "duration": 14,
    "start_time": "2022-12-27T16:20:09.595Z"
   },
   {
    "duration": 7,
    "start_time": "2022-12-27T16:20:09.610Z"
   },
   {
    "duration": 11,
    "start_time": "2022-12-27T16:20:09.619Z"
   },
   {
    "duration": 9,
    "start_time": "2022-12-27T16:20:09.632Z"
   },
   {
    "duration": 36,
    "start_time": "2022-12-27T16:20:09.643Z"
   },
   {
    "duration": 13,
    "start_time": "2022-12-27T16:20:09.681Z"
   },
   {
    "duration": 17,
    "start_time": "2022-12-27T16:20:09.695Z"
   },
   {
    "duration": 306,
    "start_time": "2022-12-27T16:20:09.714Z"
   },
   {
    "duration": 333,
    "start_time": "2022-12-27T16:20:10.022Z"
   },
   {
    "duration": 232,
    "start_time": "2022-12-27T16:20:10.357Z"
   },
   {
    "duration": 337,
    "start_time": "2022-12-27T16:20:10.592Z"
   },
   {
    "duration": 319,
    "start_time": "2022-12-27T16:20:10.931Z"
   },
   {
    "duration": 385,
    "start_time": "2022-12-27T16:20:11.252Z"
   },
   {
    "duration": 14,
    "start_time": "2022-12-27T16:20:11.640Z"
   },
   {
    "duration": 169,
    "start_time": "2022-12-27T16:20:11.656Z"
   },
   {
    "duration": 5,
    "start_time": "2022-12-27T16:20:11.826Z"
   },
   {
    "duration": 213,
    "start_time": "2022-12-27T16:20:11.833Z"
   },
   {
    "duration": 207,
    "start_time": "2022-12-27T16:20:12.048Z"
   },
   {
    "duration": 6,
    "start_time": "2022-12-27T16:20:12.258Z"
   },
   {
    "duration": 271,
    "start_time": "2022-12-27T16:20:12.278Z"
   },
   {
    "duration": 5,
    "start_time": "2022-12-27T16:20:12.550Z"
   },
   {
    "duration": 207,
    "start_time": "2022-12-27T16:20:12.556Z"
   },
   {
    "duration": 13,
    "start_time": "2022-12-27T16:20:12.777Z"
   },
   {
    "duration": 12,
    "start_time": "2022-12-27T16:20:12.792Z"
   },
   {
    "duration": 13,
    "start_time": "2022-12-27T16:20:12.805Z"
   },
   {
    "duration": 25,
    "start_time": "2022-12-27T16:20:12.820Z"
   },
   {
    "duration": 50,
    "start_time": "2022-12-27T16:20:12.847Z"
   },
   {
    "duration": 64,
    "start_time": "2022-12-27T16:50:54.608Z"
   },
   {
    "duration": 64,
    "start_time": "2022-12-27T16:54:20.339Z"
   },
   {
    "duration": 423,
    "start_time": "2022-12-27T17:40:09.117Z"
   },
   {
    "duration": 42,
    "start_time": "2022-12-27T17:47:49.467Z"
   },
   {
    "duration": 8,
    "start_time": "2022-12-27T17:49:38.274Z"
   },
   {
    "duration": 49,
    "start_time": "2022-12-27T17:50:06.442Z"
   },
   {
    "duration": 44,
    "start_time": "2022-12-27T17:59:51.830Z"
   },
   {
    "duration": 1040,
    "start_time": "2022-12-27T18:01:59.869Z"
   },
   {
    "duration": 141,
    "start_time": "2022-12-27T18:02:00.912Z"
   },
   {
    "duration": 15,
    "start_time": "2022-12-27T18:02:01.055Z"
   },
   {
    "duration": 28,
    "start_time": "2022-12-27T18:02:01.072Z"
   },
   {
    "duration": 37,
    "start_time": "2022-12-27T18:02:01.102Z"
   },
   {
    "duration": 34,
    "start_time": "2022-12-27T18:02:01.140Z"
   },
   {
    "duration": 13,
    "start_time": "2022-12-27T18:02:01.176Z"
   },
   {
    "duration": 39,
    "start_time": "2022-12-27T18:02:01.191Z"
   },
   {
    "duration": 15,
    "start_time": "2022-12-27T18:02:01.231Z"
   },
   {
    "duration": 26,
    "start_time": "2022-12-27T18:02:01.249Z"
   },
   {
    "duration": 28,
    "start_time": "2022-12-27T18:02:01.277Z"
   },
   {
    "duration": 23,
    "start_time": "2022-12-27T18:02:01.307Z"
   },
   {
    "duration": 22,
    "start_time": "2022-12-27T18:02:01.331Z"
   },
   {
    "duration": 23,
    "start_time": "2022-12-27T18:02:01.354Z"
   },
   {
    "duration": 40,
    "start_time": "2022-12-27T18:02:01.378Z"
   },
   {
    "duration": 112,
    "start_time": "2022-12-27T18:02:01.419Z"
   },
   {
    "duration": 69,
    "start_time": "2022-12-27T18:02:01.533Z"
   },
   {
    "duration": 69,
    "start_time": "2022-12-27T18:02:01.604Z"
   },
   {
    "duration": 286,
    "start_time": "2022-12-27T18:02:01.675Z"
   },
   {
    "duration": 55,
    "start_time": "2022-12-27T18:02:01.963Z"
   },
   {
    "duration": 39,
    "start_time": "2022-12-27T18:02:02.020Z"
   },
   {
    "duration": 32,
    "start_time": "2022-12-27T18:02:02.060Z"
   },
   {
    "duration": 53,
    "start_time": "2022-12-27T18:02:02.093Z"
   },
   {
    "duration": 16,
    "start_time": "2022-12-27T18:02:02.147Z"
   },
   {
    "duration": 19,
    "start_time": "2022-12-27T18:02:02.165Z"
   },
   {
    "duration": 9,
    "start_time": "2022-12-27T18:02:02.185Z"
   },
   {
    "duration": 11,
    "start_time": "2022-12-27T18:02:02.196Z"
   },
   {
    "duration": 13,
    "start_time": "2022-12-27T18:02:02.210Z"
   },
   {
    "duration": 18,
    "start_time": "2022-12-27T18:02:02.225Z"
   },
   {
    "duration": 34,
    "start_time": "2022-12-27T18:02:02.244Z"
   },
   {
    "duration": 24,
    "start_time": "2022-12-27T18:02:02.280Z"
   },
   {
    "duration": 11,
    "start_time": "2022-12-27T18:02:02.305Z"
   },
   {
    "duration": 38,
    "start_time": "2022-12-27T18:02:02.317Z"
   },
   {
    "duration": 27,
    "start_time": "2022-12-27T18:02:02.357Z"
   },
   {
    "duration": 11,
    "start_time": "2022-12-27T18:02:02.386Z"
   },
   {
    "duration": 271,
    "start_time": "2022-12-27T18:02:02.398Z"
   },
   {
    "duration": 278,
    "start_time": "2022-12-27T18:02:02.671Z"
   },
   {
    "duration": 216,
    "start_time": "2022-12-27T18:02:02.951Z"
   },
   {
    "duration": 307,
    "start_time": "2022-12-27T18:02:03.169Z"
   },
   {
    "duration": 247,
    "start_time": "2022-12-27T18:02:03.478Z"
   },
   {
    "duration": 344,
    "start_time": "2022-12-27T18:02:03.727Z"
   },
   {
    "duration": 13,
    "start_time": "2022-12-27T18:02:04.075Z"
   },
   {
    "duration": 157,
    "start_time": "2022-12-27T18:02:04.089Z"
   },
   {
    "duration": 6,
    "start_time": "2022-12-27T18:02:04.247Z"
   },
   {
    "duration": 179,
    "start_time": "2022-12-27T18:02:04.254Z"
   },
   {
    "duration": 178,
    "start_time": "2022-12-27T18:02:04.434Z"
   },
   {
    "duration": 5,
    "start_time": "2022-12-27T18:02:04.614Z"
   },
   {
    "duration": 260,
    "start_time": "2022-12-27T18:02:04.621Z"
   },
   {
    "duration": 4,
    "start_time": "2022-12-27T18:02:04.884Z"
   },
   {
    "duration": 259,
    "start_time": "2022-12-27T18:02:04.890Z"
   },
   {
    "duration": 0,
    "start_time": "2022-12-27T18:02:05.151Z"
   },
   {
    "duration": 0,
    "start_time": "2022-12-27T18:02:05.153Z"
   },
   {
    "duration": 0,
    "start_time": "2022-12-27T18:02:05.154Z"
   },
   {
    "duration": 0,
    "start_time": "2022-12-27T18:02:05.155Z"
   },
   {
    "duration": 0,
    "start_time": "2022-12-27T18:02:05.156Z"
   },
   {
    "duration": 1016,
    "start_time": "2022-12-27T18:03:25.349Z"
   },
   {
    "duration": 126,
    "start_time": "2022-12-27T18:03:26.367Z"
   },
   {
    "duration": 8,
    "start_time": "2022-12-27T18:03:26.494Z"
   },
   {
    "duration": 7,
    "start_time": "2022-12-27T18:03:26.504Z"
   },
   {
    "duration": 8,
    "start_time": "2022-12-27T18:03:26.512Z"
   },
   {
    "duration": 6,
    "start_time": "2022-12-27T18:03:26.521Z"
   },
   {
    "duration": 10,
    "start_time": "2022-12-27T18:03:26.528Z"
   },
   {
    "duration": 5,
    "start_time": "2022-12-27T18:03:26.540Z"
   },
   {
    "duration": 9,
    "start_time": "2022-12-27T18:03:26.546Z"
   },
   {
    "duration": 24,
    "start_time": "2022-12-27T18:03:26.558Z"
   },
   {
    "duration": 10,
    "start_time": "2022-12-27T18:03:26.583Z"
   },
   {
    "duration": 8,
    "start_time": "2022-12-27T18:03:26.595Z"
   },
   {
    "duration": 13,
    "start_time": "2022-12-27T18:03:26.605Z"
   },
   {
    "duration": 12,
    "start_time": "2022-12-27T18:03:26.620Z"
   },
   {
    "duration": 17,
    "start_time": "2022-12-27T18:03:26.634Z"
   },
   {
    "duration": 37,
    "start_time": "2022-12-27T18:03:26.653Z"
   },
   {
    "duration": 15,
    "start_time": "2022-12-27T18:03:26.692Z"
   },
   {
    "duration": 22,
    "start_time": "2022-12-27T18:03:26.709Z"
   },
   {
    "duration": 10,
    "start_time": "2022-12-27T18:03:26.733Z"
   },
   {
    "duration": 10,
    "start_time": "2022-12-27T18:03:26.745Z"
   },
   {
    "duration": 20,
    "start_time": "2022-12-27T18:03:26.757Z"
   },
   {
    "duration": 10,
    "start_time": "2022-12-27T18:03:26.778Z"
   },
   {
    "duration": 20,
    "start_time": "2022-12-27T18:03:26.790Z"
   },
   {
    "duration": 8,
    "start_time": "2022-12-27T18:03:26.812Z"
   },
   {
    "duration": 7,
    "start_time": "2022-12-27T18:03:26.822Z"
   },
   {
    "duration": 17,
    "start_time": "2022-12-27T18:03:26.830Z"
   },
   {
    "duration": 7,
    "start_time": "2022-12-27T18:03:26.848Z"
   },
   {
    "duration": 18,
    "start_time": "2022-12-27T18:03:26.858Z"
   },
   {
    "duration": 9,
    "start_time": "2022-12-27T18:03:26.878Z"
   },
   {
    "duration": 3,
    "start_time": "2022-12-27T18:03:26.889Z"
   },
   {
    "duration": 13,
    "start_time": "2022-12-27T18:03:26.894Z"
   },
   {
    "duration": 13,
    "start_time": "2022-12-27T18:03:26.908Z"
   },
   {
    "duration": 14,
    "start_time": "2022-12-27T18:03:26.923Z"
   },
   {
    "duration": 17,
    "start_time": "2022-12-27T18:03:26.938Z"
   },
   {
    "duration": 9,
    "start_time": "2022-12-27T18:03:26.957Z"
   },
   {
    "duration": 266,
    "start_time": "2022-12-27T18:03:26.967Z"
   },
   {
    "duration": 279,
    "start_time": "2022-12-27T18:03:27.235Z"
   },
   {
    "duration": 215,
    "start_time": "2022-12-27T18:03:27.516Z"
   },
   {
    "duration": 329,
    "start_time": "2022-12-27T18:03:27.732Z"
   },
   {
    "duration": 226,
    "start_time": "2022-12-27T18:03:28.063Z"
   },
   {
    "duration": 303,
    "start_time": "2022-12-27T18:03:28.291Z"
   },
   {
    "duration": 11,
    "start_time": "2022-12-27T18:03:28.596Z"
   },
   {
    "duration": 142,
    "start_time": "2022-12-27T18:03:28.609Z"
   },
   {
    "duration": 5,
    "start_time": "2022-12-27T18:03:28.753Z"
   },
   {
    "duration": 165,
    "start_time": "2022-12-27T18:03:28.759Z"
   },
   {
    "duration": 156,
    "start_time": "2022-12-27T18:03:28.925Z"
   },
   {
    "duration": 4,
    "start_time": "2022-12-27T18:03:29.083Z"
   },
   {
    "duration": 76,
    "start_time": "2022-12-27T18:03:29.088Z"
   },
   {
    "duration": 0,
    "start_time": "2022-12-27T18:03:29.166Z"
   },
   {
    "duration": 0,
    "start_time": "2022-12-27T18:03:29.167Z"
   },
   {
    "duration": 0,
    "start_time": "2022-12-27T18:03:29.169Z"
   },
   {
    "duration": 0,
    "start_time": "2022-12-27T18:03:29.170Z"
   },
   {
    "duration": 0,
    "start_time": "2022-12-27T18:03:29.171Z"
   },
   {
    "duration": 0,
    "start_time": "2022-12-27T18:03:29.172Z"
   },
   {
    "duration": 0,
    "start_time": "2022-12-27T18:03:29.173Z"
   },
   {
    "duration": 71,
    "start_time": "2022-12-27T18:04:57.084Z"
   },
   {
    "duration": 215,
    "start_time": "2022-12-27T18:05:57.905Z"
   },
   {
    "duration": 149,
    "start_time": "2022-12-27T18:06:14.396Z"
   },
   {
    "duration": 930,
    "start_time": "2022-12-27T18:06:25.623Z"
   },
   {
    "duration": 130,
    "start_time": "2022-12-27T18:06:26.555Z"
   },
   {
    "duration": 9,
    "start_time": "2022-12-27T18:06:26.687Z"
   },
   {
    "duration": 7,
    "start_time": "2022-12-27T18:06:26.698Z"
   },
   {
    "duration": 8,
    "start_time": "2022-12-27T18:06:26.706Z"
   },
   {
    "duration": 5,
    "start_time": "2022-12-27T18:06:26.716Z"
   },
   {
    "duration": 13,
    "start_time": "2022-12-27T18:06:26.723Z"
   },
   {
    "duration": 7,
    "start_time": "2022-12-27T18:06:26.738Z"
   },
   {
    "duration": 30,
    "start_time": "2022-12-27T18:06:26.747Z"
   },
   {
    "duration": 7,
    "start_time": "2022-12-27T18:06:26.780Z"
   },
   {
    "duration": 7,
    "start_time": "2022-12-27T18:06:26.788Z"
   },
   {
    "duration": 6,
    "start_time": "2022-12-27T18:06:26.796Z"
   },
   {
    "duration": 10,
    "start_time": "2022-12-27T18:06:26.803Z"
   },
   {
    "duration": 19,
    "start_time": "2022-12-27T18:06:26.815Z"
   },
   {
    "duration": 11,
    "start_time": "2022-12-27T18:06:26.836Z"
   },
   {
    "duration": 37,
    "start_time": "2022-12-27T18:06:26.849Z"
   },
   {
    "duration": 12,
    "start_time": "2022-12-27T18:06:26.887Z"
   },
   {
    "duration": 16,
    "start_time": "2022-12-27T18:06:26.901Z"
   },
   {
    "duration": 12,
    "start_time": "2022-12-27T18:06:26.918Z"
   },
   {
    "duration": 4,
    "start_time": "2022-12-27T18:06:26.931Z"
   },
   {
    "duration": 6,
    "start_time": "2022-12-27T18:06:26.937Z"
   },
   {
    "duration": 9,
    "start_time": "2022-12-27T18:06:26.976Z"
   },
   {
    "duration": 23,
    "start_time": "2022-12-27T18:06:26.986Z"
   },
   {
    "duration": 6,
    "start_time": "2022-12-27T18:06:27.010Z"
   },
   {
    "duration": 6,
    "start_time": "2022-12-27T18:06:27.017Z"
   },
   {
    "duration": 7,
    "start_time": "2022-12-27T18:06:27.024Z"
   },
   {
    "duration": 10,
    "start_time": "2022-12-27T18:06:27.032Z"
   },
   {
    "duration": 6,
    "start_time": "2022-12-27T18:06:27.044Z"
   },
   {
    "duration": 25,
    "start_time": "2022-12-27T18:06:27.052Z"
   },
   {
    "duration": 8,
    "start_time": "2022-12-27T18:06:27.078Z"
   },
   {
    "duration": 11,
    "start_time": "2022-12-27T18:06:27.088Z"
   },
   {
    "duration": 9,
    "start_time": "2022-12-27T18:06:27.100Z"
   },
   {
    "duration": 11,
    "start_time": "2022-12-27T18:06:27.110Z"
   },
   {
    "duration": 22,
    "start_time": "2022-12-27T18:06:27.122Z"
   },
   {
    "duration": 11,
    "start_time": "2022-12-27T18:06:27.146Z"
   },
   {
    "duration": 277,
    "start_time": "2022-12-27T18:06:27.158Z"
   },
   {
    "duration": 291,
    "start_time": "2022-12-27T18:06:27.437Z"
   },
   {
    "duration": 213,
    "start_time": "2022-12-27T18:06:27.730Z"
   },
   {
    "duration": 335,
    "start_time": "2022-12-27T18:06:27.946Z"
   },
   {
    "duration": 222,
    "start_time": "2022-12-27T18:06:28.283Z"
   },
   {
    "duration": 307,
    "start_time": "2022-12-27T18:06:28.507Z"
   },
   {
    "duration": 12,
    "start_time": "2022-12-27T18:06:28.816Z"
   },
   {
    "duration": 139,
    "start_time": "2022-12-27T18:06:28.829Z"
   },
   {
    "duration": 9,
    "start_time": "2022-12-27T18:06:28.970Z"
   },
   {
    "duration": 151,
    "start_time": "2022-12-27T18:06:28.980Z"
   },
   {
    "duration": 156,
    "start_time": "2022-12-27T18:06:29.133Z"
   },
   {
    "duration": 4,
    "start_time": "2022-12-27T18:06:29.290Z"
   },
   {
    "duration": 218,
    "start_time": "2022-12-27T18:06:29.295Z"
   },
   {
    "duration": 4,
    "start_time": "2022-12-27T18:06:29.515Z"
   },
   {
    "duration": 146,
    "start_time": "2022-12-27T18:06:29.521Z"
   },
   {
    "duration": 13,
    "start_time": "2022-12-27T18:06:29.669Z"
   },
   {
    "duration": 8,
    "start_time": "2022-12-27T18:06:29.683Z"
   },
   {
    "duration": 10,
    "start_time": "2022-12-27T18:06:29.692Z"
   },
   {
    "duration": 22,
    "start_time": "2022-12-27T18:06:29.703Z"
   },
   {
    "duration": 11,
    "start_time": "2022-12-27T18:06:29.727Z"
   },
   {
    "duration": 44,
    "start_time": "2022-12-27T18:08:31.679Z"
   },
   {
    "duration": 989,
    "start_time": "2022-12-28T16:44:24.882Z"
   },
   {
    "duration": 249,
    "start_time": "2022-12-28T16:44:25.872Z"
   },
   {
    "duration": 9,
    "start_time": "2022-12-28T16:44:26.123Z"
   },
   {
    "duration": 24,
    "start_time": "2022-12-28T16:44:26.134Z"
   },
   {
    "duration": 15,
    "start_time": "2022-12-28T16:44:26.159Z"
   },
   {
    "duration": 22,
    "start_time": "2022-12-28T16:44:26.176Z"
   },
   {
    "duration": 16,
    "start_time": "2022-12-28T16:44:26.199Z"
   },
   {
    "duration": 16,
    "start_time": "2022-12-28T16:44:26.217Z"
   },
   {
    "duration": 16,
    "start_time": "2022-12-28T16:44:26.235Z"
   },
   {
    "duration": 13,
    "start_time": "2022-12-28T16:44:26.254Z"
   },
   {
    "duration": 26,
    "start_time": "2022-12-28T16:44:26.268Z"
   },
   {
    "duration": 8,
    "start_time": "2022-12-28T16:44:26.295Z"
   },
   {
    "duration": 24,
    "start_time": "2022-12-28T16:44:26.305Z"
   },
   {
    "duration": 24,
    "start_time": "2022-12-28T16:44:26.331Z"
   },
   {
    "duration": 37,
    "start_time": "2022-12-28T16:44:26.356Z"
   },
   {
    "duration": 26,
    "start_time": "2022-12-28T16:44:26.395Z"
   },
   {
    "duration": 23,
    "start_time": "2022-12-28T16:44:26.422Z"
   },
   {
    "duration": 33,
    "start_time": "2022-12-28T16:44:26.446Z"
   },
   {
    "duration": 17,
    "start_time": "2022-12-28T16:44:26.480Z"
   },
   {
    "duration": 6,
    "start_time": "2022-12-28T16:44:26.499Z"
   },
   {
    "duration": 17,
    "start_time": "2022-12-28T16:44:26.507Z"
   },
   {
    "duration": 24,
    "start_time": "2022-12-28T16:44:26.526Z"
   },
   {
    "duration": 28,
    "start_time": "2022-12-28T16:44:26.552Z"
   },
   {
    "duration": 21,
    "start_time": "2022-12-28T16:44:26.581Z"
   },
   {
    "duration": 12,
    "start_time": "2022-12-28T16:44:26.604Z"
   },
   {
    "duration": 25,
    "start_time": "2022-12-28T16:44:26.617Z"
   },
   {
    "duration": 15,
    "start_time": "2022-12-28T16:44:26.643Z"
   },
   {
    "duration": 20,
    "start_time": "2022-12-28T16:44:26.661Z"
   },
   {
    "duration": 21,
    "start_time": "2022-12-28T16:44:26.682Z"
   },
   {
    "duration": 23,
    "start_time": "2022-12-28T16:44:26.704Z"
   },
   {
    "duration": 20,
    "start_time": "2022-12-28T16:44:26.728Z"
   },
   {
    "duration": 18,
    "start_time": "2022-12-28T16:44:26.749Z"
   },
   {
    "duration": 23,
    "start_time": "2022-12-28T16:44:26.769Z"
   },
   {
    "duration": 24,
    "start_time": "2022-12-28T16:44:26.794Z"
   },
   {
    "duration": 31,
    "start_time": "2022-12-28T16:44:26.819Z"
   },
   {
    "duration": 275,
    "start_time": "2022-12-28T16:44:26.852Z"
   },
   {
    "duration": 282,
    "start_time": "2022-12-28T16:44:27.129Z"
   },
   {
    "duration": 210,
    "start_time": "2022-12-28T16:44:27.413Z"
   },
   {
    "duration": 322,
    "start_time": "2022-12-28T16:44:27.624Z"
   },
   {
    "duration": 224,
    "start_time": "2022-12-28T16:44:27.948Z"
   },
   {
    "duration": 294,
    "start_time": "2022-12-28T16:44:28.174Z"
   },
   {
    "duration": 12,
    "start_time": "2022-12-28T16:44:28.470Z"
   },
   {
    "duration": 147,
    "start_time": "2022-12-28T16:44:28.483Z"
   },
   {
    "duration": 6,
    "start_time": "2022-12-28T16:44:28.631Z"
   },
   {
    "duration": 158,
    "start_time": "2022-12-28T16:44:28.638Z"
   },
   {
    "duration": 168,
    "start_time": "2022-12-28T16:44:28.798Z"
   },
   {
    "duration": 4,
    "start_time": "2022-12-28T16:44:28.968Z"
   },
   {
    "duration": 226,
    "start_time": "2022-12-28T16:44:28.973Z"
   },
   {
    "duration": 4,
    "start_time": "2022-12-28T16:44:29.200Z"
   },
   {
    "duration": 168,
    "start_time": "2022-12-28T16:44:29.205Z"
   },
   {
    "duration": 12,
    "start_time": "2022-12-28T16:44:29.374Z"
   },
   {
    "duration": 11,
    "start_time": "2022-12-28T16:44:29.387Z"
   },
   {
    "duration": 20,
    "start_time": "2022-12-28T16:44:29.399Z"
   },
   {
    "duration": 41,
    "start_time": "2022-12-28T16:44:29.420Z"
   },
   {
    "duration": 15,
    "start_time": "2022-12-28T16:44:29.463Z"
   },
   {
    "duration": 63,
    "start_time": "2022-12-28T17:17:57.942Z"
   },
   {
    "duration": 1149,
    "start_time": "2022-12-28T17:18:16.022Z"
   },
   {
    "duration": 298,
    "start_time": "2022-12-28T17:18:17.173Z"
   },
   {
    "duration": 10,
    "start_time": "2022-12-28T17:18:17.472Z"
   },
   {
    "duration": 20,
    "start_time": "2022-12-28T17:18:17.484Z"
   },
   {
    "duration": 7,
    "start_time": "2022-12-28T17:18:17.507Z"
   },
   {
    "duration": 6,
    "start_time": "2022-12-28T17:18:17.515Z"
   },
   {
    "duration": 10,
    "start_time": "2022-12-28T17:18:17.523Z"
   },
   {
    "duration": 7,
    "start_time": "2022-12-28T17:18:17.534Z"
   },
   {
    "duration": 12,
    "start_time": "2022-12-28T17:18:17.542Z"
   },
   {
    "duration": 8,
    "start_time": "2022-12-28T17:18:17.556Z"
   },
   {
    "duration": 18,
    "start_time": "2022-12-28T17:18:17.565Z"
   },
   {
    "duration": 16,
    "start_time": "2022-12-28T17:18:17.586Z"
   },
   {
    "duration": 14,
    "start_time": "2022-12-28T17:18:17.604Z"
   },
   {
    "duration": 11,
    "start_time": "2022-12-28T17:18:17.621Z"
   },
   {
    "duration": 22,
    "start_time": "2022-12-28T17:18:17.633Z"
   },
   {
    "duration": 15,
    "start_time": "2022-12-28T17:18:17.656Z"
   },
   {
    "duration": 14,
    "start_time": "2022-12-28T17:18:17.673Z"
   },
   {
    "duration": 26,
    "start_time": "2022-12-28T17:18:17.688Z"
   },
   {
    "duration": 11,
    "start_time": "2022-12-28T17:18:17.716Z"
   },
   {
    "duration": 3,
    "start_time": "2022-12-28T17:18:17.729Z"
   },
   {
    "duration": 11,
    "start_time": "2022-12-28T17:18:17.733Z"
   },
   {
    "duration": 12,
    "start_time": "2022-12-28T17:18:17.746Z"
   },
   {
    "duration": 29,
    "start_time": "2022-12-28T17:18:17.759Z"
   },
   {
    "duration": 19,
    "start_time": "2022-12-28T17:18:17.790Z"
   },
   {
    "duration": 6,
    "start_time": "2022-12-28T17:18:17.810Z"
   },
   {
    "duration": 9,
    "start_time": "2022-12-28T17:18:17.817Z"
   },
   {
    "duration": 6,
    "start_time": "2022-12-28T17:18:17.828Z"
   },
   {
    "duration": 8,
    "start_time": "2022-12-28T17:18:17.835Z"
   },
   {
    "duration": 12,
    "start_time": "2022-12-28T17:18:17.844Z"
   },
   {
    "duration": 25,
    "start_time": "2022-12-28T17:18:17.857Z"
   },
   {
    "duration": 28,
    "start_time": "2022-12-28T17:18:17.883Z"
   },
   {
    "duration": 8,
    "start_time": "2022-12-28T17:18:17.913Z"
   },
   {
    "duration": 10,
    "start_time": "2022-12-28T17:18:17.923Z"
   },
   {
    "duration": 14,
    "start_time": "2022-12-28T17:18:17.934Z"
   },
   {
    "duration": 12,
    "start_time": "2022-12-28T17:18:17.949Z"
   },
   {
    "duration": 299,
    "start_time": "2022-12-28T17:18:17.962Z"
   },
   {
    "duration": 322,
    "start_time": "2022-12-28T17:18:18.263Z"
   },
   {
    "duration": 250,
    "start_time": "2022-12-28T17:18:18.587Z"
   },
   {
    "duration": 386,
    "start_time": "2022-12-28T17:18:18.839Z"
   },
   {
    "duration": 242,
    "start_time": "2022-12-28T17:18:19.227Z"
   },
   {
    "duration": 322,
    "start_time": "2022-12-28T17:18:19.472Z"
   },
   {
    "duration": 12,
    "start_time": "2022-12-28T17:18:19.795Z"
   },
   {
    "duration": 148,
    "start_time": "2022-12-28T17:18:19.809Z"
   },
   {
    "duration": 5,
    "start_time": "2022-12-28T17:18:19.958Z"
   },
   {
    "duration": 177,
    "start_time": "2022-12-28T17:18:19.964Z"
   },
   {
    "duration": 165,
    "start_time": "2022-12-28T17:18:20.144Z"
   },
   {
    "duration": 4,
    "start_time": "2022-12-28T17:18:20.312Z"
   },
   {
    "duration": 224,
    "start_time": "2022-12-28T17:18:20.318Z"
   },
   {
    "duration": 4,
    "start_time": "2022-12-28T17:18:20.544Z"
   },
   {
    "duration": 176,
    "start_time": "2022-12-28T17:18:20.550Z"
   },
   {
    "duration": 10,
    "start_time": "2022-12-28T17:18:20.728Z"
   },
   {
    "duration": 10,
    "start_time": "2022-12-28T17:18:20.740Z"
   },
   {
    "duration": 17,
    "start_time": "2022-12-28T17:18:20.751Z"
   },
   {
    "duration": 29,
    "start_time": "2022-12-28T17:18:20.777Z"
   },
   {
    "duration": 14,
    "start_time": "2022-12-28T17:18:20.807Z"
   },
   {
    "duration": 25,
    "start_time": "2022-12-28T17:19:12.861Z"
   }
  ],
  "kernelspec": {
   "display_name": "Python 3 (ipykernel)",
   "language": "python",
   "name": "python3"
  },
  "language_info": {
   "codemirror_mode": {
    "name": "ipython",
    "version": 3
   },
   "file_extension": ".py",
   "mimetype": "text/x-python",
   "name": "python",
   "nbconvert_exporter": "python",
   "pygments_lexer": "ipython3",
   "version": "3.9.12"
  },
  "toc": {
   "base_numbering": 1,
   "nav_menu": {},
   "number_sections": true,
   "sideBar": true,
   "skip_h1_title": true,
   "title_cell": "Table of Contents",
   "title_sidebar": "Contents",
   "toc_cell": false,
   "toc_position": {},
   "toc_section_display": true,
   "toc_window_display": true
  }
 },
 "nbformat": 4,
 "nbformat_minor": 2
}
