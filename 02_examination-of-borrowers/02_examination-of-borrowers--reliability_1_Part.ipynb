{
 "cells": [
  {
   "cell_type": "markdown",
   "id": "02a91767",
   "metadata": {
    "id": "c81daeeb"
   },
   "source": [
    "# Исследование надежности заемщиков"
   ]
  },
  {
   "cell_type": "markdown",
   "id": "0188348a",
   "metadata": {
    "id": "744d7639"
   },
   "source": [
    "## Откроем таблицу и изучим общую информацию о данных"
   ]
  },
  {
   "cell_type": "code",
   "execution_count": 1,
   "id": "9c56c7c4",
   "metadata": {
    "id": "7bcf75c9"
   },
   "outputs": [],
   "source": [
    "import pandas as pd # импортируем библиотеку pandas"
   ]
  },
  {
   "cell_type": "code",
   "execution_count": 2,
   "id": "28426736",
   "metadata": {
    "id": "4d240ee2"
   },
   "outputs": [],
   "source": [
    "data = pd.read_csv('/datasets/data.csv') # прочитаем csv-файл"
   ]
  },
  {
   "cell_type": "code",
   "execution_count": 3,
   "id": "5880bdf5",
   "metadata": {
    "id": "2a7cab99"
   },
   "outputs": [
    {
     "name": "stdout",
     "output_type": "stream",
     "text": [
      "    children  days_employed  dob_years            education  education_id  \\\n",
      "0          1   -8437.673028         42               высшее             0   \n",
      "1          1   -4024.803754         36              среднее             1   \n",
      "2          0   -5623.422610         33              Среднее             1   \n",
      "3          3   -4124.747207         32              среднее             1   \n",
      "4          0  340266.072047         53              среднее             1   \n",
      "5          0    -926.185831         27               высшее             0   \n",
      "6          0   -2879.202052         43               высшее             0   \n",
      "7          0    -152.779569         50              СРЕДНЕЕ             1   \n",
      "8          2   -6929.865299         35               ВЫСШЕЕ             0   \n",
      "9          0   -2188.756445         41              среднее             1   \n",
      "10         2   -4171.483647         36               высшее             0   \n",
      "11         0    -792.701887         40              среднее             1   \n",
      "12         0            NaN         65              среднее             1   \n",
      "13         0   -1846.641941         54  неоконченное высшее             2   \n",
      "14         0   -1844.956182         56               высшее             0   \n",
      "15         1    -972.364419         26              среднее             1   \n",
      "16         0   -1719.934226         35              среднее             1   \n",
      "17         0   -2369.999720         33               высшее             0   \n",
      "18         0  400281.136913         53              среднее             1   \n",
      "19         0  -10038.818549         48              СРЕДНЕЕ             1   \n",
      "\n",
      "       family_status  family_status_id gender income_type  debt  \\\n",
      "0    женат / замужем                 0      F   сотрудник     0   \n",
      "1    женат / замужем                 0      F   сотрудник     0   \n",
      "2    женат / замужем                 0      M   сотрудник     0   \n",
      "3    женат / замужем                 0      M   сотрудник     0   \n",
      "4   гражданский брак                 1      F   пенсионер     0   \n",
      "5   гражданский брак                 1      M   компаньон     0   \n",
      "6    женат / замужем                 0      F   компаньон     0   \n",
      "7    женат / замужем                 0      M   сотрудник     0   \n",
      "8   гражданский брак                 1      F   сотрудник     0   \n",
      "9    женат / замужем                 0      M   сотрудник     0   \n",
      "10   женат / замужем                 0      M   компаньон     0   \n",
      "11   женат / замужем                 0      F   сотрудник     0   \n",
      "12  гражданский брак                 1      M   пенсионер     0   \n",
      "13   женат / замужем                 0      F   сотрудник     0   \n",
      "14  гражданский брак                 1      F   компаньон     1   \n",
      "15   женат / замужем                 0      F   сотрудник     0   \n",
      "16   женат / замужем                 0      F   сотрудник     0   \n",
      "17  гражданский брак                 1      M   сотрудник     0   \n",
      "18    вдовец / вдова                 2      F   пенсионер     0   \n",
      "19         в разводе                 3      F   сотрудник     0   \n",
      "\n",
      "     total_income                                 purpose  \n",
      "0   253875.639453                           покупка жилья  \n",
      "1   112080.014102                 приобретение автомобиля  \n",
      "2   145885.952297                           покупка жилья  \n",
      "3   267628.550329              дополнительное образование  \n",
      "4   158616.077870                         сыграть свадьбу  \n",
      "5   255763.565419                           покупка жилья  \n",
      "6   240525.971920                       операции с жильем  \n",
      "7   135823.934197                             образование  \n",
      "8    95856.832424                   на проведение свадьбы  \n",
      "9   144425.938277                 покупка жилья для семьи  \n",
      "10  113943.491460                    покупка недвижимости  \n",
      "11   77069.234271       покупка коммерческой недвижимости  \n",
      "12            NaN                         сыграть свадьбу  \n",
      "13  130458.228857                 приобретение автомобиля  \n",
      "14  165127.911772              покупка жилой недвижимости  \n",
      "15  116820.904450  строительство собственной недвижимости  \n",
      "16  289202.704229                            недвижимость  \n",
      "17   90410.586745              строительство недвижимости  \n",
      "18   56823.777243      на покупку подержанного автомобиля  \n",
      "19  242831.107982            на покупку своего автомобиля  \n"
     ]
    }
   ],
   "source": [
    "print(data.head(20))# Выведем первые 20 строчек датафрейма `data` на экран."
   ]
  },
  {
   "cell_type": "code",
   "execution_count": 4,
   "id": "bce7889e",
   "metadata": {
    "id": "2b757bca"
   },
   "outputs": [
    {
     "name": "stdout",
     "output_type": "stream",
     "text": [
      "<class 'pandas.core.frame.DataFrame'>\n",
      "RangeIndex: 21525 entries, 0 to 21524\n",
      "Data columns (total 12 columns):\n",
      " #   Column            Non-Null Count  Dtype  \n",
      "---  ------            --------------  -----  \n",
      " 0   children          21525 non-null  int64  \n",
      " 1   days_employed     19351 non-null  float64\n",
      " 2   dob_years         21525 non-null  int64  \n",
      " 3   education         21525 non-null  object \n",
      " 4   education_id      21525 non-null  int64  \n",
      " 5   family_status     21525 non-null  object \n",
      " 6   family_status_id  21525 non-null  int64  \n",
      " 7   gender            21525 non-null  object \n",
      " 8   income_type       21525 non-null  object \n",
      " 9   debt              21525 non-null  int64  \n",
      " 10  total_income      19351 non-null  float64\n",
      " 11  purpose           21525 non-null  object \n",
      "dtypes: float64(2), int64(5), object(5)\n",
      "memory usage: 2.0+ MB\n"
     ]
    }
   ],
   "source": [
    "data.info() # Выведем основную информацию"
   ]
  },
  {
   "cell_type": "markdown",
   "id": "bda95c1c",
   "metadata": {
    "id": "333ec665"
   },
   "source": [
    "## Предобработка данных"
   ]
  },
  {
   "cell_type": "markdown",
   "id": "60514ffd",
   "metadata": {
    "id": "02d92d53"
   },
   "source": [
    "### Удаление пропусков"
   ]
  },
  {
   "cell_type": "markdown",
   "id": "a8b4e344",
   "metadata": {
    "id": "cd84967c",
    "tags": [
     "start_task"
    ]
   },
   "source": [
    "**Выведем количество пропущенных значений для каждого столбца с ипользованием двух методов.**"
   ]
  },
  {
   "cell_type": "code",
   "execution_count": 5,
   "id": "d91cb779",
   "metadata": {
    "id": "7f9b2309"
   },
   "outputs": [
    {
     "name": "stdout",
     "output_type": "stream",
     "text": [
      "children               0\n",
      "days_employed       2174\n",
      "dob_years              0\n",
      "education              0\n",
      "education_id           0\n",
      "family_status          0\n",
      "family_status_id       0\n",
      "gender                 0\n",
      "income_type            0\n",
      "debt                   0\n",
      "total_income        2174\n",
      "purpose                0\n",
      "dtype: int64\n"
     ]
    }
   ],
   "source": [
    "print(data.isna().sum())"
   ]
  },
  {
   "cell_type": "markdown",
   "id": "5842d017",
   "metadata": {
    "id": "db86e27b",
    "tags": [
     "start_task"
    ]
   },
   "source": [
    "**В двух столбцах есть пропущенные значения. Один из них — `days_employed`. Пропуски в этом столбце обработаем на следующем этапе. Другой столбец с пропущенными значениями — `total_income` — хранит данные о доходах. На сумму дохода сильнее всего влияет тип занятости, поэтому заполним пропуски в этом столбце нужно медианным значением по каждому типу из столбца `income_type`.**"
   ]
  },
  {
   "cell_type": "code",
   "execution_count": 6,
   "id": "4f0a7c9e",
   "metadata": {
    "id": "42006a93"
   },
   "outputs": [
    {
     "name": "stdout",
     "output_type": "stream",
     "text": [
      "children               0\n",
      "days_employed       2174\n",
      "dob_years              0\n",
      "education              0\n",
      "education_id           0\n",
      "family_status          0\n",
      "family_status_id       0\n",
      "gender                 0\n",
      "income_type            0\n",
      "debt                   0\n",
      "total_income           0\n",
      "purpose                0\n",
      "dtype: int64\n"
     ]
    }
   ],
   "source": [
    "# найдем медиану дохода для каждого типа занятости income_type\n",
    "median_total = data.groupby('income_type')['total_income'].median()\n",
    "# print(median_total)\n",
    "# безработный = 131339.751676\n",
    "\n",
    "# циклом пройдемся по уникальным значениям столбца income_type {row = сотрудник, компаньон и т.д.}\n",
    "for row in data['income_type'].unique():\n",
    "    #найдем пропущенное значение в столбце дохода (data['total_income'].isna())\n",
    "    data.loc[(data['total_income'].isna()) & (data['income_type'] == row), 'total_income'] = median_total[row]\n",
    "    #присвоим ему медианное значение дохода соответствущего типа занятости  \n",
    "print(data.isna().sum()) #проверим, сколько осталось отсутствующих значений в столбце total_income\n"
   ]
  },
  {
   "cell_type": "markdown",
   "id": "245f9c22",
   "metadata": {
    "id": "89da5ece"
   },
   "source": [
    "### Обработка аномальных значений"
   ]
  },
  {
   "cell_type": "markdown",
   "id": "af67e069",
   "metadata": {
    "id": "57964554",
    "tags": [
     "start_task"
    ]
   },
   "source": [
    "**В данных могут встречаться артефакты (аномалии) — значения, которые не отражают действительность и появились по какой-то ошибке. Таким артефактом будет отрицательное количество дней трудового стажа в столбце `days_employed`. Для реальных данных это нормально. Обработаем значения в этом столбце: заменим все отрицательные значения положительными с помощью метода `abs()`.**"
   ]
  },
  {
   "cell_type": "code",
   "execution_count": 7,
   "id": "2c2e81e9",
   "metadata": {
    "id": "f6f055bf"
   },
   "outputs": [
    {
     "name": "stdout",
     "output_type": "stream",
     "text": [
      "[8437.67302776 4024.80375385 5623.42261023 ... 2113.3468877  3112.4817052\n",
      " 1984.50758853]\n"
     ]
    }
   ],
   "source": [
    "data['days_employed'] = data['days_employed'].abs()\n",
    "print(data['days_employed'].unique())"
   ]
  },
  {
   "cell_type": "markdown",
   "id": "8390aeba",
   "metadata": {
    "id": "6107dd2f",
    "tags": [
     "start_task"
    ]
   },
   "source": [
    "**Для каждого типа занятости выведем медианное значение трудового стажа `days_employed` в днях.**"
   ]
  },
  {
   "cell_type": "code",
   "execution_count": 8,
   "id": "96ce8a77",
   "metadata": {
    "id": "85a5faf6"
   },
   "outputs": [
    {
     "name": "stdout",
     "output_type": "stream",
     "text": [
      "income_type\n",
      "безработный        366413.652744\n",
      "в декрете            3296.759962\n",
      "госслужащий          2689.368353\n",
      "компаньон            1547.382223\n",
      "пенсионер          365213.306266\n",
      "предприниматель       520.848083\n",
      "сотрудник            1574.202821\n",
      "студент               578.751554\n",
      "Name: days_employed, dtype: float64\n"
     ]
    }
   ],
   "source": [
    "print(data.groupby('income_type')['days_employed'].median())"
   ]
  },
  {
   "cell_type": "markdown",
   "id": "42bcb243",
   "metadata": {
    "id": "38d1a030"
   },
   "source": [
    "У двух типов (безработные и пенсионеры) получатся аномально большие значения. Исправить такие значения сложно, поэтому оставьте их как есть. Тем более этот столбец не понадобится вам для исследования."
   ]
  },
  {
   "cell_type": "markdown",
   "id": "53a25e68",
   "metadata": {
    "id": "d8a9f147",
    "tags": [
     "start_task"
    ]
   },
   "source": [
    "**Выведем перечень уникальных значений столбца `children`.**"
   ]
  },
  {
   "cell_type": "code",
   "execution_count": 9,
   "id": "b3a811c7",
   "metadata": {
    "id": "ef5056eb"
   },
   "outputs": [
    {
     "name": "stdout",
     "output_type": "stream",
     "text": [
      "[ 1  0  3  2 -1  4 20  5]\n"
     ]
    }
   ],
   "source": [
    "print(data['children'].unique())"
   ]
  },
  {
   "cell_type": "markdown",
   "id": "0c91e018",
   "metadata": {
    "id": "40b9ebf2",
    "tags": [
     "start_task"
    ]
   },
   "source": [
    "**В столбце `children` есть два аномальных значения. Удалим строки, в которых встречаются такие аномальные значения из датафрейма `data`.**"
   ]
  },
  {
   "cell_type": "code",
   "execution_count": 10,
   "id": "0df023fe",
   "metadata": {
    "id": "3ff9801d"
   },
   "outputs": [],
   "source": [
    "data = data.loc[(data['children'] != -1) & (data['children'] != 20)]"
   ]
  },
  {
   "cell_type": "markdown",
   "id": "5d32fd18",
   "metadata": {
    "id": "bbc4d0ce",
    "tags": [
     "start_task"
    ]
   },
   "source": [
    "**Ещё раз выведем перечень уникальных значений столбца `children`, чтобы убедиться, что артефакты удалены.**"
   ]
  },
  {
   "cell_type": "code",
   "execution_count": 11,
   "id": "4b14b1f5",
   "metadata": {
    "id": "ad4fa8b7"
   },
   "outputs": [
    {
     "name": "stdout",
     "output_type": "stream",
     "text": [
      "[1 0 3 2 4 5]\n"
     ]
    }
   ],
   "source": [
    "print(data['children'].unique())"
   ]
  },
  {
   "cell_type": "markdown",
   "id": "ff71974a",
   "metadata": {
    "id": "75440b63"
   },
   "source": [
    "### Удаление пропусков (продолжение)"
   ]
  },
  {
   "cell_type": "markdown",
   "id": "88bb841a",
   "metadata": {
    "id": "f4ea573f",
    "tags": [
     "start_task"
    ]
   },
   "source": [
    "**Заполним пропуски в столбце `days_employed` медианными значениями по каждому типу занятости `income_type`.**"
   ]
  },
  {
   "cell_type": "code",
   "execution_count": 12,
   "id": "d9d46c49",
   "metadata": {
    "id": "af6b1a7e"
   },
   "outputs": [
    {
     "name": "stdout",
     "output_type": "stream",
     "text": [
      "children            0\n",
      "days_employed       0\n",
      "dob_years           0\n",
      "education           0\n",
      "education_id        0\n",
      "family_status       0\n",
      "family_status_id    0\n",
      "gender              0\n",
      "income_type         0\n",
      "debt                0\n",
      "total_income        0\n",
      "purpose             0\n",
      "dtype: int64\n"
     ]
    }
   ],
   "source": [
    "# найдем медиану days_employed для каждого типа занятости income_type\n",
    "median_days_employed = data.groupby('income_type')['days_employed'].median()\n",
    "# print(median_days_employed)\n",
    "# безработный = 366413.652744 income_type\n",
    "\n",
    "# циклом пройдемся по уникальным значениям столбца days_employed \n",
    "for index in data['income_type'].unique():\n",
    "    #найдем пропущенное значение в столбце days_employed\n",
    "    data.loc[(data['days_employed'].isna()) & (data['income_type'] == index), 'days_employed'] = median_days_employed[index]\n",
    "    #присвоим ему медианное значение дохода соответствущего типа занятости  \n",
    "print(data.isna().sum()) #проверим, сколько осталось отсутствующих значений в столбце days_employed\n",
    "\n"
   ]
  },
  {
   "cell_type": "markdown",
   "id": "f3da0566",
   "metadata": {
    "id": "2753f40d",
    "tags": [
     "start_task"
    ]
   },
   "source": [
    "**Убедимся, что все пропуски заполнены. Ещё раз выведем количество пропущенных значений для каждого столбца с помощью двух методов.**"
   ]
  },
  {
   "cell_type": "code",
   "execution_count": 13,
   "id": "5a443995",
   "metadata": {
    "id": "55f78bc2"
   },
   "outputs": [
    {
     "name": "stdout",
     "output_type": "stream",
     "text": [
      "0\n"
     ]
    }
   ],
   "source": [
    "print(data['days_employed'].isna().sum())"
   ]
  },
  {
   "cell_type": "markdown",
   "id": "3fa4392b",
   "metadata": {
    "id": "ddc81e43"
   },
   "source": [
    "### Изменение типов данных"
   ]
  },
  {
   "cell_type": "markdown",
   "id": "e8c07d24",
   "metadata": {
    "id": "42d19d24",
    "tags": [
     "start_task"
    ]
   },
   "source": [
    "**Заменим вещественный тип данных в столбце `total_income` на целочисленный с помощью метода `astype()`.**"
   ]
  },
  {
   "cell_type": "code",
   "execution_count": 14,
   "id": "271eccfa",
   "metadata": {
    "id": "920b65ad"
   },
   "outputs": [],
   "source": [
    "data['total_income']= data['total_income'].astype(int)"
   ]
  },
  {
   "cell_type": "markdown",
   "id": "fdd96381",
   "metadata": {
    "id": "80c420ba"
   },
   "source": [
    "### Обработка дубликатов"
   ]
  },
  {
   "cell_type": "markdown",
   "id": "afbe521c",
   "metadata": {
    "tags": [
     "start_task"
    ]
   },
   "source": [
    "**Обработаем неявные дубликаты в столбце `education`. В этом столбце есть одни и те же значения, но записанные по-разному: с использованием заглавных и строчных букв. Приведем их к нижнему регистру.**"
   ]
  },
  {
   "cell_type": "code",
   "execution_count": 15,
   "id": "721e31c6",
   "metadata": {},
   "outputs": [],
   "source": [
    "data['education']=data['education'].str.lower()"
   ]
  },
  {
   "cell_type": "markdown",
   "id": "ef04d9a0",
   "metadata": {
    "id": "dc587695",
    "tags": [
     "start_task"
    ]
   },
   "source": [
    "**Выведем на экран количество строк-дубликатов в данных.**"
   ]
  },
  {
   "cell_type": "code",
   "execution_count": 16,
   "id": "8f6e4421",
   "metadata": {
    "id": "3ee445e4"
   },
   "outputs": [
    {
     "name": "stdout",
     "output_type": "stream",
     "text": [
      "71\n"
     ]
    }
   ],
   "source": [
    "# посчитаем дубликаты\n",
    "print(data.duplicated().sum())"
   ]
  },
  {
   "cell_type": "code",
   "execution_count": 17,
   "id": "c28530f1",
   "metadata": {
    "id": "8575fe05"
   },
   "outputs": [],
   "source": [
    "# удалим дубликаты\n",
    "data = data.drop_duplicates()"
   ]
  },
  {
   "cell_type": "markdown",
   "id": "5a83641d",
   "metadata": {
    "id": "9904cf55"
   },
   "source": [
    "### Категоризация данных"
   ]
  },
  {
   "cell_type": "markdown",
   "id": "6f5b86ab",
   "metadata": {
    "id": "72fcc8a2",
    "tags": [
     "start_task"
    ]
   },
   "source": [
    "**На основании диапазонов, указанных ниже, создадим в датафрейме `data` столбец `total_income_category` с категориями:**\n",
    "\n",
    "- 0–30000 — `'E'`;\n",
    "- 30001–50000 — `'D'`;\n",
    "- 50001–200000 — `'C'`;\n",
    "- 200001–1000000 — `'B'`;\n",
    "- 1000001 и выше — `'A'`.\n",
    "\n",
    "\n",
    "**Пример: кредитополучателю с доходом 25000 нужно назначить категорию `'E'`, а клиенту, получающему 235000, — `'B'`.**"
   ]
  },
  {
   "cell_type": "code",
   "execution_count": 18,
   "id": "858dd9df",
   "metadata": {
    "id": "e1771346"
   },
   "outputs": [],
   "source": [
    "# создаем функцию categorize_income()\n",
    "def categorize_income(index):\n",
    "    if 0<= index <= 30000:\n",
    "        return 'E'\n",
    "    if 30000 <= index <= 50000:\n",
    "        return 'D'\n",
    "    if 50001 <= index <= 200000:\n",
    "        return 'C'    \n",
    "    if 200001 <= index <= 1000000:\n",
    "        return 'B'\n",
    "    if 1000001 <= index:\n",
    "        return 'A'"
   ]
  },
  {
   "cell_type": "code",
   "execution_count": 19,
   "id": "b4ace541",
   "metadata": {
    "id": "d5f3586d"
   },
   "outputs": [],
   "source": [
    "# применим функцию методом apply()\n",
    "data['total_income_category'] = data['total_income'].apply(categorize_income)"
   ]
  },
  {
   "cell_type": "markdown",
   "id": "3f3fa061",
   "metadata": {
    "id": "dde49b5c",
    "tags": [
     "start_task"
    ]
   },
   "source": [
    "**Выведем на экран перечень уникальных целей взятия кредита из столбца `purpose`.**"
   ]
  },
  {
   "cell_type": "code",
   "execution_count": 20,
   "id": "1d7616ca",
   "metadata": {
    "id": "f67ce9b3"
   },
   "outputs": [
    {
     "name": "stdout",
     "output_type": "stream",
     "text": [
      "['покупка жилья' 'приобретение автомобиля' 'дополнительное образование'\n",
      " 'сыграть свадьбу' 'операции с жильем' 'образование'\n",
      " 'на проведение свадьбы' 'покупка жилья для семьи' 'покупка недвижимости'\n",
      " 'покупка коммерческой недвижимости' 'покупка жилой недвижимости'\n",
      " 'строительство собственной недвижимости' 'недвижимость'\n",
      " 'строительство недвижимости' 'на покупку подержанного автомобиля'\n",
      " 'на покупку своего автомобиля' 'операции с коммерческой недвижимостью'\n",
      " 'строительство жилой недвижимости' 'жилье'\n",
      " 'операции со своей недвижимостью' 'автомобили' 'заняться образованием'\n",
      " 'сделка с подержанным автомобилем' 'получение образования' 'автомобиль'\n",
      " 'свадьба' 'получение дополнительного образования' 'покупка своего жилья'\n",
      " 'операции с недвижимостью' 'получение высшего образования'\n",
      " 'свой автомобиль' 'сделка с автомобилем' 'профильное образование'\n",
      " 'высшее образование' 'покупка жилья для сдачи' 'на покупку автомобиля'\n",
      " 'ремонт жилью' 'заняться высшим образованием']\n"
     ]
    }
   ],
   "source": [
    "print(data['purpose'].unique()) "
   ]
  },
  {
   "cell_type": "markdown",
   "id": "8c6f5e17",
   "metadata": {
    "id": "85d0aef0",
    "tags": [
     "start_task"
    ]
   },
   "source": [
    "**Создадим функцию `categorize_purpose()`, которая на основании данных из столбца `purpose` сформирует новый столбец `purpose_category`, в который войдут следующие категории:**\n",
    "\n",
    "- `'операции с автомобилем'`,\n",
    "- `'операции с недвижимостью'`,\n",
    "- `'проведение свадьбы'`,\n",
    "- `'получение образования'`.\n",
    "\n",
    "**Пример: если в столбце `purpose` находится подстрока `'на покупку автомобиля'`, то в столбце `purpose_category` должна появиться строка `'операции с автомобилем'`.**"
   ]
  },
  {
   "cell_type": "code",
   "execution_count": 21,
   "id": "a9741f8c",
   "metadata": {
    "id": "e149fab4"
   },
   "outputs": [],
   "source": [
    "# создайте функцию categorize_purpose()\n",
    "# на вход подается столбец со строками \n",
    "def categorize_purpose(index):    \n",
    "    if 'авто' in index:\n",
    "        return 'операции с автомобилем'\n",
    "    if  'недвиж' in index or 'жил' in index:\n",
    "        return 'операции с недвижимостью'\n",
    "    if 'свад' in index:\n",
    "        return 'проведение свадьбы'\n",
    "    if 'образ' in index:\n",
    "        return 'получение образования'   \n"
   ]
  },
  {
   "cell_type": "code",
   "execution_count": 22,
   "id": "612a7203",
   "metadata": {
    "id": "bf36e69b"
   },
   "outputs": [
    {
     "name": "stdout",
     "output_type": "stream",
     "text": [
      "    children  days_employed  dob_years            education  education_id  \\\n",
      "0          1    8437.673028         42               высшее             0   \n",
      "1          1    4024.803754         36              среднее             1   \n",
      "2          0    5623.422610         33              среднее             1   \n",
      "3          3    4124.747207         32              среднее             1   \n",
      "4          0  340266.072047         53              среднее             1   \n",
      "5          0     926.185831         27               высшее             0   \n",
      "6          0    2879.202052         43               высшее             0   \n",
      "7          0     152.779569         50              среднее             1   \n",
      "8          2    6929.865299         35               высшее             0   \n",
      "9          0    2188.756445         41              среднее             1   \n",
      "10         2    4171.483647         36               высшее             0   \n",
      "11         0     792.701887         40              среднее             1   \n",
      "12         0  365286.622650         65              среднее             1   \n",
      "13         0    1846.641941         54  неоконченное высшее             2   \n",
      "14         0    1844.956182         56               высшее             0   \n",
      "15         1     972.364419         26              среднее             1   \n",
      "16         0    1719.934226         35              среднее             1   \n",
      "17         0    2369.999720         33               высшее             0   \n",
      "18         0  400281.136913         53              среднее             1   \n",
      "19         0   10038.818549         48              среднее             1   \n",
      "\n",
      "       family_status  family_status_id gender income_type  debt  total_income  \\\n",
      "0    женат / замужем                 0      F   сотрудник     0        253875   \n",
      "1    женат / замужем                 0      F   сотрудник     0        112080   \n",
      "2    женат / замужем                 0      M   сотрудник     0        145885   \n",
      "3    женат / замужем                 0      M   сотрудник     0        267628   \n",
      "4   гражданский брак                 1      F   пенсионер     0        158616   \n",
      "5   гражданский брак                 1      M   компаньон     0        255763   \n",
      "6    женат / замужем                 0      F   компаньон     0        240525   \n",
      "7    женат / замужем                 0      M   сотрудник     0        135823   \n",
      "8   гражданский брак                 1      F   сотрудник     0         95856   \n",
      "9    женат / замужем                 0      M   сотрудник     0        144425   \n",
      "10   женат / замужем                 0      M   компаньон     0        113943   \n",
      "11   женат / замужем                 0      F   сотрудник     0         77069   \n",
      "12  гражданский брак                 1      M   пенсионер     0        118514   \n",
      "13   женат / замужем                 0      F   сотрудник     0        130458   \n",
      "14  гражданский брак                 1      F   компаньон     1        165127   \n",
      "15   женат / замужем                 0      F   сотрудник     0        116820   \n",
      "16   женат / замужем                 0      F   сотрудник     0        289202   \n",
      "17  гражданский брак                 1      M   сотрудник     0         90410   \n",
      "18    вдовец / вдова                 2      F   пенсионер     0         56823   \n",
      "19         в разводе                 3      F   сотрудник     0        242831   \n",
      "\n",
      "                                   purpose total_income_category  \\\n",
      "0                            покупка жилья                     B   \n",
      "1                  приобретение автомобиля                     C   \n",
      "2                            покупка жилья                     C   \n",
      "3               дополнительное образование                     B   \n",
      "4                          сыграть свадьбу                     C   \n",
      "5                            покупка жилья                     B   \n",
      "6                        операции с жильем                     B   \n",
      "7                              образование                     C   \n",
      "8                    на проведение свадьбы                     C   \n",
      "9                  покупка жилья для семьи                     C   \n",
      "10                    покупка недвижимости                     C   \n",
      "11       покупка коммерческой недвижимости                     C   \n",
      "12                         сыграть свадьбу                     C   \n",
      "13                 приобретение автомобиля                     C   \n",
      "14              покупка жилой недвижимости                     C   \n",
      "15  строительство собственной недвижимости                     C   \n",
      "16                            недвижимость                     B   \n",
      "17              строительство недвижимости                     C   \n",
      "18      на покупку подержанного автомобиля                     C   \n",
      "19            на покупку своего автомобиля                     B   \n",
      "\n",
      "            purpose_category  \n",
      "0   операции с недвижимостью  \n",
      "1     операции с автомобилем  \n",
      "2   операции с недвижимостью  \n",
      "3      получение образования  \n",
      "4         проведение свадьбы  \n",
      "5   операции с недвижимостью  \n",
      "6   операции с недвижимостью  \n",
      "7      получение образования  \n",
      "8         проведение свадьбы  \n",
      "9   операции с недвижимостью  \n",
      "10  операции с недвижимостью  \n",
      "11  операции с недвижимостью  \n",
      "12        проведение свадьбы  \n",
      "13    операции с автомобилем  \n",
      "14  операции с недвижимостью  \n",
      "15  операции с недвижимостью  \n",
      "16  операции с недвижимостью  \n",
      "17  операции с недвижимостью  \n",
      "18    операции с автомобилем  \n",
      "19    операции с автомобилем  \n"
     ]
    }
   ],
   "source": [
    "# примените функцию методом apply()\n",
    "data['purpose_category'] = data['purpose'].apply(categorize_purpose)\n",
    "\n",
    "print(data.head(20))"
   ]
  },
  {
   "cell_type": "code",
   "execution_count": null,
   "id": "689d76ad",
   "metadata": {},
   "outputs": [],
   "source": []
  }
 ],
 "metadata": {
  "ExecuteTimeLog": [
   {
    "duration": 407,
    "start_time": "2022-09-12T02:58:52.524Z"
   },
   {
    "duration": 299,
    "start_time": "2022-09-12T02:58:53.598Z"
   },
   {
    "duration": 11,
    "start_time": "2022-09-12T02:58:56.676Z"
   },
   {
    "duration": 16,
    "start_time": "2022-09-12T03:06:30.104Z"
   },
   {
    "duration": 14,
    "start_time": "2022-09-12T03:06:48.145Z"
   },
   {
    "duration": 36,
    "start_time": "2022-09-12T03:17:47.445Z"
   },
   {
    "duration": 4,
    "start_time": "2022-09-12T03:18:16.505Z"
   },
   {
    "duration": 16,
    "start_time": "2022-09-12T03:20:29.096Z"
   },
   {
    "duration": 27,
    "start_time": "2022-09-12T03:27:16.405Z"
   },
   {
    "duration": 13,
    "start_time": "2022-09-12T03:35:44.685Z"
   },
   {
    "duration": 10,
    "start_time": "2022-09-12T03:37:07.485Z"
   },
   {
    "duration": 43,
    "start_time": "2022-09-12T06:44:20.567Z"
   },
   {
    "duration": 372,
    "start_time": "2022-09-12T06:44:29.305Z"
   },
   {
    "duration": 284,
    "start_time": "2022-09-12T06:44:29.679Z"
   },
   {
    "duration": 11,
    "start_time": "2022-09-12T06:44:29.964Z"
   },
   {
    "duration": 40,
    "start_time": "2022-09-12T06:44:29.977Z"
   },
   {
    "duration": 13,
    "start_time": "2022-09-12T06:44:30.020Z"
   },
   {
    "duration": 26,
    "start_time": "2022-09-12T06:44:30.035Z"
   },
   {
    "duration": 21,
    "start_time": "2022-09-12T06:44:30.063Z"
   },
   {
    "duration": 22,
    "start_time": "2022-09-12T06:44:30.085Z"
   },
   {
    "duration": 21,
    "start_time": "2022-09-12T06:44:30.109Z"
   },
   {
    "duration": 26,
    "start_time": "2022-09-12T06:44:30.132Z"
   },
   {
    "duration": 48,
    "start_time": "2022-09-12T06:44:30.160Z"
   },
   {
    "duration": 27,
    "start_time": "2022-09-12T06:44:30.210Z"
   },
   {
    "duration": 23,
    "start_time": "2022-09-12T06:44:30.238Z"
   },
   {
    "duration": 25,
    "start_time": "2022-09-12T06:44:30.263Z"
   },
   {
    "duration": 37,
    "start_time": "2022-09-12T06:44:30.290Z"
   },
   {
    "duration": 23,
    "start_time": "2022-09-12T06:44:30.329Z"
   },
   {
    "duration": 23,
    "start_time": "2022-09-12T06:44:30.354Z"
   },
   {
    "duration": 25,
    "start_time": "2022-09-12T06:44:30.378Z"
   },
   {
    "duration": 13,
    "start_time": "2022-09-12T06:44:30.404Z"
   },
   {
    "duration": 19,
    "start_time": "2022-09-12T06:44:30.419Z"
   },
   {
    "duration": 25,
    "start_time": "2022-09-12T06:44:30.440Z"
   },
   {
    "duration": 21,
    "start_time": "2022-09-12T06:44:30.466Z"
   },
   {
    "duration": 48,
    "start_time": "2022-09-12T06:51:14.807Z"
   },
   {
    "duration": 25,
    "start_time": "2022-09-12T06:51:55.407Z"
   },
   {
    "duration": 27,
    "start_time": "2022-09-12T06:52:44.906Z"
   },
   {
    "duration": 29,
    "start_time": "2022-09-12T06:55:33.738Z"
   },
   {
    "duration": 28,
    "start_time": "2022-09-12T06:56:56.174Z"
   },
   {
    "duration": 5,
    "start_time": "2022-09-12T07:05:46.499Z"
   },
   {
    "duration": 6,
    "start_time": "2022-09-12T07:06:15.585Z"
   },
   {
    "duration": 5,
    "start_time": "2022-09-12T07:06:26.184Z"
   },
   {
    "duration": 4,
    "start_time": "2022-09-12T07:28:27.690Z"
   },
   {
    "duration": 10,
    "start_time": "2022-09-12T07:31:00.850Z"
   },
   {
    "duration": 6,
    "start_time": "2022-09-12T07:31:46.510Z"
   },
   {
    "duration": 3,
    "start_time": "2022-09-12T07:35:04.308Z"
   },
   {
    "duration": 8,
    "start_time": "2022-09-12T07:38:16.330Z"
   },
   {
    "duration": 4,
    "start_time": "2022-09-12T07:40:32.874Z"
   },
   {
    "duration": 62,
    "start_time": "2022-09-12T07:43:07.114Z"
   },
   {
    "duration": 9,
    "start_time": "2022-09-12T07:43:14.147Z"
   },
   {
    "duration": 2407,
    "start_time": "2022-09-12T07:47:14.474Z"
   },
   {
    "duration": 423,
    "start_time": "2022-09-12T07:52:16.855Z"
   },
   {
    "duration": 73,
    "start_time": "2022-09-12T07:52:17.280Z"
   },
   {
    "duration": 10,
    "start_time": "2022-09-12T07:52:17.354Z"
   },
   {
    "duration": 19,
    "start_time": "2022-09-12T07:52:17.365Z"
   },
   {
    "duration": 11,
    "start_time": "2022-09-12T07:52:17.387Z"
   },
   {
    "duration": 44,
    "start_time": "2022-09-12T07:52:17.400Z"
   },
   {
    "duration": 9,
    "start_time": "2022-09-12T07:52:17.445Z"
   },
   {
    "duration": 29,
    "start_time": "2022-09-12T07:52:17.455Z"
   },
   {
    "duration": 4,
    "start_time": "2022-09-12T07:52:17.486Z"
   },
   {
    "duration": 9,
    "start_time": "2022-09-12T07:52:17.491Z"
   },
   {
    "duration": 7,
    "start_time": "2022-09-12T07:52:17.501Z"
   },
   {
    "duration": 864,
    "start_time": "2022-09-12T07:52:17.509Z"
   },
   {
    "duration": 0,
    "start_time": "2022-09-12T07:52:18.375Z"
   },
   {
    "duration": 0,
    "start_time": "2022-09-12T07:52:18.377Z"
   },
   {
    "duration": 0,
    "start_time": "2022-09-12T07:52:18.378Z"
   },
   {
    "duration": 0,
    "start_time": "2022-09-12T07:52:18.379Z"
   },
   {
    "duration": 0,
    "start_time": "2022-09-12T07:52:18.380Z"
   },
   {
    "duration": 0,
    "start_time": "2022-09-12T07:52:18.381Z"
   },
   {
    "duration": 0,
    "start_time": "2022-09-12T07:52:18.382Z"
   },
   {
    "duration": 0,
    "start_time": "2022-09-12T07:52:18.383Z"
   },
   {
    "duration": 0,
    "start_time": "2022-09-12T07:52:18.384Z"
   },
   {
    "duration": 0,
    "start_time": "2022-09-12T07:52:18.385Z"
   },
   {
    "duration": 1604,
    "start_time": "2022-09-12T08:05:44.636Z"
   },
   {
    "duration": 1537,
    "start_time": "2022-09-12T08:10:12.987Z"
   },
   {
    "duration": 933,
    "start_time": "2022-09-12T08:11:04.047Z"
   },
   {
    "duration": 1695,
    "start_time": "2022-09-12T08:14:02.367Z"
   },
   {
    "duration": 42,
    "start_time": "2022-09-12T08:14:41.006Z"
   },
   {
    "duration": 162,
    "start_time": "2022-09-12T08:14:54.766Z"
   },
   {
    "duration": 383,
    "start_time": "2022-09-12T08:16:06.387Z"
   },
   {
    "duration": 77,
    "start_time": "2022-09-12T08:16:06.777Z"
   },
   {
    "duration": 13,
    "start_time": "2022-09-12T08:16:06.856Z"
   },
   {
    "duration": 16,
    "start_time": "2022-09-12T08:16:06.870Z"
   },
   {
    "duration": 8,
    "start_time": "2022-09-12T08:16:06.888Z"
   },
   {
    "duration": 36,
    "start_time": "2022-09-12T08:16:06.897Z"
   },
   {
    "duration": 8,
    "start_time": "2022-09-12T08:16:06.935Z"
   },
   {
    "duration": 32,
    "start_time": "2022-09-12T08:16:06.945Z"
   },
   {
    "duration": 4,
    "start_time": "2022-09-12T08:16:06.979Z"
   },
   {
    "duration": 45,
    "start_time": "2022-09-12T08:16:06.985Z"
   },
   {
    "duration": 7,
    "start_time": "2022-09-12T08:16:07.032Z"
   },
   {
    "duration": 29,
    "start_time": "2022-09-12T08:16:07.042Z"
   },
   {
    "duration": 4,
    "start_time": "2022-09-12T08:16:07.074Z"
   },
   {
    "duration": 10,
    "start_time": "2022-09-12T08:16:07.082Z"
   },
   {
    "duration": 7,
    "start_time": "2022-09-12T08:16:07.094Z"
   },
   {
    "duration": 9,
    "start_time": "2022-09-12T08:16:07.102Z"
   },
   {
    "duration": 9,
    "start_time": "2022-09-12T08:16:07.114Z"
   },
   {
    "duration": 4,
    "start_time": "2022-09-12T08:16:07.125Z"
   },
   {
    "duration": 5,
    "start_time": "2022-09-12T08:16:07.131Z"
   },
   {
    "duration": 6,
    "start_time": "2022-09-12T08:16:07.137Z"
   },
   {
    "duration": 5,
    "start_time": "2022-09-12T08:16:07.144Z"
   },
   {
    "duration": 5,
    "start_time": "2022-09-12T08:16:07.150Z"
   },
   {
    "duration": 3,
    "start_time": "2022-09-12T08:19:23.090Z"
   },
   {
    "duration": 25,
    "start_time": "2022-09-12T08:26:26.539Z"
   },
   {
    "duration": 20,
    "start_time": "2022-09-12T08:27:23.840Z"
   },
   {
    "duration": 70,
    "start_time": "2022-09-12T08:29:36.077Z"
   },
   {
    "duration": 15,
    "start_time": "2022-09-12T08:30:22.566Z"
   },
   {
    "duration": 40,
    "start_time": "2022-09-12T08:31:49.151Z"
   },
   {
    "duration": 16,
    "start_time": "2022-09-12T08:33:17.410Z"
   },
   {
    "duration": 18,
    "start_time": "2022-09-12T08:34:35.491Z"
   },
   {
    "duration": 59,
    "start_time": "2022-09-12T08:57:34.577Z"
   },
   {
    "duration": 3,
    "start_time": "2022-09-12T08:57:53.722Z"
   },
   {
    "duration": 15,
    "start_time": "2022-09-12T09:01:52.949Z"
   },
   {
    "duration": 4,
    "start_time": "2022-09-12T09:04:38.296Z"
   },
   {
    "duration": 4,
    "start_time": "2022-09-12T09:43:31.184Z"
   },
   {
    "duration": 8,
    "start_time": "2022-09-12T09:43:33.827Z"
   },
   {
    "duration": 23,
    "start_time": "2022-09-12T09:46:45.405Z"
   },
   {
    "duration": 4,
    "start_time": "2022-09-12T10:07:29.765Z"
   },
   {
    "duration": 16,
    "start_time": "2022-09-12T10:07:34.305Z"
   },
   {
    "duration": 14,
    "start_time": "2022-09-12T10:11:27.133Z"
   },
   {
    "duration": 384,
    "start_time": "2022-09-12T10:11:42.202Z"
   },
   {
    "duration": 73,
    "start_time": "2022-09-12T10:11:42.588Z"
   },
   {
    "duration": 12,
    "start_time": "2022-09-12T10:11:42.662Z"
   },
   {
    "duration": 27,
    "start_time": "2022-09-12T10:11:42.676Z"
   },
   {
    "duration": 12,
    "start_time": "2022-09-12T10:11:42.707Z"
   },
   {
    "duration": 37,
    "start_time": "2022-09-12T10:11:42.721Z"
   },
   {
    "duration": 20,
    "start_time": "2022-09-12T10:11:42.760Z"
   },
   {
    "duration": 10,
    "start_time": "2022-09-12T10:11:42.782Z"
   },
   {
    "duration": 18,
    "start_time": "2022-09-12T10:11:42.794Z"
   },
   {
    "duration": 16,
    "start_time": "2022-09-12T10:11:42.813Z"
   },
   {
    "duration": 8,
    "start_time": "2022-09-12T10:11:42.830Z"
   },
   {
    "duration": 40,
    "start_time": "2022-09-12T10:11:42.839Z"
   },
   {
    "duration": 4,
    "start_time": "2022-09-12T10:11:42.881Z"
   },
   {
    "duration": 13,
    "start_time": "2022-09-12T10:11:42.888Z"
   },
   {
    "duration": 24,
    "start_time": "2022-09-12T10:11:42.902Z"
   },
   {
    "duration": 32,
    "start_time": "2022-09-12T10:11:42.929Z"
   },
   {
    "duration": 33,
    "start_time": "2022-09-12T10:11:42.963Z"
   },
   {
    "duration": 4,
    "start_time": "2022-09-12T10:11:42.998Z"
   },
   {
    "duration": 21,
    "start_time": "2022-09-12T10:11:43.004Z"
   },
   {
    "duration": 7,
    "start_time": "2022-09-12T10:11:43.027Z"
   },
   {
    "duration": 4,
    "start_time": "2022-09-12T10:11:43.036Z"
   },
   {
    "duration": 19,
    "start_time": "2022-09-12T10:11:43.041Z"
   }
  ],
  "colab": {
   "name": "dpp_template_part1.ipynb",
   "provenance": []
  },
  "kernelspec": {
   "display_name": "Python 3 (ipykernel)",
   "language": "python",
   "name": "python3"
  },
  "language_info": {
   "codemirror_mode": {
    "name": "ipython",
    "version": 3
   },
   "file_extension": ".py",
   "mimetype": "text/x-python",
   "name": "python",
   "nbconvert_exporter": "python",
   "pygments_lexer": "ipython3",
   "version": "3.9.12"
  },
  "toc": {
   "base_numbering": 1,
   "nav_menu": {},
   "number_sections": true,
   "sideBar": true,
   "skip_h1_title": true,
   "title_cell": "Table of Contents",
   "title_sidebar": "Contents",
   "toc_cell": false,
   "toc_position": {},
   "toc_section_display": true,
   "toc_window_display": false
  }
 },
 "nbformat": 4,
 "nbformat_minor": 5
}
