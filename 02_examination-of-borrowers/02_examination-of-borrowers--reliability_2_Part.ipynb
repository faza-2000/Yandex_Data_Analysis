{
 "cells": [
  {
   "cell_type": "markdown",
   "id": "84c30ca4",
   "metadata": {
    "id": "c81daeeb"
   },
   "source": [
    "# Исследование надежности заемщиков\n"
   ]
  },
  {
   "cell_type": "markdown",
   "id": "0af55eb6",
   "metadata": {
    "id": "744d7639"
   },
   "source": [
    "## Откроем таблицу и изучим общую информацию о данных"
   ]
  },
  {
   "cell_type": "markdown",
   "id": "7c76be94",
   "metadata": {
    "id": "e7a14c31"
   },
   "source": [
    "**Импортируем библиотеку pandas. Считаем данные из csv-файла в датафрейм и сохраним в переменную `data`. Путь к файлу:**\n",
    "\n",
    "`/datasets/data.csv`"
   ]
  },
  {
   "cell_type": "code",
   "execution_count": 1,
   "id": "10a30083",
   "metadata": {
    "id": "7bcf75c9"
   },
   "outputs": [],
   "source": [
    "import pandas as pd\n",
    "\n",
    "try:\n",
    "    data = pd.read_csv('/datasets/data.csv')\n",
    "except:\n",
    "    data = pd.read_csv('https://code.s3.yandex.net/datasets/data.csv')"
   ]
  },
  {
   "cell_type": "markdown",
   "id": "fb0b4e39",
   "metadata": {
    "id": "b8038fe3"
   },
   "source": [
    "**Выведем первые 20 строчек датафрейма `data` на экран.**"
   ]
  },
  {
   "cell_type": "code",
   "execution_count": 2,
   "id": "8e69bee4",
   "metadata": {
    "id": "2a7cab99",
    "outputId": "1a8f3ef2-d323-4ec2-ddf7-89670b5944c4"
   },
   "outputs": [
    {
     "data": {
      "text/html": [
       "<div>\n",
       "<style scoped>\n",
       "    .dataframe tbody tr th:only-of-type {\n",
       "        vertical-align: middle;\n",
       "    }\n",
       "\n",
       "    .dataframe tbody tr th {\n",
       "        vertical-align: top;\n",
       "    }\n",
       "\n",
       "    .dataframe thead th {\n",
       "        text-align: right;\n",
       "    }\n",
       "</style>\n",
       "<table border=\"1\" class=\"dataframe\">\n",
       "  <thead>\n",
       "    <tr style=\"text-align: right;\">\n",
       "      <th></th>\n",
       "      <th>children</th>\n",
       "      <th>days_employed</th>\n",
       "      <th>dob_years</th>\n",
       "      <th>education</th>\n",
       "      <th>education_id</th>\n",
       "      <th>family_status</th>\n",
       "      <th>family_status_id</th>\n",
       "      <th>gender</th>\n",
       "      <th>income_type</th>\n",
       "      <th>debt</th>\n",
       "      <th>total_income</th>\n",
       "      <th>purpose</th>\n",
       "    </tr>\n",
       "  </thead>\n",
       "  <tbody>\n",
       "    <tr>\n",
       "      <th>0</th>\n",
       "      <td>1</td>\n",
       "      <td>-8437.673028</td>\n",
       "      <td>42</td>\n",
       "      <td>высшее</td>\n",
       "      <td>0</td>\n",
       "      <td>женат / замужем</td>\n",
       "      <td>0</td>\n",
       "      <td>F</td>\n",
       "      <td>сотрудник</td>\n",
       "      <td>0</td>\n",
       "      <td>253875.639453</td>\n",
       "      <td>покупка жилья</td>\n",
       "    </tr>\n",
       "    <tr>\n",
       "      <th>1</th>\n",
       "      <td>1</td>\n",
       "      <td>-4024.803754</td>\n",
       "      <td>36</td>\n",
       "      <td>среднее</td>\n",
       "      <td>1</td>\n",
       "      <td>женат / замужем</td>\n",
       "      <td>0</td>\n",
       "      <td>F</td>\n",
       "      <td>сотрудник</td>\n",
       "      <td>0</td>\n",
       "      <td>112080.014102</td>\n",
       "      <td>приобретение автомобиля</td>\n",
       "    </tr>\n",
       "    <tr>\n",
       "      <th>2</th>\n",
       "      <td>0</td>\n",
       "      <td>-5623.422610</td>\n",
       "      <td>33</td>\n",
       "      <td>Среднее</td>\n",
       "      <td>1</td>\n",
       "      <td>женат / замужем</td>\n",
       "      <td>0</td>\n",
       "      <td>M</td>\n",
       "      <td>сотрудник</td>\n",
       "      <td>0</td>\n",
       "      <td>145885.952297</td>\n",
       "      <td>покупка жилья</td>\n",
       "    </tr>\n",
       "    <tr>\n",
       "      <th>3</th>\n",
       "      <td>3</td>\n",
       "      <td>-4124.747207</td>\n",
       "      <td>32</td>\n",
       "      <td>среднее</td>\n",
       "      <td>1</td>\n",
       "      <td>женат / замужем</td>\n",
       "      <td>0</td>\n",
       "      <td>M</td>\n",
       "      <td>сотрудник</td>\n",
       "      <td>0</td>\n",
       "      <td>267628.550329</td>\n",
       "      <td>дополнительное образование</td>\n",
       "    </tr>\n",
       "    <tr>\n",
       "      <th>4</th>\n",
       "      <td>0</td>\n",
       "      <td>340266.072047</td>\n",
       "      <td>53</td>\n",
       "      <td>среднее</td>\n",
       "      <td>1</td>\n",
       "      <td>гражданский брак</td>\n",
       "      <td>1</td>\n",
       "      <td>F</td>\n",
       "      <td>пенсионер</td>\n",
       "      <td>0</td>\n",
       "      <td>158616.077870</td>\n",
       "      <td>сыграть свадьбу</td>\n",
       "    </tr>\n",
       "    <tr>\n",
       "      <th>5</th>\n",
       "      <td>0</td>\n",
       "      <td>-926.185831</td>\n",
       "      <td>27</td>\n",
       "      <td>высшее</td>\n",
       "      <td>0</td>\n",
       "      <td>гражданский брак</td>\n",
       "      <td>1</td>\n",
       "      <td>M</td>\n",
       "      <td>компаньон</td>\n",
       "      <td>0</td>\n",
       "      <td>255763.565419</td>\n",
       "      <td>покупка жилья</td>\n",
       "    </tr>\n",
       "    <tr>\n",
       "      <th>6</th>\n",
       "      <td>0</td>\n",
       "      <td>-2879.202052</td>\n",
       "      <td>43</td>\n",
       "      <td>высшее</td>\n",
       "      <td>0</td>\n",
       "      <td>женат / замужем</td>\n",
       "      <td>0</td>\n",
       "      <td>F</td>\n",
       "      <td>компаньон</td>\n",
       "      <td>0</td>\n",
       "      <td>240525.971920</td>\n",
       "      <td>операции с жильем</td>\n",
       "    </tr>\n",
       "    <tr>\n",
       "      <th>7</th>\n",
       "      <td>0</td>\n",
       "      <td>-152.779569</td>\n",
       "      <td>50</td>\n",
       "      <td>СРЕДНЕЕ</td>\n",
       "      <td>1</td>\n",
       "      <td>женат / замужем</td>\n",
       "      <td>0</td>\n",
       "      <td>M</td>\n",
       "      <td>сотрудник</td>\n",
       "      <td>0</td>\n",
       "      <td>135823.934197</td>\n",
       "      <td>образование</td>\n",
       "    </tr>\n",
       "    <tr>\n",
       "      <th>8</th>\n",
       "      <td>2</td>\n",
       "      <td>-6929.865299</td>\n",
       "      <td>35</td>\n",
       "      <td>ВЫСШЕЕ</td>\n",
       "      <td>0</td>\n",
       "      <td>гражданский брак</td>\n",
       "      <td>1</td>\n",
       "      <td>F</td>\n",
       "      <td>сотрудник</td>\n",
       "      <td>0</td>\n",
       "      <td>95856.832424</td>\n",
       "      <td>на проведение свадьбы</td>\n",
       "    </tr>\n",
       "    <tr>\n",
       "      <th>9</th>\n",
       "      <td>0</td>\n",
       "      <td>-2188.756445</td>\n",
       "      <td>41</td>\n",
       "      <td>среднее</td>\n",
       "      <td>1</td>\n",
       "      <td>женат / замужем</td>\n",
       "      <td>0</td>\n",
       "      <td>M</td>\n",
       "      <td>сотрудник</td>\n",
       "      <td>0</td>\n",
       "      <td>144425.938277</td>\n",
       "      <td>покупка жилья для семьи</td>\n",
       "    </tr>\n",
       "    <tr>\n",
       "      <th>10</th>\n",
       "      <td>2</td>\n",
       "      <td>-4171.483647</td>\n",
       "      <td>36</td>\n",
       "      <td>высшее</td>\n",
       "      <td>0</td>\n",
       "      <td>женат / замужем</td>\n",
       "      <td>0</td>\n",
       "      <td>M</td>\n",
       "      <td>компаньон</td>\n",
       "      <td>0</td>\n",
       "      <td>113943.491460</td>\n",
       "      <td>покупка недвижимости</td>\n",
       "    </tr>\n",
       "    <tr>\n",
       "      <th>11</th>\n",
       "      <td>0</td>\n",
       "      <td>-792.701887</td>\n",
       "      <td>40</td>\n",
       "      <td>среднее</td>\n",
       "      <td>1</td>\n",
       "      <td>женат / замужем</td>\n",
       "      <td>0</td>\n",
       "      <td>F</td>\n",
       "      <td>сотрудник</td>\n",
       "      <td>0</td>\n",
       "      <td>77069.234271</td>\n",
       "      <td>покупка коммерческой недвижимости</td>\n",
       "    </tr>\n",
       "    <tr>\n",
       "      <th>12</th>\n",
       "      <td>0</td>\n",
       "      <td>NaN</td>\n",
       "      <td>65</td>\n",
       "      <td>среднее</td>\n",
       "      <td>1</td>\n",
       "      <td>гражданский брак</td>\n",
       "      <td>1</td>\n",
       "      <td>M</td>\n",
       "      <td>пенсионер</td>\n",
       "      <td>0</td>\n",
       "      <td>NaN</td>\n",
       "      <td>сыграть свадьбу</td>\n",
       "    </tr>\n",
       "    <tr>\n",
       "      <th>13</th>\n",
       "      <td>0</td>\n",
       "      <td>-1846.641941</td>\n",
       "      <td>54</td>\n",
       "      <td>неоконченное высшее</td>\n",
       "      <td>2</td>\n",
       "      <td>женат / замужем</td>\n",
       "      <td>0</td>\n",
       "      <td>F</td>\n",
       "      <td>сотрудник</td>\n",
       "      <td>0</td>\n",
       "      <td>130458.228857</td>\n",
       "      <td>приобретение автомобиля</td>\n",
       "    </tr>\n",
       "    <tr>\n",
       "      <th>14</th>\n",
       "      <td>0</td>\n",
       "      <td>-1844.956182</td>\n",
       "      <td>56</td>\n",
       "      <td>высшее</td>\n",
       "      <td>0</td>\n",
       "      <td>гражданский брак</td>\n",
       "      <td>1</td>\n",
       "      <td>F</td>\n",
       "      <td>компаньон</td>\n",
       "      <td>1</td>\n",
       "      <td>165127.911772</td>\n",
       "      <td>покупка жилой недвижимости</td>\n",
       "    </tr>\n",
       "    <tr>\n",
       "      <th>15</th>\n",
       "      <td>1</td>\n",
       "      <td>-972.364419</td>\n",
       "      <td>26</td>\n",
       "      <td>среднее</td>\n",
       "      <td>1</td>\n",
       "      <td>женат / замужем</td>\n",
       "      <td>0</td>\n",
       "      <td>F</td>\n",
       "      <td>сотрудник</td>\n",
       "      <td>0</td>\n",
       "      <td>116820.904450</td>\n",
       "      <td>строительство собственной недвижимости</td>\n",
       "    </tr>\n",
       "    <tr>\n",
       "      <th>16</th>\n",
       "      <td>0</td>\n",
       "      <td>-1719.934226</td>\n",
       "      <td>35</td>\n",
       "      <td>среднее</td>\n",
       "      <td>1</td>\n",
       "      <td>женат / замужем</td>\n",
       "      <td>0</td>\n",
       "      <td>F</td>\n",
       "      <td>сотрудник</td>\n",
       "      <td>0</td>\n",
       "      <td>289202.704229</td>\n",
       "      <td>недвижимость</td>\n",
       "    </tr>\n",
       "    <tr>\n",
       "      <th>17</th>\n",
       "      <td>0</td>\n",
       "      <td>-2369.999720</td>\n",
       "      <td>33</td>\n",
       "      <td>высшее</td>\n",
       "      <td>0</td>\n",
       "      <td>гражданский брак</td>\n",
       "      <td>1</td>\n",
       "      <td>M</td>\n",
       "      <td>сотрудник</td>\n",
       "      <td>0</td>\n",
       "      <td>90410.586745</td>\n",
       "      <td>строительство недвижимости</td>\n",
       "    </tr>\n",
       "    <tr>\n",
       "      <th>18</th>\n",
       "      <td>0</td>\n",
       "      <td>400281.136913</td>\n",
       "      <td>53</td>\n",
       "      <td>среднее</td>\n",
       "      <td>1</td>\n",
       "      <td>вдовец / вдова</td>\n",
       "      <td>2</td>\n",
       "      <td>F</td>\n",
       "      <td>пенсионер</td>\n",
       "      <td>0</td>\n",
       "      <td>56823.777243</td>\n",
       "      <td>на покупку подержанного автомобиля</td>\n",
       "    </tr>\n",
       "    <tr>\n",
       "      <th>19</th>\n",
       "      <td>0</td>\n",
       "      <td>-10038.818549</td>\n",
       "      <td>48</td>\n",
       "      <td>СРЕДНЕЕ</td>\n",
       "      <td>1</td>\n",
       "      <td>в разводе</td>\n",
       "      <td>3</td>\n",
       "      <td>F</td>\n",
       "      <td>сотрудник</td>\n",
       "      <td>0</td>\n",
       "      <td>242831.107982</td>\n",
       "      <td>на покупку своего автомобиля</td>\n",
       "    </tr>\n",
       "  </tbody>\n",
       "</table>\n",
       "</div>"
      ],
      "text/plain": [
       "    children  days_employed  dob_years            education  education_id  \\\n",
       "0          1   -8437.673028         42               высшее             0   \n",
       "1          1   -4024.803754         36              среднее             1   \n",
       "2          0   -5623.422610         33              Среднее             1   \n",
       "3          3   -4124.747207         32              среднее             1   \n",
       "4          0  340266.072047         53              среднее             1   \n",
       "5          0    -926.185831         27               высшее             0   \n",
       "6          0   -2879.202052         43               высшее             0   \n",
       "7          0    -152.779569         50              СРЕДНЕЕ             1   \n",
       "8          2   -6929.865299         35               ВЫСШЕЕ             0   \n",
       "9          0   -2188.756445         41              среднее             1   \n",
       "10         2   -4171.483647         36               высшее             0   \n",
       "11         0    -792.701887         40              среднее             1   \n",
       "12         0            NaN         65              среднее             1   \n",
       "13         0   -1846.641941         54  неоконченное высшее             2   \n",
       "14         0   -1844.956182         56               высшее             0   \n",
       "15         1    -972.364419         26              среднее             1   \n",
       "16         0   -1719.934226         35              среднее             1   \n",
       "17         0   -2369.999720         33               высшее             0   \n",
       "18         0  400281.136913         53              среднее             1   \n",
       "19         0  -10038.818549         48              СРЕДНЕЕ             1   \n",
       "\n",
       "       family_status  family_status_id gender income_type  debt  \\\n",
       "0    женат / замужем                 0      F   сотрудник     0   \n",
       "1    женат / замужем                 0      F   сотрудник     0   \n",
       "2    женат / замужем                 0      M   сотрудник     0   \n",
       "3    женат / замужем                 0      M   сотрудник     0   \n",
       "4   гражданский брак                 1      F   пенсионер     0   \n",
       "5   гражданский брак                 1      M   компаньон     0   \n",
       "6    женат / замужем                 0      F   компаньон     0   \n",
       "7    женат / замужем                 0      M   сотрудник     0   \n",
       "8   гражданский брак                 1      F   сотрудник     0   \n",
       "9    женат / замужем                 0      M   сотрудник     0   \n",
       "10   женат / замужем                 0      M   компаньон     0   \n",
       "11   женат / замужем                 0      F   сотрудник     0   \n",
       "12  гражданский брак                 1      M   пенсионер     0   \n",
       "13   женат / замужем                 0      F   сотрудник     0   \n",
       "14  гражданский брак                 1      F   компаньон     1   \n",
       "15   женат / замужем                 0      F   сотрудник     0   \n",
       "16   женат / замужем                 0      F   сотрудник     0   \n",
       "17  гражданский брак                 1      M   сотрудник     0   \n",
       "18    вдовец / вдова                 2      F   пенсионер     0   \n",
       "19         в разводе                 3      F   сотрудник     0   \n",
       "\n",
       "     total_income                                 purpose  \n",
       "0   253875.639453                           покупка жилья  \n",
       "1   112080.014102                 приобретение автомобиля  \n",
       "2   145885.952297                           покупка жилья  \n",
       "3   267628.550329              дополнительное образование  \n",
       "4   158616.077870                         сыграть свадьбу  \n",
       "5   255763.565419                           покупка жилья  \n",
       "6   240525.971920                       операции с жильем  \n",
       "7   135823.934197                             образование  \n",
       "8    95856.832424                   на проведение свадьбы  \n",
       "9   144425.938277                 покупка жилья для семьи  \n",
       "10  113943.491460                    покупка недвижимости  \n",
       "11   77069.234271       покупка коммерческой недвижимости  \n",
       "12            NaN                         сыграть свадьбу  \n",
       "13  130458.228857                 приобретение автомобиля  \n",
       "14  165127.911772              покупка жилой недвижимости  \n",
       "15  116820.904450  строительство собственной недвижимости  \n",
       "16  289202.704229                            недвижимость  \n",
       "17   90410.586745              строительство недвижимости  \n",
       "18   56823.777243      на покупку подержанного автомобиля  \n",
       "19  242831.107982            на покупку своего автомобиля  "
      ]
     },
     "execution_count": 2,
     "metadata": {},
     "output_type": "execute_result"
    }
   ],
   "source": [
    "data.head(20)"
   ]
  },
  {
   "cell_type": "markdown",
   "id": "7866a38b",
   "metadata": {
    "id": "1c12e233"
   },
   "source": [
    "**Выведем основную информацию о датафрейме с помощью метода `info()`.**"
   ]
  },
  {
   "cell_type": "code",
   "execution_count": 3,
   "id": "b2f0956b",
   "metadata": {
    "id": "2b757bca",
    "outputId": "15376089-8dad-46c9-b520-c05248d43158"
   },
   "outputs": [
    {
     "name": "stdout",
     "output_type": "stream",
     "text": [
      "<class 'pandas.core.frame.DataFrame'>\n",
      "RangeIndex: 21525 entries, 0 to 21524\n",
      "Data columns (total 12 columns):\n",
      " #   Column            Non-Null Count  Dtype  \n",
      "---  ------            --------------  -----  \n",
      " 0   children          21525 non-null  int64  \n",
      " 1   days_employed     19351 non-null  float64\n",
      " 2   dob_years         21525 non-null  int64  \n",
      " 3   education         21525 non-null  object \n",
      " 4   education_id      21525 non-null  int64  \n",
      " 5   family_status     21525 non-null  object \n",
      " 6   family_status_id  21525 non-null  int64  \n",
      " 7   gender            21525 non-null  object \n",
      " 8   income_type       21525 non-null  object \n",
      " 9   debt              21525 non-null  int64  \n",
      " 10  total_income      19351 non-null  float64\n",
      " 11  purpose           21525 non-null  object \n",
      "dtypes: float64(2), int64(5), object(5)\n",
      "memory usage: 2.0+ MB\n"
     ]
    }
   ],
   "source": [
    "data.info()"
   ]
  },
  {
   "cell_type": "markdown",
   "id": "cde167e0",
   "metadata": {
    "id": "333ec665"
   },
   "source": [
    "## Предобработка данных"
   ]
  },
  {
   "cell_type": "markdown",
   "id": "1e27b08c",
   "metadata": {
    "id": "02d92d53"
   },
   "source": [
    "### Удаление пропусков"
   ]
  },
  {
   "cell_type": "markdown",
   "id": "e338973f",
   "metadata": {
    "id": "cd84967c"
   },
   "source": [
    "**Выведем количество пропущенных значений для каждого столбца. Используем комбинацию двух методов.**"
   ]
  },
  {
   "cell_type": "code",
   "execution_count": 4,
   "id": "26722242",
   "metadata": {
    "id": "7f9b2309",
    "outputId": "81f4d817-781c-465c-ed15-91ce4446810d"
   },
   "outputs": [
    {
     "data": {
      "text/plain": [
       "children               0\n",
       "days_employed       2174\n",
       "dob_years              0\n",
       "education              0\n",
       "education_id           0\n",
       "family_status          0\n",
       "family_status_id       0\n",
       "gender                 0\n",
       "income_type            0\n",
       "debt                   0\n",
       "total_income        2174\n",
       "purpose                0\n",
       "dtype: int64"
      ]
     },
     "execution_count": 4,
     "metadata": {},
     "output_type": "execute_result"
    }
   ],
   "source": [
    "data.isna().sum()"
   ]
  },
  {
   "cell_type": "markdown",
   "id": "5c3b82a7",
   "metadata": {
    "id": "db86e27b"
   },
   "source": [
    "**В двух столбцах есть пропущенные значения. Один из них — `days_employed`. Пропуски в этом столбце обработаем на следующем этапе. Другой столбец с пропущенными значениями — `total_income` — хранит данные о доходах. На сумму дохода сильнее всего влияет тип занятости, поэтому заполнить пропуски в этом столбце нужно медианным значением по каждому типу из столбца `income_type`. Например, у человека с типом занятости `сотрудник` пропуск в столбце `total_income` должен быть заполнен медианным доходом среди всех записей с тем же типом.**"
   ]
  },
  {
   "cell_type": "code",
   "execution_count": 5,
   "id": "f56309d1",
   "metadata": {
    "id": "42006a93"
   },
   "outputs": [
    {
     "name": "stdout",
     "output_type": "stream",
     "text": [
      "children               0\n",
      "days_employed       2174\n",
      "dob_years              0\n",
      "education              0\n",
      "education_id           0\n",
      "family_status          0\n",
      "family_status_id       0\n",
      "gender                 0\n",
      "income_type            0\n",
      "debt                   0\n",
      "total_income           0\n",
      "purpose                0\n",
      "dtype: int64\n"
     ]
    }
   ],
   "source": [
    "# циклом пройдемся по уникальным значениям столбца income_type {t = сотрудник, компаньон и т.д.}\n",
    "for t in data['income_type'].unique():\n",
    "    data.loc[(data['income_type'] == t) & (data['total_income'].isna()), 'total_income'] = \\\n",
    "    data.loc[(data['income_type'] == t), 'total_income'].median()\n",
    "# проверим, сколько осталось отсутствующих значений в столбце total_income\n",
    "print(data.isna().sum())"
   ]
  },
  {
   "cell_type": "markdown",
   "id": "ced3210b",
   "metadata": {
    "id": "89da5ece"
   },
   "source": [
    "### Обработка аномальных значений"
   ]
  },
  {
   "cell_type": "markdown",
   "id": "1e8f26db",
   "metadata": {
    "id": "57964554"
   },
   "source": [
    "**В данных могут встречаться артефакты (аномалии) — значения, которые не отражают действительность и появились по какой-то ошибке. Таким артефактом будет отрицательное количество дней трудового стажа в столбце `days_employed`. Для реальных данных это нормально. Обработаем значения в этом столбце: заменим все отрицательные значения положительными с помощью метода `abs()`.**"
   ]
  },
  {
   "cell_type": "code",
   "execution_count": 6,
   "id": "5c26fac5",
   "metadata": {
    "id": "f6f055bf"
   },
   "outputs": [
    {
     "name": "stdout",
     "output_type": "stream",
     "text": [
      "[8437.67302776 4024.80375385 5623.42261023 ... 2113.3468877  3112.4817052\n",
      " 1984.50758853]\n"
     ]
    }
   ],
   "source": [
    "data['days_employed'] = data['days_employed'].abs()\n",
    "# проверим что избавились от аномальных значений\n",
    "print(data['days_employed'].unique())"
   ]
  },
  {
   "cell_type": "markdown",
   "id": "a71677b5",
   "metadata": {
    "id": "6107dd2f"
   },
   "source": [
    "**Для каждого типа занятости выведем медианное значение трудового стажа `days_employed` в днях.**"
   ]
  },
  {
   "cell_type": "code",
   "execution_count": 7,
   "id": "1efe1847",
   "metadata": {
    "id": "85a5faf6",
    "outputId": "801ef80e-522b-4668-f34e-565af7432bcf"
   },
   "outputs": [
    {
     "data": {
      "text/plain": [
       "income_type\n",
       "безработный        366413.652744\n",
       "в декрете            3296.759962\n",
       "госслужащий          2689.368353\n",
       "компаньон            1547.382223\n",
       "пенсионер          365213.306266\n",
       "предприниматель       520.848083\n",
       "сотрудник            1574.202821\n",
       "студент               578.751554\n",
       "Name: days_employed, dtype: float64"
      ]
     },
     "execution_count": 7,
     "metadata": {},
     "output_type": "execute_result"
    }
   ],
   "source": [
    "data.groupby('income_type')['days_employed'].agg('median')"
   ]
  },
  {
   "cell_type": "markdown",
   "id": "18999bde",
   "metadata": {
    "id": "38d1a030"
   },
   "source": [
    "У двух типов (безработные и пенсионеры) получатся аномально большие значения. Исправить такие значения сложно, поэтому оставим их как есть. Тем более этот столбец скорее всего не понадобится для исследования."
   ]
  },
  {
   "cell_type": "markdown",
   "id": "228b56f2",
   "metadata": {
    "id": "d8a9f147"
   },
   "source": [
    "**Выведем перечень уникальных значений столбца `children`.**"
   ]
  },
  {
   "cell_type": "code",
   "execution_count": 8,
   "id": "5b5e5aae",
   "metadata": {
    "id": "ef5056eb",
    "outputId": "6975b15c-7f95-4697-d16d-a0c79b657b03"
   },
   "outputs": [
    {
     "data": {
      "text/plain": [
       "array([ 1,  0,  3,  2, -1,  4, 20,  5])"
      ]
     },
     "execution_count": 8,
     "metadata": {},
     "output_type": "execute_result"
    }
   ],
   "source": [
    "data['children'].unique()"
   ]
  },
  {
   "cell_type": "markdown",
   "id": "a501f1de",
   "metadata": {
    "id": "40b9ebf2"
   },
   "source": [
    "**В столбце `children` есть два аномальных значения. Удалите строки, в которых встречаются такие аномальные значения из датафрейма `data`.**"
   ]
  },
  {
   "cell_type": "code",
   "execution_count": 9,
   "id": "8f3b3d25",
   "metadata": {
    "id": "3ff9801d"
   },
   "outputs": [],
   "source": [
    "data = data[(data['children'] != -1) & (data['children'] != 20)]"
   ]
  },
  {
   "cell_type": "markdown",
   "id": "086432d8",
   "metadata": {
    "id": "bbc4d0ce"
   },
   "source": [
    "**Ещё раз выведем перечень уникальных значений столбца `children`, чтобы убедиться, что артефакты удалены.**"
   ]
  },
  {
   "cell_type": "code",
   "execution_count": 10,
   "id": "33a33854",
   "metadata": {
    "id": "ad4fa8b7",
    "outputId": "b2097101-d49d-44d9-901b-32a65c9463d1"
   },
   "outputs": [
    {
     "data": {
      "text/plain": [
       "array([1, 0, 3, 2, 4, 5])"
      ]
     },
     "execution_count": 10,
     "metadata": {},
     "output_type": "execute_result"
    }
   ],
   "source": [
    "data['children'].unique()"
   ]
  },
  {
   "cell_type": "markdown",
   "id": "57309148",
   "metadata": {
    "id": "75440b63"
   },
   "source": [
    "### Удаление пропусков (продолжение)"
   ]
  },
  {
   "cell_type": "markdown",
   "id": "2b7d5f98",
   "metadata": {
    "id": "f4ea573f"
   },
   "source": [
    "**Заполним пропуски в столбце `days_employed` медианными значениями по каждого типа занятости `income_type`.**"
   ]
  },
  {
   "cell_type": "code",
   "execution_count": 11,
   "id": "5a59068b",
   "metadata": {
    "id": "af6b1a7e"
   },
   "outputs": [],
   "source": [
    "for t in data['income_type'].unique():\n",
    "    data.loc[(data['income_type'] == t) & (data['days_employed'].isna()), 'days_employed'] = \\\n",
    "    data.loc[(data['income_type'] == t), 'days_employed'].median()"
   ]
  },
  {
   "cell_type": "markdown",
   "id": "3cbad2bf",
   "metadata": {
    "id": "2753f40d"
   },
   "source": [
    "**Убедимся, что все пропуски заполнены. Выведем количество пропущенных значений для каждого столбца с помощью двух методов.**"
   ]
  },
  {
   "cell_type": "code",
   "execution_count": 12,
   "id": "3cb43995",
   "metadata": {
    "id": "55f78bc2",
    "outputId": "8da1e4e1-358e-4e87-98c9-f261bce0a7b2"
   },
   "outputs": [
    {
     "data": {
      "text/plain": [
       "children            0\n",
       "days_employed       0\n",
       "dob_years           0\n",
       "education           0\n",
       "education_id        0\n",
       "family_status       0\n",
       "family_status_id    0\n",
       "gender              0\n",
       "income_type         0\n",
       "debt                0\n",
       "total_income        0\n",
       "purpose             0\n",
       "dtype: int64"
      ]
     },
     "execution_count": 12,
     "metadata": {},
     "output_type": "execute_result"
    }
   ],
   "source": [
    "data.isna().sum()"
   ]
  },
  {
   "cell_type": "markdown",
   "id": "661f95b3",
   "metadata": {
    "id": "ddc81e43"
   },
   "source": [
    "### Изменение типов данных"
   ]
  },
  {
   "cell_type": "markdown",
   "id": "57a9a50b",
   "metadata": {
    "id": "42d19d24"
   },
   "source": [
    "**Заменим вещественный тип данных в столбце `total_income` на целочисленный с помощью метода `astype()`.**"
   ]
  },
  {
   "cell_type": "code",
   "execution_count": 13,
   "id": "efa50a92",
   "metadata": {
    "id": "920b65ad"
   },
   "outputs": [],
   "source": [
    "data['total_income'] = data['total_income'].astype(int)"
   ]
  },
  {
   "cell_type": "markdown",
   "id": "76912d70",
   "metadata": {
    "id": "80c420ba"
   },
   "source": [
    "### Обработка дубликатов"
   ]
  },
  {
   "cell_type": "markdown",
   "id": "00eb8ba9",
   "metadata": {},
   "source": [
    "**Обработаем неявные дубликаты в столбце `education`. В этом столбце есть одни и те же значения, но записанные по-разному: с использованием заглавных и строчных букв. Приведем их к нижнему регистру.**"
   ]
  },
  {
   "cell_type": "code",
   "execution_count": 14,
   "id": "b19c97b7",
   "metadata": {},
   "outputs": [],
   "source": [
    "data['education'] = data['education'].str.lower()"
   ]
  },
  {
   "cell_type": "markdown",
   "id": "6e67edcf",
   "metadata": {
    "id": "dc587695"
   },
   "source": [
    "**Выведем на экран количество строк-дубликатов в данных. Если такие строки присутствуют, удалите их.**"
   ]
  },
  {
   "cell_type": "code",
   "execution_count": 15,
   "id": "85a3a68c",
   "metadata": {
    "id": "3ee445e4",
    "outputId": "9684deba-1934-42d1-99e1-cda61740f822"
   },
   "outputs": [
    {
     "data": {
      "text/plain": [
       "71"
      ]
     },
     "execution_count": 15,
     "metadata": {},
     "output_type": "execute_result"
    }
   ],
   "source": [
    "data.duplicated().sum()"
   ]
  },
  {
   "cell_type": "code",
   "execution_count": 16,
   "id": "bd815f23",
   "metadata": {
    "id": "8575fe05"
   },
   "outputs": [],
   "source": [
    "data = data.drop_duplicates()"
   ]
  },
  {
   "cell_type": "markdown",
   "id": "6f0b07ac",
   "metadata": {
    "id": "9904cf55"
   },
   "source": [
    "### Категоризация данных"
   ]
  },
  {
   "cell_type": "markdown",
   "id": "6c9a54b6",
   "metadata": {
    "id": "72fcc8a2"
   },
   "source": [
    "** На основании диапазонов, указанных ниже, создаем в датафрейме `data` столбец `total_income_category` с категориями:**\n",
    "\n",
    "- 0–30000 — `'E'`;\n",
    "- 30001–50000 — `'D'`;\n",
    "- 50001–200000 — `'C'`;\n",
    "- 200001–1000000 — `'B'`;\n",
    "- 1000001 и выше — `'A'`.\n",
    "\n",
    "\n",
    "**Пример: кредитополучателю с доходом 25000 нужно назначить категорию `'E'`, а клиенту, получающему 235000, — `'B'`. Используем собственную функцию с именем `categorize_income()` и метод `apply()`.**"
   ]
  },
  {
   "cell_type": "code",
   "execution_count": 17,
   "id": "483f1578",
   "metadata": {
    "id": "e1771346"
   },
   "outputs": [],
   "source": [
    "def categorize_income(income):\n",
    "    try:\n",
    "        if 0 <= income <= 30000:\n",
    "            return 'E'\n",
    "        elif 30001 <= income <= 50000:\n",
    "            return 'D'\n",
    "        elif 50001 <= income <= 200000:\n",
    "            return 'C'\n",
    "        elif 200001 <= income <= 1000000:\n",
    "            return 'B'\n",
    "        elif income >= 1000001:\n",
    "            return 'A'\n",
    "    except:\n",
    "        pass"
   ]
  },
  {
   "cell_type": "code",
   "execution_count": 18,
   "id": "22b195bb",
   "metadata": {
    "id": "d5f3586d"
   },
   "outputs": [],
   "source": [
    "data['total_income_category'] = data['total_income'].apply(categorize_income)"
   ]
  },
  {
   "cell_type": "markdown",
   "id": "88b24d5e",
   "metadata": {
    "id": "dde49b5c"
   },
   "source": [
    "**Выведем на экран перечень уникальных целей взятия кредита из столбца `purpose`.**"
   ]
  },
  {
   "cell_type": "code",
   "execution_count": 19,
   "id": "4b5b378d",
   "metadata": {
    "id": "f67ce9b3",
    "outputId": "673c12d9-7d7e-4ae0-9812-c622c89dd244"
   },
   "outputs": [
    {
     "data": {
      "text/plain": [
       "array(['покупка жилья', 'приобретение автомобиля',\n",
       "       'дополнительное образование', 'сыграть свадьбу',\n",
       "       'операции с жильем', 'образование', 'на проведение свадьбы',\n",
       "       'покупка жилья для семьи', 'покупка недвижимости',\n",
       "       'покупка коммерческой недвижимости', 'покупка жилой недвижимости',\n",
       "       'строительство собственной недвижимости', 'недвижимость',\n",
       "       'строительство недвижимости', 'на покупку подержанного автомобиля',\n",
       "       'на покупку своего автомобиля',\n",
       "       'операции с коммерческой недвижимостью',\n",
       "       'строительство жилой недвижимости', 'жилье',\n",
       "       'операции со своей недвижимостью', 'автомобили',\n",
       "       'заняться образованием', 'сделка с подержанным автомобилем',\n",
       "       'получение образования', 'автомобиль', 'свадьба',\n",
       "       'получение дополнительного образования', 'покупка своего жилья',\n",
       "       'операции с недвижимостью', 'получение высшего образования',\n",
       "       'свой автомобиль', 'сделка с автомобилем',\n",
       "       'профильное образование', 'высшее образование',\n",
       "       'покупка жилья для сдачи', 'на покупку автомобиля', 'ремонт жилью',\n",
       "       'заняться высшим образованием'], dtype=object)"
      ]
     },
     "execution_count": 19,
     "metadata": {},
     "output_type": "execute_result"
    }
   ],
   "source": [
    "data['purpose'].unique()"
   ]
  },
  {
   "cell_type": "markdown",
   "id": "4a0f1d52",
   "metadata": {
    "id": "85d0aef0"
   },
   "source": [
    "**Создадим функцию `categorize_purpose()`, которая на основании данных из столбца `purpose` сформирует новый столбец `purpose_category`, в который войдут следующие категории:**\n",
    "\n",
    "- `'операции с автомобилем'`,\n",
    "- `'операции с недвижимостью'`,\n",
    "- `'проведение свадьбы'`,\n",
    "- `'получение образования'`.\n",
    "\n",
    "**Например, если в столбце `purpose` находится подстрока `'на покупку автомобиля'`, то в столбце `purpose_category` должна появиться строка `'операции с автомобилем'`.**"
   ]
  },
  {
   "cell_type": "code",
   "execution_count": 20,
   "id": "2a17d2d1",
   "metadata": {
    "id": "e149fab4"
   },
   "outputs": [],
   "source": [
    "def categorize_purpose(row):\n",
    "    try:\n",
    "        if 'автом' in row:\n",
    "            return 'операции с автомобилем'\n",
    "        elif 'жил' in row or 'недвиж' in row:\n",
    "            return 'операции с недвижимостью'\n",
    "        elif 'свад' in row:\n",
    "            return 'проведение свадьбы'\n",
    "        elif 'образов' in row:\n",
    "            return 'получение образования'\n",
    "    except:\n",
    "        return 'нет категории'"
   ]
  },
  {
   "cell_type": "code",
   "execution_count": 21,
   "id": "71d15a6d",
   "metadata": {
    "id": "bf36e69b"
   },
   "outputs": [],
   "source": [
    "data['purpose_category'] = data['purpose'].apply(categorize_purpose)\n",
    "#print(data.head(20))"
   ]
  },
  {
   "cell_type": "markdown",
   "id": "72dc2ce4",
   "metadata": {
    "id": "09b242bf"
   },
   "source": [
    "### Шаг 3. Исследуем данные и ответим на вопросы"
   ]
  },
  {
   "cell_type": "markdown",
   "id": "94e0bfa7",
   "metadata": {
    "id": "c5d66278"
   },
   "source": [
    "#### 3.1 Есть ли зависимость между количеством детей и возвратом кредита в срок?"
   ]
  },
  {
   "cell_type": "code",
   "execution_count": 22,
   "id": "33f8e988",
   "metadata": {
    "id": "2cacfc4a"
   },
   "outputs": [
    {
     "name": "stdout",
     "output_type": "stream",
     "text": [
      "children\n",
      "0    7.543822\n",
      "1    9.234609\n",
      "2    9.454191\n",
      "3    8.181818\n",
      "4    9.756098\n",
      "5    0.000000\n",
      "Name: debt, dtype: float64\n",
      "children\n",
      "0    1063\n",
      "1     444\n",
      "2     194\n",
      "3      27\n",
      "4       4\n",
      "5       0\n",
      "Name: debt, dtype: int64\n"
     ]
    },
    {
     "data": {
      "text/html": [
       "<div>\n",
       "<style scoped>\n",
       "    .dataframe tbody tr th:only-of-type {\n",
       "        vertical-align: middle;\n",
       "    }\n",
       "\n",
       "    .dataframe tbody tr th {\n",
       "        vertical-align: top;\n",
       "    }\n",
       "\n",
       "    .dataframe thead th {\n",
       "        text-align: right;\n",
       "    }\n",
       "</style>\n",
       "<table border=\"1\" class=\"dataframe\">\n",
       "  <thead>\n",
       "    <tr style=\"text-align: right;\">\n",
       "      <th>credits</th>\n",
       "      <th>Количество невозвратов</th>\n",
       "      <th>Количество кредитов</th>\n",
       "      <th>Процент задолжности, %</th>\n",
       "    </tr>\n",
       "    <tr>\n",
       "      <th>children</th>\n",
       "      <th></th>\n",
       "      <th></th>\n",
       "      <th></th>\n",
       "    </tr>\n",
       "  </thead>\n",
       "  <tbody>\n",
       "    <tr>\n",
       "      <th>0</th>\n",
       "      <td>1063</td>\n",
       "      <td>14091</td>\n",
       "      <td>7.543822</td>\n",
       "    </tr>\n",
       "    <tr>\n",
       "      <th>1</th>\n",
       "      <td>444</td>\n",
       "      <td>4808</td>\n",
       "      <td>9.234609</td>\n",
       "    </tr>\n",
       "    <tr>\n",
       "      <th>2</th>\n",
       "      <td>194</td>\n",
       "      <td>2052</td>\n",
       "      <td>9.454191</td>\n",
       "    </tr>\n",
       "    <tr>\n",
       "      <th>3</th>\n",
       "      <td>27</td>\n",
       "      <td>330</td>\n",
       "      <td>8.181818</td>\n",
       "    </tr>\n",
       "    <tr>\n",
       "      <th>4</th>\n",
       "      <td>4</td>\n",
       "      <td>41</td>\n",
       "      <td>9.756098</td>\n",
       "    </tr>\n",
       "    <tr>\n",
       "      <th>5</th>\n",
       "      <td>0</td>\n",
       "      <td>9</td>\n",
       "      <td>0.000000</td>\n",
       "    </tr>\n",
       "  </tbody>\n",
       "</table>\n",
       "</div>"
      ],
      "text/plain": [
       "credits   Количество невозвратов  Количество кредитов  Процент задолжности, %\n",
       "children                                                                     \n",
       "0                           1063                14091                7.543822\n",
       "1                            444                 4808                9.234609\n",
       "2                            194                 2052                9.454191\n",
       "3                             27                  330                8.181818\n",
       "4                              4                   41                9.756098\n",
       "5                              0                    9                0.000000"
      ]
     },
     "execution_count": 22,
     "metadata": {},
     "output_type": "execute_result"
    }
   ],
   "source": [
    "# количество детей - 'children' - от 0 до 5\n",
    "# возврат кредита в срок - 'debt' - булева - 0 - всё в срок, 1 - есть невозврат кредита\n",
    "\n",
    "########### решение через groupby ###############\n",
    "\n",
    "# посчитаем среднюю долю невозврата по категории количество детей и выведем в процентах\n",
    "data_1 = data.groupby('children')['debt'].mean()*100\n",
    "print(data_1)\n",
    "# а также выведем сумму невозвратов по количеству детей\n",
    "data_2 = data.groupby('children')['debt'].sum()\n",
    "print(data_2)\n",
    "\n",
    "########### решение через pivot ###############\n",
    "\n",
    "# создадим столбец с количеством невозвратов\n",
    "data['credits'] = data['debt'].count() \n",
    "# создадим сводную таблицу, в которой в строках - количество детей, в столбце - количество невозвратов\n",
    "pivot_debt = data.pivot_table(index=['children'], columns='credits', values='debt', aggfunc='sum')\n",
    "#print(pivot_debt) \n",
    "\n",
    "# создадим сводную таблицу, в которой в строках - количество детей, в столбце - общее количество кредитов\n",
    "pivot_credits = data.pivot_table(index=['children'], columns='credits', values='debt', aggfunc='count')\n",
    "#print(pivot_credits)\n",
    "\n",
    "# посчитаем среднюю долю невозврата\n",
    "data_ratio = pivot_debt / pivot_credits * 100\n",
    "\n",
    "#объединим количество невозвратов с общим количеством кредитов\n",
    "result = pivot_debt.merge(pivot_credits, on='children')\n",
    "\n",
    "#и присоединим к новой таблице среднюю долю невозврата\n",
    "result = result.merge(data_ratio, on='children')\n",
    "#print(result)\n",
    "#result.sort_values(by='children', ascending= False)\n",
    "#print(result)\n",
    "result.rename(columns= {'21331_x':'Количество невозвратов','21331_y':'Количество кредитов',21331:'Процент задолжности, %'})"
   ]
  },
  {
   "cell_type": "markdown",
   "id": "144e56cb",
   "metadata": {
    "id": "3a6b99ec"
   },
   "source": [
    "**Вывод:** \n",
    "***Наименьшая доля невозврата у категории бездетных. Наибольшая доля у семей с четыремя детьми. В целом, чем больше детей - тем больше доля невозврата, но не превышает 10 процентов. Уменьшение доли невозврата для семей с тремя детьми возможно связано с получением статуса многодетной семьи, то есть получением различных льгот от государства. Отсутствие невозвратов для семей с пятью детьми связано с небольшой представительской выборкой данных - в таблице представлено всего 9 семей и все они добропорядочные плательщики.\n",
    "Общий вывод: наличие детей увеличивает долю невозврата на 2 процента по отношению к бездетным*** \n"
   ]
  },
  {
   "cell_type": "markdown",
   "id": "648b51ef",
   "metadata": {
    "id": "97be82ca"
   },
   "source": [
    "#### 3.2 Есть ли зависимость между семейным положением и возвратом кредита в срок?"
   ]
  },
  {
   "cell_type": "code",
   "execution_count": 23,
   "id": "fb02db15",
   "metadata": {
    "id": "dc3f7ee8"
   },
   "outputs": [
    {
     "name": "stdout",
     "output_type": "stream",
     "text": [
      "family_status\n",
      "Не женат / не замужем    9.763948\n",
      "в разводе                7.064760\n",
      "вдовец / вдова           6.624606\n",
      "гражданский брак         9.313014\n",
      "женат / замужем          7.560558\n",
      "Name: debt, dtype: float64\n"
     ]
    }
   ],
   "source": [
    "# семейное положение - 'family_status'\n",
    "# возврат кредита в срок - 'debt'\n",
    "data_3 = data.groupby('family_status')['debt'].mean()*100\n",
    "print(data_3)\n"
   ]
  },
  {
   "cell_type": "markdown",
   "id": "129a6687",
   "metadata": {
    "id": "1cef7837"
   },
   "source": [
    "**Вывод:** \n",
    "***Наибольший процент невозврата у людей с отсутствием опыта семейной жизни и у осторожных(гражданский брак). \n",
    "Наименьший - у одиноких. \n",
    "У семейных пар процент невозврата ниже, чем у не женатых, почти на 2 процента. \n",
    "В целом, семейное положение - бывшее или настоящее - снижает процент невозврата кредита в срок.*** \n"
   ]
  },
  {
   "cell_type": "markdown",
   "id": "eac7ee9e",
   "metadata": {
    "id": "1e8b2fca"
   },
   "source": [
    "#### 3.3 Есть ли зависимость между уровнем дохода и возвратом кредита в срок?"
   ]
  },
  {
   "cell_type": "code",
   "execution_count": 24,
   "id": "6702dd1f",
   "metadata": {
    "id": "cd7e3720"
   },
   "outputs": [
    {
     "name": "stdout",
     "output_type": "stream",
     "text": [
      "total_income_category\n",
      "A       25\n",
      "B     5014\n",
      "C    15921\n",
      "D      349\n",
      "E       22\n",
      "Name: total_income, dtype: int64\n",
      "total_income_category\n",
      "A    8.000000\n",
      "B    7.060231\n",
      "C    8.498210\n",
      "D    6.017192\n",
      "E    9.090909\n",
      "Name: debt, dtype: float64\n",
      "7.733308466327596\n"
     ]
    }
   ],
   "source": [
    "# уровень дохода - 'total_income'\n",
    "# возврат кредита в срок - 'debt' \n",
    "# В описании проекта переменная debt — имел ли задолженность по возврату кредитов принимает значения:\n",
    "# 1 - , истина, да, имел. Невозврат есть. 0 - ложь, нет, не имел. Невозвратов нет. Возврат в срок.\n",
    "\n",
    "# У нас есть таблица total_income_category, в которой доходы распределены по категориям:\n",
    "# 0–30000 — 'E';\n",
    "# 30001–50000 — 'D';\n",
    "# 50001–200000 — 'C';\n",
    "# 200001–1000000 — 'B';\n",
    "# 1000001 и выше — 'A'.\n",
    "\n",
    "########### решение через groupby ###############\n",
    "# посмотрим как распределяются доходы по категориям:\n",
    "data_4 = data.groupby('total_income_category')['total_income'].count()\n",
    "print(data_4)\n",
    "# больше всего доходов в категории С - от 50 т.р. до 200 т.р.\n",
    "\n",
    "# посчитаем среднюю долю невозврата кредита по каждой категории дохода\n",
    "data_5 = data.groupby('total_income_category')['debt'].mean()*100\n",
    "print(data_5)\n",
    "# и рассчитаем средний уровень для всех категорий:\n",
    "print(data.groupby('total_income_category')['debt'].mean().mean()*100)\n"
   ]
  },
  {
   "cell_type": "markdown",
   "id": "2123d95d",
   "metadata": {
    "id": "e8593def"
   },
   "source": [
    "**Вывод:** \n",
    "***Наибольшая доля невозвратов в категории доходов до 30 тысяч рублей - 'Е'. \n",
    "Наименьшая - в категории \"бюджетников\".  \n",
    "При среднем доходе - от 50 до 200 т.р. - категория 'C' - доля невозвратов также остается высокой. \n",
    "Эта самая представительная категория.   \n",
    "При высоких и очень высоких доходах процент невозврата кредитов остается на среднем уровне. \n",
    "В целом, чем ниже уровень дохода, тем выше процент невозврата. ***"
   ]
  },
  {
   "cell_type": "markdown",
   "id": "2e2e45d1",
   "metadata": {
    "id": "99ecbd1f"
   },
   "source": [
    "#### 3.4 Как разные цели кредита влияют на его возврат в срок?"
   ]
  },
  {
   "cell_type": "code",
   "execution_count": 25,
   "id": "034db52b",
   "metadata": {
    "id": "2b687290"
   },
   "outputs": [
    {
     "name": "stdout",
     "output_type": "stream",
     "text": [
      "purpose_category\n",
      "операции с автомобилем      9.347978\n",
      "операции с недвижимостью    7.255139\n",
      "получение образования       9.252758\n",
      "проведение свадьбы          7.911803\n",
      "Name: debt, dtype: float64\n"
     ]
    }
   ],
   "source": [
    "# цель кредита - 'purpose' .\n",
    "# Есть таблица 'purpose_category', в которой цели кредита распределены на 4 категории:\n",
    "# 'операции с автомобилем',\n",
    "# 'операции с недвижимостью',\n",
    "# 'проведение свадьбы',\n",
    "# 'получение образования'\n",
    "\n",
    "# посчитаем среднюю долю невозврата кредита по каждой категории дохода\n",
    "data_5 = data.groupby('purpose_category')['debt'].mean()*100\n",
    "print(data_5)"
   ]
  },
  {
   "cell_type": "markdown",
   "id": "2dfb8a1c",
   "metadata": {
    "id": "b4bb2ce6"
   },
   "source": [
    "**Вывод:** \n",
    "***Наименьший процент невозврата соответствует более серьезным целям: по операциям с недвижимостью и кредитам на свадьбу. \n",
    "Невозврат по автомобильным кредитам и на образование почти на два процента выше. \n",
    "В целом, семейное положение снижает процент невозврата кредита.***"
   ]
  },
  {
   "cell_type": "markdown",
   "id": "a5da1643",
   "metadata": {
    "id": "09c3ac4c"
   },
   "source": [
    "**Приведем возможные причины появления пропусков в исходных данных.**"
   ]
  },
  {
   "cell_type": "markdown",
   "id": "6d2bffe2",
   "metadata": {
    "id": "9da2ceda"
   },
   "source": [
    "**Возможные причины появления пропусков связаны со сложностью заполнения дней занятости для пенсионеров и обучающихся. \n",
    "Также в этих категориях сложно указать доход ввиду его отсутствия.**\n"
   ]
  },
  {
   "cell_type": "markdown",
   "id": "a2d428bc",
   "metadata": {
    "id": "7b0487d6"
   },
   "source": [
    "**Объясним, почему заполнить пропуски медианным значением — лучшее решение для количественных переменных.**"
   ]
  },
  {
   "cell_type": "markdown",
   "id": "a0a53abb",
   "metadata": {
    "id": "7ecf2b8e"
   },
   "source": [
    "**Медианное значение менее чувствительно к аномальным значениям.**"
   ]
  },
  {
   "cell_type": "markdown",
   "id": "774474c8",
   "metadata": {
    "id": "6db5255a"
   },
   "source": [
    "### Шаг 4: общий вывод."
   ]
  },
  {
   "cell_type": "markdown",
   "id": "756824f8",
   "metadata": {
    "id": "bad65432"
   },
   "source": [
    "Целью исследования было изучение зависимости семейного положения и количества детей клиента на факт погашения кредита в срок.\n",
    "Первоначальные данные были избавлены от пропусков, отсортированы и упорядочены. \n",
    "Мы проверили зависимости возврата кредита в срок от количества детей, семейного положения и уровня дохода, а также как разные цели влияют на возврат кредита в срок. \n",
    "\n",
    "<font color='darkblue'>\n",
    "Для первой гипотезы \"Есть ли зависимость между количеством детей и возвратом кредита в срок?\"\n",
    "мы установили, что наличие детей увеличивает долю невозврата на 2 процента по отношению к бездетным.\n",
    "Для семей с тремя детьми и более необходимо увеличить количество данных. \n",
    " \n",
    "Для второй гипотезы \"Есть ли зависимость между семейным положением и возвратом кредита в срок?\" мы установили, что \n",
    "наибольший процент невозврата у людей с отсутствием опыта семейной жизни и у осторожных(гражданский брак). \n",
    "Наименьший - у одиноких. В этом исследовании мы установили, что семейное пложение - бывшее или настоящее - снижает процент невозврата кредита в срок. \n",
    "\n",
    "Для третьего исследования \"Есть ли зависимость между уровнем дохода и возвратом кредита в срок?\" мы установили, что\n",
    "гипотеза частично подтвердилась: чем ниже уровень дохода, тем выше процент невозврата. При высоких и очень высоких доходах процент невозврата кредитов остается на среднем уровне. Однако,в этих категориях очень мало данных для анализа. \n",
    "Также следует провести дополнительный анализ данных внутри самой представительной категории с доходами от 50 до 200 тысяч рублей.  \n",
    "\n",
    "Для четвертого исследования \"Как разные цели кредита влияют на его возврат в срок?\" мы установили, что кредиты на автомобиль и образование имеют задолженность чаще, чем на свадьбу и недвижимость. Новое семейное положение и покупка недвижимости являются более обдуманными решениями, поэтому процент невозврата кредита в этих категориях снижен.\n",
    "    \n",
    "Возможно, следует провести исследование зависимости возврата кредитов от статуса заемщика: наемный работник, бизнесмен, иждивенец или пенсионер. \n",
    "\n",
    "Портрет ответственного заещика выглядит следующим образом: не имеет детей, находится\\был в официальном браке, уровень дохода менее 50 тысяч рублей, целью кредита является недвижимость. Наименее ответственный заемщик имеет одного-двух детей, не женат(не замужем) или находится в гражданском браке, уровень дохода более 50 тысяч рублей, и берет кредит на свадьбу или обучение. \n",
    "    \n",
    "    \n",
    "</font>\n"
   ]
  }
 ],
 "metadata": {
  "ExecuteTimeLog": [
   {
    "duration": 454,
    "start_time": "2022-09-13T01:49:31.959Z"
   },
   {
    "duration": 63,
    "start_time": "2022-09-13T01:49:42.260Z"
   },
   {
    "duration": 20,
    "start_time": "2022-09-13T01:49:52.332Z"
   },
   {
    "duration": 14,
    "start_time": "2022-09-13T01:50:50.631Z"
   },
   {
    "duration": 10,
    "start_time": "2022-09-13T01:52:24.768Z"
   },
   {
    "duration": 29,
    "start_time": "2022-09-13T01:54:12.800Z"
   },
   {
    "duration": 77,
    "start_time": "2022-09-13T02:01:27.781Z"
   },
   {
    "duration": 108,
    "start_time": "2022-09-13T02:01:35.440Z"
   },
   {
    "duration": 31,
    "start_time": "2022-09-13T02:01:56.061Z"
   },
   {
    "duration": 29,
    "start_time": "2022-09-13T02:06:00.709Z"
   },
   {
    "duration": 44,
    "start_time": "2022-09-13T02:06:22.801Z"
   },
   {
    "duration": 6,
    "start_time": "2022-09-13T02:06:52.540Z"
   },
   {
    "duration": 430,
    "start_time": "2022-09-13T02:10:15.939Z"
   },
   {
    "duration": 22,
    "start_time": "2022-09-13T02:10:16.372Z"
   },
   {
    "duration": 12,
    "start_time": "2022-09-13T02:10:16.396Z"
   },
   {
    "duration": 9,
    "start_time": "2022-09-13T02:10:16.409Z"
   },
   {
    "duration": 34,
    "start_time": "2022-09-13T02:10:16.420Z"
   },
   {
    "duration": 5,
    "start_time": "2022-09-13T02:10:16.456Z"
   },
   {
    "duration": 16,
    "start_time": "2022-09-13T02:10:16.463Z"
   },
   {
    "duration": 25,
    "start_time": "2022-09-13T02:10:16.481Z"
   },
   {
    "duration": 6,
    "start_time": "2022-09-13T02:10:16.508Z"
   },
   {
    "duration": 5,
    "start_time": "2022-09-13T02:10:16.516Z"
   },
   {
    "duration": 31,
    "start_time": "2022-09-13T02:10:16.523Z"
   },
   {
    "duration": 9,
    "start_time": "2022-09-13T02:10:16.555Z"
   },
   {
    "duration": 9,
    "start_time": "2022-09-13T02:10:16.565Z"
   },
   {
    "duration": 34,
    "start_time": "2022-09-13T02:10:16.577Z"
   },
   {
    "duration": 19,
    "start_time": "2022-09-13T02:10:16.613Z"
   },
   {
    "duration": 16,
    "start_time": "2022-09-13T02:10:16.633Z"
   },
   {
    "duration": 3,
    "start_time": "2022-09-13T02:10:16.651Z"
   },
   {
    "duration": 13,
    "start_time": "2022-09-13T02:10:16.655Z"
   },
   {
    "duration": 10,
    "start_time": "2022-09-13T02:10:16.669Z"
   },
   {
    "duration": 25,
    "start_time": "2022-09-13T02:10:16.681Z"
   },
   {
    "duration": 17,
    "start_time": "2022-09-13T02:10:16.708Z"
   },
   {
    "duration": 3,
    "start_time": "2022-09-13T02:10:16.727Z"
   },
   {
    "duration": 10,
    "start_time": "2022-09-13T02:10:16.731Z"
   },
   {
    "duration": 7,
    "start_time": "2022-09-13T02:10:16.743Z"
   },
   {
    "duration": 4,
    "start_time": "2022-09-13T02:10:16.752Z"
   },
   {
    "duration": 9,
    "start_time": "2022-09-13T02:19:11.318Z"
   },
   {
    "duration": 22,
    "start_time": "2022-09-13T02:39:17.097Z"
   },
   {
    "duration": 14,
    "start_time": "2022-09-13T02:39:32.937Z"
   },
   {
    "duration": 14,
    "start_time": "2022-09-13T03:01:31.917Z"
   },
   {
    "duration": 2,
    "start_time": "2022-09-13T03:16:06.237Z"
   },
   {
    "duration": 91,
    "start_time": "2022-09-13T03:21:15.757Z"
   },
   {
    "duration": 7,
    "start_time": "2022-09-13T03:22:07.578Z"
   },
   {
    "duration": 5,
    "start_time": "2022-09-13T03:23:49.778Z"
   },
   {
    "duration": 9,
    "start_time": "2022-09-13T03:24:33.898Z"
   },
   {
    "duration": 9,
    "start_time": "2022-09-13T03:26:16.378Z"
   },
   {
    "duration": 7,
    "start_time": "2022-09-13T03:31:07.438Z"
   },
   {
    "duration": 8,
    "start_time": "2022-09-13T03:38:46.777Z"
   },
   {
    "duration": 7,
    "start_time": "2022-09-13T03:39:16.657Z"
   },
   {
    "duration": 7,
    "start_time": "2022-09-13T03:45:23.857Z"
   },
   {
    "duration": 10,
    "start_time": "2022-09-13T03:45:34.098Z"
   },
   {
    "duration": 8,
    "start_time": "2022-09-13T03:51:09.437Z"
   },
   {
    "duration": 10,
    "start_time": "2022-09-13T04:12:18.658Z"
   },
   {
    "duration": 9,
    "start_time": "2022-09-13T04:12:55.438Z"
   },
   {
    "duration": 1191,
    "start_time": "2022-09-13T06:55:32.785Z"
   },
   {
    "duration": 1151,
    "start_time": "2022-09-13T07:01:27.365Z"
   },
   {
    "duration": 450,
    "start_time": "2022-09-13T07:02:37.226Z"
   },
   {
    "duration": 22,
    "start_time": "2022-09-13T07:02:37.678Z"
   },
   {
    "duration": 14,
    "start_time": "2022-09-13T07:02:37.701Z"
   },
   {
    "duration": 11,
    "start_time": "2022-09-13T07:02:37.717Z"
   },
   {
    "duration": 35,
    "start_time": "2022-09-13T07:02:37.730Z"
   },
   {
    "duration": 5,
    "start_time": "2022-09-13T07:02:37.767Z"
   },
   {
    "duration": 8,
    "start_time": "2022-09-13T07:02:37.773Z"
   },
   {
    "duration": 6,
    "start_time": "2022-09-13T07:02:37.805Z"
   },
   {
    "duration": 10,
    "start_time": "2022-09-13T07:02:37.812Z"
   },
   {
    "duration": 7,
    "start_time": "2022-09-13T07:02:37.823Z"
   },
   {
    "duration": 34,
    "start_time": "2022-09-13T07:02:37.832Z"
   },
   {
    "duration": 8,
    "start_time": "2022-09-13T07:02:37.868Z"
   },
   {
    "duration": 4,
    "start_time": "2022-09-13T07:02:37.877Z"
   },
   {
    "duration": 10,
    "start_time": "2022-09-13T07:02:37.905Z"
   },
   {
    "duration": 50,
    "start_time": "2022-09-13T07:02:37.917Z"
   },
   {
    "duration": 16,
    "start_time": "2022-09-13T07:02:37.968Z"
   },
   {
    "duration": 4,
    "start_time": "2022-09-13T07:02:37.985Z"
   },
   {
    "duration": 15,
    "start_time": "2022-09-13T07:02:37.990Z"
   },
   {
    "duration": 16,
    "start_time": "2022-09-13T07:02:38.007Z"
   },
   {
    "duration": 7,
    "start_time": "2022-09-13T07:02:38.025Z"
   },
   {
    "duration": 22,
    "start_time": "2022-09-13T07:02:38.035Z"
   },
   {
    "duration": 12,
    "start_time": "2022-09-13T07:02:38.059Z"
   },
   {
    "duration": 7,
    "start_time": "2022-09-13T07:02:38.072Z"
   },
   {
    "duration": 417,
    "start_time": "2022-09-13T07:08:23.466Z"
   },
   {
    "duration": 20,
    "start_time": "2022-09-13T07:08:23.885Z"
   },
   {
    "duration": 13,
    "start_time": "2022-09-13T07:08:23.907Z"
   },
   {
    "duration": 10,
    "start_time": "2022-09-13T07:08:23.922Z"
   },
   {
    "duration": 34,
    "start_time": "2022-09-13T07:08:23.934Z"
   },
   {
    "duration": 5,
    "start_time": "2022-09-13T07:08:23.969Z"
   },
   {
    "duration": 34,
    "start_time": "2022-09-13T07:08:23.976Z"
   },
   {
    "duration": 5,
    "start_time": "2022-09-13T07:08:24.012Z"
   },
   {
    "duration": 7,
    "start_time": "2022-09-13T07:08:24.019Z"
   },
   {
    "duration": 5,
    "start_time": "2022-09-13T07:08:24.027Z"
   },
   {
    "duration": 30,
    "start_time": "2022-09-13T07:08:24.033Z"
   },
   {
    "duration": 8,
    "start_time": "2022-09-13T07:08:24.064Z"
   },
   {
    "duration": 32,
    "start_time": "2022-09-13T07:08:24.073Z"
   },
   {
    "duration": 11,
    "start_time": "2022-09-13T07:08:24.109Z"
   },
   {
    "duration": 27,
    "start_time": "2022-09-13T07:08:24.121Z"
   },
   {
    "duration": 17,
    "start_time": "2022-09-13T07:08:24.150Z"
   },
   {
    "duration": 3,
    "start_time": "2022-09-13T07:08:24.168Z"
   },
   {
    "duration": 33,
    "start_time": "2022-09-13T07:08:24.173Z"
   },
   {
    "duration": 5,
    "start_time": "2022-09-13T07:08:24.207Z"
   },
   {
    "duration": 4,
    "start_time": "2022-09-13T07:08:24.213Z"
   },
   {
    "duration": 10,
    "start_time": "2022-09-13T07:08:24.219Z"
   },
   {
    "duration": 9,
    "start_time": "2022-09-13T07:08:24.230Z"
   },
   {
    "duration": 7,
    "start_time": "2022-09-13T07:08:24.241Z"
   },
   {
    "duration": 731,
    "start_time": "2022-09-13T07:08:24.250Z"
   },
   {
    "duration": 3,
    "start_time": "2022-09-13T07:08:24.982Z"
   },
   {
    "duration": 8,
    "start_time": "2022-09-13T07:08:29.426Z"
   },
   {
    "duration": 9,
    "start_time": "2022-09-13T07:08:40.605Z"
   },
   {
    "duration": 104,
    "start_time": "2022-09-13T07:09:39.560Z"
   },
   {
    "duration": 10,
    "start_time": "2022-09-13T07:10:03.432Z"
   },
   {
    "duration": 10,
    "start_time": "2022-09-13T07:12:09.545Z"
   },
   {
    "duration": 10,
    "start_time": "2022-09-13T07:13:21.924Z"
   },
   {
    "duration": 10,
    "start_time": "2022-09-13T07:13:30.665Z"
   },
   {
    "duration": 16,
    "start_time": "2022-09-13T07:14:30.265Z"
   },
   {
    "duration": 1012,
    "start_time": "2022-09-13T07:15:05.179Z"
   },
   {
    "duration": 1036,
    "start_time": "2022-09-13T07:16:50.092Z"
   },
   {
    "duration": 87,
    "start_time": "2022-09-13T07:17:15.932Z"
   },
   {
    "duration": 1178,
    "start_time": "2022-09-13T07:17:22.644Z"
   },
   {
    "duration": 76,
    "start_time": "2022-09-13T07:31:47.200Z"
   },
   {
    "duration": 71,
    "start_time": "2022-09-13T07:32:07.052Z"
   },
   {
    "duration": 15,
    "start_time": "2022-09-13T07:32:27.812Z"
   },
   {
    "duration": 12,
    "start_time": "2022-09-13T07:35:13.732Z"
   },
   {
    "duration": 16,
    "start_time": "2022-09-13T07:37:41.472Z"
   },
   {
    "duration": 16,
    "start_time": "2022-09-13T07:38:03.484Z"
   },
   {
    "duration": 13,
    "start_time": "2022-09-13T07:38:25.612Z"
   },
   {
    "duration": 9,
    "start_time": "2022-09-13T07:41:25.592Z"
   },
   {
    "duration": 43,
    "start_time": "2022-09-13T14:31:32.549Z"
   },
   {
    "duration": 459,
    "start_time": "2022-09-13T14:31:43.550Z"
   },
   {
    "duration": 29,
    "start_time": "2022-09-13T14:31:44.012Z"
   },
   {
    "duration": 13,
    "start_time": "2022-09-13T14:31:44.043Z"
   },
   {
    "duration": 8,
    "start_time": "2022-09-13T14:31:44.058Z"
   },
   {
    "duration": 69,
    "start_time": "2022-09-13T14:31:44.069Z"
   },
   {
    "duration": 5,
    "start_time": "2022-09-13T14:31:44.139Z"
   },
   {
    "duration": 7,
    "start_time": "2022-09-13T14:31:44.146Z"
   },
   {
    "duration": 5,
    "start_time": "2022-09-13T14:31:44.154Z"
   },
   {
    "duration": 8,
    "start_time": "2022-09-13T14:31:44.161Z"
   },
   {
    "duration": 3,
    "start_time": "2022-09-13T14:31:44.171Z"
   },
   {
    "duration": 67,
    "start_time": "2022-09-13T14:31:44.175Z"
   },
   {
    "duration": 11,
    "start_time": "2022-09-13T14:31:44.244Z"
   },
   {
    "duration": 5,
    "start_time": "2022-09-13T14:31:44.256Z"
   },
   {
    "duration": 16,
    "start_time": "2022-09-13T14:31:44.263Z"
   },
   {
    "duration": 37,
    "start_time": "2022-09-13T14:31:44.281Z"
   },
   {
    "duration": 21,
    "start_time": "2022-09-13T14:31:44.320Z"
   },
   {
    "duration": 4,
    "start_time": "2022-09-13T14:31:44.343Z"
   },
   {
    "duration": 10,
    "start_time": "2022-09-13T14:31:44.348Z"
   },
   {
    "duration": 9,
    "start_time": "2022-09-13T14:31:44.359Z"
   },
   {
    "duration": 4,
    "start_time": "2022-09-13T14:31:44.369Z"
   },
   {
    "duration": 38,
    "start_time": "2022-09-13T14:31:44.374Z"
   },
   {
    "duration": 10,
    "start_time": "2022-09-13T14:31:44.413Z"
   },
   {
    "duration": 21,
    "start_time": "2022-09-13T14:31:44.425Z"
   },
   {
    "duration": 10,
    "start_time": "2022-09-13T14:31:44.448Z"
   },
   {
    "duration": 6,
    "start_time": "2022-09-13T14:31:44.460Z"
   },
   {
    "duration": 57,
    "start_time": "2022-09-13T14:32:10.650Z"
   },
   {
    "duration": 10,
    "start_time": "2022-09-13T14:32:51.291Z"
   },
   {
    "duration": 4,
    "start_time": "2022-09-13T14:33:04.539Z"
   },
   {
    "duration": 684,
    "start_time": "2022-09-14T03:57:14.569Z"
   },
   {
    "duration": 20,
    "start_time": "2022-09-14T03:57:15.255Z"
   },
   {
    "duration": 17,
    "start_time": "2022-09-14T03:57:15.277Z"
   },
   {
    "duration": 10,
    "start_time": "2022-09-14T03:57:15.296Z"
   },
   {
    "duration": 48,
    "start_time": "2022-09-14T03:57:15.308Z"
   },
   {
    "duration": 5,
    "start_time": "2022-09-14T03:57:15.357Z"
   },
   {
    "duration": 10,
    "start_time": "2022-09-14T03:57:15.364Z"
   },
   {
    "duration": 5,
    "start_time": "2022-09-14T03:57:15.376Z"
   },
   {
    "duration": 8,
    "start_time": "2022-09-14T03:57:15.382Z"
   },
   {
    "duration": 7,
    "start_time": "2022-09-14T03:57:15.391Z"
   },
   {
    "duration": 68,
    "start_time": "2022-09-14T03:57:15.400Z"
   },
   {
    "duration": 10,
    "start_time": "2022-09-14T03:57:15.469Z"
   },
   {
    "duration": 4,
    "start_time": "2022-09-14T03:57:15.480Z"
   },
   {
    "duration": 12,
    "start_time": "2022-09-14T03:57:15.487Z"
   },
   {
    "duration": 20,
    "start_time": "2022-09-14T03:57:15.501Z"
   },
   {
    "duration": 38,
    "start_time": "2022-09-14T03:57:15.524Z"
   },
   {
    "duration": 4,
    "start_time": "2022-09-14T03:57:15.563Z"
   },
   {
    "duration": 16,
    "start_time": "2022-09-14T03:57:15.568Z"
   },
   {
    "duration": 9,
    "start_time": "2022-09-14T03:57:15.586Z"
   },
   {
    "duration": 4,
    "start_time": "2022-09-14T03:57:15.597Z"
   },
   {
    "duration": 13,
    "start_time": "2022-09-14T03:57:15.602Z"
   },
   {
    "duration": 31,
    "start_time": "2022-09-14T03:57:15.616Z"
   },
   {
    "duration": 8,
    "start_time": "2022-09-14T03:57:15.648Z"
   },
   {
    "duration": 5,
    "start_time": "2022-09-14T03:57:15.657Z"
   },
   {
    "duration": 8,
    "start_time": "2022-09-14T03:57:15.663Z"
   },
   {
    "duration": 10,
    "start_time": "2022-09-14T04:00:33.488Z"
   },
   {
    "duration": 9,
    "start_time": "2022-09-14T04:01:37.688Z"
   },
   {
    "duration": 11,
    "start_time": "2022-09-14T04:01:58.268Z"
   },
   {
    "duration": 9,
    "start_time": "2022-09-14T04:02:20.033Z"
   },
   {
    "duration": 9,
    "start_time": "2022-09-14T04:04:15.646Z"
   },
   {
    "duration": 9,
    "start_time": "2022-09-14T04:04:38.237Z"
   },
   {
    "duration": 423,
    "start_time": "2022-09-14T04:05:59.376Z"
   },
   {
    "duration": 22,
    "start_time": "2022-09-14T04:05:59.800Z"
   },
   {
    "duration": 14,
    "start_time": "2022-09-14T04:05:59.823Z"
   },
   {
    "duration": 9,
    "start_time": "2022-09-14T04:05:59.846Z"
   },
   {
    "duration": 39,
    "start_time": "2022-09-14T04:05:59.856Z"
   },
   {
    "duration": 5,
    "start_time": "2022-09-14T04:05:59.897Z"
   },
   {
    "duration": 8,
    "start_time": "2022-09-14T04:05:59.904Z"
   },
   {
    "duration": 34,
    "start_time": "2022-09-14T04:05:59.914Z"
   },
   {
    "duration": 11,
    "start_time": "2022-09-14T04:05:59.950Z"
   },
   {
    "duration": 7,
    "start_time": "2022-09-14T04:05:59.963Z"
   },
   {
    "duration": 36,
    "start_time": "2022-09-14T04:05:59.971Z"
   },
   {
    "duration": 11,
    "start_time": "2022-09-14T04:06:00.009Z"
   },
   {
    "duration": 4,
    "start_time": "2022-09-14T04:06:00.048Z"
   },
   {
    "duration": 23,
    "start_time": "2022-09-14T04:06:00.054Z"
   },
   {
    "duration": 24,
    "start_time": "2022-09-14T04:06:00.078Z"
   },
   {
    "duration": 17,
    "start_time": "2022-09-14T04:06:00.104Z"
   },
   {
    "duration": 7,
    "start_time": "2022-09-14T04:06:00.123Z"
   },
   {
    "duration": 10,
    "start_time": "2022-09-14T04:06:00.147Z"
   },
   {
    "duration": 16,
    "start_time": "2022-09-14T04:06:00.159Z"
   },
   {
    "duration": 17,
    "start_time": "2022-09-14T04:06:00.176Z"
   },
   {
    "duration": 36,
    "start_time": "2022-09-14T04:06:00.194Z"
   },
   {
    "duration": 22,
    "start_time": "2022-09-14T04:06:00.231Z"
   },
   {
    "duration": 25,
    "start_time": "2022-09-14T04:06:00.256Z"
   },
   {
    "duration": 24,
    "start_time": "2022-09-14T04:06:00.283Z"
   },
   {
    "duration": 19,
    "start_time": "2022-09-14T04:06:00.309Z"
   },
   {
    "duration": 68,
    "start_time": "2022-09-14T04:07:00.233Z"
   },
   {
    "duration": 15,
    "start_time": "2022-09-14T04:07:28.745Z"
   },
   {
    "duration": 4,
    "start_time": "2022-09-14T04:10:13.185Z"
   },
   {
    "duration": 7,
    "start_time": "2022-09-14T04:10:18.063Z"
   },
   {
    "duration": 7,
    "start_time": "2022-09-14T04:10:24.564Z"
   },
   {
    "duration": 14,
    "start_time": "2022-09-14T04:17:43.033Z"
   },
   {
    "duration": 20,
    "start_time": "2022-09-14T04:19:58.044Z"
   },
   {
    "duration": 10,
    "start_time": "2022-09-14T04:35:52.910Z"
   },
   {
    "duration": 8,
    "start_time": "2022-09-14T04:39:18.305Z"
   },
   {
    "duration": 664,
    "start_time": "2022-09-15T03:16:45.745Z"
   },
   {
    "duration": 20,
    "start_time": "2022-09-15T03:16:46.411Z"
   },
   {
    "duration": 13,
    "start_time": "2022-09-15T03:16:46.432Z"
   },
   {
    "duration": 8,
    "start_time": "2022-09-15T03:16:46.447Z"
   },
   {
    "duration": 36,
    "start_time": "2022-09-15T03:16:46.457Z"
   },
   {
    "duration": 4,
    "start_time": "2022-09-15T03:16:46.495Z"
   },
   {
    "duration": 8,
    "start_time": "2022-09-15T03:16:46.521Z"
   },
   {
    "duration": 4,
    "start_time": "2022-09-15T03:16:46.530Z"
   },
   {
    "duration": 8,
    "start_time": "2022-09-15T03:16:46.536Z"
   },
   {
    "duration": 5,
    "start_time": "2022-09-15T03:16:46.545Z"
   },
   {
    "duration": 33,
    "start_time": "2022-09-15T03:16:46.551Z"
   },
   {
    "duration": 8,
    "start_time": "2022-09-15T03:16:46.586Z"
   },
   {
    "duration": 3,
    "start_time": "2022-09-15T03:16:46.622Z"
   },
   {
    "duration": 10,
    "start_time": "2022-09-15T03:16:46.628Z"
   },
   {
    "duration": 17,
    "start_time": "2022-09-15T03:16:46.640Z"
   },
   {
    "duration": 15,
    "start_time": "2022-09-15T03:16:46.658Z"
   },
   {
    "duration": 3,
    "start_time": "2022-09-15T03:16:46.674Z"
   },
   {
    "duration": 11,
    "start_time": "2022-09-15T03:16:46.678Z"
   },
   {
    "duration": 34,
    "start_time": "2022-09-15T03:16:46.691Z"
   },
   {
    "duration": 4,
    "start_time": "2022-09-15T03:16:46.727Z"
   },
   {
    "duration": 18,
    "start_time": "2022-09-15T03:16:46.733Z"
   },
   {
    "duration": 8,
    "start_time": "2022-09-15T03:16:46.752Z"
   },
   {
    "duration": 6,
    "start_time": "2022-09-15T03:16:46.761Z"
   },
   {
    "duration": 9,
    "start_time": "2022-09-15T03:16:46.768Z"
   },
   {
    "duration": 7,
    "start_time": "2022-09-15T03:16:46.778Z"
   },
   {
    "duration": 39,
    "start_time": "2022-09-15T03:23:08.325Z"
   },
   {
    "duration": 33,
    "start_time": "2022-09-15T03:31:11.323Z"
   },
   {
    "duration": 34,
    "start_time": "2022-09-15T03:32:03.145Z"
   },
   {
    "duration": 38,
    "start_time": "2022-09-15T03:36:03.964Z"
   },
   {
    "duration": 37,
    "start_time": "2022-09-15T03:37:26.765Z"
   },
   {
    "duration": 38,
    "start_time": "2022-09-15T03:42:04.884Z"
   },
   {
    "duration": 33,
    "start_time": "2022-09-15T03:42:48.584Z"
   },
   {
    "duration": 34,
    "start_time": "2022-09-15T03:44:47.204Z"
   },
   {
    "duration": 8,
    "start_time": "2022-09-15T03:55:53.098Z"
   },
   {
    "duration": 48,
    "start_time": "2022-09-15T04:05:45.138Z"
   },
   {
    "duration": 53,
    "start_time": "2022-09-15T04:11:52.478Z"
   },
   {
    "duration": 51,
    "start_time": "2022-09-15T04:12:10.579Z"
   },
   {
    "duration": 51,
    "start_time": "2022-09-15T04:13:45.438Z"
   },
   {
    "duration": 52,
    "start_time": "2022-09-15T04:14:24.778Z"
   },
   {
    "duration": 53,
    "start_time": "2022-09-15T04:15:09.079Z"
   },
   {
    "duration": 55,
    "start_time": "2022-09-15T04:15:21.458Z"
   },
   {
    "duration": 66,
    "start_time": "2022-09-15T04:20:36.557Z"
   },
   {
    "duration": 704,
    "start_time": "2022-09-15T06:59:28.205Z"
   },
   {
    "duration": 19,
    "start_time": "2022-09-15T06:59:28.911Z"
   },
   {
    "duration": 13,
    "start_time": "2022-09-15T06:59:28.932Z"
   },
   {
    "duration": 8,
    "start_time": "2022-09-15T06:59:28.946Z"
   },
   {
    "duration": 68,
    "start_time": "2022-09-15T06:59:28.957Z"
   },
   {
    "duration": 5,
    "start_time": "2022-09-15T06:59:29.027Z"
   },
   {
    "duration": 18,
    "start_time": "2022-09-15T06:59:29.034Z"
   },
   {
    "duration": 4,
    "start_time": "2022-09-15T06:59:29.054Z"
   },
   {
    "duration": 7,
    "start_time": "2022-09-15T06:59:29.059Z"
   },
   {
    "duration": 5,
    "start_time": "2022-09-15T06:59:29.068Z"
   },
   {
    "duration": 52,
    "start_time": "2022-09-15T06:59:29.074Z"
   },
   {
    "duration": 8,
    "start_time": "2022-09-15T06:59:29.128Z"
   },
   {
    "duration": 3,
    "start_time": "2022-09-15T06:59:29.138Z"
   },
   {
    "duration": 12,
    "start_time": "2022-09-15T06:59:29.144Z"
   },
   {
    "duration": 25,
    "start_time": "2022-09-15T06:59:29.158Z"
   },
   {
    "duration": 36,
    "start_time": "2022-09-15T06:59:29.185Z"
   },
   {
    "duration": 3,
    "start_time": "2022-09-15T06:59:29.223Z"
   },
   {
    "duration": 11,
    "start_time": "2022-09-15T06:59:29.228Z"
   },
   {
    "duration": 10,
    "start_time": "2022-09-15T06:59:29.241Z"
   },
   {
    "duration": 3,
    "start_time": "2022-09-15T06:59:29.252Z"
   },
   {
    "duration": 15,
    "start_time": "2022-09-15T06:59:29.256Z"
   },
   {
    "duration": 56,
    "start_time": "2022-09-15T06:59:29.273Z"
   },
   {
    "duration": 8,
    "start_time": "2022-09-15T06:59:29.331Z"
   },
   {
    "duration": 81,
    "start_time": "2022-09-15T06:59:29.340Z"
   },
   {
    "duration": 8,
    "start_time": "2022-09-15T06:59:29.422Z"
   },
   {
    "duration": 67,
    "start_time": "2022-09-15T07:01:31.624Z"
   },
   {
    "duration": 75,
    "start_time": "2022-09-15T07:02:18.005Z"
   },
   {
    "duration": 65,
    "start_time": "2022-09-15T07:05:18.900Z"
   },
   {
    "duration": 66,
    "start_time": "2022-09-15T07:07:20.705Z"
   },
   {
    "duration": 66,
    "start_time": "2022-09-15T07:11:32.909Z"
   },
   {
    "duration": 68,
    "start_time": "2022-09-15T07:11:47.365Z"
   },
   {
    "duration": 76,
    "start_time": "2022-09-15T07:12:10.069Z"
   },
   {
    "duration": 70,
    "start_time": "2022-09-15T07:12:28.265Z"
   },
   {
    "duration": 36,
    "start_time": "2022-09-15T07:35:05.890Z"
   },
   {
    "duration": 35,
    "start_time": "2022-09-15T07:36:07.730Z"
   },
   {
    "duration": 46,
    "start_time": "2022-09-15T07:39:05.330Z"
   },
   {
    "duration": 36,
    "start_time": "2022-09-15T07:39:26.071Z"
   },
   {
    "duration": 49,
    "start_time": "2022-09-15T07:44:42.390Z"
   },
   {
    "duration": 45,
    "start_time": "2022-09-15T07:46:36.990Z"
   },
   {
    "duration": 9,
    "start_time": "2022-09-15T08:04:34.553Z"
   },
   {
    "duration": 14,
    "start_time": "2022-09-15T08:13:27.854Z"
   },
   {
    "duration": 8,
    "start_time": "2022-09-15T08:22:03.272Z"
   },
   {
    "duration": 8,
    "start_time": "2022-09-15T08:23:09.371Z"
   },
   {
    "duration": 707,
    "start_time": "2022-09-17T01:45:22.506Z"
   },
   {
    "duration": 22,
    "start_time": "2022-09-17T01:45:23.215Z"
   },
   {
    "duration": 14,
    "start_time": "2022-09-17T01:45:23.239Z"
   },
   {
    "duration": 9,
    "start_time": "2022-09-17T01:45:23.254Z"
   },
   {
    "duration": 37,
    "start_time": "2022-09-17T01:45:23.265Z"
   },
   {
    "duration": 5,
    "start_time": "2022-09-17T01:45:23.321Z"
   },
   {
    "duration": 9,
    "start_time": "2022-09-17T01:45:23.328Z"
   },
   {
    "duration": 4,
    "start_time": "2022-09-17T01:45:23.338Z"
   },
   {
    "duration": 8,
    "start_time": "2022-09-17T01:45:23.343Z"
   },
   {
    "duration": 6,
    "start_time": "2022-09-17T01:45:23.352Z"
   },
   {
    "duration": 30,
    "start_time": "2022-09-17T01:45:23.359Z"
   },
   {
    "duration": 33,
    "start_time": "2022-09-17T01:45:23.390Z"
   },
   {
    "duration": 3,
    "start_time": "2022-09-17T01:45:23.424Z"
   },
   {
    "duration": 14,
    "start_time": "2022-09-17T01:45:23.429Z"
   },
   {
    "duration": 23,
    "start_time": "2022-09-17T01:45:23.444Z"
   },
   {
    "duration": 14,
    "start_time": "2022-09-17T01:45:23.468Z"
   },
   {
    "duration": 3,
    "start_time": "2022-09-17T01:45:23.484Z"
   },
   {
    "duration": 13,
    "start_time": "2022-09-17T01:45:23.488Z"
   },
   {
    "duration": 20,
    "start_time": "2022-09-17T01:45:23.502Z"
   },
   {
    "duration": 3,
    "start_time": "2022-09-17T01:45:23.524Z"
   },
   {
    "duration": 22,
    "start_time": "2022-09-17T01:45:23.528Z"
   },
   {
    "duration": 40,
    "start_time": "2022-09-17T01:45:23.552Z"
   },
   {
    "duration": 6,
    "start_time": "2022-09-17T01:45:23.594Z"
   },
   {
    "duration": 28,
    "start_time": "2022-09-17T01:45:23.601Z"
   },
   {
    "duration": 6,
    "start_time": "2022-09-17T01:45:23.630Z"
   }
  ],
  "colab": {
   "name": "dpp_template_part2.ipynb",
   "provenance": []
  },
  "kernelspec": {
   "display_name": "Python 3 (ipykernel)",
   "language": "python",
   "name": "python3"
  },
  "language_info": {
   "codemirror_mode": {
    "name": "ipython",
    "version": 3
   },
   "file_extension": ".py",
   "mimetype": "text/x-python",
   "name": "python",
   "nbconvert_exporter": "python",
   "pygments_lexer": "ipython3",
   "version": "3.9.12"
  },
  "toc": {
   "base_numbering": 1,
   "nav_menu": {},
   "number_sections": true,
   "sideBar": true,
   "skip_h1_title": true,
   "title_cell": "Table of Contents",
   "title_sidebar": "Contents",
   "toc_cell": false,
   "toc_position": {},
   "toc_section_display": true,
   "toc_window_display": false
  }
 },
 "nbformat": 4,
 "nbformat_minor": 5
}
