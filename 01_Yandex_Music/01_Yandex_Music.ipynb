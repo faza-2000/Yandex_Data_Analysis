{
 "cells": [
  {
   "cell_type": "markdown",
   "metadata": {
    "id": "E0vqbgi9ay0H"
   },
   "source": [
    "# Яндекс Музыка"
   ]
  },
  {
   "cell_type": "markdown",
   "metadata": {
    "id": "VUC88oWjTJw2"
   },
   "source": [
    "Сравнение Москвы и Петербурга окружено мифами. Например:\n",
    " * Москва — мегаполис, подчинённый жёсткому ритму рабочей недели;\n",
    " * Петербург — культурная столица, со своими вкусами.\n",
    "\n",
    "На данных Яндекс Музыки вы сравните поведение пользователей двух столиц.\n",
    "\n",
    "**Цель исследования** — проверьте три гипотезы:\n",
    "1. Активность пользователей зависит от дня недели. Причём в Москве и Петербурге это проявляется по-разному.\n",
    "2. В понедельник утром в Москве преобладают одни жанры, а в Петербурге — другие. Так же и вечером пятницы преобладают разные жанры — в зависимости от города. \n",
    "3. Москва и Петербург предпочитают разные жанры музыки. В Москве чаще слушают поп-музыку, в Петербурге — русский рэп.\n",
    "\n",
    "**Ход исследования**\n",
    "\n",
    "Данные о поведении пользователей вы получите из файла `yandex_music_project.csv`. О качестве данных ничего не известно. Поэтому перед проверкой гипотез понадобится обзор данных. \n",
    "\n",
    "Вы проверите данные на ошибки и оцените их влияние на исследование. Затем, на этапе предобработки вы поищете возможность исправить самые критичные ошибки данных.\n",
    " \n",
    "Таким образом, исследование пройдёт в три этапа:\n",
    " 1. Обзор данных.\n",
    " 2. Предобработка данных.\n",
    " 3. Проверка гипотез.\n",
    "\n"
   ]
  },
  {
   "cell_type": "code",
   "execution_count": 1,
   "metadata": {
    "id": "AXN7PHPN_Zcs"
   },
   "outputs": [],
   "source": [
    "# импорт библиотеки pandas\n",
    "import pandas as pd"
   ]
  },
  {
   "cell_type": "code",
   "execution_count": 2,
   "metadata": {
    "id": "fFVu7vqh_Zct"
   },
   "outputs": [],
   "source": [
    "# чтение файла с данными и сохранение в df\n",
    "df=pd.read_csv('/datasets/yandex_music_project.csv')\n",
    "df.to_csv('file_name.csv', index=true)"
   ]
  },
  {
   "cell_type": "code",
   "execution_count": 3,
   "metadata": {
    "id": "oWTVX3gW_Zct"
   },
   "outputs": [
    {
     "name": "stdout",
     "output_type": "stream",
     "text": [
      "     userID                        Track            artist   genre  \\\n",
      "0  FFB692EC            Kamigata To Boots  The Mass Missile    rock   \n",
      "1  55204538  Delayed Because of Accident  Andreas Rönnberg    rock   \n",
      "2    20EC38            Funiculì funiculà       Mario Lanza     pop   \n",
      "3  A3DD03C9        Dragons in the Sunset        Fire + Ice    folk   \n",
      "4  E2DC1FAE                  Soul People        Space Echo   dance   \n",
      "5  842029A1                    Преданная         IMPERVTOR  rusrap   \n",
      "6  4CB90AA5                         True      Roman Messer   dance   \n",
      "7  F03E1C1F             Feeling This Way   Polina Griffith   dance   \n",
      "8  8FA1D3BE     И вновь продолжается бой               NaN  ruspop   \n",
      "9  E772D5C0                    Pessimist               NaN   dance   \n",
      "\n",
      "             City        time        Day  \n",
      "0  Saint-Petersburg  20:28:33  Wednesday  \n",
      "1            Moscow  14:07:09     Friday  \n",
      "2  Saint-Petersburg  20:58:07  Wednesday  \n",
      "3  Saint-Petersburg  08:37:09     Monday  \n",
      "4            Moscow  08:34:34     Monday  \n",
      "5  Saint-Petersburg  13:09:41     Friday  \n",
      "6            Moscow  13:00:07  Wednesday  \n",
      "7            Moscow  20:47:49  Wednesday  \n",
      "8            Moscow  09:17:40     Friday  \n",
      "9  Saint-Petersburg  21:20:49  Wednesday  \n"
     ]
    }
   ],
   "source": [
    "# получение первых 10 строк таблицы df\n",
    "print(df.head(10))"
   ]
  },
  {
   "cell_type": "code",
   "execution_count": 4,
   "metadata": {
    "id": "DSf2kIb-_Zct"
   },
   "outputs": [
    {
     "name": "stdout",
     "output_type": "stream",
     "text": [
      "<class 'pandas.core.frame.DataFrame'>\n",
      "RangeIndex: 65079 entries, 0 to 65078\n",
      "Data columns (total 7 columns):\n",
      " #   Column    Non-Null Count  Dtype \n",
      "---  ------    --------------  ----- \n",
      " 0     userID  65079 non-null  object\n",
      " 1   Track     63848 non-null  object\n",
      " 2   artist    57876 non-null  object\n",
      " 3   genre     63881 non-null  object\n",
      " 4     City    65079 non-null  object\n",
      " 5   time      65079 non-null  object\n",
      " 6   Day       65079 non-null  object\n",
      "dtypes: object(7)\n",
      "memory usage: 3.5+ MB\n"
     ]
    }
   ],
   "source": [
    "# получение общей информации о данных в таблице df\n",
    "df.info()"
   ]
  },
  {
   "cell_type": "markdown",
   "metadata": {
    "id": "TaQ2Iwbr_Zct"
   },
   "source": [
    "Итак, в таблице семь столбцов. Тип данных во всех столбцах — `object`.\n",
    "\n",
    "Согласно документации к данным:\n",
    "* `userID` — идентификатор пользователя;\n",
    "* `Track` — название трека;  \n",
    "* `artist` — имя исполнителя;\n",
    "* `genre` — название жанра;\n",
    "* `City` — город пользователя;\n",
    "* `time` — время начала прослушивания;\n",
    "* `Day` — день недели.\n",
    "\n",
    "Количество значений в столбцах различается. Значит, в данных есть пропущенные значения."
   ]
  },
  {
   "cell_type": "markdown",
   "metadata": {
    "id": "MCB6-dXG_Zct"
   },
   "source": [
    "**Выводы**\n",
    "\n",
    "В каждой строке таблицы — данные о прослушанном треке. Часть колонок описывает саму композицию: название, исполнителя и жанр. Остальные данные рассказывают о пользователе: из какого он города, когда он слушал музыку. \n",
    "\n",
    "Предварительно можно утверждать, что данных достаточно для проверки гипотез. Но встречаются пропуски в данных, а в названиях колонок — расхождения с хорошим стилем.\n",
    "\n",
    "Чтобы двигаться дальше, нужно устранить проблемы в данных."
   ]
  },
  {
   "cell_type": "markdown",
   "metadata": {
    "id": "SjYF6Ub9_Zct"
   },
   "source": [
    "## Предобработка данных\n",
    "Исправим стиль в заголовках столбцов, исключим пропуски. Затем проверим данные на дубликаты."
   ]
  },
  {
   "cell_type": "code",
   "execution_count": 6,
   "metadata": {
    "id": "oKOTdF_Q_Zct"
   },
   "outputs": [
    {
     "name": "stdout",
     "output_type": "stream",
     "text": [
      "Index(['  userID', 'Track', 'artist', 'genre', '  City  ', 'time', 'Day'], dtype='object')\n"
     ]
    }
   ],
   "source": [
    "# перечень названий столбцов таблицы df\n",
    "print(df.columns)"
   ]
  },
  {
   "cell_type": "markdown",
   "metadata": {
    "id": "zj5534cv_Zct",
    "tags": [
     "start_task"
    ]
   },
   "source": [
    "Приведём названия в соответствие с хорошим стилем:\n",
    "* несколько слов в названии запишите в «змеином_регистре»,\n",
    "* все символы сделайте строчными,\n",
    "* устраните пробелы.\n",
    "\n",
    "Для этого переименуем колонки так:\n",
    "* `'  userID'` → `'user_id'`;\n",
    "* `'Track'` → `'track'`;\n",
    "* `'  City  '` → `'city'`;\n",
    "* `'Day'` → `'day'`."
   ]
  },
  {
   "cell_type": "code",
   "execution_count": 7,
   "metadata": {
    "id": "ISlFqs5y_Zct"
   },
   "outputs": [],
   "source": [
    "# переименование столбцов\n",
    "df=df.rename(columns={'  userID': 'user_id', 'Track': 'track', '  City  ': 'city', 'Day':'day'})"
   ]
  },
  {
   "cell_type": "code",
   "execution_count": 8,
   "metadata": {
    "id": "d4NOAmTW_Zct"
   },
   "outputs": [
    {
     "name": "stdout",
     "output_type": "stream",
     "text": [
      "Index(['user_id', 'track', 'artist', 'genre', 'city', 'time', 'day'], dtype='object')\n"
     ]
    }
   ],
   "source": [
    "# проверка результатов - перечень названий столбцов\n",
    "print(df.columns)"
   ]
  },
  {
   "cell_type": "markdown",
   "metadata": {
    "id": "5ISfbcfY_Zct",
    "tags": [
     "start_task"
    ]
   },
   "source": [
    "### Пропуски значений\n",
    "\n",
    "Посчитаем, сколько в таблице пропущенных значений. "
   ]
  },
  {
   "cell_type": "code",
   "execution_count": 9,
   "metadata": {
    "id": "RskX29qr_Zct"
   },
   "outputs": [
    {
     "name": "stdout",
     "output_type": "stream",
     "text": [
      "user_id       0\n",
      "track      1231\n",
      "artist     7203\n",
      "genre      1198\n",
      "city          0\n",
      "time          0\n",
      "day           0\n",
      "dtype: int64\n"
     ]
    }
   ],
   "source": [
    "# подсчёт пропусков\n",
    "print(df.isna().sum())"
   ]
  },
  {
   "cell_type": "markdown",
   "metadata": {
    "id": "qubhgnlO_Zct"
   },
   "source": [
    "Не все пропущенные значения влияют на исследование. Так в `track` и `artist` пропуски не важны для вашей работы. Достаточно заменить их явными обозначениями.\n",
    "\n",
    "Но пропуски в `genre` могут помешать сравнению музыкальных вкусов в Москве и Санкт-Петербурге. На практике было бы правильно установить причину пропусков и восстановить данные. Такой возможности нет в учебном проекте. Придётся:\n",
    "* заполнить и эти пропуски явными обозначениями;\n",
    "* оценить, насколько они повредят расчётам. "
   ]
  },
  {
   "cell_type": "markdown",
   "metadata": {
    "id": "fSv2laPA_Zct",
    "tags": [
     "start_task"
    ]
   },
   "source": [
    "Заменим пропущенные значения в столбцах `track`, `artist` и `genre` на строку `'unknown'`. Для этого создадим список `columns_to_replace`, переберем его элементы циклом `for` и для каждого столбца выполним замену пропущенных значений:"
   ]
  },
  {
   "cell_type": "code",
   "execution_count": 10,
   "metadata": {
    "id": "KplB5qWs_Zct"
   },
   "outputs": [],
   "source": [
    "# перебор названий столбцов в цикле и замена пропущенных значений на 'unknown'\n",
    "columns_to_replace = ['track', 'artist', 'genre']\n",
    "for _ in columns_to_replace:\n",
    "    df[_]=df[_].fillna('unknown')    "
   ]
  },
  {
   "cell_type": "markdown",
   "metadata": {
    "id": "Ilsm-MZo_Zct",
    "tags": [
     "start_task"
    ]
   },
   "source": [
    "Убедимся, что в таблице не осталось пропусков."
   ]
  },
  {
   "cell_type": "code",
   "execution_count": 11,
   "metadata": {
    "id": "Tq4nYRX4_Zct"
   },
   "outputs": [
    {
     "name": "stdout",
     "output_type": "stream",
     "text": [
      "user_id    0\n",
      "track      0\n",
      "artist     0\n",
      "genre      0\n",
      "city       0\n",
      "time       0\n",
      "day        0\n",
      "dtype: int64\n"
     ]
    }
   ],
   "source": [
    "# подсчёт пропусков\n",
    "print(df.isna().sum())"
   ]
  },
  {
   "cell_type": "markdown",
   "metadata": {
    "id": "BWKRtBJ3_Zct",
    "tags": [
     "start_task"
    ]
   },
   "source": [
    "### Дубликаты"
   ]
  },
  {
   "cell_type": "code",
   "execution_count": 12,
   "metadata": {
    "id": "36eES_S0_Zct"
   },
   "outputs": [
    {
     "name": "stdout",
     "output_type": "stream",
     "text": [
      "3826\n"
     ]
    }
   ],
   "source": [
    "# подсчёт явных дубликатов\n",
    "print(df.duplicated().sum())"
   ]
  },
  {
   "cell_type": "code",
   "execution_count": 13,
   "metadata": {
    "id": "exFHq6tt_Zct"
   },
   "outputs": [],
   "source": [
    "# удаление явных дубликатов\n",
    "df = df.drop_duplicates()"
   ]
  },
  {
   "cell_type": "code",
   "execution_count": 14,
   "metadata": {
    "id": "-8PuNWQ0_Zct"
   },
   "outputs": [
    {
     "name": "stdout",
     "output_type": "stream",
     "text": [
      "0\n"
     ]
    }
   ],
   "source": [
    "# проверка на отсутствие дубликатов\n",
    "print(df.duplicated().sum())"
   ]
  },
  {
   "cell_type": "markdown",
   "metadata": {
    "id": "eSjWwsOh_Zct",
    "tags": [
     "start_task"
    ]
   },
   "source": [
    "Выведем на экран список уникальных названий жанров, отсортированный в алфавитном порядке. Для этого:\n",
    "1. извлечем нужный столбец датафрейма; \n",
    "2. применим к нему метод сортировки;\n",
    "3. для отсортированного столбца вызовем метод, который вернёт уникальные значения из столбца."
   ]
  },
  {
   "cell_type": "code",
   "execution_count": 15,
   "metadata": {
    "id": "JIUcqzZN_Zct"
   },
   "outputs": [
    {
     "name": "stdout",
     "output_type": "stream",
     "text": [
      "['acid' 'acoustic' 'action' 'adult' 'africa' 'afrikaans' 'alternative'\n",
      " 'alternativepunk' 'ambient' 'americana' 'animated' 'anime' 'arabesk'\n",
      " 'arabic' 'arena' 'argentinetango' 'art' 'audiobook' 'author' 'avantgarde'\n",
      " 'axé' 'baile' 'balkan' 'beats' 'bigroom' 'black' 'bluegrass' 'blues'\n",
      " 'bollywood' 'bossa' 'brazilian' 'breakbeat' 'breaks' 'broadway'\n",
      " 'cantautori' 'cantopop' 'canzone' 'caribbean' 'caucasian' 'celtic'\n",
      " 'chamber' 'chanson' 'children' 'chill' 'chinese' 'choral' 'christian'\n",
      " 'christmas' 'classical' 'classicmetal' 'club' 'colombian' 'comedy'\n",
      " 'conjazz' 'contemporary' 'country' 'cuban' 'dance' 'dancehall' 'dancepop'\n",
      " 'dark' 'death' 'deep' 'deutschrock' 'deutschspr' 'dirty' 'disco' 'dnb'\n",
      " 'documentary' 'downbeat' 'downtempo' 'drum' 'dub' 'dubstep' 'eastern'\n",
      " 'easy' 'electronic' 'electropop' 'emo' 'entehno' 'epicmetal' 'estrada'\n",
      " 'ethnic' 'eurofolk' 'european' 'experimental' 'extrememetal' 'fado'\n",
      " 'fairytail' 'film' 'fitness' 'flamenco' 'folk' 'folklore' 'folkmetal'\n",
      " 'folkrock' 'folktronica' 'forró' 'frankreich' 'französisch' 'french'\n",
      " 'funk' 'future' 'gangsta' 'garage' 'german' 'ghazal' 'gitarre' 'glitch'\n",
      " 'gospel' 'gothic' 'grime' 'grunge' 'gypsy' 'handsup' \"hard'n'heavy\"\n",
      " 'hardcore' 'hardstyle' 'hardtechno' 'hip' 'hip-hop' 'hiphop' 'historisch'\n",
      " 'holiday' 'hop' 'horror' 'house' 'hymn' 'idm' 'independent' 'indian'\n",
      " 'indie' 'indipop' 'industrial' 'inspirational' 'instrumental'\n",
      " 'international' 'irish' 'jam' 'japanese' 'jazz' 'jewish' 'jpop' 'jungle'\n",
      " 'k-pop' 'karadeniz' 'karaoke' 'kayokyoku' 'korean' 'laiko' 'latin'\n",
      " 'latino' 'leftfield' 'local' 'lounge' 'loungeelectronic' 'lovers'\n",
      " 'malaysian' 'mandopop' 'marschmusik' 'meditative' 'mediterranean'\n",
      " 'melodic' 'metal' 'metalcore' 'mexican' 'middle' 'minimal'\n",
      " 'miscellaneous' 'modern' 'mood' 'mpb' 'muslim' 'native' 'neoklassik'\n",
      " 'neue' 'new' 'newage' 'newwave' 'nu' 'nujazz' 'numetal' 'oceania' 'old'\n",
      " 'opera' 'orchestral' 'other' 'piano' 'podcasts' 'pop' 'popdance'\n",
      " 'popelectronic' 'popeurodance' 'poprussian' 'post' 'posthardcore'\n",
      " 'postrock' 'power' 'progmetal' 'progressive' 'psychedelic' 'punjabi'\n",
      " 'punk' 'quebecois' 'ragga' 'ram' 'rancheras' 'rap' 'rave' 'reggae'\n",
      " 'reggaeton' 'regional' 'relax' 'religious' 'retro' 'rhythm' 'rnb' 'rnr'\n",
      " 'rock' 'rockabilly' 'rockalternative' 'rockindie' 'rockother' 'romance'\n",
      " 'roots' 'ruspop' 'rusrap' 'rusrock' 'russian' 'salsa' 'samba' 'scenic'\n",
      " 'schlager' 'self' 'sertanejo' 'shanson' 'shoegazing' 'showtunes' 'singer'\n",
      " 'ska' 'skarock' 'slow' 'smooth' 'soft' 'soul' 'soulful' 'sound'\n",
      " 'soundtrack' 'southern' 'specialty' 'speech' 'spiritual' 'sport'\n",
      " 'stonerrock' 'surf' 'swing' 'synthpop' 'synthrock' 'sängerportrait'\n",
      " 'tango' 'tanzorchester' 'taraftar' 'tatar' 'tech' 'techno' 'teen'\n",
      " 'thrash' 'top' 'traditional' 'tradjazz' 'trance' 'tribal' 'trip'\n",
      " 'triphop' 'tropical' 'türk' 'türkçe' 'ukrrock' 'unknown' 'urban' 'uzbek'\n",
      " 'variété' 'vi' 'videogame' 'vocal' 'western' 'world' 'worldbeat' 'ïîï'\n",
      " 'электроника']\n"
     ]
    }
   ],
   "source": [
    "# Просмотр уникальных названий жанров\n",
    "#df=df.sort_values(by=['genre'])\n",
    "\n",
    "print(df['genre'].sort_values().unique())"
   ]
  },
  {
   "cell_type": "markdown",
   "metadata": {
    "id": "qej-Qmuo_Zct",
    "tags": [
     "start_task"
    ]
   },
   "source": [
    "При просмотре списка нашли неявные дубликаты названия `hiphop`. Это могут быть названия с ошибками или альтернативные названия того же жанра:\n",
    "* *hip*,\n",
    "* *hop*,\n",
    "* *hip-hop*.\n",
    "\n",
    "Чтобы очистить от них таблицу используем метод `replace()` с двумя аргументами: списком строк-дубликатов (включащий *hip*, *hop* и *hip-hop*) и строкой с правильным значением. \n",
    "Исправим колонку `genre` в таблице `df`: заменим каждое значение из списка дубликатов на верное. Вместо `hip`, `hop` и `hip-hop` в таблице должно быть значение `hiphop`:"
   ]
  },
  {
   "cell_type": "code",
   "execution_count": 16,
   "metadata": {
    "id": "ErNDkmns_Zct"
   },
   "outputs": [],
   "source": [
    "# Устранение неявных дубликатов\n",
    "dupl = ['hip', 'hop', 'hip-hop']\n",
    "name = 'hiphop'\n",
    "df['genre']=df['genre'].replace(dupl, name)"
   ]
  },
  {
   "cell_type": "code",
   "execution_count": 17,
   "metadata": {
    "id": "wvixALnFG15m"
   },
   "outputs": [
    {
     "name": "stdout",
     "output_type": "stream",
     "text": [
      "['acid' 'acoustic' 'action' 'adult' 'africa' 'afrikaans' 'alternative'\n",
      " 'alternativepunk' 'ambient' 'americana' 'animated' 'anime' 'arabesk'\n",
      " 'arabic' 'arena' 'argentinetango' 'art' 'audiobook' 'author' 'avantgarde'\n",
      " 'axé' 'baile' 'balkan' 'beats' 'bigroom' 'black' 'bluegrass' 'blues'\n",
      " 'bollywood' 'bossa' 'brazilian' 'breakbeat' 'breaks' 'broadway'\n",
      " 'cantautori' 'cantopop' 'canzone' 'caribbean' 'caucasian' 'celtic'\n",
      " 'chamber' 'chanson' 'children' 'chill' 'chinese' 'choral' 'christian'\n",
      " 'christmas' 'classical' 'classicmetal' 'club' 'colombian' 'comedy'\n",
      " 'conjazz' 'contemporary' 'country' 'cuban' 'dance' 'dancehall' 'dancepop'\n",
      " 'dark' 'death' 'deep' 'deutschrock' 'deutschspr' 'dirty' 'disco' 'dnb'\n",
      " 'documentary' 'downbeat' 'downtempo' 'drum' 'dub' 'dubstep' 'eastern'\n",
      " 'easy' 'electronic' 'electropop' 'emo' 'entehno' 'epicmetal' 'estrada'\n",
      " 'ethnic' 'eurofolk' 'european' 'experimental' 'extrememetal' 'fado'\n",
      " 'fairytail' 'film' 'fitness' 'flamenco' 'folk' 'folklore' 'folkmetal'\n",
      " 'folkrock' 'folktronica' 'forró' 'frankreich' 'französisch' 'french'\n",
      " 'funk' 'future' 'gangsta' 'garage' 'german' 'ghazal' 'gitarre' 'glitch'\n",
      " 'gospel' 'gothic' 'grime' 'grunge' 'gypsy' 'handsup' \"hard'n'heavy\"\n",
      " 'hardcore' 'hardstyle' 'hardtechno' 'hiphop' 'historisch' 'holiday'\n",
      " 'horror' 'house' 'hymn' 'idm' 'independent' 'indian' 'indie' 'indipop'\n",
      " 'industrial' 'inspirational' 'instrumental' 'international' 'irish' 'jam'\n",
      " 'japanese' 'jazz' 'jewish' 'jpop' 'jungle' 'k-pop' 'karadeniz' 'karaoke'\n",
      " 'kayokyoku' 'korean' 'laiko' 'latin' 'latino' 'leftfield' 'local'\n",
      " 'lounge' 'loungeelectronic' 'lovers' 'malaysian' 'mandopop' 'marschmusik'\n",
      " 'meditative' 'mediterranean' 'melodic' 'metal' 'metalcore' 'mexican'\n",
      " 'middle' 'minimal' 'miscellaneous' 'modern' 'mood' 'mpb' 'muslim'\n",
      " 'native' 'neoklassik' 'neue' 'new' 'newage' 'newwave' 'nu' 'nujazz'\n",
      " 'numetal' 'oceania' 'old' 'opera' 'orchestral' 'other' 'piano' 'podcasts'\n",
      " 'pop' 'popdance' 'popelectronic' 'popeurodance' 'poprussian' 'post'\n",
      " 'posthardcore' 'postrock' 'power' 'progmetal' 'progressive' 'psychedelic'\n",
      " 'punjabi' 'punk' 'quebecois' 'ragga' 'ram' 'rancheras' 'rap' 'rave'\n",
      " 'reggae' 'reggaeton' 'regional' 'relax' 'religious' 'retro' 'rhythm'\n",
      " 'rnb' 'rnr' 'rock' 'rockabilly' 'rockalternative' 'rockindie' 'rockother'\n",
      " 'romance' 'roots' 'ruspop' 'rusrap' 'rusrock' 'russian' 'salsa' 'samba'\n",
      " 'scenic' 'schlager' 'self' 'sertanejo' 'shanson' 'shoegazing' 'showtunes'\n",
      " 'singer' 'ska' 'skarock' 'slow' 'smooth' 'soft' 'soul' 'soulful' 'sound'\n",
      " 'soundtrack' 'southern' 'specialty' 'speech' 'spiritual' 'sport'\n",
      " 'stonerrock' 'surf' 'swing' 'synthpop' 'synthrock' 'sängerportrait'\n",
      " 'tango' 'tanzorchester' 'taraftar' 'tatar' 'tech' 'techno' 'teen'\n",
      " 'thrash' 'top' 'traditional' 'tradjazz' 'trance' 'tribal' 'trip'\n",
      " 'triphop' 'tropical' 'türk' 'türkçe' 'ukrrock' 'unknown' 'urban' 'uzbek'\n",
      " 'variété' 'vi' 'videogame' 'vocal' 'western' 'world' 'worldbeat' 'ïîï'\n",
      " 'электроника']\n"
     ]
    }
   ],
   "source": [
    "# Проверка на неявные дубликаты\n",
    "print(df['genre'].sort_values().unique())"
   ]
  },
  {
   "cell_type": "markdown",
   "metadata": {
    "id": "jz6a9-7HQUDd"
   },
   "source": [
    "**Выводы**\n",
    "\n",
    "Предобработка обнаружила три проблемы в данных:\n",
    "\n",
    "- нарушения в стиле заголовков,\n",
    "- пропущенные значения,\n",
    "- дубликаты — явные и неявные.\n",
    "\n",
    "Исправили заголовки, чтобы упростить работу с таблицей. Без дубликатов исследование станет более точным.\n",
    "\n",
    "Пропущенные значения заменили на `'unknown'`. Ещё предстоит увидеть, не повредят ли исследованию пропуски в колонке `genre`.\n",
    "\n",
    "Теперь можно перейти к проверке гипотез. "
   ]
  },
  {
   "cell_type": "markdown",
   "metadata": {
    "id": "WttZHXH0SqKk"
   },
   "source": [
    "## Проверка гипотез"
   ]
  },
  {
   "cell_type": "markdown",
   "metadata": {
    "id": "Im936VVi_Zcu"
   },
   "source": [
    "### Сравнение поведения пользователей двух столиц"
   ]
  },
  {
   "cell_type": "markdown",
   "metadata": {
    "id": "nwt_MuaL_Zcu"
   },
   "source": [
    "Первая гипотеза утверждает, что пользователи по-разному слушают музыку в Москве и Санкт-Петербурге. Проверим это предположение по данным о трёх днях недели — понедельнике, среде и пятнице. Для этого:\n",
    "\n",
    "* Разделим пользователей Москвы и Санкт-Петербурга.\n",
    "* Сравним, сколько треков послушала каждая группа пользователей в понедельник, среду и пятницу.\n"
   ]
  },
  {
   "cell_type": "markdown",
   "metadata": {
    "id": "8Dw_YMmT_Zcu",
    "tags": [
     "start_task"
    ]
   },
   "source": [
    "Выполним каждый из расчётов по отдельности. \n",
    "\n",
    "Оценим активность пользователей в каждом городе. Сгруппируем данные по городу и посчитаем прослушивания в каждой группе."
   ]
  },
  {
   "cell_type": "code",
   "execution_count": 18,
   "metadata": {
    "id": "0_Qs96oh_Zcu"
   },
   "outputs": [
    {
     "name": "stdout",
     "output_type": "stream",
     "text": [
      "city\n",
      "Moscow              42741\n",
      "Saint-Petersburg    18512\n",
      "Name: city, dtype: int64\n"
     ]
    }
   ],
   "source": [
    "# Подсчёт прослушиваний в каждом городе\n",
    "msk2 = df.groupby('city')['city'].count()\n",
    "print(msk2)         "
   ]
  },
  {
   "cell_type": "markdown",
   "metadata": {
    "id": "dzli3w8o_Zcu",
    "tags": [
     "start_task"
    ]
   },
   "source": [
    "В Москве прослушиваний больше, чем в Петербурге. Из этого не следует, что московские пользователи чаще слушают музыку. Просто самих пользователей в Москве больше.\n",
    "\n",
    "Теперь сгруппируем данные по дню недели и посчитаем прослушивания в понедельник, среду и пятницу. "
   ]
  },
  {
   "cell_type": "code",
   "execution_count": 19,
   "metadata": {
    "id": "uZMKjiJz_Zcu"
   },
   "outputs": [
    {
     "name": "stdout",
     "output_type": "stream",
     "text": [
      "day\n",
      "Friday       21840\n",
      "Monday       21354\n",
      "Wednesday    18059\n",
      "Name: day, dtype: int64\n"
     ]
    }
   ],
   "source": [
    "# Подсчёт прослушиваний в каждый из трёх дней\n",
    "day_track = df.groupby('day')['day'].count()\n",
    "print(day_track) "
   ]
  },
  {
   "cell_type": "markdown",
   "metadata": {
    "id": "cC2tNrlL_Zcu"
   },
   "source": [
    "В среднем пользователи из двух городов менее активны по средам. Но картина может измениться, если рассмотреть каждый город в отдельности."
   ]
  },
  {
   "cell_type": "markdown",
   "metadata": {
    "id": "POzs8bGa_Zcu",
    "tags": [
     "start_task"
    ]
   },
   "source": [
    "Теперь напишем функцию, которая объединит два эти расчёта.\n",
    "\n",
    "Создадим функцию `number_tracks()`, которая посчитает прослушивания для заданного дня и города. Ей понадобятся два параметра:\n",
    "* день недели,\n",
    "* название города.\n",
    "\n",
    "В функции сохраним в переменную строки исходной таблицы, у которых значение:\n",
    "  * в колонке `day` равно параметру `day`,\n",
    "  * в колонке `city` равно параметру `city`.\n",
    "\n",
    "Для этого применим последовательную фильтрацию с логической индексацией (или сложные логические выражения в одну строку, если вы уже знакомы с ними).\n",
    "\n",
    "Затем посчитаем значения в столбце `user_id` получившейся таблицы. Результат сохраните в новую переменную. Верните эту переменную из функции."
   ]
  },
  {
   "cell_type": "code",
   "execution_count": 20,
   "metadata": {
    "id": "Nz3GdQB1_Zcu"
   },
   "outputs": [],
   "source": [
    "# <создание функции number_tracks()>\n",
    "# Объявляется функция с двумя параметрами: day, city.\n",
    "def number_tracks(day, city):\n",
    "    track_list = df[(df['day'] == day) & (df['city'] == city)]\n",
    "    #track_list = df[df['day'] == day]\n",
    "    #track_list = track_list[df['city'] == city]\n",
    "    track_list_count = track_list['user_id'].count()\n",
    "    return track_list_count\n",
    "# В переменной track_list сохраняются те строки таблицы df, для которых \n",
    "# значение в столбце 'day' равно параметру day и одновременно значение\n",
    "# в столбце 'city' равно параметру city (используйте последовательную фильтрацию\n",
    "# с помощью логической индексации или сложные логические выражения в одну строку, если вы уже знакомы с ними).\n",
    "# В переменной track_list_count сохраняется число значений столбца 'user_id',\n",
    "# рассчитанное методом count() для таблицы track_list.\n",
    "# Функция возвращает число - значение track_list_count.\n",
    "\n",
    "# Функция для подсчёта прослушиваний для конкретного города и дня.\n",
    "# С помощью последовательной фильтрации с логической индексацией она \n",
    "# сначала получит из исходной таблицы строки с нужным днём,\n",
    "# затем из результата отфильтрует строки с нужным городом,\n",
    "# методом count() посчитает количество значений в колонке user_id. \n",
    "# Это количество функция вернёт в качестве результата"
   ]
  },
  {
   "cell_type": "markdown",
   "metadata": {
    "id": "ytf7xFrFJQ2r",
    "tags": [
     "start_task"
    ]
   },
   "source": [
    "Вызовем `number_tracks()` шесть раз, меняя значение параметров — так, чтобы получить данные для каждого города в каждый из трёх дней."
   ]
  },
  {
   "cell_type": "code",
   "execution_count": 21,
   "metadata": {
    "id": "rJcRATNQ_Zcu"
   },
   "outputs": [
    {
     "data": {
      "text/plain": [
       "15740"
      ]
     },
     "execution_count": 21,
     "metadata": {},
     "output_type": "execute_result"
    }
   ],
   "source": [
    "# количество прослушиваний в Москве по понедельникам\n",
    "number_tracks('Monday', 'Moscow')"
   ]
  },
  {
   "cell_type": "code",
   "execution_count": 22,
   "metadata": {
    "id": "hq_ncZ5T_Zcu"
   },
   "outputs": [
    {
     "data": {
      "text/plain": [
       "5614"
      ]
     },
     "execution_count": 22,
     "metadata": {},
     "output_type": "execute_result"
    }
   ],
   "source": [
    "# количество прослушиваний в Санкт-Петербурге по понедельникам\n",
    "number_tracks('Monday', 'Saint-Petersburg')"
   ]
  },
  {
   "cell_type": "code",
   "execution_count": 23,
   "metadata": {
    "id": "_NTy2VPU_Zcu"
   },
   "outputs": [
    {
     "data": {
      "text/plain": [
       "11056"
      ]
     },
     "execution_count": 23,
     "metadata": {},
     "output_type": "execute_result"
    }
   ],
   "source": [
    "# количество прослушиваний в Москве по средам\n",
    "number_tracks('Wednesday', 'Moscow')"
   ]
  },
  {
   "cell_type": "code",
   "execution_count": 24,
   "metadata": {
    "id": "j2y3TAwo_Zcu"
   },
   "outputs": [
    {
     "data": {
      "text/plain": [
       "7003"
      ]
     },
     "execution_count": 24,
     "metadata": {},
     "output_type": "execute_result"
    }
   ],
   "source": [
    "# количество прослушиваний в Санкт-Петербурге по средам\n",
    "number_tracks('Wednesday', 'Saint-Petersburg')"
   ]
  },
  {
   "cell_type": "code",
   "execution_count": 25,
   "metadata": {
    "id": "vYDw5u_K_Zcu"
   },
   "outputs": [
    {
     "data": {
      "text/plain": [
       "15945"
      ]
     },
     "execution_count": 25,
     "metadata": {},
     "output_type": "execute_result"
    }
   ],
   "source": [
    "# количество прослушиваний в Москве по пятницам\n",
    "number_tracks('Friday', 'Moscow')"
   ]
  },
  {
   "cell_type": "code",
   "execution_count": 26,
   "metadata": {
    "id": "8_yzFtW3_Zcu"
   },
   "outputs": [
    {
     "data": {
      "text/plain": [
       "5895"
      ]
     },
     "execution_count": 26,
     "metadata": {},
     "output_type": "execute_result"
    }
   ],
   "source": [
    "# количество прослушиваний в Санкт-Петербурге по пятницам\n",
    "number_tracks('Friday', 'Saint-Petersburg')"
   ]
  },
  {
   "cell_type": "markdown",
   "metadata": {
    "id": "7QXffbO-_Zcu",
    "tags": [
     "start_task"
    ]
   },
   "source": [
    "Создадим c помощью конструктора `pd.DataFrame` таблицу, где\n",
    "* названия колонок — `['city', 'monday', 'wednesday', 'friday']`;\n",
    "* данные — результаты, которые вы получили с помощью `number_tracks`."
   ]
  },
  {
   "cell_type": "code",
   "execution_count": 27,
   "metadata": {
    "id": "APAcLpOr_Zcu"
   },
   "outputs": [
    {
     "data": {
      "text/html": [
       "<div>\n",
       "<style scoped>\n",
       "    .dataframe tbody tr th:only-of-type {\n",
       "        vertical-align: middle;\n",
       "    }\n",
       "\n",
       "    .dataframe tbody tr th {\n",
       "        vertical-align: top;\n",
       "    }\n",
       "\n",
       "    .dataframe thead th {\n",
       "        text-align: right;\n",
       "    }\n",
       "</style>\n",
       "<table border=\"1\" class=\"dataframe\">\n",
       "  <thead>\n",
       "    <tr style=\"text-align: right;\">\n",
       "      <th></th>\n",
       "      <th>city</th>\n",
       "      <th>monday</th>\n",
       "      <th>wednesday</th>\n",
       "      <th>friday</th>\n",
       "    </tr>\n",
       "  </thead>\n",
       "  <tbody>\n",
       "    <tr>\n",
       "      <th>0</th>\n",
       "      <td>Москва</td>\n",
       "      <td>15740</td>\n",
       "      <td>11056</td>\n",
       "      <td>15945</td>\n",
       "    </tr>\n",
       "    <tr>\n",
       "      <th>1</th>\n",
       "      <td>Санкт-Петербург</td>\n",
       "      <td>5614</td>\n",
       "      <td>7003</td>\n",
       "      <td>5895</td>\n",
       "    </tr>\n",
       "  </tbody>\n",
       "</table>\n",
       "</div>"
      ],
      "text/plain": [
       "              city  monday  wednesday  friday\n",
       "0           Москва   15740      11056   15945\n",
       "1  Санкт-Петербург    5614       7003    5895"
      ]
     },
     "execution_count": 27,
     "metadata": {},
     "output_type": "execute_result"
    }
   ],
   "source": [
    "# Таблица с результатами\n",
    "dd = ['city', 'monday', 'wednesday', 'friday']\n",
    "number_tracks_day = [['Москва', 15740, 11056, 15945], ['Санкт-Петербург', 5614, 7003, 5895]]\n",
    "info = pd.DataFrame(data=number_tracks_day, columns= dd)\n",
    "info"
   ]
  },
  {
   "cell_type": "markdown",
   "metadata": {
    "id": "-EgPIHYu_Zcu"
   },
   "source": [
    "**Выводы**\n",
    "\n",
    "Данные показывают разницу поведения пользователей:\n",
    "\n",
    "- В Москве пик прослушиваний приходится на понедельник и пятницу, а в среду заметен спад.\n",
    "- В Петербурге, наоборот, больше слушают музыку по средам. Активность в понедельник и пятницу здесь почти в равной мере уступает среде.\n",
    "\n",
    "Значит, данные говорят в пользу первой гипотезы."
   ]
  },
  {
   "cell_type": "markdown",
   "metadata": {
    "id": "atZAxtq4_Zcu"
   },
   "source": [
    "### Музыка в начале и в конце недели"
   ]
  },
  {
   "cell_type": "markdown",
   "metadata": {
    "id": "eXrQqXFH_Zcu"
   },
   "source": [
    "Согласно второй гипотезе, утром в понедельник в Москве преобладают одни жанры, а в Петербурге — другие. Так же и вечером пятницы преобладают разные жанры — в зависимости от города."
   ]
  },
  {
   "cell_type": "markdown",
   "metadata": {
    "id": "S8UcW6Hw_Zcu",
    "tags": [
     "start_task"
    ]
   },
   "source": [
    "Сохраним таблицы с данными в две переменные:\n",
    "* по Москве — в `moscow_general`;\n",
    "* по Санкт-Петербургу — в `spb_general`."
   ]
  },
  {
   "cell_type": "code",
   "execution_count": 28,
   "metadata": {
    "id": "qeaFfM_P_Zcu"
   },
   "outputs": [],
   "source": [
    "# получение таблицы moscow_general из тех строк таблицы df, \n",
    "# для которых значение в столбце 'city' равно 'Moscow'\n",
    "moscow_general=df[df['city']=='Moscow']\n"
   ]
  },
  {
   "cell_type": "code",
   "execution_count": 29,
   "metadata": {
    "id": "ORaVRKto_Zcu"
   },
   "outputs": [],
   "source": [
    "# получение таблицы spb_general из тех строк таблицы df,\n",
    "# для которых значение в столбце 'city' равно 'Saint-Petersburg'\n",
    "spb_general=df[df['city']=='Saint-Petersburg']"
   ]
  },
  {
   "cell_type": "markdown",
   "metadata": {
    "id": "MEJV-CX2_Zcu",
    "tags": [
     "start_task"
    ]
   },
   "source": [
    "Создадим функцию `genre_weekday()` с четырьмя параметрами:\n",
    "* таблица (датафрейм) с данными,\n",
    "* день недели,\n",
    "* начальная временная метка в формате 'hh:mm', \n",
    "* последняя временная метка в формате 'hh:mm'.\n",
    "\n",
    "Функция должна вернуть информацию о топ-10 жанров тех треков, которые прослушивали в указанный день, в промежутке между двумя отметками времени."
   ]
  },
  {
   "cell_type": "code",
   "execution_count": 30,
   "metadata": {
    "id": "laJT9BYl_Zcu"
   },
   "outputs": [],
   "source": [
    "# Объявление функции genre_weekday() с параметрами table, day, time1, time2,\n",
    "# которая возвращает информацию о самых популярных жанрах в указанный день в\n",
    "# заданное время:\n",
    "# 1) в переменную genre_df сохраняются те строки переданного датафрейма table, для\n",
    "#    которых одновременно:\n",
    "#    - значение в столбце day равно значению аргумента day\n",
    "#    - значение в столбце time больше значения аргумента time1\n",
    "#    - значение в столбце time меньше значения аргумента time2\n",
    "#    Используйте последовательную фильтрацию с помощью логической индексации.\n",
    "# 2) сгруппировать датафрейм genre_df по столбцу genre, взять один из его\n",
    "#    столбцов и посчитать методом count() количество записей для каждого из\n",
    "#    присутствующих жанров, получившийся Series записать в переменную\n",
    "#    genre_df_count\n",
    "# 3) отсортировать genre_df_count по убыванию встречаемости и сохранить\n",
    "#    в переменную genre_df_sorted\n",
    "# 4) вернуть Series из 10 первых значений genre_df_sorted, это будут топ-10\n",
    "#    популярных жанров (в указанный день, в заданное время)\n",
    "\n",
    "def genre_weekday(df, den, time1, time2):\n",
    "    # последовательная фильтрация\n",
    "    # оставляем в genre_df только те строки df, у которых день равен day\n",
    "    genre_df = df[df['day'] == den]# ваш код здесь\n",
    "    # оставляем в genre_df только те строки genre_df, у которых время меньше time2\n",
    "    genre_df = genre_df[genre_df['time'] < time2] # ваш код здесь\n",
    "    # оставляем в genre_df только те строки genre_df, у которых время больше time1\n",
    "    genre_df = genre_df[genre_df['time'] > time1]# ваш код здесь\n",
    "    # сгруппируем отфильтрованный датафрейм по столбцу с названиями жанров, возьмём столбец genre и посчитаем кол-во строк для каждого жанра методом count()\n",
    "    genre_df_grouped = genre_df.groupby('genre')['genre'].count() # ваш код здесь\n",
    "    # отсортируем результат по убыванию (чтобы в начале Series оказались самые популярные жанры)\n",
    "    genre_df_sorted = genre_df_grouped.sort_values(ascending=true)# ваш код здесь\n",
    "    # вернём Series с 10 самыми популярными жанрами в указанный отрезок времени заданного дня\n",
    "    return genre_df_sorted[:10]"
   ]
  },
  {
   "cell_type": "markdown",
   "metadata": {
    "id": "la2s2_PF_Zcu",
    "tags": [
     "start_task"
    ]
   },
   "source": [
    "Cравните результаты функции `genre_weekday()` для Москвы и Санкт-Петербурга в понедельник утром (с 7:00 до 11:00) и в пятницу вечером (с 17:00 до 23:00):"
   ]
  },
  {
   "cell_type": "code",
   "execution_count": 31,
   "metadata": {
    "id": "yz7itPUQ_Zcu"
   },
   "outputs": [
    {
     "data": {
      "text/plain": [
       "genre\n",
       "pop            781\n",
       "dance          549\n",
       "electronic     480\n",
       "rock           474\n",
       "hiphop         286\n",
       "ruspop         186\n",
       "world          181\n",
       "rusrap         175\n",
       "alternative    164\n",
       "unknown        161\n",
       "Name: genre, dtype: int64"
      ]
     },
     "execution_count": 31,
     "metadata": {},
     "output_type": "execute_result"
    }
   ],
   "source": [
    "# вызов функции для утра понедельника в Москве (вместо df — таблица moscow_general)\n",
    "# объекты, хранящие время, являются строками и сравниваются как строки\n",
    "# пример вызова: genre_weekday(moscow_general, 'Monday', '07:00', '11:00')\n",
    "genre_weekday(moscow_general, 'Monday', '07:00','11:00')"
   ]
  },
  {
   "cell_type": "code",
   "execution_count": 32,
   "metadata": {
    "id": "kwUcHPdy_Zcu"
   },
   "outputs": [
    {
     "data": {
      "text/plain": [
       "genre\n",
       "pop            218\n",
       "dance          182\n",
       "rock           162\n",
       "electronic     147\n",
       "hiphop          80\n",
       "ruspop          64\n",
       "alternative     58\n",
       "rusrap          55\n",
       "jazz            44\n",
       "classical       40\n",
       "Name: genre, dtype: int64"
      ]
     },
     "execution_count": 32,
     "metadata": {},
     "output_type": "execute_result"
    }
   ],
   "source": [
    "# вызов функции для утра понедельника в Петербурге (вместо df — таблица spb_general)\n",
    "genre_weekday(spb_general, 'Monday', '07:00','11:00')"
   ]
  },
  {
   "cell_type": "code",
   "execution_count": 33,
   "metadata": {
    "id": "EzXVRE1o_Zcu"
   },
   "outputs": [
    {
     "data": {
      "text/plain": [
       "genre\n",
       "pop            713\n",
       "rock           517\n",
       "dance          495\n",
       "electronic     482\n",
       "hiphop         273\n",
       "world          208\n",
       "ruspop         170\n",
       "alternative    163\n",
       "classical      163\n",
       "rusrap         142\n",
       "Name: genre, dtype: int64"
      ]
     },
     "execution_count": 33,
     "metadata": {},
     "output_type": "execute_result"
    }
   ],
   "source": [
    "# вызов функции для вечера пятницы в Москве\n",
    "genre_weekday(moscow_general, 'Friday', '17:00', '23:00')"
   ]
  },
  {
   "cell_type": "code",
   "execution_count": 34,
   "metadata": {
    "id": "JZaEKu5v_Zcu"
   },
   "outputs": [
    {
     "data": {
      "text/plain": [
       "genre\n",
       "pop            256\n",
       "electronic     216\n",
       "rock           216\n",
       "dance          210\n",
       "hiphop          97\n",
       "alternative     63\n",
       "jazz            61\n",
       "classical       60\n",
       "rusrap          59\n",
       "world           54\n",
       "Name: genre, dtype: int64"
      ]
     },
     "execution_count": 34,
     "metadata": {},
     "output_type": "execute_result"
    }
   ],
   "source": [
    "# вызов функции для вечера пятницы в Петербурге\n",
    "genre_weekday(spb_general, 'Friday', '17:00', '23:00')"
   ]
  },
  {
   "cell_type": "markdown",
   "metadata": {
    "id": "wrCe4MNX_Zcu"
   },
   "source": [
    "**Выводы**\n",
    "\n",
    "Если сравнить топ-10 жанров в понедельник утром, можно сделать такие выводы:\n",
    "\n",
    "1. В Москве и Петербурге слушают похожую музыку. Единственное отличие — в московский рейтинг вошёл жанр “world”, а в петербургский — джаз и классика.\n",
    "\n",
    "2. В Москве пропущенных значений оказалось так много, что значение `'unknown'` заняло десятое место среди самых популярных жанров. Значит, пропущенные значения занимают существенную долю в данных и угрожают достоверности исследования.\n",
    "\n",
    "Вечер пятницы не меняет эту картину. Некоторые жанры поднимаются немного выше, другие спускаются, но в целом топ-10 остаётся тем же самым.\n",
    "\n",
    "Таким образом, вторая гипотеза подтвердилась лишь частично:\n",
    "* Пользователи слушают похожую музыку в начале недели и в конце.\n",
    "* Разница между Москвой и Петербургом не слишком выражена. В Москве чаще слушают русскую популярную музыку, в Петербурге — джаз.\n",
    "\n",
    "Однако пропуски в данных ставят под сомнение этот результат. В Москве их так много, что рейтинг топ-10 мог бы выглядеть иначе, если бы не утерянные  данные о жанрах."
   ]
  },
  {
   "cell_type": "markdown",
   "metadata": {
    "id": "JolODAqr_Zcu"
   },
   "source": [
    "### Жанровые предпочтения в Москве и Петербурге\n",
    "\n",
    "Гипотеза: Петербург — столица рэпа, музыку этого жанра там слушают чаще, чем в Москве.  А Москва — город контрастов, в котором, тем не менее, преобладает поп-музыка."
   ]
  },
  {
   "cell_type": "markdown",
   "metadata": {
    "id": "DlegSvaT_Zcu",
    "tags": [
     "start_task"
    ]
   },
   "source": [
    "Сгруппируем таблицу `moscow_general` по жанру и посчитаем прослушивания треков каждого жанра методом `count()`. Затем отсортируем результат в порядке убывания и сохраните его в таблице `moscow_genres`."
   ]
  },
  {
   "cell_type": "code",
   "execution_count": 35,
   "metadata": {
    "id": "r19lIPke_Zcu"
   },
   "outputs": [],
   "source": [
    "# одной строкой: группировка таблицы moscow_general по столбцу 'genre', \n",
    "# подсчёт числа значений 'genre' в этой группировке методом count(), \n",
    "# сортировка получившегося Series в порядке убывания и сохранение в moscow_genres\n",
    "#print(moscow_general) genre_df.groupby('genre')['genre'].count()\n",
    "\n",
    "moscow_genres = moscow_general.groupby('genre')['genre'].count()\n",
    "moscow_genres = moscow_genres.sort_values(ascending=true)\n"
   ]
  },
  {
   "cell_type": "markdown",
   "metadata": {
    "id": "6kMuomxTiIr8",
    "tags": [
     "start_task"
    ]
   },
   "source": [
    "Выведем на экран первые десять строк `moscow_genres`:"
   ]
  },
  {
   "cell_type": "code",
   "execution_count": 36,
   "metadata": {
    "id": "WhCSooF8_Zcv"
   },
   "outputs": [
    {
     "data": {
      "text/plain": [
       "genre\n",
       "pop            5892\n",
       "dance          4435\n",
       "rock           3965\n",
       "electronic     3786\n",
       "hiphop         2096\n",
       "classical      1616\n",
       "world          1432\n",
       "alternative    1379\n",
       "ruspop         1372\n",
       "rusrap         1161\n",
       "Name: genre, dtype: int64"
      ]
     },
     "execution_count": 36,
     "metadata": {},
     "output_type": "execute_result"
    }
   ],
   "source": [
    "# просмотр первых 10 строк moscow_genres\n",
    "moscow_genres.head(10)"
   ]
  },
  {
   "cell_type": "markdown",
   "metadata": {
    "id": "cnPG2vnN_Zcv",
    "tags": [
     "start_task"
    ]
   },
   "source": [
    "Теперь повторим то же и для Петербурга.\n",
    "\n",
    "Сгруппируем таблицу `spb_general` по жанру. Посчитаем прослушивания треков каждого жанра. Результат отсортируем в порядке убывания и сохраните в таблице `spb_genres`:"
   ]
  },
  {
   "cell_type": "code",
   "execution_count": 37,
   "metadata": {
    "id": "gluLIpE7_Zcv"
   },
   "outputs": [],
   "source": [
    "# одной строкой: группировка таблицы spb_general по столбцу 'genre', \n",
    "# подсчёт числа значений 'genre' в этой группировке методом count(), \n",
    "# сортировка получившегося Series в порядке убывания и сохранение в spb_genres\n",
    "spb_genres = spb_general.groupby('genre')['genre'].count()\n",
    "spb_genres = spb_genres.sort_values(ascending=true)"
   ]
  },
  {
   "cell_type": "code",
   "execution_count": 38,
   "metadata": {
    "id": "uaGJHjVU_Zcv"
   },
   "outputs": [
    {
     "data": {
      "text/plain": [
       "genre\n",
       "pop            2431\n",
       "dance          1932\n",
       "rock           1879\n",
       "electronic     1736\n",
       "hiphop          960\n",
       "alternative     649\n",
       "classical       646\n",
       "rusrap          564\n",
       "ruspop          538\n",
       "world           515\n",
       "Name: genre, dtype: int64"
      ]
     },
     "execution_count": 38,
     "metadata": {},
     "output_type": "execute_result"
    }
   ],
   "source": [
    "# просмотр первых 10 строк spb_genres\n",
    "spb_genres.head(10)"
   ]
  },
  {
   "cell_type": "markdown",
   "metadata": {
    "id": "RY51YJYu_Zcv"
   },
   "source": [
    "**Выводы**"
   ]
  },
  {
   "cell_type": "markdown",
   "metadata": {
    "id": "nVhnJEm__Zcv"
   },
   "source": [
    "Гипотеза частично подтвердилась:\n",
    "* Поп-музыка — самый популярный жанр в Москве, как и предполагала гипотеза. Более того, в топ-10 жанров встречается близкий жанр — русская популярная музыка.\n",
    "* Вопреки ожиданиям, рэп одинаково популярен в Москве и Петербурге. \n"
   ]
  },
  {
   "cell_type": "markdown",
   "metadata": {
    "id": "ykKQ0N65_Zcv"
   },
   "source": [
    "## Итоги исследования"
   ]
  },
  {
   "cell_type": "markdown",
   "metadata": {
    "id": "tjUwbHb3_Zcv"
   },
   "source": [
    "Мы проверили три гипотезы и установили:\n",
    "\n",
    "1. День недели по-разному влияет на активность пользователей в Москве и Петербурге. \n",
    "\n",
    "Первая гипотеза полностью подтвердилась.\n",
    "\n",
    "2. Музыкальные предпочтения не сильно меняются в течение недели — будь то Москва или Петербург. Небольшие различия заметны в начале недели, по понедельникам:\n",
    "* в Москве слушают музыку жанра “world”,\n",
    "* в Петербурге — джаз и классику.\n",
    "\n",
    "Таким образом, вторая гипотеза подтвердилась лишь отчасти. Этот результат мог оказаться иным, если бы не пропуски в данных.\n",
    "\n",
    "3. Во вкусах пользователей Москвы и Петербурга больше общего чем различий. Вопреки ожиданиям, предпочтения жанров в Петербурге напоминают московские.\n",
    "\n",
    "Третья гипотеза не подтвердилась. Если различия в предпочтениях и существуют, на основной массе пользователей они незаметны.\n"
   ]
  },
  {
   "cell_type": "code",
   "execution_count": null,
   "metadata": {},
   "outputs": [],
   "source": []
  }
 ],
 "metadata": {
  "ExecuteTimeLog": [
   {
    "duration": 386,
    "start_time": "2022-08-29T10:53:48.025Z"
   },
   {
    "duration": 89,
    "start_time": "2022-08-29T10:53:51.124Z"
   },
   {
    "duration": 209,
    "start_time": "2022-08-29T10:54:24.392Z"
   },
   {
    "duration": 8,
    "start_time": "2022-08-29T10:55:11.033Z"
   },
   {
    "duration": 24,
    "start_time": "2022-08-29T10:55:45.053Z"
   },
   {
    "duration": 3,
    "start_time": "2022-08-29T10:57:22.992Z"
   },
   {
    "duration": 3,
    "start_time": "2022-08-29T11:07:12.832Z"
   },
   {
    "duration": 27,
    "start_time": "2022-08-29T11:13:43.103Z"
   },
   {
    "duration": 12,
    "start_time": "2022-08-29T11:15:50.731Z"
   },
   {
    "duration": 9,
    "start_time": "2022-08-29T11:15:55.690Z"
   },
   {
    "duration": 366,
    "start_time": "2022-08-29T11:16:16.551Z"
   },
   {
    "duration": 158,
    "start_time": "2022-08-29T11:16:16.919Z"
   },
   {
    "duration": 9,
    "start_time": "2022-08-29T11:16:17.079Z"
   },
   {
    "duration": 34,
    "start_time": "2022-08-29T11:16:17.089Z"
   },
   {
    "duration": 6,
    "start_time": "2022-08-29T11:16:17.126Z"
   },
   {
    "duration": 5,
    "start_time": "2022-08-29T11:16:17.133Z"
   },
   {
    "duration": 12,
    "start_time": "2022-08-29T11:16:17.140Z"
   },
   {
    "duration": 3,
    "start_time": "2022-08-29T11:16:17.154Z"
   },
   {
    "duration": 5,
    "start_time": "2022-08-29T11:16:17.158Z"
   },
   {
    "duration": 7,
    "start_time": "2022-08-29T11:16:17.165Z"
   },
   {
    "duration": 4,
    "start_time": "2022-08-29T11:16:17.173Z"
   },
   {
    "duration": 5,
    "start_time": "2022-08-29T11:16:17.178Z"
   },
   {
    "duration": 8,
    "start_time": "2022-08-29T11:16:17.184Z"
   },
   {
    "duration": 2,
    "start_time": "2022-08-29T11:16:17.212Z"
   },
   {
    "duration": 16,
    "start_time": "2022-08-29T11:16:17.216Z"
   },
   {
    "duration": 5,
    "start_time": "2022-08-29T11:16:17.233Z"
   },
   {
    "duration": 7,
    "start_time": "2022-08-29T11:16:17.239Z"
   },
   {
    "duration": 5,
    "start_time": "2022-08-29T11:16:17.247Z"
   },
   {
    "duration": 8,
    "start_time": "2022-08-29T11:16:17.254Z"
   },
   {
    "duration": 5,
    "start_time": "2022-08-29T11:16:17.263Z"
   },
   {
    "duration": 11,
    "start_time": "2022-08-29T11:16:17.269Z"
   },
   {
    "duration": 6,
    "start_time": "2022-08-29T11:16:17.281Z"
   },
   {
    "duration": 5,
    "start_time": "2022-08-29T11:16:17.289Z"
   },
   {
    "duration": 4,
    "start_time": "2022-08-29T11:16:17.295Z"
   },
   {
    "duration": 7,
    "start_time": "2022-08-29T11:16:17.300Z"
   },
   {
    "duration": 7,
    "start_time": "2022-08-29T11:16:17.309Z"
   },
   {
    "duration": 14,
    "start_time": "2022-08-29T11:16:17.317Z"
   },
   {
    "duration": 8,
    "start_time": "2022-08-29T11:16:17.333Z"
   },
   {
    "duration": 11,
    "start_time": "2022-08-29T11:16:17.342Z"
   },
   {
    "duration": 71,
    "start_time": "2022-08-29T11:16:17.354Z"
   },
   {
    "duration": 0,
    "start_time": "2022-08-29T11:16:17.427Z"
   },
   {
    "duration": 0,
    "start_time": "2022-08-29T11:16:17.428Z"
   },
   {
    "duration": 1,
    "start_time": "2022-08-29T11:16:17.429Z"
   },
   {
    "duration": 0,
    "start_time": "2022-08-29T11:16:17.431Z"
   },
   {
    "duration": 0,
    "start_time": "2022-08-29T11:16:17.432Z"
   },
   {
    "duration": 0,
    "start_time": "2022-08-29T11:16:17.434Z"
   },
   {
    "duration": 0,
    "start_time": "2022-08-29T11:16:17.435Z"
   },
   {
    "duration": 0,
    "start_time": "2022-08-29T11:16:17.436Z"
   },
   {
    "duration": 10,
    "start_time": "2022-08-29T11:16:41.751Z"
   },
   {
    "duration": 3,
    "start_time": "2022-08-29T11:18:47.351Z"
   },
   {
    "duration": 18,
    "start_time": "2022-08-29T11:20:38.658Z"
   },
   {
    "duration": 15,
    "start_time": "2022-08-29T11:35:33.556Z"
   },
   {
    "duration": 27,
    "start_time": "2022-08-29T11:36:42.477Z"
   },
   {
    "duration": 62,
    "start_time": "2022-08-29T11:38:41.467Z"
   },
   {
    "duration": 65,
    "start_time": "2022-08-29T11:40:21.197Z"
   },
   {
    "duration": 58,
    "start_time": "2022-08-29T11:41:10.757Z"
   },
   {
    "duration": 7,
    "start_time": "2022-08-29T11:45:13.124Z"
   },
   {
    "duration": 49,
    "start_time": "2022-08-29T13:24:01.191Z"
   },
   {
    "duration": 359,
    "start_time": "2022-08-29T13:24:34.482Z"
   },
   {
    "duration": 451,
    "start_time": "2022-08-29T13:24:34.843Z"
   },
   {
    "duration": 8,
    "start_time": "2022-08-29T13:24:35.296Z"
   },
   {
    "duration": 30,
    "start_time": "2022-08-29T13:24:35.305Z"
   },
   {
    "duration": 3,
    "start_time": "2022-08-29T13:24:35.337Z"
   },
   {
    "duration": 9,
    "start_time": "2022-08-29T13:24:35.341Z"
   },
   {
    "duration": 22,
    "start_time": "2022-08-29T13:24:35.351Z"
   },
   {
    "duration": 7,
    "start_time": "2022-08-29T13:24:35.374Z"
   },
   {
    "duration": 23,
    "start_time": "2022-08-29T13:24:35.383Z"
   },
   {
    "duration": 29,
    "start_time": "2022-08-29T13:24:35.408Z"
   },
   {
    "duration": 19,
    "start_time": "2022-08-29T13:24:35.439Z"
   },
   {
    "duration": 78,
    "start_time": "2022-08-29T13:24:35.460Z"
   },
   {
    "duration": 64,
    "start_time": "2022-08-29T13:24:35.539Z"
   },
   {
    "duration": 60,
    "start_time": "2022-08-29T13:24:35.607Z"
   },
   {
    "duration": 98,
    "start_time": "2022-08-29T13:24:35.669Z"
   },
   {
    "duration": 0,
    "start_time": "2022-08-29T13:24:35.769Z"
   },
   {
    "duration": 0,
    "start_time": "2022-08-29T13:24:35.771Z"
   },
   {
    "duration": 0,
    "start_time": "2022-08-29T13:24:35.772Z"
   },
   {
    "duration": 0,
    "start_time": "2022-08-29T13:24:35.773Z"
   },
   {
    "duration": 0,
    "start_time": "2022-08-29T13:24:35.775Z"
   },
   {
    "duration": 0,
    "start_time": "2022-08-29T13:24:35.776Z"
   },
   {
    "duration": 0,
    "start_time": "2022-08-29T13:24:35.777Z"
   },
   {
    "duration": 0,
    "start_time": "2022-08-29T13:24:35.779Z"
   },
   {
    "duration": 0,
    "start_time": "2022-08-29T13:24:35.780Z"
   },
   {
    "duration": 0,
    "start_time": "2022-08-29T13:24:35.781Z"
   },
   {
    "duration": 0,
    "start_time": "2022-08-29T13:24:35.782Z"
   },
   {
    "duration": 0,
    "start_time": "2022-08-29T13:24:35.784Z"
   },
   {
    "duration": 0,
    "start_time": "2022-08-29T13:24:35.785Z"
   },
   {
    "duration": 0,
    "start_time": "2022-08-29T13:24:35.786Z"
   },
   {
    "duration": 0,
    "start_time": "2022-08-29T13:24:35.787Z"
   },
   {
    "duration": 0,
    "start_time": "2022-08-29T13:24:35.788Z"
   },
   {
    "duration": 0,
    "start_time": "2022-08-29T13:24:35.789Z"
   },
   {
    "duration": 0,
    "start_time": "2022-08-29T13:24:35.792Z"
   },
   {
    "duration": 0,
    "start_time": "2022-08-29T13:24:35.793Z"
   },
   {
    "duration": 0,
    "start_time": "2022-08-29T13:24:35.795Z"
   },
   {
    "duration": 0,
    "start_time": "2022-08-29T13:24:35.796Z"
   },
   {
    "duration": 0,
    "start_time": "2022-08-29T13:24:35.796Z"
   },
   {
    "duration": 0,
    "start_time": "2022-08-29T13:24:35.798Z"
   },
   {
    "duration": 40,
    "start_time": "2022-08-29T13:24:54.151Z"
   },
   {
    "duration": 1262,
    "start_time": "2022-08-29T13:27:45.531Z"
   },
   {
    "duration": 34,
    "start_time": "2022-08-29T13:28:23.571Z"
   },
   {
    "duration": 33,
    "start_time": "2022-08-29T13:28:58.051Z"
   },
   {
    "duration": 36,
    "start_time": "2022-08-29T13:29:49.840Z"
   },
   {
    "duration": 29,
    "start_time": "2022-08-29T13:34:32.651Z"
   },
   {
    "duration": 422,
    "start_time": "2022-08-29T13:37:13.252Z"
   },
   {
    "duration": 153,
    "start_time": "2022-08-29T13:37:13.675Z"
   },
   {
    "duration": 7,
    "start_time": "2022-08-29T13:37:13.830Z"
   },
   {
    "duration": 31,
    "start_time": "2022-08-29T13:37:13.839Z"
   },
   {
    "duration": 2,
    "start_time": "2022-08-29T13:37:13.872Z"
   },
   {
    "duration": 8,
    "start_time": "2022-08-29T13:37:13.875Z"
   },
   {
    "duration": 17,
    "start_time": "2022-08-29T13:37:13.884Z"
   },
   {
    "duration": 9,
    "start_time": "2022-08-29T13:37:13.902Z"
   },
   {
    "duration": 21,
    "start_time": "2022-08-29T13:37:13.913Z"
   },
   {
    "duration": 28,
    "start_time": "2022-08-29T13:37:13.936Z"
   },
   {
    "duration": 19,
    "start_time": "2022-08-29T13:37:13.965Z"
   },
   {
    "duration": 70,
    "start_time": "2022-08-29T13:37:13.985Z"
   },
   {
    "duration": 60,
    "start_time": "2022-08-29T13:37:14.056Z"
   },
   {
    "duration": 68,
    "start_time": "2022-08-29T13:37:14.118Z"
   },
   {
    "duration": 39,
    "start_time": "2022-08-29T13:37:14.187Z"
   },
   {
    "duration": 3,
    "start_time": "2022-08-29T13:37:14.228Z"
   },
   {
    "duration": 6,
    "start_time": "2022-08-29T13:37:14.232Z"
   },
   {
    "duration": 16,
    "start_time": "2022-08-29T13:37:14.240Z"
   },
   {
    "duration": 11,
    "start_time": "2022-08-29T13:37:14.258Z"
   },
   {
    "duration": 6,
    "start_time": "2022-08-29T13:37:14.271Z"
   },
   {
    "duration": 12,
    "start_time": "2022-08-29T13:37:14.278Z"
   },
   {
    "duration": 7,
    "start_time": "2022-08-29T13:37:14.292Z"
   },
   {
    "duration": 5,
    "start_time": "2022-08-29T13:37:14.301Z"
   },
   {
    "duration": 6,
    "start_time": "2022-08-29T13:37:14.308Z"
   },
   {
    "duration": 10,
    "start_time": "2022-08-29T13:37:14.316Z"
   },
   {
    "duration": 7,
    "start_time": "2022-08-29T13:37:14.328Z"
   },
   {
    "duration": 5,
    "start_time": "2022-08-29T13:37:14.337Z"
   },
   {
    "duration": 5,
    "start_time": "2022-08-29T13:37:14.343Z"
   },
   {
    "duration": 3,
    "start_time": "2022-08-29T13:37:14.354Z"
   },
   {
    "duration": 87,
    "start_time": "2022-08-29T13:37:14.359Z"
   },
   {
    "duration": 0,
    "start_time": "2022-08-29T13:37:14.448Z"
   },
   {
    "duration": 0,
    "start_time": "2022-08-29T13:37:14.450Z"
   },
   {
    "duration": 0,
    "start_time": "2022-08-29T13:37:14.451Z"
   },
   {
    "duration": 0,
    "start_time": "2022-08-29T13:37:14.452Z"
   },
   {
    "duration": 0,
    "start_time": "2022-08-29T13:37:14.454Z"
   },
   {
    "duration": 0,
    "start_time": "2022-08-29T13:37:14.455Z"
   },
   {
    "duration": 0,
    "start_time": "2022-08-29T13:37:14.457Z"
   },
   {
    "duration": 0,
    "start_time": "2022-08-29T13:37:14.458Z"
   },
   {
    "duration": 56,
    "start_time": "2022-08-29T13:39:47.660Z"
   },
   {
    "duration": 393,
    "start_time": "2022-08-29T13:40:26.934Z"
   },
   {
    "duration": 170,
    "start_time": "2022-08-29T13:40:27.329Z"
   },
   {
    "duration": 8,
    "start_time": "2022-08-29T13:40:27.501Z"
   },
   {
    "duration": 35,
    "start_time": "2022-08-29T13:40:27.511Z"
   },
   {
    "duration": 3,
    "start_time": "2022-08-29T13:40:27.555Z"
   },
   {
    "duration": 9,
    "start_time": "2022-08-29T13:40:27.559Z"
   },
   {
    "duration": 19,
    "start_time": "2022-08-29T13:40:27.570Z"
   },
   {
    "duration": 10,
    "start_time": "2022-08-29T13:40:27.590Z"
   },
   {
    "duration": 26,
    "start_time": "2022-08-29T13:40:27.601Z"
   },
   {
    "duration": 29,
    "start_time": "2022-08-29T13:40:27.629Z"
   },
   {
    "duration": 20,
    "start_time": "2022-08-29T13:40:27.659Z"
   },
   {
    "duration": 61,
    "start_time": "2022-08-29T13:40:27.680Z"
   },
   {
    "duration": 83,
    "start_time": "2022-08-29T13:40:27.742Z"
   },
   {
    "duration": 71,
    "start_time": "2022-08-29T13:40:27.827Z"
   },
   {
    "duration": 37,
    "start_time": "2022-08-29T13:40:27.900Z"
   },
   {
    "duration": 3,
    "start_time": "2022-08-29T13:40:27.938Z"
   },
   {
    "duration": 2,
    "start_time": "2022-08-29T13:40:27.954Z"
   },
   {
    "duration": 2,
    "start_time": "2022-08-29T13:40:27.958Z"
   },
   {
    "duration": 11,
    "start_time": "2022-08-29T13:40:27.965Z"
   },
   {
    "duration": 6,
    "start_time": "2022-08-29T13:40:27.978Z"
   },
   {
    "duration": 9,
    "start_time": "2022-08-29T13:40:27.985Z"
   },
   {
    "duration": 6,
    "start_time": "2022-08-29T13:40:27.995Z"
   },
   {
    "duration": 8,
    "start_time": "2022-08-29T13:40:28.002Z"
   },
   {
    "duration": 6,
    "start_time": "2022-08-29T13:40:28.011Z"
   },
   {
    "duration": 11,
    "start_time": "2022-08-29T13:40:28.018Z"
   },
   {
    "duration": 19,
    "start_time": "2022-08-29T13:40:28.030Z"
   },
   {
    "duration": 15,
    "start_time": "2022-08-29T13:40:28.051Z"
   },
   {
    "duration": 18,
    "start_time": "2022-08-29T13:40:28.067Z"
   },
   {
    "duration": 13,
    "start_time": "2022-08-29T13:40:28.087Z"
   },
   {
    "duration": 472,
    "start_time": "2022-08-29T13:40:28.101Z"
   },
   {
    "duration": 0,
    "start_time": "2022-08-29T13:40:28.575Z"
   },
   {
    "duration": 0,
    "start_time": "2022-08-29T13:40:28.575Z"
   },
   {
    "duration": 0,
    "start_time": "2022-08-29T13:40:28.577Z"
   },
   {
    "duration": 0,
    "start_time": "2022-08-29T13:40:28.577Z"
   },
   {
    "duration": 0,
    "start_time": "2022-08-29T13:40:28.579Z"
   },
   {
    "duration": 0,
    "start_time": "2022-08-29T13:40:28.580Z"
   },
   {
    "duration": 0,
    "start_time": "2022-08-29T13:40:28.581Z"
   },
   {
    "duration": 0,
    "start_time": "2022-08-29T13:40:28.582Z"
   },
   {
    "duration": 31,
    "start_time": "2022-08-29T13:42:09.351Z"
   },
   {
    "duration": 9,
    "start_time": "2022-08-29T13:57:04.121Z"
   },
   {
    "duration": 4,
    "start_time": "2022-08-29T14:02:34.038Z"
   },
   {
    "duration": 32,
    "start_time": "2022-08-29T14:03:55.883Z"
   },
   {
    "duration": 61,
    "start_time": "2022-08-29T14:28:47.818Z"
   },
   {
    "duration": 8,
    "start_time": "2022-08-29T14:29:11.118Z"
   },
   {
    "duration": 11,
    "start_time": "2022-08-29T14:32:36.178Z"
   },
   {
    "duration": 10,
    "start_time": "2022-08-29T14:34:52.878Z"
   },
   {
    "duration": 10,
    "start_time": "2022-08-29T14:35:12.598Z"
   },
   {
    "duration": 152,
    "start_time": "2022-08-29T14:36:13.037Z"
   },
   {
    "duration": 7,
    "start_time": "2022-08-29T14:36:22.157Z"
   },
   {
    "duration": 23,
    "start_time": "2022-08-29T14:36:50.278Z"
   },
   {
    "duration": 8,
    "start_time": "2022-08-29T14:37:31.417Z"
   },
   {
    "duration": 10,
    "start_time": "2022-08-29T14:37:57.658Z"
   },
   {
    "duration": 24,
    "start_time": "2022-08-29T14:46:00.897Z"
   },
   {
    "duration": 20,
    "start_time": "2022-08-29T14:47:58.639Z"
   },
   {
    "duration": 50,
    "start_time": "2022-08-30T03:44:19.800Z"
   },
   {
    "duration": 438,
    "start_time": "2022-08-30T03:44:33.890Z"
   },
   {
    "duration": 488,
    "start_time": "2022-08-30T03:44:34.331Z"
   },
   {
    "duration": 10,
    "start_time": "2022-08-30T03:44:34.822Z"
   },
   {
    "duration": 44,
    "start_time": "2022-08-30T03:44:34.834Z"
   },
   {
    "duration": 2,
    "start_time": "2022-08-30T03:44:34.880Z"
   },
   {
    "duration": 13,
    "start_time": "2022-08-30T03:44:34.884Z"
   },
   {
    "duration": 15,
    "start_time": "2022-08-30T03:44:34.900Z"
   },
   {
    "duration": 9,
    "start_time": "2022-08-30T03:44:34.918Z"
   },
   {
    "duration": 28,
    "start_time": "2022-08-30T03:44:34.929Z"
   },
   {
    "duration": 21,
    "start_time": "2022-08-30T03:44:34.958Z"
   },
   {
    "duration": 27,
    "start_time": "2022-08-30T03:44:34.992Z"
   },
   {
    "duration": 88,
    "start_time": "2022-08-30T03:44:35.021Z"
   },
   {
    "duration": 88,
    "start_time": "2022-08-30T03:44:35.110Z"
   },
   {
    "duration": 66,
    "start_time": "2022-08-30T03:44:35.201Z"
   },
   {
    "duration": 55,
    "start_time": "2022-08-30T03:44:35.269Z"
   },
   {
    "duration": 14,
    "start_time": "2022-08-30T03:44:35.326Z"
   },
   {
    "duration": 69,
    "start_time": "2022-08-30T03:44:35.341Z"
   },
   {
    "duration": 90,
    "start_time": "2022-08-30T03:44:35.412Z"
   },
   {
    "duration": 0,
    "start_time": "2022-08-30T03:44:35.504Z"
   },
   {
    "duration": 0,
    "start_time": "2022-08-30T03:44:35.505Z"
   },
   {
    "duration": 0,
    "start_time": "2022-08-30T03:44:35.506Z"
   },
   {
    "duration": 0,
    "start_time": "2022-08-30T03:44:35.507Z"
   },
   {
    "duration": 0,
    "start_time": "2022-08-30T03:44:35.510Z"
   },
   {
    "duration": 0,
    "start_time": "2022-08-30T03:44:35.511Z"
   },
   {
    "duration": 0,
    "start_time": "2022-08-30T03:44:35.512Z"
   },
   {
    "duration": 0,
    "start_time": "2022-08-30T03:44:35.513Z"
   },
   {
    "duration": 0,
    "start_time": "2022-08-30T03:44:35.514Z"
   },
   {
    "duration": 0,
    "start_time": "2022-08-30T03:44:35.515Z"
   },
   {
    "duration": 0,
    "start_time": "2022-08-30T03:44:35.516Z"
   },
   {
    "duration": 0,
    "start_time": "2022-08-30T03:44:35.517Z"
   },
   {
    "duration": 0,
    "start_time": "2022-08-30T03:44:35.518Z"
   },
   {
    "duration": 0,
    "start_time": "2022-08-30T03:44:35.519Z"
   },
   {
    "duration": 0,
    "start_time": "2022-08-30T03:44:35.520Z"
   },
   {
    "duration": 0,
    "start_time": "2022-08-30T03:44:35.521Z"
   },
   {
    "duration": 0,
    "start_time": "2022-08-30T03:44:35.522Z"
   },
   {
    "duration": 0,
    "start_time": "2022-08-30T03:44:35.523Z"
   },
   {
    "duration": 0,
    "start_time": "2022-08-30T03:44:35.525Z"
   },
   {
    "duration": 0,
    "start_time": "2022-08-30T03:44:35.526Z"
   },
   {
    "duration": 23,
    "start_time": "2022-08-30T03:44:44.209Z"
   },
   {
    "duration": 39,
    "start_time": "2022-08-30T03:45:14.049Z"
   },
   {
    "duration": 331,
    "start_time": "2022-08-30T03:45:59.889Z"
   },
   {
    "duration": 24,
    "start_time": "2022-08-30T03:46:46.398Z"
   },
   {
    "duration": 21,
    "start_time": "2022-08-30T03:47:02.550Z"
   },
   {
    "duration": 22,
    "start_time": "2022-08-30T03:47:16.009Z"
   },
   {
    "duration": 21,
    "start_time": "2022-08-30T03:47:50.610Z"
   },
   {
    "duration": 20,
    "start_time": "2022-08-30T03:48:09.169Z"
   },
   {
    "duration": 21,
    "start_time": "2022-08-30T03:48:39.829Z"
   },
   {
    "duration": 25,
    "start_time": "2022-08-30T03:48:54.930Z"
   },
   {
    "duration": 35,
    "start_time": "2022-08-30T03:51:29.170Z"
   },
   {
    "duration": 38,
    "start_time": "2022-08-30T03:52:51.590Z"
   },
   {
    "duration": 26,
    "start_time": "2022-08-30T03:53:08.530Z"
   },
   {
    "duration": 26,
    "start_time": "2022-08-30T03:53:22.530Z"
   },
   {
    "duration": 27,
    "start_time": "2022-08-30T03:53:29.270Z"
   },
   {
    "duration": 29,
    "start_time": "2022-08-30T03:53:40.270Z"
   },
   {
    "duration": 33,
    "start_time": "2022-08-30T03:53:46.030Z"
   },
   {
    "duration": 37,
    "start_time": "2022-08-30T03:54:10.450Z"
   },
   {
    "duration": 35,
    "start_time": "2022-08-30T03:54:59.670Z"
   },
   {
    "duration": 30,
    "start_time": "2022-08-30T04:08:22.352Z"
   },
   {
    "duration": 38,
    "start_time": "2022-08-30T04:26:55.826Z"
   },
   {
    "duration": 35,
    "start_time": "2022-08-30T04:27:25.445Z"
   },
   {
    "duration": 10,
    "start_time": "2022-08-30T04:30:42.766Z"
   },
   {
    "duration": 10,
    "start_time": "2022-08-30T04:39:08.187Z"
   },
   {
    "duration": 75,
    "start_time": "2022-08-30T04:57:00.610Z"
   },
   {
    "duration": 4,
    "start_time": "2022-08-30T04:57:13.710Z"
   },
   {
    "duration": 424,
    "start_time": "2022-08-30T04:58:59.211Z"
   },
   {
    "duration": 189,
    "start_time": "2022-08-30T04:58:59.638Z"
   },
   {
    "duration": 8,
    "start_time": "2022-08-30T04:58:59.828Z"
   },
   {
    "duration": 32,
    "start_time": "2022-08-30T04:58:59.838Z"
   },
   {
    "duration": 3,
    "start_time": "2022-08-30T04:58:59.872Z"
   },
   {
    "duration": 19,
    "start_time": "2022-08-30T04:58:59.877Z"
   },
   {
    "duration": 22,
    "start_time": "2022-08-30T04:58:59.898Z"
   },
   {
    "duration": 5,
    "start_time": "2022-08-30T04:58:59.922Z"
   },
   {
    "duration": 31,
    "start_time": "2022-08-30T04:58:59.929Z"
   },
   {
    "duration": 42,
    "start_time": "2022-08-30T04:58:59.962Z"
   },
   {
    "duration": 30,
    "start_time": "2022-08-30T04:59:00.006Z"
   },
   {
    "duration": 107,
    "start_time": "2022-08-30T04:59:00.038Z"
   },
   {
    "duration": 110,
    "start_time": "2022-08-30T04:59:00.147Z"
   },
   {
    "duration": 79,
    "start_time": "2022-08-30T04:59:00.261Z"
   },
   {
    "duration": 60,
    "start_time": "2022-08-30T04:59:00.342Z"
   },
   {
    "duration": 12,
    "start_time": "2022-08-30T04:59:00.404Z"
   },
   {
    "duration": 92,
    "start_time": "2022-08-30T04:59:00.418Z"
   },
   {
    "duration": 11,
    "start_time": "2022-08-30T04:59:00.511Z"
   },
   {
    "duration": 39,
    "start_time": "2022-08-30T04:59:00.524Z"
   },
   {
    "duration": 9,
    "start_time": "2022-08-30T04:59:00.565Z"
   },
   {
    "duration": 19,
    "start_time": "2022-08-30T04:59:00.576Z"
   },
   {
    "duration": 15,
    "start_time": "2022-08-30T04:59:00.597Z"
   },
   {
    "duration": 10,
    "start_time": "2022-08-30T04:59:00.613Z"
   },
   {
    "duration": 7,
    "start_time": "2022-08-30T04:59:00.624Z"
   },
   {
    "duration": 11,
    "start_time": "2022-08-30T04:59:00.633Z"
   },
   {
    "duration": 20,
    "start_time": "2022-08-30T04:59:00.646Z"
   },
   {
    "duration": 7,
    "start_time": "2022-08-30T04:59:00.668Z"
   },
   {
    "duration": 12,
    "start_time": "2022-08-30T04:59:00.677Z"
   },
   {
    "duration": 6,
    "start_time": "2022-08-30T04:59:00.690Z"
   },
   {
    "duration": 76,
    "start_time": "2022-08-30T04:59:00.698Z"
   },
   {
    "duration": 0,
    "start_time": "2022-08-30T04:59:00.776Z"
   },
   {
    "duration": 0,
    "start_time": "2022-08-30T04:59:00.777Z"
   },
   {
    "duration": 0,
    "start_time": "2022-08-30T04:59:00.778Z"
   },
   {
    "duration": 0,
    "start_time": "2022-08-30T04:59:00.780Z"
   },
   {
    "duration": 0,
    "start_time": "2022-08-30T04:59:00.782Z"
   },
   {
    "duration": 0,
    "start_time": "2022-08-30T04:59:00.783Z"
   },
   {
    "duration": 0,
    "start_time": "2022-08-30T04:59:00.784Z"
   },
   {
    "duration": 0,
    "start_time": "2022-08-30T04:59:00.785Z"
   },
   {
    "duration": 3,
    "start_time": "2022-08-30T04:59:12.451Z"
   },
   {
    "duration": 4,
    "start_time": "2022-08-30T05:04:24.954Z"
   },
   {
    "duration": 415,
    "start_time": "2022-08-31T02:08:52.878Z"
   },
   {
    "duration": 230,
    "start_time": "2022-08-31T02:08:53.295Z"
   },
   {
    "duration": 8,
    "start_time": "2022-08-31T02:08:53.527Z"
   },
   {
    "duration": 32,
    "start_time": "2022-08-31T02:08:53.537Z"
   },
   {
    "duration": 2,
    "start_time": "2022-08-31T02:08:53.571Z"
   },
   {
    "duration": 11,
    "start_time": "2022-08-31T02:08:53.575Z"
   },
   {
    "duration": 16,
    "start_time": "2022-08-31T02:08:53.588Z"
   },
   {
    "duration": 8,
    "start_time": "2022-08-31T02:08:53.606Z"
   },
   {
    "duration": 25,
    "start_time": "2022-08-31T02:08:53.616Z"
   },
   {
    "duration": 21,
    "start_time": "2022-08-31T02:08:53.642Z"
   },
   {
    "duration": 27,
    "start_time": "2022-08-31T02:08:53.665Z"
   },
   {
    "duration": 61,
    "start_time": "2022-08-31T02:08:53.693Z"
   },
   {
    "duration": 79,
    "start_time": "2022-08-31T02:08:53.756Z"
   },
   {
    "duration": 68,
    "start_time": "2022-08-31T02:08:53.838Z"
   },
   {
    "duration": 38,
    "start_time": "2022-08-31T02:08:53.908Z"
   },
   {
    "duration": 11,
    "start_time": "2022-08-31T02:08:53.948Z"
   },
   {
    "duration": 58,
    "start_time": "2022-08-31T02:08:53.960Z"
   },
   {
    "duration": 10,
    "start_time": "2022-08-31T02:08:54.020Z"
   },
   {
    "duration": 15,
    "start_time": "2022-08-31T02:08:54.032Z"
   },
   {
    "duration": 4,
    "start_time": "2022-08-31T02:08:54.048Z"
   },
   {
    "duration": 12,
    "start_time": "2022-08-31T02:08:54.053Z"
   },
   {
    "duration": 20,
    "start_time": "2022-08-31T02:08:54.066Z"
   },
   {
    "duration": 2,
    "start_time": "2022-08-31T02:08:54.088Z"
   },
   {
    "duration": 5,
    "start_time": "2022-08-31T02:08:54.092Z"
   },
   {
    "duration": 6,
    "start_time": "2022-08-31T02:08:54.099Z"
   },
   {
    "duration": 5,
    "start_time": "2022-08-31T02:08:54.107Z"
   },
   {
    "duration": 5,
    "start_time": "2022-08-31T02:08:54.113Z"
   },
   {
    "duration": 5,
    "start_time": "2022-08-31T02:08:54.119Z"
   },
   {
    "duration": 7,
    "start_time": "2022-08-31T02:08:54.126Z"
   },
   {
    "duration": 45,
    "start_time": "2022-08-31T02:08:54.134Z"
   },
   {
    "duration": 0,
    "start_time": "2022-08-31T02:08:54.181Z"
   },
   {
    "duration": 0,
    "start_time": "2022-08-31T02:08:54.182Z"
   },
   {
    "duration": 0,
    "start_time": "2022-08-31T02:08:54.184Z"
   },
   {
    "duration": 0,
    "start_time": "2022-08-31T02:08:54.185Z"
   },
   {
    "duration": 0,
    "start_time": "2022-08-31T02:08:54.186Z"
   },
   {
    "duration": 1,
    "start_time": "2022-08-31T02:08:54.187Z"
   },
   {
    "duration": 0,
    "start_time": "2022-08-31T02:08:54.189Z"
   },
   {
    "duration": 0,
    "start_time": "2022-08-31T02:08:54.190Z"
   },
   {
    "duration": 4,
    "start_time": "2022-08-31T02:09:19.777Z"
   },
   {
    "duration": 60,
    "start_time": "2022-08-31T02:51:36.862Z"
   },
   {
    "duration": 22,
    "start_time": "2022-08-31T02:51:46.642Z"
   },
   {
    "duration": 427,
    "start_time": "2022-08-31T02:52:04.966Z"
   },
   {
    "duration": 169,
    "start_time": "2022-08-31T02:52:05.395Z"
   },
   {
    "duration": 11,
    "start_time": "2022-08-31T02:52:05.565Z"
   },
   {
    "duration": 48,
    "start_time": "2022-08-31T02:52:05.579Z"
   },
   {
    "duration": 2,
    "start_time": "2022-08-31T02:52:05.629Z"
   },
   {
    "duration": 6,
    "start_time": "2022-08-31T02:52:05.633Z"
   },
   {
    "duration": 16,
    "start_time": "2022-08-31T02:52:05.641Z"
   },
   {
    "duration": 6,
    "start_time": "2022-08-31T02:52:05.659Z"
   },
   {
    "duration": 42,
    "start_time": "2022-08-31T02:52:05.667Z"
   },
   {
    "duration": 18,
    "start_time": "2022-08-31T02:52:05.712Z"
   },
   {
    "duration": 23,
    "start_time": "2022-08-31T02:52:05.732Z"
   },
   {
    "duration": 101,
    "start_time": "2022-08-31T02:52:05.757Z"
   },
   {
    "duration": 78,
    "start_time": "2022-08-31T02:52:05.860Z"
   },
   {
    "duration": 65,
    "start_time": "2022-08-31T02:52:05.939Z"
   },
   {
    "duration": 42,
    "start_time": "2022-08-31T02:52:06.006Z"
   },
   {
    "duration": 11,
    "start_time": "2022-08-31T02:52:06.049Z"
   },
   {
    "duration": 58,
    "start_time": "2022-08-31T02:52:06.061Z"
   },
   {
    "duration": 10,
    "start_time": "2022-08-31T02:52:06.121Z"
   },
   {
    "duration": 10,
    "start_time": "2022-08-31T02:52:06.132Z"
   },
   {
    "duration": 3,
    "start_time": "2022-08-31T02:52:06.144Z"
   },
   {
    "duration": 50,
    "start_time": "2022-08-31T02:52:06.149Z"
   },
   {
    "duration": 3,
    "start_time": "2022-08-31T02:52:06.201Z"
   },
   {
    "duration": 10,
    "start_time": "2022-08-31T02:52:06.208Z"
   },
   {
    "duration": 8,
    "start_time": "2022-08-31T02:52:06.220Z"
   },
   {
    "duration": 15,
    "start_time": "2022-08-31T02:52:06.230Z"
   },
   {
    "duration": 9,
    "start_time": "2022-08-31T02:52:06.247Z"
   },
   {
    "duration": 12,
    "start_time": "2022-08-31T02:52:06.259Z"
   },
   {
    "duration": 10,
    "start_time": "2022-08-31T02:52:06.275Z"
   },
   {
    "duration": 11,
    "start_time": "2022-08-31T02:52:06.287Z"
   },
   {
    "duration": 55,
    "start_time": "2022-08-31T02:52:06.300Z"
   },
   {
    "duration": 0,
    "start_time": "2022-08-31T02:52:06.357Z"
   },
   {
    "duration": 0,
    "start_time": "2022-08-31T02:52:06.359Z"
   },
   {
    "duration": 0,
    "start_time": "2022-08-31T02:52:06.360Z"
   },
   {
    "duration": 0,
    "start_time": "2022-08-31T02:52:06.362Z"
   },
   {
    "duration": 0,
    "start_time": "2022-08-31T02:52:06.363Z"
   },
   {
    "duration": 0,
    "start_time": "2022-08-31T02:52:06.365Z"
   },
   {
    "duration": 0,
    "start_time": "2022-08-31T02:52:06.366Z"
   },
   {
    "duration": 0,
    "start_time": "2022-08-31T02:52:06.368Z"
   },
   {
    "duration": 13,
    "start_time": "2022-08-31T02:52:14.665Z"
   },
   {
    "duration": 4,
    "start_time": "2022-08-31T02:53:56.987Z"
   },
   {
    "duration": 18,
    "start_time": "2022-08-31T02:54:00.531Z"
   },
   {
    "duration": 12,
    "start_time": "2022-08-31T03:24:50.577Z"
   },
   {
    "duration": 16,
    "start_time": "2022-08-31T03:25:19.097Z"
   },
   {
    "duration": 12,
    "start_time": "2022-08-31T03:26:05.278Z"
   },
   {
    "duration": 15,
    "start_time": "2022-08-31T03:26:07.278Z"
   },
   {
    "duration": 13,
    "start_time": "2022-08-31T03:26:50.558Z"
   },
   {
    "duration": 16,
    "start_time": "2022-08-31T03:26:52.237Z"
   },
   {
    "duration": 14,
    "start_time": "2022-08-31T03:26:53.317Z"
   },
   {
    "duration": 4,
    "start_time": "2022-08-31T04:00:29.514Z"
   },
   {
    "duration": 10,
    "start_time": "2022-08-31T04:03:31.095Z"
   },
   {
    "duration": 12,
    "start_time": "2022-08-31T04:04:23.554Z"
   },
   {
    "duration": 8,
    "start_time": "2022-08-31T04:04:25.567Z"
   },
   {
    "duration": 4,
    "start_time": "2022-08-31T04:16:07.454Z"
   },
   {
    "duration": 4,
    "start_time": "2022-08-31T04:18:22.895Z"
   },
   {
    "duration": 405,
    "start_time": "2022-08-31T04:19:27.453Z"
   },
   {
    "duration": 181,
    "start_time": "2022-08-31T04:19:27.859Z"
   },
   {
    "duration": 8,
    "start_time": "2022-08-31T04:19:28.042Z"
   },
   {
    "duration": 37,
    "start_time": "2022-08-31T04:19:28.051Z"
   },
   {
    "duration": 2,
    "start_time": "2022-08-31T04:19:28.090Z"
   },
   {
    "duration": 7,
    "start_time": "2022-08-31T04:19:28.093Z"
   },
   {
    "duration": 18,
    "start_time": "2022-08-31T04:19:28.102Z"
   },
   {
    "duration": 6,
    "start_time": "2022-08-31T04:19:28.122Z"
   },
   {
    "duration": 28,
    "start_time": "2022-08-31T04:19:28.129Z"
   },
   {
    "duration": 35,
    "start_time": "2022-08-31T04:19:28.159Z"
   },
   {
    "duration": 25,
    "start_time": "2022-08-31T04:19:28.196Z"
   },
   {
    "duration": 76,
    "start_time": "2022-08-31T04:19:28.223Z"
   },
   {
    "duration": 64,
    "start_time": "2022-08-31T04:19:28.301Z"
   },
   {
    "duration": 77,
    "start_time": "2022-08-31T04:19:28.368Z"
   },
   {
    "duration": 56,
    "start_time": "2022-08-31T04:19:28.446Z"
   },
   {
    "duration": 11,
    "start_time": "2022-08-31T04:19:28.504Z"
   },
   {
    "duration": 44,
    "start_time": "2022-08-31T04:19:28.516Z"
   },
   {
    "duration": 28,
    "start_time": "2022-08-31T04:19:28.562Z"
   },
   {
    "duration": 10,
    "start_time": "2022-08-31T04:19:28.592Z"
   },
   {
    "duration": 3,
    "start_time": "2022-08-31T04:19:28.603Z"
   },
   {
    "duration": 31,
    "start_time": "2022-08-31T04:19:28.608Z"
   },
   {
    "duration": 14,
    "start_time": "2022-08-31T04:19:28.640Z"
   },
   {
    "duration": 37,
    "start_time": "2022-08-31T04:19:28.655Z"
   },
   {
    "duration": 12,
    "start_time": "2022-08-31T04:19:28.694Z"
   },
   {
    "duration": 15,
    "start_time": "2022-08-31T04:19:28.708Z"
   },
   {
    "duration": 14,
    "start_time": "2022-08-31T04:19:28.724Z"
   },
   {
    "duration": 9,
    "start_time": "2022-08-31T04:19:28.739Z"
   },
   {
    "duration": 41,
    "start_time": "2022-08-31T04:19:28.749Z"
   },
   {
    "duration": 10,
    "start_time": "2022-08-31T04:19:28.791Z"
   },
   {
    "duration": 5,
    "start_time": "2022-08-31T04:19:28.802Z"
   },
   {
    "duration": 8,
    "start_time": "2022-08-31T04:19:28.808Z"
   },
   {
    "duration": 4,
    "start_time": "2022-08-31T04:19:28.818Z"
   },
   {
    "duration": 9,
    "start_time": "2022-08-31T04:19:28.824Z"
   },
   {
    "duration": 8,
    "start_time": "2022-08-31T04:19:28.834Z"
   },
   {
    "duration": 6,
    "start_time": "2022-08-31T04:19:28.843Z"
   },
   {
    "duration": 9,
    "start_time": "2022-08-31T04:19:28.851Z"
   },
   {
    "duration": 10,
    "start_time": "2022-08-31T04:19:28.861Z"
   },
   {
    "duration": 5,
    "start_time": "2022-08-31T04:19:28.873Z"
   },
   {
    "duration": 4,
    "start_time": "2022-08-31T04:19:37.772Z"
   },
   {
    "duration": 5,
    "start_time": "2022-08-31T04:52:18.192Z"
   },
   {
    "duration": 16,
    "start_time": "2022-08-31T04:58:47.693Z"
   },
   {
    "duration": 64,
    "start_time": "2022-08-31T04:59:53.652Z"
   },
   {
    "duration": 7,
    "start_time": "2022-08-31T05:00:06.113Z"
   },
   {
    "duration": 13,
    "start_time": "2022-08-31T05:00:59.293Z"
   },
   {
    "duration": 15,
    "start_time": "2022-08-31T05:01:07.512Z"
   },
   {
    "duration": 102,
    "start_time": "2022-08-31T05:01:46.973Z"
   },
   {
    "duration": 415,
    "start_time": "2022-08-31T05:02:18.767Z"
   },
   {
    "duration": 163,
    "start_time": "2022-08-31T05:02:19.183Z"
   },
   {
    "duration": 8,
    "start_time": "2022-08-31T05:02:19.347Z"
   },
   {
    "duration": 37,
    "start_time": "2022-08-31T05:02:19.357Z"
   },
   {
    "duration": 2,
    "start_time": "2022-08-31T05:02:19.396Z"
   },
   {
    "duration": 6,
    "start_time": "2022-08-31T05:02:19.399Z"
   },
   {
    "duration": 18,
    "start_time": "2022-08-31T05:02:19.406Z"
   },
   {
    "duration": 7,
    "start_time": "2022-08-31T05:02:19.425Z"
   },
   {
    "duration": 28,
    "start_time": "2022-08-31T05:02:19.433Z"
   },
   {
    "duration": 34,
    "start_time": "2022-08-31T05:02:19.463Z"
   },
   {
    "duration": 22,
    "start_time": "2022-08-31T05:02:19.499Z"
   },
   {
    "duration": 68,
    "start_time": "2022-08-31T05:02:19.523Z"
   },
   {
    "duration": 68,
    "start_time": "2022-08-31T05:02:19.592Z"
   },
   {
    "duration": 74,
    "start_time": "2022-08-31T05:02:19.662Z"
   },
   {
    "duration": 36,
    "start_time": "2022-08-31T05:02:19.738Z"
   },
   {
    "duration": 17,
    "start_time": "2022-08-31T05:02:19.776Z"
   },
   {
    "duration": 39,
    "start_time": "2022-08-31T05:02:19.794Z"
   },
   {
    "duration": 9,
    "start_time": "2022-08-31T05:02:19.835Z"
   },
   {
    "duration": 16,
    "start_time": "2022-08-31T05:02:19.846Z"
   },
   {
    "duration": 24,
    "start_time": "2022-08-31T05:02:19.863Z"
   },
   {
    "duration": 20,
    "start_time": "2022-08-31T05:02:19.889Z"
   },
   {
    "duration": 13,
    "start_time": "2022-08-31T05:02:19.911Z"
   },
   {
    "duration": 14,
    "start_time": "2022-08-31T05:02:19.925Z"
   },
   {
    "duration": 13,
    "start_time": "2022-08-31T05:02:19.940Z"
   },
   {
    "duration": 47,
    "start_time": "2022-08-31T05:02:19.955Z"
   },
   {
    "duration": 14,
    "start_time": "2022-08-31T05:02:20.004Z"
   },
   {
    "duration": 12,
    "start_time": "2022-08-31T05:02:20.020Z"
   },
   {
    "duration": 21,
    "start_time": "2022-08-31T05:02:20.035Z"
   },
   {
    "duration": 32,
    "start_time": "2022-08-31T05:02:20.058Z"
   },
   {
    "duration": 4,
    "start_time": "2022-08-31T05:02:20.092Z"
   },
   {
    "duration": 26,
    "start_time": "2022-08-31T05:02:20.098Z"
   },
   {
    "duration": 12,
    "start_time": "2022-08-31T05:02:20.126Z"
   },
   {
    "duration": 98,
    "start_time": "2022-08-31T05:02:20.139Z"
   },
   {
    "duration": 0,
    "start_time": "2022-08-31T05:02:20.239Z"
   },
   {
    "duration": 0,
    "start_time": "2022-08-31T05:02:20.240Z"
   },
   {
    "duration": 0,
    "start_time": "2022-08-31T05:02:20.241Z"
   },
   {
    "duration": 0,
    "start_time": "2022-08-31T05:02:20.242Z"
   },
   {
    "duration": 0,
    "start_time": "2022-08-31T05:02:20.243Z"
   },
   {
    "duration": 20,
    "start_time": "2022-08-31T05:03:21.917Z"
   },
   {
    "duration": 12,
    "start_time": "2022-08-31T05:03:51.176Z"
   },
   {
    "duration": 10,
    "start_time": "2022-08-31T05:08:41.301Z"
   },
   {
    "duration": 65,
    "start_time": "2022-08-31T05:09:21.617Z"
   },
   {
    "duration": 9,
    "start_time": "2022-08-31T05:09:50.256Z"
   },
   {
    "duration": 9,
    "start_time": "2022-08-31T05:10:02.236Z"
   },
   {
    "duration": 398,
    "start_time": "2022-08-31T05:11:40.753Z"
   },
   {
    "duration": 161,
    "start_time": "2022-08-31T05:11:41.153Z"
   },
   {
    "duration": 7,
    "start_time": "2022-08-31T05:11:41.316Z"
   },
   {
    "duration": 32,
    "start_time": "2022-08-31T05:11:41.325Z"
   },
   {
    "duration": 3,
    "start_time": "2022-08-31T05:11:41.359Z"
   },
   {
    "duration": 7,
    "start_time": "2022-08-31T05:11:41.363Z"
   },
   {
    "duration": 26,
    "start_time": "2022-08-31T05:11:41.371Z"
   },
   {
    "duration": 7,
    "start_time": "2022-08-31T05:11:41.398Z"
   },
   {
    "duration": 29,
    "start_time": "2022-08-31T05:11:41.407Z"
   },
   {
    "duration": 19,
    "start_time": "2022-08-31T05:11:41.439Z"
   },
   {
    "duration": 38,
    "start_time": "2022-08-31T05:11:41.459Z"
   },
   {
    "duration": 64,
    "start_time": "2022-08-31T05:11:41.498Z"
   },
   {
    "duration": 75,
    "start_time": "2022-08-31T05:11:41.564Z"
   },
   {
    "duration": 66,
    "start_time": "2022-08-31T05:11:41.641Z"
   },
   {
    "duration": 38,
    "start_time": "2022-08-31T05:11:41.709Z"
   },
   {
    "duration": 10,
    "start_time": "2022-08-31T05:11:41.748Z"
   },
   {
    "duration": 54,
    "start_time": "2022-08-31T05:11:41.760Z"
   },
   {
    "duration": 13,
    "start_time": "2022-08-31T05:11:41.815Z"
   },
   {
    "duration": 10,
    "start_time": "2022-08-31T05:11:41.829Z"
   },
   {
    "duration": 4,
    "start_time": "2022-08-31T05:11:41.840Z"
   },
   {
    "duration": 48,
    "start_time": "2022-08-31T05:11:41.845Z"
   },
   {
    "duration": 13,
    "start_time": "2022-08-31T05:11:41.895Z"
   },
   {
    "duration": 15,
    "start_time": "2022-08-31T05:11:41.910Z"
   },
   {
    "duration": 12,
    "start_time": "2022-08-31T05:11:41.927Z"
   },
   {
    "duration": 15,
    "start_time": "2022-08-31T05:11:41.940Z"
   },
   {
    "duration": 40,
    "start_time": "2022-08-31T05:11:41.957Z"
   },
   {
    "duration": 25,
    "start_time": "2022-08-31T05:11:41.999Z"
   },
   {
    "duration": 15,
    "start_time": "2022-08-31T05:11:42.028Z"
   },
   {
    "duration": 12,
    "start_time": "2022-08-31T05:11:42.045Z"
   },
   {
    "duration": 5,
    "start_time": "2022-08-31T05:11:42.059Z"
   },
   {
    "duration": 30,
    "start_time": "2022-08-31T05:11:42.065Z"
   },
   {
    "duration": 11,
    "start_time": "2022-08-31T05:11:42.097Z"
   },
   {
    "duration": 19,
    "start_time": "2022-08-31T05:11:42.110Z"
   },
   {
    "duration": 11,
    "start_time": "2022-08-31T05:11:42.130Z"
   },
   {
    "duration": 10,
    "start_time": "2022-08-31T05:11:42.142Z"
   },
   {
    "duration": 7,
    "start_time": "2022-08-31T05:11:42.153Z"
   },
   {
    "duration": 3,
    "start_time": "2022-08-31T05:11:42.187Z"
   },
   {
    "duration": 9,
    "start_time": "2022-08-31T05:11:42.191Z"
   },
   {
    "duration": 63,
    "start_time": "2022-08-31T05:11:54.434Z"
   },
   {
    "duration": 9,
    "start_time": "2022-08-31T05:12:44.174Z"
   },
   {
    "duration": 5,
    "start_time": "2022-08-31T05:13:19.393Z"
   },
   {
    "duration": 10,
    "start_time": "2022-08-31T05:14:56.637Z"
   },
   {
    "duration": 4,
    "start_time": "2022-08-31T05:15:44.662Z"
   },
   {
    "duration": 10,
    "start_time": "2022-08-31T05:17:05.834Z"
   },
   {
    "duration": 8,
    "start_time": "2022-08-31T05:18:20.934Z"
   },
   {
    "duration": 5,
    "start_time": "2022-08-31T05:18:37.734Z"
   },
   {
    "duration": 8,
    "start_time": "2022-08-31T05:19:29.255Z"
   },
   {
    "duration": 9,
    "start_time": "2022-08-31T05:19:39.378Z"
   },
   {
    "duration": 11,
    "start_time": "2022-08-31T05:19:52.795Z"
   },
   {
    "duration": 8,
    "start_time": "2022-08-31T05:20:10.214Z"
   },
   {
    "duration": 8,
    "start_time": "2022-08-31T05:20:21.214Z"
   },
   {
    "duration": 73,
    "start_time": "2022-08-31T05:20:32.394Z"
   },
   {
    "duration": 4,
    "start_time": "2022-08-31T05:20:44.894Z"
   },
   {
    "duration": 5,
    "start_time": "2022-08-31T07:53:47.107Z"
   },
   {
    "duration": 487,
    "start_time": "2023-01-12T03:55:17.715Z"
   },
   {
    "duration": 688,
    "start_time": "2023-01-12T03:55:18.207Z"
   },
   {
    "duration": 8,
    "start_time": "2023-01-12T03:55:18.897Z"
   },
   {
    "duration": 46,
    "start_time": "2023-01-12T03:55:18.906Z"
   },
   {
    "duration": 2,
    "start_time": "2023-01-12T03:55:18.954Z"
   },
   {
    "duration": 6,
    "start_time": "2023-01-12T03:55:18.957Z"
   },
   {
    "duration": 20,
    "start_time": "2023-01-12T03:55:18.964Z"
   },
   {
    "duration": 7,
    "start_time": "2023-01-12T03:55:18.986Z"
   },
   {
    "duration": 31,
    "start_time": "2023-01-12T03:55:18.995Z"
   },
   {
    "duration": 17,
    "start_time": "2023-01-12T03:55:19.027Z"
   },
   {
    "duration": 22,
    "start_time": "2023-01-12T03:55:19.046Z"
   },
   {
    "duration": 79,
    "start_time": "2023-01-12T03:55:19.070Z"
   },
   {
    "duration": 83,
    "start_time": "2023-01-12T03:55:19.151Z"
   },
   {
    "duration": 57,
    "start_time": "2023-01-12T03:55:19.238Z"
   },
   {
    "duration": 54,
    "start_time": "2023-01-12T03:55:19.296Z"
   },
   {
    "duration": 22,
    "start_time": "2023-01-12T03:55:19.360Z"
   },
   {
    "duration": 49,
    "start_time": "2023-01-12T03:55:19.383Z"
   },
   {
    "duration": 19,
    "start_time": "2023-01-12T03:55:19.434Z"
   },
   {
    "duration": 16,
    "start_time": "2023-01-12T03:55:19.454Z"
   },
   {
    "duration": 15,
    "start_time": "2023-01-12T03:55:19.472Z"
   },
   {
    "duration": 40,
    "start_time": "2023-01-12T03:55:19.489Z"
   },
   {
    "duration": 20,
    "start_time": "2023-01-12T03:55:19.531Z"
   },
   {
    "duration": 20,
    "start_time": "2023-01-12T03:55:19.553Z"
   },
   {
    "duration": 25,
    "start_time": "2023-01-12T03:55:19.575Z"
   },
   {
    "duration": 34,
    "start_time": "2023-01-12T03:55:19.602Z"
   },
   {
    "duration": 21,
    "start_time": "2023-01-12T03:55:19.638Z"
   },
   {
    "duration": 15,
    "start_time": "2023-01-12T03:55:19.661Z"
   },
   {
    "duration": 13,
    "start_time": "2023-01-12T03:55:19.677Z"
   },
   {
    "duration": 30,
    "start_time": "2023-01-12T03:55:19.692Z"
   },
   {
    "duration": 6,
    "start_time": "2023-01-12T03:55:19.724Z"
   },
   {
    "duration": 36,
    "start_time": "2023-01-12T03:55:19.731Z"
   },
   {
    "duration": 12,
    "start_time": "2023-01-12T03:55:19.769Z"
   },
   {
    "duration": 34,
    "start_time": "2023-01-12T03:55:19.783Z"
   },
   {
    "duration": 15,
    "start_time": "2023-01-12T03:55:19.819Z"
   },
   {
    "duration": 11,
    "start_time": "2023-01-12T03:55:19.836Z"
   },
   {
    "duration": 7,
    "start_time": "2023-01-12T03:55:19.849Z"
   },
   {
    "duration": 9,
    "start_time": "2023-01-12T03:55:19.858Z"
   },
   {
    "duration": 7,
    "start_time": "2023-01-12T03:55:19.868Z"
   }
  ],
  "colab": {
   "collapsed_sections": [
    "E0vqbgi9ay0H",
    "VUC88oWjTJw2"
   ],
   "name": "automatization_template_upd4.ipynb",
   "provenance": []
  },
  "kernelspec": {
   "display_name": "Python 3 (ipykernel)",
   "language": "python",
   "name": "python3"
  },
  "language_info": {
   "codemirror_mode": {
    "name": "ipython",
    "version": 3
   },
   "file_extension": ".py",
   "mimetype": "text/x-python",
   "name": "python",
   "nbconvert_exporter": "python",
   "pygments_lexer": "ipython3",
   "version": "3.9.12"
  },
  "toc": {
   "base_numbering": 1,
   "nav_menu": {
    "height": "215px",
    "width": "403px"
   },
   "number_sections": true,
   "sideBar": true,
   "skip_h1_title": true,
   "title_cell": "Table of Contents",
   "title_sidebar": "Contents",
   "toc_cell": true,
   "toc_position": {
    "height": "calc(100% - 180px)",
    "left": "10px",
    "top": "150px",
    "width": "285.825px"
   },
   "toc_section_display": true,
   "toc_window_display": true
  }
 },
 "nbformat": 4,
 "nbformat_minor": 1
}
